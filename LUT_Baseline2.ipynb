{
  "nbformat": 4,
  "nbformat_minor": 0,
  "metadata": {
    "colab": {
      "provenance": [],
      "authorship_tag": "ABX9TyPxOPWNZawzI1V0uz1lGJUP",
      "include_colab_link": true
    },
    "kernelspec": {
      "name": "python3",
      "display_name": "Python 3"
    },
    "language_info": {
      "name": "python"
    }
  },
  "cells": [
    {
      "cell_type": "markdown",
      "metadata": {
        "id": "view-in-github",
        "colab_type": "text"
      },
      "source": [
        "<a href=\"https://colab.research.google.com/github/HunterBushnell/LUT_Baseline2/blob/main/LUT_Baseline2.ipynb\" target=\"_parent\"><img src=\"https://colab.research.google.com/assets/colab-badge.svg\" alt=\"Open In Colab\"/></a>"
      ]
    },
    {
      "cell_type": "code",
      "source": [
        "# Install\n",
        "!pip install neuron==8.2.2\n",
        "!pip install bmtk==1.0.7"
      ],
      "metadata": {
        "colab": {
          "base_uri": "https://localhost:8080/"
        },
        "id": "EN3eGs0MVhJr",
        "outputId": "459ccb9c-46b3-4a54-9cd5-515aff1dba50"
      },
      "execution_count": 1,
      "outputs": [
        {
          "output_type": "stream",
          "name": "stdout",
          "text": [
            "Looking in indexes: https://pypi.org/simple, https://us-python.pkg.dev/colab-wheels/public/simple/\n",
            "Requirement already satisfied: neuron==8.2.2 in /usr/local/lib/python3.10/dist-packages (8.2.2)\n",
            "Requirement already satisfied: numpy>=1.9.3 in /usr/local/lib/python3.10/dist-packages (from neuron==8.2.2) (1.22.4)\n",
            "Looking in indexes: https://pypi.org/simple, https://us-python.pkg.dev/colab-wheels/public/simple/\n",
            "Requirement already satisfied: bmtk==1.0.7 in /usr/local/lib/python3.10/dist-packages (1.0.7)\n",
            "Requirement already satisfied: six in /usr/local/lib/python3.10/dist-packages (from bmtk==1.0.7) (1.16.0)\n",
            "Requirement already satisfied: scikit-image in /usr/local/lib/python3.10/dist-packages (from bmtk==1.0.7) (0.19.3)\n",
            "Requirement already satisfied: sympy in /usr/local/lib/python3.10/dist-packages (from bmtk==1.0.7) (1.11.1)\n",
            "Requirement already satisfied: scipy in /usr/local/lib/python3.10/dist-packages (from bmtk==1.0.7) (1.10.1)\n",
            "Requirement already satisfied: numpy in /usr/local/lib/python3.10/dist-packages (from bmtk==1.0.7) (1.22.4)\n",
            "Requirement already satisfied: matplotlib in /usr/local/lib/python3.10/dist-packages (from bmtk==1.0.7) (3.7.1)\n",
            "Requirement already satisfied: jsonschema in /usr/local/lib/python3.10/dist-packages (from bmtk==1.0.7) (4.3.3)\n",
            "Requirement already satisfied: pandas in /usr/local/lib/python3.10/dist-packages (from bmtk==1.0.7) (1.5.3)\n",
            "Requirement already satisfied: h5py in /usr/local/lib/python3.10/dist-packages (from bmtk==1.0.7) (3.8.0)\n",
            "Requirement already satisfied: attrs>=17.4.0 in /usr/local/lib/python3.10/dist-packages (from jsonschema->bmtk==1.0.7) (23.1.0)\n",
            "Requirement already satisfied: pyrsistent!=0.17.0,!=0.17.1,!=0.17.2,>=0.14.0 in /usr/local/lib/python3.10/dist-packages (from jsonschema->bmtk==1.0.7) (0.19.3)\n",
            "Requirement already satisfied: pillow>=6.2.0 in /usr/local/lib/python3.10/dist-packages (from matplotlib->bmtk==1.0.7) (8.4.0)\n",
            "Requirement already satisfied: kiwisolver>=1.0.1 in /usr/local/lib/python3.10/dist-packages (from matplotlib->bmtk==1.0.7) (1.4.4)\n",
            "Requirement already satisfied: fonttools>=4.22.0 in /usr/local/lib/python3.10/dist-packages (from matplotlib->bmtk==1.0.7) (4.39.3)\n",
            "Requirement already satisfied: contourpy>=1.0.1 in /usr/local/lib/python3.10/dist-packages (from matplotlib->bmtk==1.0.7) (1.0.7)\n",
            "Requirement already satisfied: pyparsing>=2.3.1 in /usr/local/lib/python3.10/dist-packages (from matplotlib->bmtk==1.0.7) (3.0.9)\n",
            "Requirement already satisfied: packaging>=20.0 in /usr/local/lib/python3.10/dist-packages (from matplotlib->bmtk==1.0.7) (23.1)\n",
            "Requirement already satisfied: cycler>=0.10 in /usr/local/lib/python3.10/dist-packages (from matplotlib->bmtk==1.0.7) (0.11.0)\n",
            "Requirement already satisfied: python-dateutil>=2.7 in /usr/local/lib/python3.10/dist-packages (from matplotlib->bmtk==1.0.7) (2.8.2)\n",
            "Requirement already satisfied: pytz>=2020.1 in /usr/local/lib/python3.10/dist-packages (from pandas->bmtk==1.0.7) (2022.7.1)\n",
            "Requirement already satisfied: PyWavelets>=1.1.1 in /usr/local/lib/python3.10/dist-packages (from scikit-image->bmtk==1.0.7) (1.4.1)\n",
            "Requirement already satisfied: imageio>=2.4.1 in /usr/local/lib/python3.10/dist-packages (from scikit-image->bmtk==1.0.7) (2.25.1)\n",
            "Requirement already satisfied: networkx>=2.2 in /usr/local/lib/python3.10/dist-packages (from scikit-image->bmtk==1.0.7) (3.1)\n",
            "Requirement already satisfied: tifffile>=2019.7.26 in /usr/local/lib/python3.10/dist-packages (from scikit-image->bmtk==1.0.7) (2023.4.12)\n",
            "Requirement already satisfied: mpmath>=0.19 in /usr/local/lib/python3.10/dist-packages (from sympy->bmtk==1.0.7) (1.3.0)\n"
          ]
        }
      ]
    },
    {
      "cell_type": "code",
      "source": [
        "# Download Files\n",
        "\n",
        "import os\n",
        "\n",
        "if os.path.basename(os.getcwd())!='LUT_Baseline2':\n",
        "  !git clone https://github.com/HunterBushnell/LUT_Baseline2\n",
        "  %cd LUT_Baseline2/\n",
        "else:\n",
        "  print('Mod files have already been downloaded.')\n",
        "%ls"
      ],
      "metadata": {
        "colab": {
          "base_uri": "https://localhost:8080/"
        },
        "id": "-gSQxFa_L5V7",
        "outputId": "0e921c30-16c3-4311-9a32-7a6b918e65c8"
      },
      "execution_count": 2,
      "outputs": [
        {
          "output_type": "stream",
          "name": "stdout",
          "text": [
            "fatal: destination path 'LUT_Baseline2' already exists and is not an empty directory.\n",
            "/content/LUT_Baseline2\n",
            "\u001b[0m\u001b[01;34mbiophys_components\u001b[0m/  \u001b[01;34mgraphs\u001b[0m/              \u001b[01;34moutput\u001b[0m/          requirements.txt\n",
            "Blad_spikes.csv      \u001b[01;34mimages\u001b[0m/              PAG_spikes.csv   run_bionet.py\n",
            "build_network.py     \u001b[01;34mjsons\u001b[0m/               plot_results.py  run.sh\n",
            "\u001b[01;34merror_logs\u001b[0m/          LUT_Baseline2.ipynb  plotting.pkl     spikes.csv\n",
            "EUS_spikes.csv       LUT_Baseline.ipynb   plotting.py      spikes_pag.csv\n",
            "feedback_loop.py     \u001b[01;34mnetwork\u001b[0m/             \u001b[01;34m__pycache__\u001b[0m/     synapses.py\n",
            "generate_input.py    \u001b[01;34mnotes\u001b[0m/               README.md\n"
          ]
        }
      ]
    },
    {
      "cell_type": "code",
      "source": [
        "# Compile Files\n",
        "\n",
        "import os \n",
        "# move to the mechanisms folder\n",
        "%cd biophys_components/mechanisms/\n",
        "os.system(\"rm -rf x86_64\") # deletes x86_64 if its there\n",
        "%ls # just to make sure its gone\n",
        "print(os.system('nrnivmodl modfiles')) # compile modfiles. Return 0 for success, 1 for failure.\n",
        "%ls # check to make sure the folder is there now\n",
        "%cd ../..\n",
        "%ls"
      ],
      "metadata": {
        "colab": {
          "base_uri": "https://localhost:8080/"
        },
        "id": "gYmb2C9NC_R0",
        "outputId": "238f27d7-06c8-489d-f3a4-8c370bca538c"
      },
      "execution_count": 3,
      "outputs": [
        {
          "output_type": "stream",
          "name": "stdout",
          "text": [
            "/content/LUT_Baseline2/biophys_components/mechanisms\n",
            "filess  \u001b[0m\u001b[01;34mmodfiles\u001b[0m/\n",
            "0\n",
            "filess  \u001b[0m\u001b[01;34mmodfiles\u001b[0m/  \u001b[01;34mx86_64\u001b[0m/\n",
            "/content/LUT_Baseline2\n",
            "\u001b[0m\u001b[01;34mbiophys_components\u001b[0m/  \u001b[01;34mgraphs\u001b[0m/              \u001b[01;34moutput\u001b[0m/          requirements.txt\n",
            "Blad_spikes.csv      \u001b[01;34mimages\u001b[0m/              PAG_spikes.csv   run_bionet.py\n",
            "build_network.py     \u001b[01;34mjsons\u001b[0m/               plot_results.py  run.sh\n",
            "\u001b[01;34merror_logs\u001b[0m/          LUT_Baseline2.ipynb  plotting.pkl     spikes.csv\n",
            "EUS_spikes.csv       LUT_Baseline.ipynb   plotting.py      spikes_pag.csv\n",
            "feedback_loop.py     \u001b[01;34mnetwork\u001b[0m/             \u001b[01;34m__pycache__\u001b[0m/     synapses.py\n",
            "generate_input.py    \u001b[01;34mnotes\u001b[0m/               README.md\n"
          ]
        }
      ]
    },
    {
      "cell_type": "code",
      "source": [
        "# Build Network\n",
        "\n",
        "import numpy as np\n",
        "from bmtk.builder.networks import NetworkBuilder\n",
        "import math\n",
        "import random\n",
        "\n",
        "random.seed(42)\n",
        "output_dir='network'\n",
        "\n",
        "#######################################################################\n",
        "##################### Create the cells ################################\n",
        "#######################################################################\n",
        "print(\"\\nCreating Cells\")\n",
        "\n",
        "# Build the main network\n",
        "net = NetworkBuilder('LUT')\n",
        "\n",
        "# Specify number of cells in each population #\n",
        "\n",
        "numBladaff  = 10\n",
        "numPAGaff   = 10\n",
        "#numEUSaff   = 10\n",
        "numIND      = 10\n",
        "numHypo     = 10\n",
        "#numINmplus  = 10\n",
        "#numINmminus = 10\n",
        "numPGN      = 10\n",
        "numFB       = 10\n",
        "numIMG      = 10 \n",
        "numMPG      = 10\n",
        "#numEUSmn    = 10\n",
        "#numBladmn   = 10\n",
        "# Create the nodes ----------------------------------------\n",
        "net.add_nodes(N=numBladaff, level='high',pop_name='Bladaff',model_type='biophysical',model_template='hoc:PUD',morphology='blank.swc')\n",
        "net.add_nodes(N=numPAGaff, pop_name='PAGaff',model_type='biophysical',model_template='hoc:PUD',morphology='blank.swc')\n",
        "# net.add_nodes(N=numEUSaff, level='high',pop_name='EUSaff',model_type='biophysical',model_template='hoc:PUD',morphology='blank.swc')\n",
        "net.add_nodes(N=numIND, pop_name='IND',model_type='biophysical',model_template='hoc:IND',morphology='blank.swc')\n",
        "net.add_nodes(N=numHypo, pop_name='Hypo',model_type='biophysical',model_template='hoc:HYPO',morphology='blank.swc')\n",
        "# net.add_nodes(N=numINmplus, pop_name='INmplus',model_type='biophysical',model_template='hoc:INM',morphology='blank.swc')\n",
        "# net.add_nodes(N=numINmminus, pop_name='INmminus',model_type='biophysical',model_template='hoc:INM',morphology='blank.swc')\n",
        "net.add_nodes(N=numPGN, level='low', pop_name='PGN',model_type='biophysical',model_template='hoc:PGN',morphology='blank.swc') \n",
        "net.add_nodes(N=numFB, pop_name='FB',model_type='biophysical',model_template='hoc:PUD',morphology='blank.swc')\n",
        "net.add_nodes(N=numIMG, pop_name='IMG',model_type='biophysical',model_template='hoc:IMG',morphology='blank.swc')\n",
        "net.add_nodes(N=numMPG, pop_name='MPG',model_type='biophysical',model_template='hoc:MPG',morphology='blank.swc') \n",
        "# net.add_nodes(N=numEUSmn, pop_name='EUSmn',model_type='biophysical',model_template='hoc:PUD',morphology='blank.swc')\n",
        "# net.add_nodes(N=numBladmn, pop_name='Bladmn',model_type='biophysical',model_template='hoc:PUD',morphology='blank.swc')\n",
        "\n",
        "##################################################################################\n",
        "####################### Connect the cells ########################################\n",
        "##################################################################################\n",
        "print(\"\\nConnecting Cells\")\n",
        "\n",
        "# Connectivity function\n",
        "# To use this function, the number of cells in the source population must be the same\n",
        "# as the number of cells in the target population.\n",
        "def one_to_one(source, target):\n",
        "    sid = source.node_id\n",
        "    tid = target.node_id\n",
        "    source_name = source['pop_name']\n",
        "    target_name = target['pop_name']\n",
        "    # if source_name=='EUSaff':\n",
        "    #     sid = sid-(numBladaff)\n",
        "    if source_name=='PAGaff':\n",
        "        sid = sid-(numBladaff)\n",
        "    if source_name=='IND':\n",
        "        sid = sid-(numBladaff+numPAGaff)\n",
        "    if source_name=='Hypo':\n",
        "        sid = sid-(numBladaff+numPAGaff+numIND)\n",
        "    # if source_name=='INmplus':\n",
        "        # sid = sid-(numBladaff+numEUSaff+numPAGaff+numIND+numHypo)\n",
        "    # if source_name=='INmminus':\n",
        "        # sid = sid-(numBladaff+numEUSaff+numPAGaff+numIND+numHypo+numINmplus)\n",
        "    if source_name=='PGN':\n",
        "        sid = sid-(numBladaff+numPAGaff+numIND+numHypo)\n",
        "    if source_name=='FB':\n",
        "        sid = sid-(numBladaff+numPAGaff+numIND+numHypo+numPGN)\n",
        "    if source_name=='IMG':\n",
        "        sid = sid-(numBladaff+numPAGaff+numIND+numHypo+numPGN+numFB)\n",
        "    if source_name=='MPG':\n",
        "        sid = sid-(numBladaff+numPAGaff+numIND+numHypo+numPGN+numFB+numIMG)\n",
        "    # if source_name=='EUSmn':\n",
        "        # sid = sid-(numBladaff+numEUSaff+numPAGaff+numIND+numHypo+numINmplus+numINmminus+numPGN+numFB+numIMG+numMPG)\n",
        "    # if source_name=='Bladmn':\n",
        "        # sid = sid-(numBladaff+numEUSaff+numPAGaff+numIND+numHypo+numINmplus+numINmminus+numPGN+numFB+numIMG+numMPG+numEUSmn)\n",
        "    \n",
        "    # if target_name=='EUSaff':\n",
        "        # tid = tid-(numBladaff)\n",
        "    if target_name=='PAGaff':\n",
        "        tid = tid-(numBladaff)\n",
        "    if target_name=='IND':\n",
        "        tid = tid-(numBladaff+numPAGaff)\n",
        "    if target_name=='Hypo':\n",
        "        tid = tid-(numBladaff+numPAGaff+numIND)\n",
        "    # if target_name=='INmplus':\n",
        "    #     tid = tid-(numBladaff+numEUSaff+numPAGaff+numIND+numHypo)\n",
        "    # if target_name=='INmminus':\n",
        "    #     tid = tid-(numBladaff+numEUSaff+numPAGaff+numIND+numHypo+numINmplus)\n",
        "    if target_name=='PGN':\n",
        "        tid = tid-(numBladaff+numPAGaff+numIND+numHypo)\n",
        "    if target_name=='FB':\n",
        "        tid = tid-(numBladaff+numPAGaff+numIND+numHypo+numPGN)\n",
        "    if target_name=='IMG':\n",
        "        tid = tid-(numBladaff+numPAGaff+numIND+numHypo+numPGN+numFB)\n",
        "    if target_name=='MPG':\n",
        "        tid = tid-(numBladaff+numPAGaff+numIND+numHypo+numPGN+numFB+numIMG)\n",
        "    # if target_name=='EUSmn':\n",
        "    #     tid = tid-(numBladaff+numEUSaff+numPAGaff+numIND+numHypo+numINmplus+numINmminus+numPGN+numFB+numIMG+numMPG)\n",
        "    # if target_name=='Bladmn':\n",
        "    #     tid = tid-(numBladaff+numEUSaff+numPAGaff+numIND+numHypo+numINmplus+numINmminus+numPGN+numFB+numIMG+numMPG+numEUSmn)\n",
        "    \n",
        "    if sid == tid:\n",
        "        print(\"connecting {} cell {} to {} cell {}\".format(source_name,sid,target_name,tid))\n",
        "        tmp_nsyn = 1\n",
        "    else:\n",
        "        return None\n",
        "\n",
        "    return tmp_nsyn\n",
        "\n",
        "\n",
        "def percent_connector(source,target,percent):\n",
        "    \"\"\"\n",
        "    For connections where types don't have the same number of cells\n",
        "    And positions are undefined for one type\n",
        "    \"\"\"\n",
        "    sid = source.node_id\n",
        "    tid = target.node_id\n",
        "    source_name = source['pop_name']\n",
        "    target_name = target['pop_name']\n",
        "\n",
        "    # if source_name=='EUSaff':\n",
        "    #     sid = sid-(numBladaff)\n",
        "    if source_name=='PAGaff':\n",
        "        sid = sid-(numBladaff)\n",
        "    if source_name=='IND':\n",
        "        sid = sid-(numBladaff+numPAGaff)\n",
        "    if source_name=='Hypo':\n",
        "        sid = sid-(numBladaff+numPAGaff+numIND)\n",
        "    # if source_name=='INmplus':\n",
        "        # sid = sid-(numBladaff+numEUSaff+numPAGaff+numIND+numHypo)\n",
        "    # if source_name=='INmminus':\n",
        "        # sid = sid-(numBladaff+numEUSaff+numPAGaff+numIND+numHypo+numINmplus)\n",
        "    if source_name=='PGN':\n",
        "        sid = sid-(numBladaff+numPAGaff+numIND+numHypo)\n",
        "    if source_name=='FB':\n",
        "        sid = sid-(numBladaff+numPAGaff+numIND+numHypo+numPGN)\n",
        "    if source_name=='IMG':\n",
        "        sid = sid-(numBladaff+numPAGaff+numIND+numHypo+numPGN+numFB)\n",
        "    if source_name=='MPG':\n",
        "        sid = sid-(numBladaff+numPAGaff+numIND+numHypo+numPGN+numFB+numIMG)\n",
        "    # if source_name=='EUSmn':\n",
        "        # sid = sid-(numBladaff+numEUSaff+numPAGaff+numIND+numHypo+numINmplus+numINmminus+numPGN+numFB+numIMG+numMPG)\n",
        "    # if source_name=='Bladmn':\n",
        "        # sid = sid-(numBladaff+numEUSaff+numPAGaff+numIND+numHypo+numINmplus+numINmminus+numPGN+numFB+numIMG+numMPG+numEUSmn)\n",
        "    \n",
        "    # if target_name=='EUSaff':\n",
        "        # tid = tid-(numBladaff)\n",
        "    if target_name=='PAGaff':\n",
        "        tid = tid-(numBladaff)\n",
        "    if target_name=='IND':\n",
        "        tid = tid-(numBladaff+numPAGaff)\n",
        "    if target_name=='Hypo':\n",
        "        tid = tid-(numBladaff+numPAGaff+numIND)\n",
        "    # if target_name=='INmplus':\n",
        "    #     tid = tid-(numBladaff+numEUSaff+numPAGaff+numIND+numHypo)\n",
        "    # if target_name=='INmminus':\n",
        "    #     tid = tid-(numBladaff+numEUSaff+numPAGaff+numIND+numHypo+numINmplus)\n",
        "    if target_name=='PGN':\n",
        "        tid = tid-(numBladaff+numPAGaff+numIND+numHypo)\n",
        "    if target_name=='FB':\n",
        "        tid = tid-(numBladaff+numPAGaff+numIND+numHypo+numPGN)\n",
        "    if target_name=='IMG':\n",
        "        tid = tid-(numBladaff+numPAGaff+numIND+numHypo+numPGN+numFB)\n",
        "    if target_name=='MPG':\n",
        "        tid = tid-(numBladaff+numPAGaff+numIND+numHypo+numPGN+numFB+numIMG)\n",
        "    # if target_name=='EUSmn':\n",
        "    #     tid = tid-(numBladaff+numEUSaff+numPAGaff+numIND+numHypo+numINmplus+numINmminus+numPGN+numFB+numIMG+numMPG)\n",
        "    # if target_name=='Bladmn':\n",
        "    #     tid = tid-(numBladaff+numEUSaff+numPAGaff+numIND+numHypo+numINmplus+numINmminus+numPGN+numFB+numIMG+numMPG+numEUSmn)\n",
        "\n",
        "    # if source_name=='EUSaff':\n",
        "    #     sid = sid-(numBladaff)\n",
        "    # if source_name=='PAGaff':\n",
        "    #     sid = sid-(numBladaff+numEUSaff)\n",
        "    # if source_name=='IND':\n",
        "    #     sid = sid-(numBladaff+numEUSaff+numPAGaff)\n",
        "    # if source_name=='Hypo':\n",
        "    #     sid = sid-(numBladaff+numEUSaff+numPAGaff+numIND)\n",
        "    # if source_name=='INmplus':\n",
        "    #     sid = sid-(numBladaff+numEUSaff+numPAGaff+numIND+numHypo)\n",
        "    # if source_name=='INmminus':\n",
        "    #     sid = sid-(numBladaff+numEUSaff+numPAGaff+numIND+numHypo+numINmplus)\n",
        "    # if source_name=='PGN':\n",
        "    #     sid = sid-(numBladaff+numEUSaff+numPAGaff+numIND+numHypo+numINmplus+numINmminus)\n",
        "    # if source_name=='FB':\n",
        "    #     sid = sid-(numBladaff+numEUSaff+numPAGaff+numIND+numHypo+numINmplus+numINmminus+numPGN)\n",
        "    # if source_name=='IMG':\n",
        "    #     sid = sid-(numBladaff+numEUSaff+numPAGaff+numIND+numHypo+numINmplus+numINmminus+numPGN+numFB)\n",
        "    # if source_name=='MPG':\n",
        "    #     sid = sid-(numBladaff+numEUSaff+numPAGaff+numIND+numHypo+numINmplus+numINmminus+numPGN+numFB+numIMG)\n",
        "    # if source_name=='EUSmn':\n",
        "    #     sid = sid-(numBladaff+numEUSaff+numPAGaff+numIND+numHypo+numINmplus+numINmminus+numPGN+numFB+numIMG+numMPG)\n",
        "    # if source_name=='Bladmn':\n",
        "    #     sid = sid-(numBladaff+numEUSaff+numPAGaff+numIND+numHypo+numINmplus+numINmminus+numPGN+numFB+numIMG+numMPG+numEUSmn)\n",
        "    \n",
        "    # if target_name=='EUSaff':\n",
        "    #     tid = tid-(numBladaff)\n",
        "    # if target_name=='PAGaff':\n",
        "    #     tid = tid-(numBladaff+numEUSaff)\n",
        "    # if target_name=='IND':\n",
        "    #     tid = tid-(numBladaff+numEUSaff+numPAGaff)\n",
        "    # if target_name=='Hypo':\n",
        "    #     tid = tid-(numBladaff+numEUSaff+numPAGaff+numIND)\n",
        "    # if target_name=='INmplus':\n",
        "    #     tid = tid-(numBladaff+numEUSaff+numPAGaff+numIND+numHypo)\n",
        "    # if target_name=='INmminus':\n",
        "    #     tid = tid-(numBladaff+numEUSaff+numPAGaff+numIND+numHypo+numINmplus)\n",
        "    # if target_name=='PGN':\n",
        "    #     tid = tid-(numBladaff+numEUSaff+numPAGaff+numIND+numHypo+numINmplus+numINmminus)\n",
        "    # if target_name=='FB':\n",
        "    #     tid = tid-(numBladaff+numEUSaff+numPAGaff+numIND+numHypo+numINmplus+numINmminus+numPGN)\n",
        "    # if target_name=='IMG':\n",
        "    #     tid = tid-(numBladaff+numEUSaff+numPAGaff+numIND+numHypo+numINmplus+numINmminus+numPGN+numFB)\n",
        "    # if target_name=='MPG':\n",
        "    #     tid = tid-(numBladaff+numEUSaff+numPAGaff+numIND+numHypo+numINmplus+numINmminus+numPGN+numFB+numIMG)\n",
        "    # if target_name=='EUSmn':\n",
        "    #     tid = tid-(numBladaff+numEUSaff+numPAGaff+numIND+numHypo+numINmplus+numINmminus+numPGN+numFB+numIMG+numMPG)\n",
        "    # if target_name=='Bladmn':\n",
        "    #     tid = tid-(numBladaff+numEUSaff+numPAGaff+numIND+numHypo+numINmplus+numINmminus+numPGN+numFB+numIMG+numMPG+numEUSmn)\n",
        "\n",
        "    if random.random() < (float(percent)/100):\n",
        "        print(\"connecting {} cell {} to {} cell {}\".format(source_name,sid,target_name,tid))\n",
        "        return 1\n",
        "    else:\n",
        "        return 0\n",
        "\n",
        "def conn_props(source,target,mu,sigma):\n",
        "    \"\"\"\n",
        "    Simply add connection properties as normal\n",
        "    https://github.com/AllenInstitute/bmtk/blob/develop/docs/tutorial/NetworkBuilder_Intro.ipynb\n",
        "    Can also adjust weights before running the network.\n",
        "    See https://github.com/AllenInstitute/bmtk/blob/develop/docs/tutorial/02_single_cell_syn.ipynb\n",
        "    Section 5\n",
        "    If done this way the function will need to be imported in the run script, consider refactoring?\n",
        "    \"\"\"\n",
        "\n",
        "    #syn_weight = np.random.lognormal(mean=mu,sigma=sigma)\n",
        "    syn_weight = mu\n",
        "\n",
        "    return syn_weight,0,0.5\n",
        "\n",
        "\n",
        "# Add connections -----------------------------------------\n",
        "\n",
        "# Blad afferent --> INd (Grill et al. 2016)\n",
        "conn = net.add_edges(source=net.nodes(pop_name='Bladaff'), target=net.nodes(pop_name='IND'),\n",
        "                   connection_rule=percent_connector,\n",
        "                   connection_params={'percent':100.0}, \n",
        "\t\t\t\t   target_sections=['somatic'],\n",
        "                   delay=2.0,\n",
        "                   distance_range=[0.0, 300.0],\n",
        "                   dynamics_params='AMPA_ExcToExc.json',\n",
        "                   model_template='Exp2Syn')\n",
        "\t\t\t\t\n",
        "conn.add_properties(names=['syn_weight', 'sec_id', 'sec_x'],\n",
        "                    rule=conn_props,\n",
        "                    rule_params={'mu':6.0e-3,'sigma':1},\n",
        "                    dtypes=[np.float, np.int32, np.float])\n",
        "\n",
        " # Blad afferent --> Hypogastric (Hou et al. 2014)\n",
        "conn = net.add_edges(source=net.nodes(pop_name='Bladaff'), target=net.nodes(pop_name='Hypo'),\n",
        "                    connection_rule=percent_connector,\n",
        "                    connection_params={'percent':10.0},\n",
        "                    target_sections=['somatic'],\n",
        "                    delay=2.0,\n",
        "                    distance_range=[0.0, 300.0],\n",
        "                    dynamics_params='AMPA_ExcToExc.json',\n",
        "                    model_template='Exp2Syn')\n",
        "\n",
        "conn.add_properties(names=['syn_weight', 'sec_id', 'sec_x'],\n",
        "                     rule=conn_props,\n",
        "                     rule_params={'mu':12.0e-3,'sigma':1},\n",
        "                     dtypes=[np.float, np.int32, np.float])\n",
        "\n",
        "######## EUS afferent --> INd (Grill et al. 2016)\n",
        "# conn = net.add_edges(source=net.nodes(pop_name='EUSaff'), target=net.nodes(pop_name='IND'),\n",
        "#                    connection_rule=percent_connector,\n",
        "#                    connection_params={'percent':100.0},\n",
        "#                    target_sections=['somatic'],\n",
        "#                    delay=2.0,\n",
        "#                    distance_range=[0.0, 300.0],\n",
        "#                    dynamics_params='AMPA_ExcToExc.json',\n",
        "#                    model_template='Exp2Syn')\n",
        "\n",
        "# conn.add_properties(names=['syn_weight', 'sec_id', 'sec_x'],\n",
        "#                     rule=conn_props,\n",
        "#                     rule_params={'mu':1.0e-3,'sigma':1},\n",
        "#                     dtypes=[np.float, np.int32, np.float])\n",
        "\n",
        "# PAG afferent --> INd (Grill et al. 2016)\n",
        "conn = net.add_edges(source=net.nodes(pop_name='PAGaff'), target=net.nodes(pop_name='IND'),\n",
        "                   connection_rule=percent_connector,\n",
        "                   connection_params={'percent':100.0},\n",
        "                   target_sections=['somatic'],\n",
        "                   delay=2.0,\n",
        "                   distance_range=[0.0, 300.0],\n",
        "                   dynamics_params='AMPA_ExcToExc.json',\n",
        "                   model_template='Exp2Syn')\n",
        "\n",
        "conn.add_properties(names=['syn_weight', 'sec_id', 'sec_x'],\n",
        "                    rule=conn_props,\n",
        "                    rule_params={'mu':20.0e-3,'sigma':1},  # was 20.0e-3\n",
        "                    dtypes=[np.float, np.int32, np.float])\n",
        "\n",
        "# INd --> PGN (Grill et al. 2016)\n",
        "conn = net.add_edges(source=net.nodes(pop_name='IND'), target=net.nodes(pop_name='PGN'),\n",
        "                   connection_rule=percent_connector,\n",
        "                   connection_params={'percent':100.0},\n",
        "                   target_sections=['somatic'],\n",
        "                   delay=2.0,\n",
        "                   distance_range=[0.0, 300.0],\n",
        "                   dynamics_params='AMPA_ExcToExc.json',\n",
        "                   model_template='Exp2Syn')\n",
        "\n",
        "conn.add_properties(names=['syn_weight', 'sec_id', 'sec_x'],\n",
        "                    rule=conn_props,\n",
        "                    rule_params={'mu':12.0e-3,'sigma':1},\n",
        "                    dtypes=[np.float, np.int32, np.float])\n",
        "\n",
        " # Hypogastric --> IMG (Beckel et al. 2015)\n",
        "conn = net.add_edges(source=net.nodes(pop_name='Hypo'), target=net.nodes(pop_name='IMG'),\n",
        "                    connection_rule=percent_connector,\n",
        "                    connection_params={'percent':10.0},\n",
        "                    target_sections=['somatic'],\n",
        "                    delay=2.0,\n",
        "                    distance_range=[0.0, 300.0],\n",
        "                    dynamics_params='AMPA_ExcToExc.json',\n",
        "                    model_template='Exp2Syn')\n",
        "\n",
        "conn.add_properties(names=['syn_weight', 'sec_id', 'sec_x'],\n",
        "                     rule=conn_props,\n",
        "                     rule_params={'mu':12.0e-3,'sigma':1},\n",
        "                     dtypes=[np.float, np.int32, np.float])\n",
        "\n",
        "## STSP synapse ##\n",
        "# # EUS afferent --> INm+ (Grill et al. 2016) **Low pass filter**\n",
        "# conn = net.add_edges(source=net.nodes(pop_name='EUSaff'), target=net.nodes(pop_name='INmplus'),\n",
        "                   # connection_rule=percent_connector,\n",
        "                   # connection_params={'percent':100.0},\n",
        "                   # target_sections=['somatic'],\n",
        "                   # delay=2.0,\n",
        "                   # distance_range=[0.0, 300.0],\n",
        "                   # dynamics_params='stsp.json', \n",
        "                   # model_template='Exp2Syn1_STSP')\n",
        "\n",
        "# conn.add_properties(names=['syn_weight', 'sec_id', 'sec_x'],\n",
        "                    # rule=conn_props,\n",
        "                    # rule_params={'mu':0.5,'sigma':1},\n",
        "                    # dtypes=[np.float, np.int32, np.float])\n",
        "\n",
        "######## EUS afferent --> INm+(Grill et al. 2016)\n",
        "# conn = net.add_edges(source=net.nodes(pop_name='EUSaff'), target=net.nodes(pop_name='INmplus'),\n",
        "#                    connection_rule=percent_connector,\n",
        "#                    connection_params={'percent':100.0},\n",
        "#                    target_sections=['somatic'],\n",
        "#                    delay=2.0,\n",
        "#                    distance_range=[0.0, 300.0],\n",
        "#                    dynamics_params='AMPA_ExcToExc.json',\n",
        "#                    model_template='Exp2Syn')\n",
        "\n",
        "# conn.add_properties(names=['syn_weight', 'sec_id', 'sec_x'],\n",
        "#                     rule=conn_props,\n",
        "#                     rule_params={'mu':16.5e-3,'sigma':1},\n",
        "#                     dtypes=[np.float, np.int32, np.float])\n",
        "# PAG afferent --> INm+ (Source?)\n",
        "# Using this connection instead of synaptic depression for low pass filtering\n",
        "# conn = net.add_edges(source=net.nodes(pop_name='PAGaff'), target=net.nodes(pop_name='PGN'),\n",
        "                   # connection_rule=percent_connector,\n",
        "                   # connection_params={'percent':100.0},\n",
        "                   # target_sections=['somatic'],\n",
        "                   # delay=2.0,\n",
        "                   # distance_range=[0.0, 300.0],\n",
        "                   # dynamics_params='AMPA_ExcToExc.json',\n",
        "                   # model_template='Exp2Syn')\n",
        "\n",
        "# conn.add_properties(names=['syn_weight', 'sec_id', 'sec_x'],\n",
        "                    # rule=conn_props,\n",
        "                    # rule_params={'mu':11.0e-3,'sigma':1},\n",
        "                    # dtypes=[np.float, np.int32, np.float])\n",
        "\n",
        "######## EUS afferent --> INm-(Grill et al. 2016)\n",
        "# conn = net.add_edges(source=net.nodes(pop_name='EUSaff'), target=net.nodes(pop_name='INmminus'),\n",
        "#                    connection_rule=percent_connector,\n",
        "#                    connection_params={'percent':100.0},\n",
        "#                    target_sections=['somatic'],\n",
        "#                    delay=2.0,\n",
        "#                    distance_range=[0.0, 300.0],\n",
        "#                    dynamics_params='AMPA_ExcToExc.json',\n",
        "#                    model_template='Exp2Syn')\n",
        "\n",
        "# conn.add_properties(names=['syn_weight', 'sec_id', 'sec_x'],\n",
        "#                     rule=conn_props,\n",
        "#                     rule_params={'mu':16.0e-3,'sigma':1},\n",
        "#                     dtypes=[np.float, np.int32, np.float])\n",
        "\n",
        "######## INm+ --> PGN (Grill et al. 2016)\n",
        "# conn = net.add_edges(source=net.nodes(pop_name='INmplus'), target=net.nodes(pop_name='PGN'),\n",
        "#                    cconnection_rule=percent_connector,\n",
        "#                    connection_params={'percent':10.0},\n",
        "#                    target_sections=['somatic'],\n",
        "#                    delay=2.0,\n",
        "#                    distance_range=[0.0, 300.0],\n",
        "#                    dynamics_params='AMPA_ExcToExc.json',\n",
        "#                    model_template='Exp2Syn')\n",
        "\n",
        "# conn.add_properties(names=['syn_weight', 'sec_id', 'sec_x'],\n",
        "#                     rule=conn_props,\n",
        "#                     rule_params={'mu':1.0e-3,'sigma':1},\n",
        "#                     dtypes=[np.float, np.int32, np.float])\n",
        "\n",
        "######## INm- --> PGN (Grill et al. 2016)\n",
        "# conn = net.add_edges(source=net.nodes(pop_name='INmminus'), target=net.nodes(pop_name='PGN'),\n",
        "#                    connection_rule=percent_connector,\n",
        "#                    connection_params={'percent':10.0},\n",
        "#                    target_sections=['somatic'],\n",
        "#                    delay=2.0,\n",
        "#                    distance_range=[0.0, 300.0],\n",
        "#                    dynamics_params='GABA_InhToExc.json',\n",
        "#                    model_template='Exp2Syn')\n",
        "\n",
        "# conn.add_properties(names=['syn_weight', 'sec_id', 'sec_x'],\n",
        "#                     rule=conn_props,\n",
        "#                     rule_params={'mu':20.0e-3,'sigma':1},\n",
        "#                     dtypes=[np.float, np.int32, np.float])\n",
        "\n",
        "# PGN --> MPG (Beckel et al. 2015)\n",
        "conn = net.add_edges(source=net.nodes(pop_name='PGN'), target=net.nodes(pop_name='MPG'),\n",
        "                   connection_rule=percent_connector,\n",
        "                   connection_params={'percent':100.0},\n",
        "                   target_sections=['somatic'],\n",
        "                   delay=2.0,\n",
        "                   distance_range=[0.0, 300.0],\n",
        "                   dynamics_params='AMPA_ExcToExc.json',\n",
        "                   model_template='Exp2Syn')\n",
        "\n",
        "conn.add_properties(names=['syn_weight', 'sec_id', 'sec_x'],\n",
        "                    rule=conn_props,\n",
        "                    rule_params={'mu':12.0e-3,'sigma':1},\n",
        "                    dtypes=[np.float, np.int32, np.float])\n",
        "\n",
        "# PGN --> FB (Grill et al. 2016)\n",
        "conn = net.add_edges(source=net.nodes(pop_name='PGN'), target=net.nodes(pop_name='FB'),\n",
        "                   connection_rule=percent_connector,\n",
        "                   connection_params={'percent':100.0},\n",
        "                   target_sections=['somatic'],\n",
        "                   delay=2.0,\n",
        "                   distance_range=[0.0, 300.0],\n",
        "                   dynamics_params='AMPA_ExcToExc.json',\n",
        "                   model_template='Exp2Syn')\n",
        "\n",
        "conn.add_properties(names=['syn_weight', 'sec_id', 'sec_x'],\n",
        "                    rule=conn_props,\n",
        "                    rule_params={'mu':16.0e-3,'sigma':1}, #was 12.0e-3\n",
        "                    dtypes=[np.float, np.int32, np.float])\n",
        "\n",
        "# FB --> INd (Grill et al. 2016)\n",
        "conn = net.add_edges(source=net.nodes(pop_name='FB'), target=net.nodes(pop_name='IND'),\n",
        "                   connection_rule=percent_connector,\n",
        "                   connection_params={'percent':100.0},\n",
        "                   target_sections=['somatic'],\n",
        "                   delay=2.0,\n",
        "                   distance_range=[0.0, 300.0],\n",
        "                   dynamics_params='GABA_InhToInh.json',\n",
        "                   model_template='Exp2Syn')\n",
        "\n",
        "conn.add_properties(names=['syn_weight', 'sec_id', 'sec_x'],\n",
        "                    rule=conn_props,\n",
        "                    rule_params={'mu':20.0e-3,'sigma':1},       # was 12.0e-3\n",
        "                    dtypes=[np.float, np.int32, np.float])\n",
        "\n",
        "# # MPG --> Bladder MN (Beckel et al. 2015)\n",
        "# conn = net.add_edges(source=net.nodes(pop_name='MPG'), target=net.nodes(pop_name='Bladmn'),\n",
        "                   # connection_rule=percent_connector,\n",
        "                   # connection_params={'percent':10.0},\n",
        "                   # target_sections=['somatic'],\n",
        "                   # delay=2.0,\n",
        "                   # distance_range=[0.0, 300.0],\n",
        "                   # dynamics_params='AMPA_ExcToExc.json',\n",
        "                   # model_template='Exp2Syn')\n",
        "\n",
        "# conn.add_properties(names=['syn_weight', 'sec_id', 'sec_x'],\n",
        "                    # rule=conn_props,\n",
        "                    # rule_params={'mu':16.0e-3,'sigma':1},\n",
        "                    # dtypes=[np.float, np.int32, np.float])\n",
        "\n",
        "# # IMG --> Bladder MN (Beckel et al. 2015)\n",
        "# conn = net.add_edges(source=net.nodes(pop_name='IMG'), target=net.nodes(pop_name='Bladmn'),\n",
        "                   # connection_rule=percent_connector,\n",
        "                   # connection_params={'percent':10.0},\n",
        "                   # target_sections=['somatic'],\n",
        "                   # delay=2.0,\n",
        "                   # distance_range=[0.0, 300.0],\n",
        "                   # dynamics_params='GABA_InhToInh.json',\n",
        "                   # model_template='Exp2Syn')\n",
        "\n",
        "# conn.add_properties(names=['syn_weight', 'sec_id', 'sec_x'],\n",
        "                    # rule=conn_props,\n",
        "                    # rule_params={'mu':10.0e-3,'sigma':1},\n",
        "                    # dtypes=[np.float, np.int32, np.float])\n",
        "\n",
        "# PAG aff --> Hypogastric (de Groat, et al. 2015)\n",
        "conn = net.add_edges(source=net.nodes(pop_name='PAGaff'), target=net.nodes(pop_name='Hypo'),\n",
        "                    connection_rule=percent_connector,\n",
        "                    connection_params={'percent':100.0},\n",
        "                    target_sections=['somatic'],\n",
        "                    delay=2.0,\n",
        "                    distance_range=[0.0, 300.0],\n",
        "                    dynamics_params='GABA_InhToInh.json',\n",
        "                    model_template='Exp2Syn')\n",
        "\n",
        "conn.add_properties(names=['syn_weight', 'sec_id', 'sec_x'],\n",
        "                     rule=conn_props,\n",
        "                     rule_params={'mu':12.0e-3,'sigma':1},\n",
        "                     dtypes=[np.float, np.int32, np.float])\n",
        "\n",
        "# PAG aff --> EUS MN (Shefchyk et al. 2001)\n",
        "# conn = net.add_edges(source=net.nodes(pop_name='PAGaff'), target=net.nodes(pop_name='EUSmn'),\n",
        "                   # connection_rule=percent_connector,\n",
        "                   # connection_params={'percent':100.0},\n",
        "                   # target_sections=['somatic'],\n",
        "                   # delay=2.0,\n",
        "                   # distance_range=[0.0, 300.0],\n",
        "                   # dynamics_params='GABA_InhToInh.json',\n",
        "                   # model_template='Exp2Syn')\n",
        "\n",
        "# conn.add_properties(names=['syn_weight', 'sec_id', 'sec_x'],\n",
        "                    # rule=conn_props,\n",
        "                    # rule_params={'mu':12.0e-3,'sigma':1},\n",
        "                    # dtypes=[np.float, np.int32, np.float])\n",
        "\n",
        "# EUS afferent --> EUS MN (Beckel et al. 2015)\n",
        "# conn = net.add_edges(source=net.nodes(pop_name='EUSaff'), target=net.nodes(pop_name='EUSmn'),\n",
        "                   # connection_rule=percent_connector,\n",
        "                   # connection_params={'percent':100.0},\n",
        "                   # target_sections=['somatic'],\n",
        "                   # delay=2.0,\n",
        "                   # distance_range=[0.0, 300.0],\n",
        "                   # dynamics_params='AMPA_ExcToExc.json',\n",
        "                   # model_template='Exp2Syn')\n",
        "\n",
        "# conn.add_properties(names=['syn_weight', 'sec_id', 'sec_x'],\n",
        "                    # rule=conn_props,\n",
        "                    # rule_params={'mu':12.0e-3,'sigma':1},\n",
        "                    # dtypes=[np.float, np.int32, np.float])\n",
        "\n",
        "# Connect virtual cells to EUS, Bladder, and PAG/PMC\n",
        "Blad_aff_virt = NetworkBuilder('Blad_aff_virt') # Virtual cells delivering input to Bladder\n",
        "# EUS_aff_virt = NetworkBuilder('EUS_aff_virt')   # Virtual cells delivering input to EUS\n",
        "PAG_aff_virt = NetworkBuilder('PAG_aff_virt')   # Virtual cells delivering input to PAG/PMC\n",
        "\n",
        "Blad_aff_virt.add_nodes(N=numBladaff, pop_name = 'Blad_aff_virt', model_type='virtual', potential='exc')\n",
        "# EUS_aff_virt.add_nodes(N=numEUSaff, pop_name = 'EUS_aff_virt', model_type='virtual', potential='exc')\n",
        "PAG_aff_virt.add_nodes(N=numPAGaff, pop_name = 'PAG_aff_virt', model_type='virtual', potential='exc')\n",
        "\n",
        "Blad_aff_virt.add_edges(source=Blad_aff_virt.nodes(), target=net.nodes(pop_name='Bladaff'),\n",
        "                   connection_rule=percent_connector,\n",
        "                   connection_params={'percent':100.0},\n",
        "                   syn_weight=12.0e-03,\n",
        "                   target_sections=['somatic'],\n",
        "\t\t\t\t   delay=2.0,\n",
        "                   distance_range=[0.0, 300.0],\n",
        "                   dynamics_params='AMPA_ExcToExc.json',\n",
        "                   model_template='Exp2Syn')\n",
        "\n",
        "\t\t\t\t\t\n",
        "# EUS_aff_virt.add_edges(source=EUS_aff_virt.nodes(), target=net.nodes(pop_name='EUSaff'),\n",
        "#                    connection_rule=percent_connector,\n",
        "#                    connection_params={'percent':100.0},\n",
        "#                    syn_weight=12.0e-03,\n",
        "#                    target_sections=['somatic'],\n",
        "#                    delay=2.0,\n",
        "#                    distance_range=[0.0, 300.0],\n",
        "#                    dynamics_params='AMPA_ExcToExc.json',\n",
        "#                    model_template='Exp2Syn')\n",
        "\n",
        "PAG_aff_virt.add_edges(source=PAG_aff_virt.nodes(), target=net.nodes(pop_name='PAGaff'),\n",
        "                   connection_rule=percent_connector,\n",
        "                   connection_params={'percent':100.0},\n",
        "                   syn_weight=20.0e-03,\n",
        "                   target_sections=['somatic'],\n",
        "                   delay=2.0,\n",
        "                   distance_range=[0.0, 300.0],\n",
        "                   dynamics_params='AMPA_ExcToExc.json',\n",
        "                   model_template='Exp2Syn')\n",
        "\n",
        "####################################################################################\n",
        "########################## Build and save network ##################################\n",
        "####################################################################################\n",
        "\n",
        "print(\"\\nBuilding network and saving to directory \\\"\" + output_dir + \"\\\"\")\n",
        "net.build()\n",
        "Blad_aff_virt.build()\n",
        "# EUS_aff_virt.build()\n",
        "PAG_aff_virt.build()\n",
        "\n",
        "net.save_nodes(output_dir=output_dir)\n",
        "net.save_edges(output_dir=output_dir)\n",
        "\n",
        "Blad_aff_virt.save_nodes(output_dir=output_dir)\n",
        "Blad_aff_virt.save_edges(output_dir=output_dir)\n",
        "\n",
        "# EUS_aff_virt.save_nodes(output_dir=output_dir)\n",
        "# EUS_aff_virt.save_edges(output_dir=output_dir)\n",
        "\n",
        "PAG_aff_virt.save_nodes(output_dir=output_dir)\n",
        "PAG_aff_virt.save_edges(output_dir=output_dir)\n",
        "\n",
        "print(\"Done\")"
      ],
      "metadata": {
        "colab": {
          "base_uri": "https://localhost:8080/"
        },
        "id": "OwFAcOVDTxGn",
        "outputId": "b30ff3f4-8bd3-4ae2-e95e-b8ca6054a731"
      },
      "execution_count": 4,
      "outputs": [
        {
          "output_type": "stream",
          "name": "stdout",
          "text": [
            "\n",
            "Creating Cells\n",
            "\n",
            "Connecting Cells\n",
            "\n",
            "Building network and saving to directory \"network\"\n",
            "connecting Bladaff cell 0 to IND cell 0\n",
            "connecting Bladaff cell 0 to IND cell 1\n",
            "connecting Bladaff cell 0 to IND cell 2\n",
            "connecting Bladaff cell 0 to IND cell 3\n",
            "connecting Bladaff cell 0 to IND cell 4\n",
            "connecting Bladaff cell 0 to IND cell 5\n",
            "connecting Bladaff cell 0 to IND cell 6\n",
            "connecting Bladaff cell 0 to IND cell 7\n",
            "connecting Bladaff cell 0 to IND cell 8\n",
            "connecting Bladaff cell 0 to IND cell 9\n",
            "connecting Bladaff cell 1 to IND cell 0\n",
            "connecting Bladaff cell 1 to IND cell 1\n",
            "connecting Bladaff cell 1 to IND cell 2\n",
            "connecting Bladaff cell 1 to IND cell 3\n",
            "connecting Bladaff cell 1 to IND cell 4\n",
            "connecting Bladaff cell 1 to IND cell 5\n",
            "connecting Bladaff cell 1 to IND cell 6\n",
            "connecting Bladaff cell 1 to IND cell 7\n",
            "connecting Bladaff cell 1 to IND cell 8\n",
            "connecting Bladaff cell 1 to IND cell 9\n",
            "connecting Bladaff cell 2 to IND cell 0\n",
            "connecting Bladaff cell 2 to IND cell 1\n",
            "connecting Bladaff cell 2 to IND cell 2\n",
            "connecting Bladaff cell 2 to IND cell 3\n",
            "connecting Bladaff cell 2 to IND cell 4\n",
            "connecting Bladaff cell 2 to IND cell 5\n",
            "connecting Bladaff cell 2 to IND cell 6\n",
            "connecting Bladaff cell 2 to IND cell 7\n",
            "connecting Bladaff cell 2 to IND cell 8\n",
            "connecting Bladaff cell 2 to IND cell 9\n",
            "connecting Bladaff cell 3 to IND cell 0\n",
            "connecting Bladaff cell 3 to IND cell 1\n",
            "connecting Bladaff cell 3 to IND cell 2\n",
            "connecting Bladaff cell 3 to IND cell 3\n",
            "connecting Bladaff cell 3 to IND cell 4\n",
            "connecting Bladaff cell 3 to IND cell 5\n",
            "connecting Bladaff cell 3 to IND cell 6\n",
            "connecting Bladaff cell 3 to IND cell 7\n",
            "connecting Bladaff cell 3 to IND cell 8\n",
            "connecting Bladaff cell 3 to IND cell 9\n",
            "connecting Bladaff cell 4 to IND cell 0\n",
            "connecting Bladaff cell 4 to IND cell 1\n",
            "connecting Bladaff cell 4 to IND cell 2\n",
            "connecting Bladaff cell 4 to IND cell 3\n",
            "connecting Bladaff cell 4 to IND cell 4\n",
            "connecting Bladaff cell 4 to IND cell 5\n",
            "connecting Bladaff cell 4 to IND cell 6\n",
            "connecting Bladaff cell 4 to IND cell 7\n",
            "connecting Bladaff cell 4 to IND cell 8\n",
            "connecting Bladaff cell 4 to IND cell 9\n",
            "connecting Bladaff cell 5 to IND cell 0\n",
            "connecting Bladaff cell 5 to IND cell 1\n",
            "connecting Bladaff cell 5 to IND cell 2\n",
            "connecting Bladaff cell 5 to IND cell 3\n",
            "connecting Bladaff cell 5 to IND cell 4\n",
            "connecting Bladaff cell 5 to IND cell 5\n",
            "connecting Bladaff cell 5 to IND cell 6\n",
            "connecting Bladaff cell 5 to IND cell 7\n",
            "connecting Bladaff cell 5 to IND cell 8\n",
            "connecting Bladaff cell 5 to IND cell 9\n",
            "connecting Bladaff cell 6 to IND cell 0\n",
            "connecting Bladaff cell 6 to IND cell 1\n",
            "connecting Bladaff cell 6 to IND cell 2\n",
            "connecting Bladaff cell 6 to IND cell 3\n",
            "connecting Bladaff cell 6 to IND cell 4\n",
            "connecting Bladaff cell 6 to IND cell 5\n",
            "connecting Bladaff cell 6 to IND cell 6\n",
            "connecting Bladaff cell 6 to IND cell 7\n",
            "connecting Bladaff cell 6 to IND cell 8\n",
            "connecting Bladaff cell 6 to IND cell 9\n",
            "connecting Bladaff cell 7 to IND cell 0\n",
            "connecting Bladaff cell 7 to IND cell 1\n",
            "connecting Bladaff cell 7 to IND cell 2\n",
            "connecting Bladaff cell 7 to IND cell 3\n",
            "connecting Bladaff cell 7 to IND cell 4\n",
            "connecting Bladaff cell 7 to IND cell 5\n",
            "connecting Bladaff cell 7 to IND cell 6\n",
            "connecting Bladaff cell 7 to IND cell 7\n",
            "connecting Bladaff cell 7 to IND cell 8\n",
            "connecting Bladaff cell 7 to IND cell 9\n",
            "connecting Bladaff cell 8 to IND cell 0\n",
            "connecting Bladaff cell 8 to IND cell 1\n",
            "connecting Bladaff cell 8 to IND cell 2\n",
            "connecting Bladaff cell 8 to IND cell 3\n",
            "connecting Bladaff cell 8 to IND cell 4\n",
            "connecting Bladaff cell 8 to IND cell 5\n",
            "connecting Bladaff cell 8 to IND cell 6\n",
            "connecting Bladaff cell 8 to IND cell 7\n",
            "connecting Bladaff cell 8 to IND cell 8\n",
            "connecting Bladaff cell 8 to IND cell 9\n",
            "connecting Bladaff cell 9 to IND cell 0\n",
            "connecting Bladaff cell 9 to IND cell 1\n",
            "connecting Bladaff cell 9 to IND cell 2\n",
            "connecting Bladaff cell 9 to IND cell 3\n",
            "connecting Bladaff cell 9 to IND cell 4\n",
            "connecting Bladaff cell 9 to IND cell 5\n",
            "connecting Bladaff cell 9 to IND cell 6\n",
            "connecting Bladaff cell 9 to IND cell 7\n",
            "connecting Bladaff cell 9 to IND cell 8\n",
            "connecting Bladaff cell 9 to IND cell 9\n",
            "connecting Bladaff cell 0 to Hypo cell 0\n",
            "connecting Bladaff cell 2 to Hypo cell 4\n",
            "connecting Bladaff cell 2 to Hypo cell 6\n",
            "connecting Bladaff cell 3 to Hypo cell 1\n",
            "connecting Bladaff cell 3 to Hypo cell 4\n",
            "connecting Bladaff cell 3 to Hypo cell 6\n",
            "connecting Bladaff cell 6 to Hypo cell 0\n",
            "connecting Bladaff cell 6 to Hypo cell 5\n",
            "connecting Bladaff cell 7 to Hypo cell 6\n",
            "connecting Bladaff cell 8 to Hypo cell 3\n",
            "connecting Bladaff cell 9 to Hypo cell 7\n",
            "connecting PAGaff cell 0 to IND cell 0\n",
            "connecting PAGaff cell 0 to IND cell 1\n",
            "connecting PAGaff cell 0 to IND cell 2\n",
            "connecting PAGaff cell 0 to IND cell 3\n",
            "connecting PAGaff cell 0 to IND cell 4\n",
            "connecting PAGaff cell 0 to IND cell 5\n",
            "connecting PAGaff cell 0 to IND cell 6\n",
            "connecting PAGaff cell 0 to IND cell 7\n",
            "connecting PAGaff cell 0 to IND cell 8\n",
            "connecting PAGaff cell 0 to IND cell 9\n",
            "connecting PAGaff cell 1 to IND cell 0\n",
            "connecting PAGaff cell 1 to IND cell 1\n",
            "connecting PAGaff cell 1 to IND cell 2\n",
            "connecting PAGaff cell 1 to IND cell 3\n",
            "connecting PAGaff cell 1 to IND cell 4\n",
            "connecting PAGaff cell 1 to IND cell 5\n",
            "connecting PAGaff cell 1 to IND cell 6\n",
            "connecting PAGaff cell 1 to IND cell 7\n",
            "connecting PAGaff cell 1 to IND cell 8\n",
            "connecting PAGaff cell 1 to IND cell 9\n",
            "connecting PAGaff cell 2 to IND cell 0\n",
            "connecting PAGaff cell 2 to IND cell 1\n",
            "connecting PAGaff cell 2 to IND cell 2\n",
            "connecting PAGaff cell 2 to IND cell 3\n",
            "connecting PAGaff cell 2 to IND cell 4\n",
            "connecting PAGaff cell 2 to IND cell 5\n",
            "connecting PAGaff cell 2 to IND cell 6\n",
            "connecting PAGaff cell 2 to IND cell 7\n",
            "connecting PAGaff cell 2 to IND cell 8\n",
            "connecting PAGaff cell 2 to IND cell 9\n",
            "connecting PAGaff cell 3 to IND cell 0\n",
            "connecting PAGaff cell 3 to IND cell 1\n",
            "connecting PAGaff cell 3 to IND cell 2\n",
            "connecting PAGaff cell 3 to IND cell 3\n",
            "connecting PAGaff cell 3 to IND cell 4\n",
            "connecting PAGaff cell 3 to IND cell 5\n",
            "connecting PAGaff cell 3 to IND cell 6\n",
            "connecting PAGaff cell 3 to IND cell 7\n",
            "connecting PAGaff cell 3 to IND cell 8\n",
            "connecting PAGaff cell 3 to IND cell 9\n",
            "connecting PAGaff cell 4 to IND cell 0\n",
            "connecting PAGaff cell 4 to IND cell 1\n",
            "connecting PAGaff cell 4 to IND cell 2\n",
            "connecting PAGaff cell 4 to IND cell 3\n",
            "connecting PAGaff cell 4 to IND cell 4\n",
            "connecting PAGaff cell 4 to IND cell 5\n",
            "connecting PAGaff cell 4 to IND cell 6\n",
            "connecting PAGaff cell 4 to IND cell 7\n",
            "connecting PAGaff cell 4 to IND cell 8\n",
            "connecting PAGaff cell 4 to IND cell 9\n",
            "connecting PAGaff cell 5 to IND cell 0\n",
            "connecting PAGaff cell 5 to IND cell 1\n",
            "connecting PAGaff cell 5 to IND cell 2\n",
            "connecting PAGaff cell 5 to IND cell 3\n",
            "connecting PAGaff cell 5 to IND cell 4\n",
            "connecting PAGaff cell 5 to IND cell 5\n",
            "connecting PAGaff cell 5 to IND cell 6\n",
            "connecting PAGaff cell 5 to IND cell 7\n",
            "connecting PAGaff cell 5 to IND cell 8\n",
            "connecting PAGaff cell 5 to IND cell 9\n",
            "connecting PAGaff cell 6 to IND cell 0\n",
            "connecting PAGaff cell 6 to IND cell 1\n",
            "connecting PAGaff cell 6 to IND cell 2\n",
            "connecting PAGaff cell 6 to IND cell 3\n",
            "connecting PAGaff cell 6 to IND cell 4\n",
            "connecting PAGaff cell 6 to IND cell 5\n",
            "connecting PAGaff cell 6 to IND cell 6\n",
            "connecting PAGaff cell 6 to IND cell 7\n",
            "connecting PAGaff cell 6 to IND cell 8\n",
            "connecting PAGaff cell 6 to IND cell 9\n",
            "connecting PAGaff cell 7 to IND cell 0\n",
            "connecting PAGaff cell 7 to IND cell 1\n",
            "connecting PAGaff cell 7 to IND cell 2\n",
            "connecting PAGaff cell 7 to IND cell 3\n",
            "connecting PAGaff cell 7 to IND cell 4\n",
            "connecting PAGaff cell 7 to IND cell 5\n",
            "connecting PAGaff cell 7 to IND cell 6\n",
            "connecting PAGaff cell 7 to IND cell 7\n",
            "connecting PAGaff cell 7 to IND cell 8\n",
            "connecting PAGaff cell 7 to IND cell 9\n",
            "connecting PAGaff cell 8 to IND cell 0\n",
            "connecting PAGaff cell 8 to IND cell 1\n",
            "connecting PAGaff cell 8 to IND cell 2\n",
            "connecting PAGaff cell 8 to IND cell 3\n",
            "connecting PAGaff cell 8 to IND cell 4\n",
            "connecting PAGaff cell 8 to IND cell 5\n",
            "connecting PAGaff cell 8 to IND cell 6\n",
            "connecting PAGaff cell 8 to IND cell 7\n",
            "connecting PAGaff cell 8 to IND cell 8\n",
            "connecting PAGaff cell 8 to IND cell 9\n",
            "connecting PAGaff cell 9 to IND cell 0\n",
            "connecting PAGaff cell 9 to IND cell 1\n",
            "connecting PAGaff cell 9 to IND cell 2\n",
            "connecting PAGaff cell 9 to IND cell 3\n",
            "connecting PAGaff cell 9 to IND cell 4\n",
            "connecting PAGaff cell 9 to IND cell 5\n",
            "connecting PAGaff cell 9 to IND cell 6\n",
            "connecting PAGaff cell 9 to IND cell 7\n",
            "connecting PAGaff cell 9 to IND cell 8\n",
            "connecting PAGaff cell 9 to IND cell 9\n",
            "connecting IND cell 0 to PGN cell 0\n",
            "connecting IND cell 0 to PGN cell 1\n",
            "connecting IND cell 0 to PGN cell 2\n",
            "connecting IND cell 0 to PGN cell 3\n",
            "connecting IND cell 0 to PGN cell 4\n",
            "connecting IND cell 0 to PGN cell 5\n",
            "connecting IND cell 0 to PGN cell 6\n",
            "connecting IND cell 0 to PGN cell 7\n",
            "connecting IND cell 0 to PGN cell 8\n",
            "connecting IND cell 0 to PGN cell 9\n",
            "connecting IND cell 1 to PGN cell 0\n",
            "connecting IND cell 1 to PGN cell 1\n",
            "connecting IND cell 1 to PGN cell 2\n",
            "connecting IND cell 1 to PGN cell 3\n",
            "connecting IND cell 1 to PGN cell 4\n",
            "connecting IND cell 1 to PGN cell 5\n",
            "connecting IND cell 1 to PGN cell 6\n",
            "connecting IND cell 1 to PGN cell 7\n",
            "connecting IND cell 1 to PGN cell 8\n",
            "connecting IND cell 1 to PGN cell 9\n",
            "connecting IND cell 2 to PGN cell 0\n",
            "connecting IND cell 2 to PGN cell 1\n",
            "connecting IND cell 2 to PGN cell 2\n",
            "connecting IND cell 2 to PGN cell 3\n",
            "connecting IND cell 2 to PGN cell 4\n",
            "connecting IND cell 2 to PGN cell 5\n",
            "connecting IND cell 2 to PGN cell 6\n",
            "connecting IND cell 2 to PGN cell 7\n",
            "connecting IND cell 2 to PGN cell 8\n",
            "connecting IND cell 2 to PGN cell 9\n",
            "connecting IND cell 3 to PGN cell 0\n",
            "connecting IND cell 3 to PGN cell 1\n",
            "connecting IND cell 3 to PGN cell 2\n",
            "connecting IND cell 3 to PGN cell 3\n",
            "connecting IND cell 3 to PGN cell 4\n",
            "connecting IND cell 3 to PGN cell 5\n",
            "connecting IND cell 3 to PGN cell 6\n",
            "connecting IND cell 3 to PGN cell 7\n",
            "connecting IND cell 3 to PGN cell 8\n",
            "connecting IND cell 3 to PGN cell 9\n",
            "connecting IND cell 4 to PGN cell 0\n",
            "connecting IND cell 4 to PGN cell 1\n",
            "connecting IND cell 4 to PGN cell 2\n",
            "connecting IND cell 4 to PGN cell 3\n",
            "connecting IND cell 4 to PGN cell 4\n",
            "connecting IND cell 4 to PGN cell 5\n",
            "connecting IND cell 4 to PGN cell 6\n",
            "connecting IND cell 4 to PGN cell 7\n",
            "connecting IND cell 4 to PGN cell 8\n",
            "connecting IND cell 4 to PGN cell 9\n",
            "connecting IND cell 5 to PGN cell 0\n",
            "connecting IND cell 5 to PGN cell 1\n",
            "connecting IND cell 5 to PGN cell 2\n",
            "connecting IND cell 5 to PGN cell 3\n",
            "connecting IND cell 5 to PGN cell 4\n",
            "connecting IND cell 5 to PGN cell 5\n",
            "connecting IND cell 5 to PGN cell 6\n",
            "connecting IND cell 5 to PGN cell 7\n",
            "connecting IND cell 5 to PGN cell 8\n",
            "connecting IND cell 5 to PGN cell 9\n",
            "connecting IND cell 6 to PGN cell 0\n",
            "connecting IND cell 6 to PGN cell 1\n",
            "connecting IND cell 6 to PGN cell 2\n",
            "connecting IND cell 6 to PGN cell 3\n",
            "connecting IND cell 6 to PGN cell 4\n",
            "connecting IND cell 6 to PGN cell 5\n",
            "connecting IND cell 6 to PGN cell 6\n",
            "connecting IND cell 6 to PGN cell 7\n",
            "connecting IND cell 6 to PGN cell 8\n",
            "connecting IND cell 6 to PGN cell 9\n",
            "connecting IND cell 7 to PGN cell 0\n",
            "connecting IND cell 7 to PGN cell 1\n",
            "connecting IND cell 7 to PGN cell 2\n",
            "connecting IND cell 7 to PGN cell 3\n",
            "connecting IND cell 7 to PGN cell 4\n",
            "connecting IND cell 7 to PGN cell 5\n",
            "connecting IND cell 7 to PGN cell 6\n",
            "connecting IND cell 7 to PGN cell 7\n",
            "connecting IND cell 7 to PGN cell 8\n",
            "connecting IND cell 7 to PGN cell 9\n",
            "connecting IND cell 8 to PGN cell 0\n",
            "connecting IND cell 8 to PGN cell 1\n",
            "connecting IND cell 8 to PGN cell 2\n",
            "connecting IND cell 8 to PGN cell 3\n",
            "connecting IND cell 8 to PGN cell 4\n",
            "connecting IND cell 8 to PGN cell 5\n",
            "connecting IND cell 8 to PGN cell 6\n",
            "connecting IND cell 8 to PGN cell 7\n",
            "connecting IND cell 8 to PGN cell 8\n",
            "connecting IND cell 8 to PGN cell 9\n",
            "connecting IND cell 9 to PGN cell 0\n",
            "connecting IND cell 9 to PGN cell 1\n",
            "connecting IND cell 9 to PGN cell 2\n",
            "connecting IND cell 9 to PGN cell 3\n",
            "connecting IND cell 9 to PGN cell 4\n",
            "connecting IND cell 9 to PGN cell 5\n",
            "connecting IND cell 9 to PGN cell 6\n",
            "connecting IND cell 9 to PGN cell 7\n",
            "connecting IND cell 9 to PGN cell 8\n",
            "connecting IND cell 9 to PGN cell 9\n",
            "connecting Hypo cell 0 to IMG cell 6\n",
            "connecting Hypo cell 1 to IMG cell 5\n",
            "connecting Hypo cell 1 to IMG cell 9\n",
            "connecting Hypo cell 2 to IMG cell 7\n",
            "connecting Hypo cell 3 to IMG cell 5\n",
            "connecting Hypo cell 6 to IMG cell 0\n",
            "connecting Hypo cell 6 to IMG cell 9\n",
            "connecting Hypo cell 8 to IMG cell 1\n",
            "connecting Hypo cell 9 to IMG cell 3\n",
            "connecting PGN cell 0 to MPG cell 0\n",
            "connecting PGN cell 0 to MPG cell 1\n",
            "connecting PGN cell 0 to MPG cell 2\n",
            "connecting PGN cell 0 to MPG cell 3\n",
            "connecting PGN cell 0 to MPG cell 4\n",
            "connecting PGN cell 0 to MPG cell 5\n",
            "connecting PGN cell 0 to MPG cell 6\n",
            "connecting PGN cell 0 to MPG cell 7\n",
            "connecting PGN cell 0 to MPG cell 8\n",
            "connecting PGN cell 0 to MPG cell 9\n",
            "connecting PGN cell 1 to MPG cell 0\n",
            "connecting PGN cell 1 to MPG cell 1\n",
            "connecting PGN cell 1 to MPG cell 2\n",
            "connecting PGN cell 1 to MPG cell 3\n",
            "connecting PGN cell 1 to MPG cell 4\n",
            "connecting PGN cell 1 to MPG cell 5\n",
            "connecting PGN cell 1 to MPG cell 6\n",
            "connecting PGN cell 1 to MPG cell 7\n",
            "connecting PGN cell 1 to MPG cell 8\n",
            "connecting PGN cell 1 to MPG cell 9\n",
            "connecting PGN cell 2 to MPG cell 0\n",
            "connecting PGN cell 2 to MPG cell 1\n",
            "connecting PGN cell 2 to MPG cell 2\n",
            "connecting PGN cell 2 to MPG cell 3\n",
            "connecting PGN cell 2 to MPG cell 4\n",
            "connecting PGN cell 2 to MPG cell 5\n",
            "connecting PGN cell 2 to MPG cell 6\n",
            "connecting PGN cell 2 to MPG cell 7\n",
            "connecting PGN cell 2 to MPG cell 8\n",
            "connecting PGN cell 2 to MPG cell 9\n",
            "connecting PGN cell 3 to MPG cell 0\n",
            "connecting PGN cell 3 to MPG cell 1\n",
            "connecting PGN cell 3 to MPG cell 2\n",
            "connecting PGN cell 3 to MPG cell 3\n",
            "connecting PGN cell 3 to MPG cell 4\n",
            "connecting PGN cell 3 to MPG cell 5\n",
            "connecting PGN cell 3 to MPG cell 6\n",
            "connecting PGN cell 3 to MPG cell 7\n",
            "connecting PGN cell 3 to MPG cell 8\n",
            "connecting PGN cell 3 to MPG cell 9\n",
            "connecting PGN cell 4 to MPG cell 0\n",
            "connecting PGN cell 4 to MPG cell 1\n",
            "connecting PGN cell 4 to MPG cell 2\n",
            "connecting PGN cell 4 to MPG cell 3\n",
            "connecting PGN cell 4 to MPG cell 4\n",
            "connecting PGN cell 4 to MPG cell 5\n",
            "connecting PGN cell 4 to MPG cell 6\n",
            "connecting PGN cell 4 to MPG cell 7\n",
            "connecting PGN cell 4 to MPG cell 8\n",
            "connecting PGN cell 4 to MPG cell 9\n",
            "connecting PGN cell 5 to MPG cell 0\n",
            "connecting PGN cell 5 to MPG cell 1\n",
            "connecting PGN cell 5 to MPG cell 2\n",
            "connecting PGN cell 5 to MPG cell 3\n",
            "connecting PGN cell 5 to MPG cell 4\n",
            "connecting PGN cell 5 to MPG cell 5\n",
            "connecting PGN cell 5 to MPG cell 6\n",
            "connecting PGN cell 5 to MPG cell 7\n",
            "connecting PGN cell 5 to MPG cell 8\n",
            "connecting PGN cell 5 to MPG cell 9\n",
            "connecting PGN cell 6 to MPG cell 0\n",
            "connecting PGN cell 6 to MPG cell 1\n",
            "connecting PGN cell 6 to MPG cell 2\n",
            "connecting PGN cell 6 to MPG cell 3\n",
            "connecting PGN cell 6 to MPG cell 4\n",
            "connecting PGN cell 6 to MPG cell 5\n",
            "connecting PGN cell 6 to MPG cell 6\n",
            "connecting PGN cell 6 to MPG cell 7\n",
            "connecting PGN cell 6 to MPG cell 8\n",
            "connecting PGN cell 6 to MPG cell 9\n",
            "connecting PGN cell 7 to MPG cell 0\n",
            "connecting PGN cell 7 to MPG cell 1\n",
            "connecting PGN cell 7 to MPG cell 2\n",
            "connecting PGN cell 7 to MPG cell 3\n",
            "connecting PGN cell 7 to MPG cell 4\n",
            "connecting PGN cell 7 to MPG cell 5\n",
            "connecting PGN cell 7 to MPG cell 6\n",
            "connecting PGN cell 7 to MPG cell 7\n",
            "connecting PGN cell 7 to MPG cell 8\n",
            "connecting PGN cell 7 to MPG cell 9\n",
            "connecting PGN cell 8 to MPG cell 0\n",
            "connecting PGN cell 8 to MPG cell 1\n",
            "connecting PGN cell 8 to MPG cell 2\n",
            "connecting PGN cell 8 to MPG cell 3\n",
            "connecting PGN cell 8 to MPG cell 4\n",
            "connecting PGN cell 8 to MPG cell 5\n",
            "connecting PGN cell 8 to MPG cell 6\n",
            "connecting PGN cell 8 to MPG cell 7\n",
            "connecting PGN cell 8 to MPG cell 8\n",
            "connecting PGN cell 8 to MPG cell 9\n",
            "connecting PGN cell 9 to MPG cell 0\n",
            "connecting PGN cell 9 to MPG cell 1\n",
            "connecting PGN cell 9 to MPG cell 2\n",
            "connecting PGN cell 9 to MPG cell 3\n",
            "connecting PGN cell 9 to MPG cell 4\n",
            "connecting PGN cell 9 to MPG cell 5\n",
            "connecting PGN cell 9 to MPG cell 6\n",
            "connecting PGN cell 9 to MPG cell 7\n",
            "connecting PGN cell 9 to MPG cell 8\n",
            "connecting PGN cell 9 to MPG cell 9\n",
            "connecting PGN cell 0 to FB cell 0\n",
            "connecting PGN cell 0 to FB cell 1\n",
            "connecting PGN cell 0 to FB cell 2\n",
            "connecting PGN cell 0 to FB cell 3\n",
            "connecting PGN cell 0 to FB cell 4\n",
            "connecting PGN cell 0 to FB cell 5\n",
            "connecting PGN cell 0 to FB cell 6\n",
            "connecting PGN cell 0 to FB cell 7\n",
            "connecting PGN cell 0 to FB cell 8\n",
            "connecting PGN cell 0 to FB cell 9\n",
            "connecting PGN cell 1 to FB cell 0\n",
            "connecting PGN cell 1 to FB cell 1\n",
            "connecting PGN cell 1 to FB cell 2\n",
            "connecting PGN cell 1 to FB cell 3\n",
            "connecting PGN cell 1 to FB cell 4\n",
            "connecting PGN cell 1 to FB cell 5\n",
            "connecting PGN cell 1 to FB cell 6\n",
            "connecting PGN cell 1 to FB cell 7\n",
            "connecting PGN cell 1 to FB cell 8\n",
            "connecting PGN cell 1 to FB cell 9\n",
            "connecting PGN cell 2 to FB cell 0\n",
            "connecting PGN cell 2 to FB cell 1\n",
            "connecting PGN cell 2 to FB cell 2\n",
            "connecting PGN cell 2 to FB cell 3\n",
            "connecting PGN cell 2 to FB cell 4\n",
            "connecting PGN cell 2 to FB cell 5\n",
            "connecting PGN cell 2 to FB cell 6\n",
            "connecting PGN cell 2 to FB cell 7\n",
            "connecting PGN cell 2 to FB cell 8\n",
            "connecting PGN cell 2 to FB cell 9\n",
            "connecting PGN cell 3 to FB cell 0\n",
            "connecting PGN cell 3 to FB cell 1\n",
            "connecting PGN cell 3 to FB cell 2\n",
            "connecting PGN cell 3 to FB cell 3\n",
            "connecting PGN cell 3 to FB cell 4\n",
            "connecting PGN cell 3 to FB cell 5\n",
            "connecting PGN cell 3 to FB cell 6\n",
            "connecting PGN cell 3 to FB cell 7\n",
            "connecting PGN cell 3 to FB cell 8\n",
            "connecting PGN cell 3 to FB cell 9\n",
            "connecting PGN cell 4 to FB cell 0\n",
            "connecting PGN cell 4 to FB cell 1\n",
            "connecting PGN cell 4 to FB cell 2\n",
            "connecting PGN cell 4 to FB cell 3\n",
            "connecting PGN cell 4 to FB cell 4\n",
            "connecting PGN cell 4 to FB cell 5\n",
            "connecting PGN cell 4 to FB cell 6\n",
            "connecting PGN cell 4 to FB cell 7\n",
            "connecting PGN cell 4 to FB cell 8\n",
            "connecting PGN cell 4 to FB cell 9\n",
            "connecting PGN cell 5 to FB cell 0\n",
            "connecting PGN cell 5 to FB cell 1\n",
            "connecting PGN cell 5 to FB cell 2\n",
            "connecting PGN cell 5 to FB cell 3\n",
            "connecting PGN cell 5 to FB cell 4\n",
            "connecting PGN cell 5 to FB cell 5\n",
            "connecting PGN cell 5 to FB cell 6\n",
            "connecting PGN cell 5 to FB cell 7\n",
            "connecting PGN cell 5 to FB cell 8\n",
            "connecting PGN cell 5 to FB cell 9\n",
            "connecting PGN cell 6 to FB cell 0\n",
            "connecting PGN cell 6 to FB cell 1\n",
            "connecting PGN cell 6 to FB cell 2\n",
            "connecting PGN cell 6 to FB cell 3\n",
            "connecting PGN cell 6 to FB cell 4\n",
            "connecting PGN cell 6 to FB cell 5\n",
            "connecting PGN cell 6 to FB cell 6\n",
            "connecting PGN cell 6 to FB cell 7\n",
            "connecting PGN cell 6 to FB cell 8\n",
            "connecting PGN cell 6 to FB cell 9\n",
            "connecting PGN cell 7 to FB cell 0\n",
            "connecting PGN cell 7 to FB cell 1\n",
            "connecting PGN cell 7 to FB cell 2\n",
            "connecting PGN cell 7 to FB cell 3\n",
            "connecting PGN cell 7 to FB cell 4\n",
            "connecting PGN cell 7 to FB cell 5\n",
            "connecting PGN cell 7 to FB cell 6\n",
            "connecting PGN cell 7 to FB cell 7\n",
            "connecting PGN cell 7 to FB cell 8\n",
            "connecting PGN cell 7 to FB cell 9\n",
            "connecting PGN cell 8 to FB cell 0\n",
            "connecting PGN cell 8 to FB cell 1\n",
            "connecting PGN cell 8 to FB cell 2\n",
            "connecting PGN cell 8 to FB cell 3\n",
            "connecting PGN cell 8 to FB cell 4\n",
            "connecting PGN cell 8 to FB cell 5\n",
            "connecting PGN cell 8 to FB cell 6\n",
            "connecting PGN cell 8 to FB cell 7\n",
            "connecting PGN cell 8 to FB cell 8\n",
            "connecting PGN cell 8 to FB cell 9\n",
            "connecting PGN cell 9 to FB cell 0\n",
            "connecting PGN cell 9 to FB cell 1\n",
            "connecting PGN cell 9 to FB cell 2\n",
            "connecting PGN cell 9 to FB cell 3\n",
            "connecting PGN cell 9 to FB cell 4\n",
            "connecting PGN cell 9 to FB cell 5\n",
            "connecting PGN cell 9 to FB cell 6\n",
            "connecting PGN cell 9 to FB cell 7\n",
            "connecting PGN cell 9 to FB cell 8\n",
            "connecting PGN cell 9 to FB cell 9\n",
            "connecting FB cell 0 to IND cell 0\n",
            "connecting FB cell 0 to IND cell 1\n",
            "connecting FB cell 0 to IND cell 2\n",
            "connecting FB cell 0 to IND cell 3\n",
            "connecting FB cell 0 to IND cell 4\n",
            "connecting FB cell 0 to IND cell 5\n",
            "connecting FB cell 0 to IND cell 6\n",
            "connecting FB cell 0 to IND cell 7\n",
            "connecting FB cell 0 to IND cell 8\n",
            "connecting FB cell 0 to IND cell 9\n",
            "connecting FB cell 1 to IND cell 0\n",
            "connecting FB cell 1 to IND cell 1\n",
            "connecting FB cell 1 to IND cell 2\n",
            "connecting FB cell 1 to IND cell 3\n",
            "connecting FB cell 1 to IND cell 4\n",
            "connecting FB cell 1 to IND cell 5\n",
            "connecting FB cell 1 to IND cell 6\n",
            "connecting FB cell 1 to IND cell 7\n",
            "connecting FB cell 1 to IND cell 8\n",
            "connecting FB cell 1 to IND cell 9\n",
            "connecting FB cell 2 to IND cell 0\n",
            "connecting FB cell 2 to IND cell 1\n",
            "connecting FB cell 2 to IND cell 2\n",
            "connecting FB cell 2 to IND cell 3\n",
            "connecting FB cell 2 to IND cell 4\n",
            "connecting FB cell 2 to IND cell 5\n",
            "connecting FB cell 2 to IND cell 6\n",
            "connecting FB cell 2 to IND cell 7\n",
            "connecting FB cell 2 to IND cell 8\n",
            "connecting FB cell 2 to IND cell 9\n",
            "connecting FB cell 3 to IND cell 0\n",
            "connecting FB cell 3 to IND cell 1\n",
            "connecting FB cell 3 to IND cell 2\n",
            "connecting FB cell 3 to IND cell 3\n",
            "connecting FB cell 3 to IND cell 4\n",
            "connecting FB cell 3 to IND cell 5\n",
            "connecting FB cell 3 to IND cell 6\n",
            "connecting FB cell 3 to IND cell 7\n",
            "connecting FB cell 3 to IND cell 8\n",
            "connecting FB cell 3 to IND cell 9\n",
            "connecting FB cell 4 to IND cell 0\n",
            "connecting FB cell 4 to IND cell 1\n",
            "connecting FB cell 4 to IND cell 2\n",
            "connecting FB cell 4 to IND cell 3\n",
            "connecting FB cell 4 to IND cell 4\n",
            "connecting FB cell 4 to IND cell 5\n",
            "connecting FB cell 4 to IND cell 6\n",
            "connecting FB cell 4 to IND cell 7\n",
            "connecting FB cell 4 to IND cell 8\n",
            "connecting FB cell 4 to IND cell 9\n",
            "connecting FB cell 5 to IND cell 0\n",
            "connecting FB cell 5 to IND cell 1\n",
            "connecting FB cell 5 to IND cell 2\n",
            "connecting FB cell 5 to IND cell 3\n",
            "connecting FB cell 5 to IND cell 4\n",
            "connecting FB cell 5 to IND cell 5\n",
            "connecting FB cell 5 to IND cell 6\n",
            "connecting FB cell 5 to IND cell 7\n",
            "connecting FB cell 5 to IND cell 8\n",
            "connecting FB cell 5 to IND cell 9\n",
            "connecting FB cell 6 to IND cell 0\n",
            "connecting FB cell 6 to IND cell 1\n",
            "connecting FB cell 6 to IND cell 2\n",
            "connecting FB cell 6 to IND cell 3\n",
            "connecting FB cell 6 to IND cell 4\n",
            "connecting FB cell 6 to IND cell 5\n",
            "connecting FB cell 6 to IND cell 6\n",
            "connecting FB cell 6 to IND cell 7\n",
            "connecting FB cell 6 to IND cell 8\n",
            "connecting FB cell 6 to IND cell 9\n",
            "connecting FB cell 7 to IND cell 0\n",
            "connecting FB cell 7 to IND cell 1\n",
            "connecting FB cell 7 to IND cell 2\n",
            "connecting FB cell 7 to IND cell 3\n",
            "connecting FB cell 7 to IND cell 4\n",
            "connecting FB cell 7 to IND cell 5\n",
            "connecting FB cell 7 to IND cell 6\n",
            "connecting FB cell 7 to IND cell 7\n",
            "connecting FB cell 7 to IND cell 8\n",
            "connecting FB cell 7 to IND cell 9\n",
            "connecting FB cell 8 to IND cell 0\n",
            "connecting FB cell 8 to IND cell 1\n",
            "connecting FB cell 8 to IND cell 2\n",
            "connecting FB cell 8 to IND cell 3\n",
            "connecting FB cell 8 to IND cell 4\n",
            "connecting FB cell 8 to IND cell 5\n",
            "connecting FB cell 8 to IND cell 6\n",
            "connecting FB cell 8 to IND cell 7\n",
            "connecting FB cell 8 to IND cell 8\n",
            "connecting FB cell 8 to IND cell 9\n",
            "connecting FB cell 9 to IND cell 0\n",
            "connecting FB cell 9 to IND cell 1\n",
            "connecting FB cell 9 to IND cell 2\n",
            "connecting FB cell 9 to IND cell 3\n",
            "connecting FB cell 9 to IND cell 4\n",
            "connecting FB cell 9 to IND cell 5\n",
            "connecting FB cell 9 to IND cell 6\n",
            "connecting FB cell 9 to IND cell 7\n",
            "connecting FB cell 9 to IND cell 8\n",
            "connecting FB cell 9 to IND cell 9\n",
            "connecting PAGaff cell 0 to Hypo cell 0\n",
            "connecting PAGaff cell 0 to Hypo cell 1\n",
            "connecting PAGaff cell 0 to Hypo cell 2\n",
            "connecting PAGaff cell 0 to Hypo cell 3\n",
            "connecting PAGaff cell 0 to Hypo cell 4\n",
            "connecting PAGaff cell 0 to Hypo cell 5\n",
            "connecting PAGaff cell 0 to Hypo cell 6\n",
            "connecting PAGaff cell 0 to Hypo cell 7\n",
            "connecting PAGaff cell 0 to Hypo cell 8\n",
            "connecting PAGaff cell 0 to Hypo cell 9\n",
            "connecting PAGaff cell 1 to Hypo cell 0\n",
            "connecting PAGaff cell 1 to Hypo cell 1\n",
            "connecting PAGaff cell 1 to Hypo cell 2\n",
            "connecting PAGaff cell 1 to Hypo cell 3\n",
            "connecting PAGaff cell 1 to Hypo cell 4\n",
            "connecting PAGaff cell 1 to Hypo cell 5\n",
            "connecting PAGaff cell 1 to Hypo cell 6\n",
            "connecting PAGaff cell 1 to Hypo cell 7\n",
            "connecting PAGaff cell 1 to Hypo cell 8\n",
            "connecting PAGaff cell 1 to Hypo cell 9\n",
            "connecting PAGaff cell 2 to Hypo cell 0\n",
            "connecting PAGaff cell 2 to Hypo cell 1\n",
            "connecting PAGaff cell 2 to Hypo cell 2\n",
            "connecting PAGaff cell 2 to Hypo cell 3\n",
            "connecting PAGaff cell 2 to Hypo cell 4\n",
            "connecting PAGaff cell 2 to Hypo cell 5\n",
            "connecting PAGaff cell 2 to Hypo cell 6\n",
            "connecting PAGaff cell 2 to Hypo cell 7\n",
            "connecting PAGaff cell 2 to Hypo cell 8\n",
            "connecting PAGaff cell 2 to Hypo cell 9\n",
            "connecting PAGaff cell 3 to Hypo cell 0\n",
            "connecting PAGaff cell 3 to Hypo cell 1\n",
            "connecting PAGaff cell 3 to Hypo cell 2\n",
            "connecting PAGaff cell 3 to Hypo cell 3\n",
            "connecting PAGaff cell 3 to Hypo cell 4\n",
            "connecting PAGaff cell 3 to Hypo cell 5\n",
            "connecting PAGaff cell 3 to Hypo cell 6\n",
            "connecting PAGaff cell 3 to Hypo cell 7\n",
            "connecting PAGaff cell 3 to Hypo cell 8\n",
            "connecting PAGaff cell 3 to Hypo cell 9\n",
            "connecting PAGaff cell 4 to Hypo cell 0\n",
            "connecting PAGaff cell 4 to Hypo cell 1\n",
            "connecting PAGaff cell 4 to Hypo cell 2\n",
            "connecting PAGaff cell 4 to Hypo cell 3\n",
            "connecting PAGaff cell 4 to Hypo cell 4\n",
            "connecting PAGaff cell 4 to Hypo cell 5\n",
            "connecting PAGaff cell 4 to Hypo cell 6\n",
            "connecting PAGaff cell 4 to Hypo cell 7\n",
            "connecting PAGaff cell 4 to Hypo cell 8\n",
            "connecting PAGaff cell 4 to Hypo cell 9\n",
            "connecting PAGaff cell 5 to Hypo cell 0\n",
            "connecting PAGaff cell 5 to Hypo cell 1\n",
            "connecting PAGaff cell 5 to Hypo cell 2\n",
            "connecting PAGaff cell 5 to Hypo cell 3\n",
            "connecting PAGaff cell 5 to Hypo cell 4\n",
            "connecting PAGaff cell 5 to Hypo cell 5\n",
            "connecting PAGaff cell 5 to Hypo cell 6\n",
            "connecting PAGaff cell 5 to Hypo cell 7\n",
            "connecting PAGaff cell 5 to Hypo cell 8\n",
            "connecting PAGaff cell 5 to Hypo cell 9\n",
            "connecting PAGaff cell 6 to Hypo cell 0\n",
            "connecting PAGaff cell 6 to Hypo cell 1\n",
            "connecting PAGaff cell 6 to Hypo cell 2\n",
            "connecting PAGaff cell 6 to Hypo cell 3\n",
            "connecting PAGaff cell 6 to Hypo cell 4\n",
            "connecting PAGaff cell 6 to Hypo cell 5\n",
            "connecting PAGaff cell 6 to Hypo cell 6\n",
            "connecting PAGaff cell 6 to Hypo cell 7\n",
            "connecting PAGaff cell 6 to Hypo cell 8\n",
            "connecting PAGaff cell 6 to Hypo cell 9\n",
            "connecting PAGaff cell 7 to Hypo cell 0\n",
            "connecting PAGaff cell 7 to Hypo cell 1\n",
            "connecting PAGaff cell 7 to Hypo cell 2\n",
            "connecting PAGaff cell 7 to Hypo cell 3\n",
            "connecting PAGaff cell 7 to Hypo cell 4\n",
            "connecting PAGaff cell 7 to Hypo cell 5\n",
            "connecting PAGaff cell 7 to Hypo cell 6\n",
            "connecting PAGaff cell 7 to Hypo cell 7\n",
            "connecting PAGaff cell 7 to Hypo cell 8\n",
            "connecting PAGaff cell 7 to Hypo cell 9\n",
            "connecting PAGaff cell 8 to Hypo cell 0\n",
            "connecting PAGaff cell 8 to Hypo cell 1\n",
            "connecting PAGaff cell 8 to Hypo cell 2\n",
            "connecting PAGaff cell 8 to Hypo cell 3\n",
            "connecting PAGaff cell 8 to Hypo cell 4\n",
            "connecting PAGaff cell 8 to Hypo cell 5\n",
            "connecting PAGaff cell 8 to Hypo cell 6\n",
            "connecting PAGaff cell 8 to Hypo cell 7\n",
            "connecting PAGaff cell 8 to Hypo cell 8\n",
            "connecting PAGaff cell 8 to Hypo cell 9\n",
            "connecting PAGaff cell 9 to Hypo cell 0\n",
            "connecting PAGaff cell 9 to Hypo cell 1\n",
            "connecting PAGaff cell 9 to Hypo cell 2\n",
            "connecting PAGaff cell 9 to Hypo cell 3\n",
            "connecting PAGaff cell 9 to Hypo cell 4\n",
            "connecting PAGaff cell 9 to Hypo cell 5\n",
            "connecting PAGaff cell 9 to Hypo cell 6\n",
            "connecting PAGaff cell 9 to Hypo cell 7\n",
            "connecting PAGaff cell 9 to Hypo cell 8\n",
            "connecting PAGaff cell 9 to Hypo cell 9\n",
            "connecting Blad_aff_virt cell 0 to Bladaff cell 0\n",
            "connecting Blad_aff_virt cell 0 to Bladaff cell 1\n",
            "connecting Blad_aff_virt cell 0 to Bladaff cell 2\n",
            "connecting Blad_aff_virt cell 0 to Bladaff cell 3\n",
            "connecting Blad_aff_virt cell 0 to Bladaff cell 4\n",
            "connecting Blad_aff_virt cell 0 to Bladaff cell 5\n",
            "connecting Blad_aff_virt cell 0 to Bladaff cell 6\n",
            "connecting Blad_aff_virt cell 0 to Bladaff cell 7\n",
            "connecting Blad_aff_virt cell 0 to Bladaff cell 8\n",
            "connecting Blad_aff_virt cell 0 to Bladaff cell 9\n",
            "connecting Blad_aff_virt cell 1 to Bladaff cell 0\n",
            "connecting Blad_aff_virt cell 1 to Bladaff cell 1\n",
            "connecting Blad_aff_virt cell 1 to Bladaff cell 2\n",
            "connecting Blad_aff_virt cell 1 to Bladaff cell 3\n",
            "connecting Blad_aff_virt cell 1 to Bladaff cell 4\n",
            "connecting Blad_aff_virt cell 1 to Bladaff cell 5\n",
            "connecting Blad_aff_virt cell 1 to Bladaff cell 6\n",
            "connecting Blad_aff_virt cell 1 to Bladaff cell 7\n",
            "connecting Blad_aff_virt cell 1 to Bladaff cell 8\n",
            "connecting Blad_aff_virt cell 1 to Bladaff cell 9\n",
            "connecting Blad_aff_virt cell 2 to Bladaff cell 0\n",
            "connecting Blad_aff_virt cell 2 to Bladaff cell 1\n",
            "connecting Blad_aff_virt cell 2 to Bladaff cell 2\n",
            "connecting Blad_aff_virt cell 2 to Bladaff cell 3\n",
            "connecting Blad_aff_virt cell 2 to Bladaff cell 4\n",
            "connecting Blad_aff_virt cell 2 to Bladaff cell 5\n",
            "connecting Blad_aff_virt cell 2 to Bladaff cell 6\n",
            "connecting Blad_aff_virt cell 2 to Bladaff cell 7\n",
            "connecting Blad_aff_virt cell 2 to Bladaff cell 8\n",
            "connecting Blad_aff_virt cell 2 to Bladaff cell 9\n",
            "connecting Blad_aff_virt cell 3 to Bladaff cell 0\n",
            "connecting Blad_aff_virt cell 3 to Bladaff cell 1\n",
            "connecting Blad_aff_virt cell 3 to Bladaff cell 2\n",
            "connecting Blad_aff_virt cell 3 to Bladaff cell 3\n",
            "connecting Blad_aff_virt cell 3 to Bladaff cell 4\n",
            "connecting Blad_aff_virt cell 3 to Bladaff cell 5\n",
            "connecting Blad_aff_virt cell 3 to Bladaff cell 6\n",
            "connecting Blad_aff_virt cell 3 to Bladaff cell 7\n",
            "connecting Blad_aff_virt cell 3 to Bladaff cell 8\n",
            "connecting Blad_aff_virt cell 3 to Bladaff cell 9\n",
            "connecting Blad_aff_virt cell 4 to Bladaff cell 0\n",
            "connecting Blad_aff_virt cell 4 to Bladaff cell 1\n",
            "connecting Blad_aff_virt cell 4 to Bladaff cell 2\n",
            "connecting Blad_aff_virt cell 4 to Bladaff cell 3\n",
            "connecting Blad_aff_virt cell 4 to Bladaff cell 4\n",
            "connecting Blad_aff_virt cell 4 to Bladaff cell 5\n",
            "connecting Blad_aff_virt cell 4 to Bladaff cell 6\n",
            "connecting Blad_aff_virt cell 4 to Bladaff cell 7\n",
            "connecting Blad_aff_virt cell 4 to Bladaff cell 8\n",
            "connecting Blad_aff_virt cell 4 to Bladaff cell 9\n",
            "connecting Blad_aff_virt cell 5 to Bladaff cell 0\n",
            "connecting Blad_aff_virt cell 5 to Bladaff cell 1\n",
            "connecting Blad_aff_virt cell 5 to Bladaff cell 2\n",
            "connecting Blad_aff_virt cell 5 to Bladaff cell 3\n",
            "connecting Blad_aff_virt cell 5 to Bladaff cell 4\n",
            "connecting Blad_aff_virt cell 5 to Bladaff cell 5\n",
            "connecting Blad_aff_virt cell 5 to Bladaff cell 6\n",
            "connecting Blad_aff_virt cell 5 to Bladaff cell 7\n",
            "connecting Blad_aff_virt cell 5 to Bladaff cell 8\n",
            "connecting Blad_aff_virt cell 5 to Bladaff cell 9\n",
            "connecting Blad_aff_virt cell 6 to Bladaff cell 0\n",
            "connecting Blad_aff_virt cell 6 to Bladaff cell 1\n",
            "connecting Blad_aff_virt cell 6 to Bladaff cell 2\n",
            "connecting Blad_aff_virt cell 6 to Bladaff cell 3\n",
            "connecting Blad_aff_virt cell 6 to Bladaff cell 4\n",
            "connecting Blad_aff_virt cell 6 to Bladaff cell 5\n",
            "connecting Blad_aff_virt cell 6 to Bladaff cell 6\n",
            "connecting Blad_aff_virt cell 6 to Bladaff cell 7\n",
            "connecting Blad_aff_virt cell 6 to Bladaff cell 8\n",
            "connecting Blad_aff_virt cell 6 to Bladaff cell 9\n",
            "connecting Blad_aff_virt cell 7 to Bladaff cell 0\n",
            "connecting Blad_aff_virt cell 7 to Bladaff cell 1\n",
            "connecting Blad_aff_virt cell 7 to Bladaff cell 2\n",
            "connecting Blad_aff_virt cell 7 to Bladaff cell 3\n",
            "connecting Blad_aff_virt cell 7 to Bladaff cell 4\n",
            "connecting Blad_aff_virt cell 7 to Bladaff cell 5\n",
            "connecting Blad_aff_virt cell 7 to Bladaff cell 6\n",
            "connecting Blad_aff_virt cell 7 to Bladaff cell 7\n",
            "connecting Blad_aff_virt cell 7 to Bladaff cell 8\n",
            "connecting Blad_aff_virt cell 7 to Bladaff cell 9\n",
            "connecting Blad_aff_virt cell 8 to Bladaff cell 0\n",
            "connecting Blad_aff_virt cell 8 to Bladaff cell 1\n",
            "connecting Blad_aff_virt cell 8 to Bladaff cell 2\n",
            "connecting Blad_aff_virt cell 8 to Bladaff cell 3\n",
            "connecting Blad_aff_virt cell 8 to Bladaff cell 4\n",
            "connecting Blad_aff_virt cell 8 to Bladaff cell 5\n",
            "connecting Blad_aff_virt cell 8 to Bladaff cell 6\n",
            "connecting Blad_aff_virt cell 8 to Bladaff cell 7\n",
            "connecting Blad_aff_virt cell 8 to Bladaff cell 8\n",
            "connecting Blad_aff_virt cell 8 to Bladaff cell 9\n",
            "connecting Blad_aff_virt cell 9 to Bladaff cell 0\n",
            "connecting Blad_aff_virt cell 9 to Bladaff cell 1\n",
            "connecting Blad_aff_virt cell 9 to Bladaff cell 2\n",
            "connecting Blad_aff_virt cell 9 to Bladaff cell 3\n",
            "connecting Blad_aff_virt cell 9 to Bladaff cell 4\n",
            "connecting Blad_aff_virt cell 9 to Bladaff cell 5\n",
            "connecting Blad_aff_virt cell 9 to Bladaff cell 6\n",
            "connecting Blad_aff_virt cell 9 to Bladaff cell 7\n",
            "connecting Blad_aff_virt cell 9 to Bladaff cell 8\n",
            "connecting Blad_aff_virt cell 9 to Bladaff cell 9\n",
            "connecting PAG_aff_virt cell 0 to PAGaff cell 0\n",
            "connecting PAG_aff_virt cell 0 to PAGaff cell 1\n",
            "connecting PAG_aff_virt cell 0 to PAGaff cell 2\n",
            "connecting PAG_aff_virt cell 0 to PAGaff cell 3\n",
            "connecting PAG_aff_virt cell 0 to PAGaff cell 4\n",
            "connecting PAG_aff_virt cell 0 to PAGaff cell 5\n",
            "connecting PAG_aff_virt cell 0 to PAGaff cell 6\n",
            "connecting PAG_aff_virt cell 0 to PAGaff cell 7\n",
            "connecting PAG_aff_virt cell 0 to PAGaff cell 8\n",
            "connecting PAG_aff_virt cell 0 to PAGaff cell 9\n",
            "connecting PAG_aff_virt cell 1 to PAGaff cell 0\n",
            "connecting PAG_aff_virt cell 1 to PAGaff cell 1\n",
            "connecting PAG_aff_virt cell 1 to PAGaff cell 2\n",
            "connecting PAG_aff_virt cell 1 to PAGaff cell 3\n",
            "connecting PAG_aff_virt cell 1 to PAGaff cell 4\n",
            "connecting PAG_aff_virt cell 1 to PAGaff cell 5\n",
            "connecting PAG_aff_virt cell 1 to PAGaff cell 6\n",
            "connecting PAG_aff_virt cell 1 to PAGaff cell 7\n",
            "connecting PAG_aff_virt cell 1 to PAGaff cell 8\n",
            "connecting PAG_aff_virt cell 1 to PAGaff cell 9\n",
            "connecting PAG_aff_virt cell 2 to PAGaff cell 0\n",
            "connecting PAG_aff_virt cell 2 to PAGaff cell 1\n",
            "connecting PAG_aff_virt cell 2 to PAGaff cell 2\n",
            "connecting PAG_aff_virt cell 2 to PAGaff cell 3\n",
            "connecting PAG_aff_virt cell 2 to PAGaff cell 4\n",
            "connecting PAG_aff_virt cell 2 to PAGaff cell 5\n",
            "connecting PAG_aff_virt cell 2 to PAGaff cell 6\n",
            "connecting PAG_aff_virt cell 2 to PAGaff cell 7\n",
            "connecting PAG_aff_virt cell 2 to PAGaff cell 8\n",
            "connecting PAG_aff_virt cell 2 to PAGaff cell 9\n",
            "connecting PAG_aff_virt cell 3 to PAGaff cell 0\n",
            "connecting PAG_aff_virt cell 3 to PAGaff cell 1\n",
            "connecting PAG_aff_virt cell 3 to PAGaff cell 2\n",
            "connecting PAG_aff_virt cell 3 to PAGaff cell 3\n",
            "connecting PAG_aff_virt cell 3 to PAGaff cell 4\n",
            "connecting PAG_aff_virt cell 3 to PAGaff cell 5\n",
            "connecting PAG_aff_virt cell 3 to PAGaff cell 6\n",
            "connecting PAG_aff_virt cell 3 to PAGaff cell 7\n",
            "connecting PAG_aff_virt cell 3 to PAGaff cell 8\n",
            "connecting PAG_aff_virt cell 3 to PAGaff cell 9\n",
            "connecting PAG_aff_virt cell 4 to PAGaff cell 0\n",
            "connecting PAG_aff_virt cell 4 to PAGaff cell 1\n",
            "connecting PAG_aff_virt cell 4 to PAGaff cell 2\n",
            "connecting PAG_aff_virt cell 4 to PAGaff cell 3\n",
            "connecting PAG_aff_virt cell 4 to PAGaff cell 4\n",
            "connecting PAG_aff_virt cell 4 to PAGaff cell 5\n",
            "connecting PAG_aff_virt cell 4 to PAGaff cell 6\n",
            "connecting PAG_aff_virt cell 4 to PAGaff cell 7\n",
            "connecting PAG_aff_virt cell 4 to PAGaff cell 8\n",
            "connecting PAG_aff_virt cell 4 to PAGaff cell 9\n",
            "connecting PAG_aff_virt cell 5 to PAGaff cell 0\n",
            "connecting PAG_aff_virt cell 5 to PAGaff cell 1\n",
            "connecting PAG_aff_virt cell 5 to PAGaff cell 2\n",
            "connecting PAG_aff_virt cell 5 to PAGaff cell 3\n",
            "connecting PAG_aff_virt cell 5 to PAGaff cell 4\n",
            "connecting PAG_aff_virt cell 5 to PAGaff cell 5\n",
            "connecting PAG_aff_virt cell 5 to PAGaff cell 6\n",
            "connecting PAG_aff_virt cell 5 to PAGaff cell 7\n",
            "connecting PAG_aff_virt cell 5 to PAGaff cell 8\n",
            "connecting PAG_aff_virt cell 5 to PAGaff cell 9\n",
            "connecting PAG_aff_virt cell 6 to PAGaff cell 0\n",
            "connecting PAG_aff_virt cell 6 to PAGaff cell 1\n",
            "connecting PAG_aff_virt cell 6 to PAGaff cell 2\n",
            "connecting PAG_aff_virt cell 6 to PAGaff cell 3\n",
            "connecting PAG_aff_virt cell 6 to PAGaff cell 4\n",
            "connecting PAG_aff_virt cell 6 to PAGaff cell 5\n",
            "connecting PAG_aff_virt cell 6 to PAGaff cell 6\n",
            "connecting PAG_aff_virt cell 6 to PAGaff cell 7\n",
            "connecting PAG_aff_virt cell 6 to PAGaff cell 8\n",
            "connecting PAG_aff_virt cell 6 to PAGaff cell 9\n",
            "connecting PAG_aff_virt cell 7 to PAGaff cell 0\n",
            "connecting PAG_aff_virt cell 7 to PAGaff cell 1\n",
            "connecting PAG_aff_virt cell 7 to PAGaff cell 2\n",
            "connecting PAG_aff_virt cell 7 to PAGaff cell 3\n",
            "connecting PAG_aff_virt cell 7 to PAGaff cell 4\n",
            "connecting PAG_aff_virt cell 7 to PAGaff cell 5\n",
            "connecting PAG_aff_virt cell 7 to PAGaff cell 6\n",
            "connecting PAG_aff_virt cell 7 to PAGaff cell 7\n",
            "connecting PAG_aff_virt cell 7 to PAGaff cell 8\n",
            "connecting PAG_aff_virt cell 7 to PAGaff cell 9\n",
            "connecting PAG_aff_virt cell 8 to PAGaff cell 0\n",
            "connecting PAG_aff_virt cell 8 to PAGaff cell 1\n",
            "connecting PAG_aff_virt cell 8 to PAGaff cell 2\n",
            "connecting PAG_aff_virt cell 8 to PAGaff cell 3\n",
            "connecting PAG_aff_virt cell 8 to PAGaff cell 4\n",
            "connecting PAG_aff_virt cell 8 to PAGaff cell 5\n",
            "connecting PAG_aff_virt cell 8 to PAGaff cell 6\n",
            "connecting PAG_aff_virt cell 8 to PAGaff cell 7\n",
            "connecting PAG_aff_virt cell 8 to PAGaff cell 8\n",
            "connecting PAG_aff_virt cell 8 to PAGaff cell 9\n",
            "connecting PAG_aff_virt cell 9 to PAGaff cell 0\n",
            "connecting PAG_aff_virt cell 9 to PAGaff cell 1\n",
            "connecting PAG_aff_virt cell 9 to PAGaff cell 2\n",
            "connecting PAG_aff_virt cell 9 to PAGaff cell 3\n",
            "connecting PAG_aff_virt cell 9 to PAGaff cell 4\n"
          ]
        },
        {
          "output_type": "stream",
          "name": "stderr",
          "text": [
            "<ipython-input-4-9f08abc5c5a7>:268: DeprecationWarning: `np.float` is a deprecated alias for the builtin `float`. To silence this warning, use `float` by itself. Doing this will not modify any behavior and is safe. If you specifically wanted the numpy scalar type, use `np.float64` here.\n",
            "Deprecated in NumPy 1.20; for more details and guidance: https://numpy.org/devdocs/release/1.20.0-notes.html#deprecations\n",
            "  dtypes=[np.float, np.int32, np.float])\n",
            "<ipython-input-4-9f08abc5c5a7>:283: DeprecationWarning: `np.float` is a deprecated alias for the builtin `float`. To silence this warning, use `float` by itself. Doing this will not modify any behavior and is safe. If you specifically wanted the numpy scalar type, use `np.float64` here.\n",
            "Deprecated in NumPy 1.20; for more details and guidance: https://numpy.org/devdocs/release/1.20.0-notes.html#deprecations\n",
            "  dtypes=[np.float, np.int32, np.float])\n",
            "<ipython-input-4-9f08abc5c5a7>:313: DeprecationWarning: `np.float` is a deprecated alias for the builtin `float`. To silence this warning, use `float` by itself. Doing this will not modify any behavior and is safe. If you specifically wanted the numpy scalar type, use `np.float64` here.\n",
            "Deprecated in NumPy 1.20; for more details and guidance: https://numpy.org/devdocs/release/1.20.0-notes.html#deprecations\n",
            "  dtypes=[np.float, np.int32, np.float])\n",
            "<ipython-input-4-9f08abc5c5a7>:328: DeprecationWarning: `np.float` is a deprecated alias for the builtin `float`. To silence this warning, use `float` by itself. Doing this will not modify any behavior and is safe. If you specifically wanted the numpy scalar type, use `np.float64` here.\n",
            "Deprecated in NumPy 1.20; for more details and guidance: https://numpy.org/devdocs/release/1.20.0-notes.html#deprecations\n",
            "  dtypes=[np.float, np.int32, np.float])\n",
            "<ipython-input-4-9f08abc5c5a7>:343: DeprecationWarning: `np.float` is a deprecated alias for the builtin `float`. To silence this warning, use `float` by itself. Doing this will not modify any behavior and is safe. If you specifically wanted the numpy scalar type, use `np.float64` here.\n",
            "Deprecated in NumPy 1.20; for more details and guidance: https://numpy.org/devdocs/release/1.20.0-notes.html#deprecations\n",
            "  dtypes=[np.float, np.int32, np.float])\n",
            "<ipython-input-4-9f08abc5c5a7>:449: DeprecationWarning: `np.float` is a deprecated alias for the builtin `float`. To silence this warning, use `float` by itself. Doing this will not modify any behavior and is safe. If you specifically wanted the numpy scalar type, use `np.float64` here.\n",
            "Deprecated in NumPy 1.20; for more details and guidance: https://numpy.org/devdocs/release/1.20.0-notes.html#deprecations\n",
            "  dtypes=[np.float, np.int32, np.float])\n",
            "<ipython-input-4-9f08abc5c5a7>:464: DeprecationWarning: `np.float` is a deprecated alias for the builtin `float`. To silence this warning, use `float` by itself. Doing this will not modify any behavior and is safe. If you specifically wanted the numpy scalar type, use `np.float64` here.\n",
            "Deprecated in NumPy 1.20; for more details and guidance: https://numpy.org/devdocs/release/1.20.0-notes.html#deprecations\n",
            "  dtypes=[np.float, np.int32, np.float])\n",
            "<ipython-input-4-9f08abc5c5a7>:479: DeprecationWarning: `np.float` is a deprecated alias for the builtin `float`. To silence this warning, use `float` by itself. Doing this will not modify any behavior and is safe. If you specifically wanted the numpy scalar type, use `np.float64` here.\n",
            "Deprecated in NumPy 1.20; for more details and guidance: https://numpy.org/devdocs/release/1.20.0-notes.html#deprecations\n",
            "  dtypes=[np.float, np.int32, np.float])\n",
            "<ipython-input-4-9f08abc5c5a7>:524: DeprecationWarning: `np.float` is a deprecated alias for the builtin `float`. To silence this warning, use `float` by itself. Doing this will not modify any behavior and is safe. If you specifically wanted the numpy scalar type, use `np.float64` here.\n",
            "Deprecated in NumPy 1.20; for more details and guidance: https://numpy.org/devdocs/release/1.20.0-notes.html#deprecations\n",
            "  dtypes=[np.float, np.int32, np.float])\n"
          ]
        },
        {
          "output_type": "stream",
          "name": "stdout",
          "text": [
            "connecting PAG_aff_virt cell 9 to PAGaff cell 5\n",
            "connecting PAG_aff_virt cell 9 to PAGaff cell 6\n",
            "connecting PAG_aff_virt cell 9 to PAGaff cell 7\n",
            "connecting PAG_aff_virt cell 9 to PAGaff cell 8\n",
            "connecting PAG_aff_virt cell 9 to PAGaff cell 9\n",
            "Done\n"
          ]
        }
      ]
    },
    {
      "cell_type": "code",
      "source": [
        "import os, sys, logging, faulthandler\n",
        "from bmtk.simulator import bionet\n",
        "from bmtk.simulator.bionet.default_setters.cell_models import loadHOC\n",
        "from bmtk.simulator.bionet.modules.sim_module import SimulatorMod\n",
        "from bmtk.utils.reports.spike_trains import SpikeTrains\n",
        "from bmtk.utils.reports.spike_trains import PoissonSpikeGenerator\n",
        "from bmtk.simulator.bionet.io_tools import io\n",
        "import numpy as np\n",
        "from neuron import h\n",
        "import pandas as pd\n",
        "# from bmtk.analyzer.cell_vars import plot_report\n",
        "from feedback_loop import FeedbackLoop\n",
        "from plotting import plot_figure, plotting_calculator\n",
        "# Import the synaptic depression/facilitation model\n",
        "import synapses\n",
        "\n",
        "import plot_results\n",
        "\n",
        "\n",
        "\"\"\"\n",
        "Basic Logging features, disable faulthandler if you don't want stacktraces printed\n",
        "logging determines the level and file to save logs to (might be worth moving location)\n",
        "\"\"\"\n",
        "faulthandler.enable()\n",
        "logging.basicConfig(filename='error_logs/debug_run.log', level=logging.DEBUG)\n",
        "\n",
        "synapses.load()\n",
        "logging.info('Synapses Loaded')\n",
        "\n",
        "press_thres = 25 #17 # cm H20 #40\n",
        "                 # Lingala, et al. 2016\n",
        "change_thres = 17#10 # cm H20 #10\n",
        "                 # Need biological value for this\n",
        "\n",
        "bionet.pyfunction_cache.add_cell_model(loadHOC, directive='hoc', model_type='biophysical')\n",
        "logging.info('Cell model added')\n",
        "\n",
        "def run(config_file):\n",
        "\n",
        "    conf = bionet.Config.from_json(config_file, validate=True)\n",
        "    conf.build_env()\n",
        "\n",
        "    fbmod = FeedbackLoop()\n",
        "\n",
        "    graph = bionet.BioNetwork.from_config(conf)\n",
        "    sim = bionet.BioSimulator.from_config(conf, network=graph)\n",
        "    sim.add_mod(fbmod)  # Attach the above module to the simulator.\n",
        "    sim.run()\n",
        "\n",
        "    #fbmod.save_aff(conf.output_dir)\n",
        "    plot_results.run(sim=sim,conf=conf)\n",
        "\n",
        "# if __name__ == '__main__':\n",
        "#     if __file__ != sys.argv[-1]:\n",
        "#         run(sys.argv[-1])\n",
        "#     else:\n",
        "#         run('config.json')\n",
        "\n",
        "run(config_file='jsons/simulation_config.json')"
      ],
      "metadata": {
        "colab": {
          "base_uri": "https://localhost:8080/",
          "height": 1000
        },
        "id": "e_3NrK_WWFRx",
        "outputId": "b3ffac47-74bd-41a7-a3e5-5f34f0a804e9"
      },
      "execution_count": 5,
      "outputs": [
        {
          "output_type": "stream",
          "name": "stdout",
          "text": [
            "2023-05-08 02:25:58,302 [INFO] Created log file\n"
          ]
        },
        {
          "output_type": "stream",
          "name": "stderr",
          "text": [
            "INFO:NEURONIOUtils:Created log file\n"
          ]
        },
        {
          "output_type": "stream",
          "name": "stdout",
          "text": [
            "2023-05-08 02:25:58,520 [INFO] Building cells.\n"
          ]
        },
        {
          "output_type": "stream",
          "name": "stderr",
          "text": [
            "INFO:NEURONIOUtils:Building cells.\n"
          ]
        },
        {
          "output_type": "stream",
          "name": "stdout",
          "text": [
            "2023-05-08 02:25:58,596 [INFO] Building recurrent connections\n"
          ]
        },
        {
          "output_type": "stream",
          "name": "stderr",
          "text": [
            "INFO:NEURONIOUtils:Building recurrent connections\n"
          ]
        },
        {
          "output_type": "stream",
          "name": "stdout",
          "text": [
            "2023-05-08 02:25:58,827 [INFO] Building virtual cell stimulations for Blad_spikes\n"
          ]
        },
        {
          "output_type": "stream",
          "name": "stderr",
          "text": [
            "INFO:NEURONIOUtils:Building virtual cell stimulations for Blad_spikes\n"
          ]
        },
        {
          "output_type": "stream",
          "name": "stdout",
          "text": [
            "2023-05-08 02:25:58,888 [INFO] Building virtual cell stimulations for EUS_spikes\n"
          ]
        },
        {
          "output_type": "stream",
          "name": "stderr",
          "text": [
            "INFO:NEURONIOUtils:Building virtual cell stimulations for EUS_spikes\n"
          ]
        },
        {
          "output_type": "stream",
          "name": "stdout",
          "text": [
            "2023-05-08 02:25:58,969 [INFO] Building virtual cell stimulations for PAG_spikes\n"
          ]
        },
        {
          "output_type": "stream",
          "name": "stderr",
          "text": [
            "INFO:NEURONIOUtils:Building virtual cell stimulations for PAG_spikes\n"
          ]
        },
        {
          "output_type": "stream",
          "name": "stdout",
          "text": [
            "2023-05-08 02:25:59,070 [INFO] Running simulation for 60500.000 ms with the time step 0.200 ms\n"
          ]
        },
        {
          "output_type": "stream",
          "name": "stderr",
          "text": [
            "INFO:NEURONIOUtils:Running simulation for 60500.000 ms with the time step 0.200 ms\n"
          ]
        },
        {
          "output_type": "stream",
          "name": "stdout",
          "text": [
            "2023-05-08 02:25:59,074 [INFO] Starting timestep: 0 at t_sim: 0.000 ms\n"
          ]
        },
        {
          "output_type": "stream",
          "name": "stderr",
          "text": [
            "INFO:NEURONIOUtils:Starting timestep: 0 at t_sim: 0.000 ms\n"
          ]
        },
        {
          "output_type": "stream",
          "name": "stdout",
          "text": [
            "2023-05-08 02:25:59,081 [INFO] Block save every 5000 steps\n"
          ]
        },
        {
          "output_type": "stream",
          "name": "stderr",
          "text": [
            "INFO:NEURONIOUtils:Block save every 5000 steps\n"
          ]
        },
        {
          "output_type": "stream",
          "name": "stdout",
          "text": [
            "2023-05-08 02:26:00,593 [INFO]     step:5000 t_sim:1000.00 ms\n"
          ]
        },
        {
          "output_type": "stream",
          "name": "stderr",
          "text": [
            "INFO:NEURONIOUtils:    step:5000 t_sim:1000.00 ms\n"
          ]
        },
        {
          "output_type": "stream",
          "name": "stdout",
          "text": [
            "2023-05-08 02:26:00,605 [INFO] Timestep 0.0 to 1000.0 ms\n"
          ]
        },
        {
          "output_type": "stream",
          "name": "stderr",
          "text": [
            "INFO:NEURONIOUtils:Timestep 0.0 to 1000.0 ms\n"
          ]
        },
        {
          "output_type": "stream",
          "name": "stdout",
          "text": [
            "2023-05-08 02:26:00,610 [INFO] PGN node_id\t  Hz\n"
          ]
        },
        {
          "output_type": "stream",
          "name": "stderr",
          "text": [
            "INFO:NEURONIOUtils:PGN node_id\t  Hz\n"
          ]
        },
        {
          "output_type": "stream",
          "name": "stdout",
          "text": [
            "2023-05-08 02:26:00,616 [INFO] 70\t\t3.0\n"
          ]
        },
        {
          "output_type": "stream",
          "name": "stderr",
          "text": [
            "INFO:NEURONIOUtils:70\t\t3.0\n"
          ]
        },
        {
          "output_type": "stream",
          "name": "stdout",
          "text": [
            "2023-05-08 02:26:00,619 [INFO] 71\t\t3.0\n"
          ]
        },
        {
          "output_type": "stream",
          "name": "stderr",
          "text": [
            "INFO:NEURONIOUtils:71\t\t3.0\n"
          ]
        },
        {
          "output_type": "stream",
          "name": "stdout",
          "text": [
            "2023-05-08 02:26:00,622 [INFO] 72\t\t3.0\n"
          ]
        },
        {
          "output_type": "stream",
          "name": "stderr",
          "text": [
            "INFO:NEURONIOUtils:72\t\t3.0\n"
          ]
        },
        {
          "output_type": "stream",
          "name": "stdout",
          "text": [
            "2023-05-08 02:26:00,625 [INFO] 73\t\t3.0\n"
          ]
        },
        {
          "output_type": "stream",
          "name": "stderr",
          "text": [
            "INFO:NEURONIOUtils:73\t\t3.0\n"
          ]
        },
        {
          "output_type": "stream",
          "name": "stdout",
          "text": [
            "2023-05-08 02:26:00,628 [INFO] 74\t\t3.0\n"
          ]
        },
        {
          "output_type": "stream",
          "name": "stderr",
          "text": [
            "INFO:NEURONIOUtils:74\t\t3.0\n"
          ]
        },
        {
          "output_type": "stream",
          "name": "stdout",
          "text": [
            "2023-05-08 02:26:00,633 [INFO] 75\t\t3.0\n"
          ]
        },
        {
          "output_type": "stream",
          "name": "stderr",
          "text": [
            "INFO:NEURONIOUtils:75\t\t3.0\n"
          ]
        },
        {
          "output_type": "stream",
          "name": "stdout",
          "text": [
            "2023-05-08 02:26:00,636 [INFO] 76\t\t3.0\n"
          ]
        },
        {
          "output_type": "stream",
          "name": "stderr",
          "text": [
            "INFO:NEURONIOUtils:76\t\t3.0\n"
          ]
        },
        {
          "output_type": "stream",
          "name": "stdout",
          "text": [
            "2023-05-08 02:26:00,639 [INFO] 77\t\t3.0\n"
          ]
        },
        {
          "output_type": "stream",
          "name": "stderr",
          "text": [
            "INFO:NEURONIOUtils:77\t\t3.0\n"
          ]
        },
        {
          "output_type": "stream",
          "name": "stdout",
          "text": [
            "2023-05-08 02:26:00,642 [INFO] 78\t\t3.0\n"
          ]
        },
        {
          "output_type": "stream",
          "name": "stderr",
          "text": [
            "INFO:NEURONIOUtils:78\t\t3.0\n"
          ]
        },
        {
          "output_type": "stream",
          "name": "stdout",
          "text": [
            "2023-05-08 02:26:00,645 [INFO] 79\t\t3.0\n"
          ]
        },
        {
          "output_type": "stream",
          "name": "stderr",
          "text": [
            "INFO:NEURONIOUtils:79\t\t3.0\n"
          ]
        },
        {
          "output_type": "stream",
          "name": "stdout",
          "text": [
            "2023-05-08 02:26:00,648 [INFO] PGN firing rate avg: 3.0 Hz\n"
          ]
        },
        {
          "output_type": "stream",
          "name": "stderr",
          "text": [
            "INFO:NEURONIOUtils:PGN firing rate avg: 3.0 Hz\n"
          ]
        },
        {
          "output_type": "stream",
          "name": "stdout",
          "text": [
            "2023-05-08 02:26:00,651 [INFO] Grill PGN fr = 4.657 Hz\n"
          ]
        },
        {
          "output_type": "stream",
          "name": "stderr",
          "text": [
            "INFO:NEURONIOUtils:Grill PGN fr = 4.657 Hz\n"
          ]
        },
        {
          "output_type": "stream",
          "name": "stdout",
          "text": [
            "2023-05-08 02:26:00,654 [INFO] IMG node_gid\t  Hz\n"
          ]
        },
        {
          "output_type": "stream",
          "name": "stderr",
          "text": [
            "INFO:NEURONIOUtils:IMG node_gid\t  Hz\n"
          ]
        },
        {
          "output_type": "stream",
          "name": "stdout",
          "text": [
            "2023-05-08 02:26:00,657 [INFO] IMG firing rate avg: 3.0 Hz\n"
          ]
        },
        {
          "output_type": "stream",
          "name": "stderr",
          "text": [
            "INFO:NEURONIOUtils:IMG firing rate avg: 3.0 Hz\n"
          ]
        },
        {
          "output_type": "stream",
          "name": "stdout",
          "text": [
            "2023-05-08 02:26:00,674 [INFO] Volume = 0.0000 ml\n"
          ]
        },
        {
          "output_type": "stream",
          "name": "stderr",
          "text": [
            "/usr/local/lib/python3.10/dist-packages/bmtk/utils/reports/spike_trains/spike_trains.py:183: RuntimeWarning: divide by zero encountered in double_scalars\n",
            "  interval = -np.log(1.0 - np.random.uniform()) / fr\n",
            "INFO:NEURONIOUtils:Volume = 0.0000 ml\n"
          ]
        },
        {
          "output_type": "stream",
          "name": "stdout",
          "text": [
            "2023-05-08 02:26:00,677 [INFO] Pressure = 0.00 mmHg\n"
          ]
        },
        {
          "output_type": "stream",
          "name": "stderr",
          "text": [
            "INFO:NEURONIOUtils:Pressure = 0.00 mmHg\n"
          ]
        },
        {
          "output_type": "stream",
          "name": "stdout",
          "text": [
            "2023-05-08 02:26:00,680 [INFO] Calculated bladder afferent firing rate for the next time step = 0.00 Hz \n",
            " \n",
            "\n"
          ]
        },
        {
          "output_type": "stream",
          "name": "stderr",
          "text": [
            "INFO:NEURONIOUtils:Calculated bladder afferent firing rate for the next time step = 0.00 Hz \n",
            " \n",
            "\n"
          ]
        },
        {
          "output_type": "stream",
          "name": "stdout",
          "text": [
            "2023-05-08 02:26:02,109 [INFO]     step:10000 t_sim:2000.00 ms\n"
          ]
        },
        {
          "output_type": "stream",
          "name": "stderr",
          "text": [
            "INFO:NEURONIOUtils:    step:10000 t_sim:2000.00 ms\n"
          ]
        },
        {
          "output_type": "stream",
          "name": "stdout",
          "text": [
            "2023-05-08 02:26:02,121 [INFO] Timestep 1000.0 to 2000.0 ms\n"
          ]
        },
        {
          "output_type": "stream",
          "name": "stderr",
          "text": [
            "INFO:NEURONIOUtils:Timestep 1000.0 to 2000.0 ms\n"
          ]
        },
        {
          "output_type": "stream",
          "name": "stdout",
          "text": [
            "2023-05-08 02:26:02,125 [INFO] PGN node_id\t  Hz\n"
          ]
        },
        {
          "output_type": "stream",
          "name": "stderr",
          "text": [
            "INFO:NEURONIOUtils:PGN node_id\t  Hz\n"
          ]
        },
        {
          "output_type": "stream",
          "name": "stdout",
          "text": [
            "2023-05-08 02:26:02,131 [INFO] 70\t\t2.0\n"
          ]
        },
        {
          "output_type": "stream",
          "name": "stderr",
          "text": [
            "INFO:NEURONIOUtils:70\t\t2.0\n"
          ]
        },
        {
          "output_type": "stream",
          "name": "stdout",
          "text": [
            "2023-05-08 02:26:02,134 [INFO] 71\t\t2.0\n"
          ]
        },
        {
          "output_type": "stream",
          "name": "stderr",
          "text": [
            "INFO:NEURONIOUtils:71\t\t2.0\n"
          ]
        },
        {
          "output_type": "stream",
          "name": "stdout",
          "text": [
            "2023-05-08 02:26:02,137 [INFO] 72\t\t2.0\n"
          ]
        },
        {
          "output_type": "stream",
          "name": "stderr",
          "text": [
            "INFO:NEURONIOUtils:72\t\t2.0\n"
          ]
        },
        {
          "output_type": "stream",
          "name": "stdout",
          "text": [
            "2023-05-08 02:26:02,140 [INFO] 73\t\t2.0\n"
          ]
        },
        {
          "output_type": "stream",
          "name": "stderr",
          "text": [
            "INFO:NEURONIOUtils:73\t\t2.0\n"
          ]
        },
        {
          "output_type": "stream",
          "name": "stdout",
          "text": [
            "2023-05-08 02:26:02,143 [INFO] 74\t\t2.0\n"
          ]
        },
        {
          "output_type": "stream",
          "name": "stderr",
          "text": [
            "INFO:NEURONIOUtils:74\t\t2.0\n"
          ]
        },
        {
          "output_type": "stream",
          "name": "stdout",
          "text": [
            "2023-05-08 02:26:02,146 [INFO] 75\t\t2.0\n"
          ]
        },
        {
          "output_type": "stream",
          "name": "stderr",
          "text": [
            "INFO:NEURONIOUtils:75\t\t2.0\n"
          ]
        },
        {
          "output_type": "stream",
          "name": "stdout",
          "text": [
            "2023-05-08 02:26:02,149 [INFO] 76\t\t2.0\n"
          ]
        },
        {
          "output_type": "stream",
          "name": "stderr",
          "text": [
            "INFO:NEURONIOUtils:76\t\t2.0\n"
          ]
        },
        {
          "output_type": "stream",
          "name": "stdout",
          "text": [
            "2023-05-08 02:26:02,153 [INFO] 77\t\t2.0\n"
          ]
        },
        {
          "output_type": "stream",
          "name": "stderr",
          "text": [
            "INFO:NEURONIOUtils:77\t\t2.0\n"
          ]
        },
        {
          "output_type": "stream",
          "name": "stdout",
          "text": [
            "2023-05-08 02:26:02,156 [INFO] 78\t\t2.0\n"
          ]
        },
        {
          "output_type": "stream",
          "name": "stderr",
          "text": [
            "INFO:NEURONIOUtils:78\t\t2.0\n"
          ]
        },
        {
          "output_type": "stream",
          "name": "stdout",
          "text": [
            "2023-05-08 02:26:02,159 [INFO] 79\t\t2.0\n"
          ]
        },
        {
          "output_type": "stream",
          "name": "stderr",
          "text": [
            "INFO:NEURONIOUtils:79\t\t2.0\n"
          ]
        },
        {
          "output_type": "stream",
          "name": "stdout",
          "text": [
            "2023-05-08 02:26:02,162 [INFO] PGN firing rate avg: 2.0 Hz\n"
          ]
        },
        {
          "output_type": "stream",
          "name": "stderr",
          "text": [
            "INFO:NEURONIOUtils:PGN firing rate avg: 2.0 Hz\n"
          ]
        },
        {
          "output_type": "stream",
          "name": "stdout",
          "text": [
            "2023-05-08 02:26:02,165 [INFO] Grill PGN fr = 2.984 Hz\n"
          ]
        },
        {
          "output_type": "stream",
          "name": "stderr",
          "text": [
            "INFO:NEURONIOUtils:Grill PGN fr = 2.984 Hz\n"
          ]
        },
        {
          "output_type": "stream",
          "name": "stdout",
          "text": [
            "2023-05-08 02:26:02,168 [INFO] IMG node_gid\t  Hz\n"
          ]
        },
        {
          "output_type": "stream",
          "name": "stderr",
          "text": [
            "INFO:NEURONIOUtils:IMG node_gid\t  Hz\n"
          ]
        },
        {
          "output_type": "stream",
          "name": "stdout",
          "text": [
            "2023-05-08 02:26:02,171 [INFO] IMG firing rate avg: 2.0 Hz\n"
          ]
        },
        {
          "output_type": "stream",
          "name": "stderr",
          "text": [
            "INFO:NEURONIOUtils:IMG firing rate avg: 2.0 Hz\n"
          ]
        },
        {
          "output_type": "stream",
          "name": "stdout",
          "text": [
            "2023-05-08 02:26:02,184 [INFO] Volume = 0.0292 ml\n"
          ]
        },
        {
          "output_type": "stream",
          "name": "stderr",
          "text": [
            "/usr/local/lib/python3.10/dist-packages/bmtk/utils/reports/spike_trains/spike_trains.py:183: RuntimeWarning: divide by zero encountered in double_scalars\n",
            "  interval = -np.log(1.0 - np.random.uniform()) / fr\n",
            "INFO:NEURONIOUtils:Volume = 0.0292 ml\n"
          ]
        },
        {
          "output_type": "stream",
          "name": "stdout",
          "text": [
            "2023-05-08 02:26:02,190 [INFO] Pressure = 0.00 mmHg\n"
          ]
        },
        {
          "output_type": "stream",
          "name": "stderr",
          "text": [
            "INFO:NEURONIOUtils:Pressure = 0.00 mmHg\n"
          ]
        },
        {
          "output_type": "stream",
          "name": "stdout",
          "text": [
            "2023-05-08 02:26:02,193 [INFO] Calculated bladder afferent firing rate for the next time step = 0.00 Hz \n",
            " \n",
            "\n"
          ]
        },
        {
          "output_type": "stream",
          "name": "stderr",
          "text": [
            "INFO:NEURONIOUtils:Calculated bladder afferent firing rate for the next time step = 0.00 Hz \n",
            " \n",
            "\n"
          ]
        },
        {
          "output_type": "stream",
          "name": "stdout",
          "text": [
            "2023-05-08 02:26:03,861 [INFO]     step:15000 t_sim:3000.00 ms\n"
          ]
        },
        {
          "output_type": "stream",
          "name": "stderr",
          "text": [
            "INFO:NEURONIOUtils:    step:15000 t_sim:3000.00 ms\n"
          ]
        },
        {
          "output_type": "stream",
          "name": "stdout",
          "text": [
            "2023-05-08 02:26:03,876 [INFO] Timestep 2000.0 to 3000.0 ms\n"
          ]
        },
        {
          "output_type": "stream",
          "name": "stderr",
          "text": [
            "INFO:NEURONIOUtils:Timestep 2000.0 to 3000.0 ms\n"
          ]
        },
        {
          "output_type": "stream",
          "name": "stdout",
          "text": [
            "2023-05-08 02:26:03,884 [INFO] PGN node_id\t  Hz\n"
          ]
        },
        {
          "output_type": "stream",
          "name": "stderr",
          "text": [
            "INFO:NEURONIOUtils:PGN node_id\t  Hz\n"
          ]
        },
        {
          "output_type": "stream",
          "name": "stdout",
          "text": [
            "2023-05-08 02:26:03,886 [INFO] 70\t\t3.0\n"
          ]
        },
        {
          "output_type": "stream",
          "name": "stderr",
          "text": [
            "INFO:NEURONIOUtils:70\t\t3.0\n"
          ]
        },
        {
          "output_type": "stream",
          "name": "stdout",
          "text": [
            "2023-05-08 02:26:03,889 [INFO] 71\t\t3.0\n"
          ]
        },
        {
          "output_type": "stream",
          "name": "stderr",
          "text": [
            "INFO:NEURONIOUtils:71\t\t3.0\n"
          ]
        },
        {
          "output_type": "stream",
          "name": "stdout",
          "text": [
            "2023-05-08 02:26:03,891 [INFO] 72\t\t3.0\n"
          ]
        },
        {
          "output_type": "stream",
          "name": "stderr",
          "text": [
            "INFO:NEURONIOUtils:72\t\t3.0\n"
          ]
        },
        {
          "output_type": "stream",
          "name": "stdout",
          "text": [
            "2023-05-08 02:26:03,894 [INFO] 73\t\t3.0\n"
          ]
        },
        {
          "output_type": "stream",
          "name": "stderr",
          "text": [
            "INFO:NEURONIOUtils:73\t\t3.0\n"
          ]
        },
        {
          "output_type": "stream",
          "name": "stdout",
          "text": [
            "2023-05-08 02:26:03,896 [INFO] 74\t\t3.0\n"
          ]
        },
        {
          "output_type": "stream",
          "name": "stderr",
          "text": [
            "INFO:NEURONIOUtils:74\t\t3.0\n"
          ]
        },
        {
          "output_type": "stream",
          "name": "stdout",
          "text": [
            "2023-05-08 02:26:03,899 [INFO] 75\t\t3.0\n"
          ]
        },
        {
          "output_type": "stream",
          "name": "stderr",
          "text": [
            "INFO:NEURONIOUtils:75\t\t3.0\n"
          ]
        },
        {
          "output_type": "stream",
          "name": "stdout",
          "text": [
            "2023-05-08 02:26:03,901 [INFO] 76\t\t3.0\n"
          ]
        },
        {
          "output_type": "stream",
          "name": "stderr",
          "text": [
            "INFO:NEURONIOUtils:76\t\t3.0\n"
          ]
        },
        {
          "output_type": "stream",
          "name": "stdout",
          "text": [
            "2023-05-08 02:26:03,903 [INFO] 77\t\t3.0\n"
          ]
        },
        {
          "output_type": "stream",
          "name": "stderr",
          "text": [
            "INFO:NEURONIOUtils:77\t\t3.0\n"
          ]
        },
        {
          "output_type": "stream",
          "name": "stdout",
          "text": [
            "2023-05-08 02:26:03,911 [INFO] 78\t\t3.0\n"
          ]
        },
        {
          "output_type": "stream",
          "name": "stderr",
          "text": [
            "INFO:NEURONIOUtils:78\t\t3.0\n"
          ]
        },
        {
          "output_type": "stream",
          "name": "stdout",
          "text": [
            "2023-05-08 02:26:03,915 [INFO] 79\t\t3.0\n"
          ]
        },
        {
          "output_type": "stream",
          "name": "stderr",
          "text": [
            "INFO:NEURONIOUtils:79\t\t3.0\n"
          ]
        },
        {
          "output_type": "stream",
          "name": "stdout",
          "text": [
            "2023-05-08 02:26:03,917 [INFO] PGN firing rate avg: 3.0 Hz\n"
          ]
        },
        {
          "output_type": "stream",
          "name": "stderr",
          "text": [
            "INFO:NEURONIOUtils:PGN firing rate avg: 3.0 Hz\n"
          ]
        },
        {
          "output_type": "stream",
          "name": "stdout",
          "text": [
            "2023-05-08 02:26:03,922 [INFO] Grill PGN fr = 4.657 Hz\n"
          ]
        },
        {
          "output_type": "stream",
          "name": "stderr",
          "text": [
            "INFO:NEURONIOUtils:Grill PGN fr = 4.657 Hz\n"
          ]
        },
        {
          "output_type": "stream",
          "name": "stdout",
          "text": [
            "2023-05-08 02:26:03,924 [INFO] IMG node_gid\t  Hz\n"
          ]
        },
        {
          "output_type": "stream",
          "name": "stderr",
          "text": [
            "INFO:NEURONIOUtils:IMG node_gid\t  Hz\n"
          ]
        },
        {
          "output_type": "stream",
          "name": "stdout",
          "text": [
            "2023-05-08 02:26:03,928 [INFO] IMG firing rate avg: 3.0 Hz\n"
          ]
        },
        {
          "output_type": "stream",
          "name": "stderr",
          "text": [
            "INFO:NEURONIOUtils:IMG firing rate avg: 3.0 Hz\n"
          ]
        },
        {
          "output_type": "stream",
          "name": "stdout",
          "text": [
            "2023-05-08 02:26:03,938 [INFO] Volume = 0.0583 ml\n"
          ]
        },
        {
          "output_type": "stream",
          "name": "stderr",
          "text": [
            "/usr/local/lib/python3.10/dist-packages/bmtk/utils/reports/spike_trains/spike_trains.py:183: RuntimeWarning: divide by zero encountered in double_scalars\n",
            "  interval = -np.log(1.0 - np.random.uniform()) / fr\n",
            "INFO:NEURONIOUtils:Volume = 0.0583 ml\n"
          ]
        },
        {
          "output_type": "stream",
          "name": "stdout",
          "text": [
            "2023-05-08 02:26:03,942 [INFO] Pressure = 3.43 mmHg\n"
          ]
        },
        {
          "output_type": "stream",
          "name": "stderr",
          "text": [
            "INFO:NEURONIOUtils:Pressure = 3.43 mmHg\n"
          ]
        },
        {
          "output_type": "stream",
          "name": "stdout",
          "text": [
            "2023-05-08 02:26:03,945 [INFO] Calculated bladder afferent firing rate for the next time step = 0.00 Hz \n",
            " \n",
            "\n"
          ]
        },
        {
          "output_type": "stream",
          "name": "stderr",
          "text": [
            "INFO:NEURONIOUtils:Calculated bladder afferent firing rate for the next time step = 0.00 Hz \n",
            " \n",
            "\n"
          ]
        },
        {
          "output_type": "stream",
          "name": "stdout",
          "text": [
            "2023-05-08 02:26:05,498 [INFO]     step:20000 t_sim:4000.00 ms\n"
          ]
        },
        {
          "output_type": "stream",
          "name": "stderr",
          "text": [
            "INFO:NEURONIOUtils:    step:20000 t_sim:4000.00 ms\n"
          ]
        },
        {
          "output_type": "stream",
          "name": "stdout",
          "text": [
            "2023-05-08 02:26:05,512 [INFO] Timestep 3000.0 to 4000.0 ms\n"
          ]
        },
        {
          "output_type": "stream",
          "name": "stderr",
          "text": [
            "INFO:NEURONIOUtils:Timestep 3000.0 to 4000.0 ms\n"
          ]
        },
        {
          "output_type": "stream",
          "name": "stdout",
          "text": [
            "2023-05-08 02:26:05,516 [INFO] PGN node_id\t  Hz\n"
          ]
        },
        {
          "output_type": "stream",
          "name": "stderr",
          "text": [
            "INFO:NEURONIOUtils:PGN node_id\t  Hz\n"
          ]
        },
        {
          "output_type": "stream",
          "name": "stdout",
          "text": [
            "2023-05-08 02:26:05,520 [INFO] 70\t\t4.0\n"
          ]
        },
        {
          "output_type": "stream",
          "name": "stderr",
          "text": [
            "INFO:NEURONIOUtils:70\t\t4.0\n"
          ]
        },
        {
          "output_type": "stream",
          "name": "stdout",
          "text": [
            "2023-05-08 02:26:05,523 [INFO] 71\t\t4.0\n"
          ]
        },
        {
          "output_type": "stream",
          "name": "stderr",
          "text": [
            "INFO:NEURONIOUtils:71\t\t4.0\n"
          ]
        },
        {
          "output_type": "stream",
          "name": "stdout",
          "text": [
            "2023-05-08 02:26:05,526 [INFO] 72\t\t4.0\n"
          ]
        },
        {
          "output_type": "stream",
          "name": "stderr",
          "text": [
            "INFO:NEURONIOUtils:72\t\t4.0\n"
          ]
        },
        {
          "output_type": "stream",
          "name": "stdout",
          "text": [
            "2023-05-08 02:26:05,528 [INFO] 73\t\t4.0\n"
          ]
        },
        {
          "output_type": "stream",
          "name": "stderr",
          "text": [
            "INFO:NEURONIOUtils:73\t\t4.0\n"
          ]
        },
        {
          "output_type": "stream",
          "name": "stdout",
          "text": [
            "2023-05-08 02:26:05,530 [INFO] 74\t\t4.0\n"
          ]
        },
        {
          "output_type": "stream",
          "name": "stderr",
          "text": [
            "INFO:NEURONIOUtils:74\t\t4.0\n"
          ]
        },
        {
          "output_type": "stream",
          "name": "stdout",
          "text": [
            "2023-05-08 02:26:05,532 [INFO] 75\t\t4.0\n"
          ]
        },
        {
          "output_type": "stream",
          "name": "stderr",
          "text": [
            "INFO:NEURONIOUtils:75\t\t4.0\n"
          ]
        },
        {
          "output_type": "stream",
          "name": "stdout",
          "text": [
            "2023-05-08 02:26:05,535 [INFO] 76\t\t4.0\n"
          ]
        },
        {
          "output_type": "stream",
          "name": "stderr",
          "text": [
            "INFO:NEURONIOUtils:76\t\t4.0\n"
          ]
        },
        {
          "output_type": "stream",
          "name": "stdout",
          "text": [
            "2023-05-08 02:26:05,537 [INFO] 77\t\t4.0\n"
          ]
        },
        {
          "output_type": "stream",
          "name": "stderr",
          "text": [
            "INFO:NEURONIOUtils:77\t\t4.0\n"
          ]
        },
        {
          "output_type": "stream",
          "name": "stdout",
          "text": [
            "2023-05-08 02:26:05,539 [INFO] 78\t\t4.0\n"
          ]
        },
        {
          "output_type": "stream",
          "name": "stderr",
          "text": [
            "INFO:NEURONIOUtils:78\t\t4.0\n"
          ]
        },
        {
          "output_type": "stream",
          "name": "stdout",
          "text": [
            "2023-05-08 02:26:05,542 [INFO] 79\t\t4.0\n"
          ]
        },
        {
          "output_type": "stream",
          "name": "stderr",
          "text": [
            "INFO:NEURONIOUtils:79\t\t4.0\n"
          ]
        },
        {
          "output_type": "stream",
          "name": "stdout",
          "text": [
            "2023-05-08 02:26:05,544 [INFO] PGN firing rate avg: 4.0 Hz\n"
          ]
        },
        {
          "output_type": "stream",
          "name": "stderr",
          "text": [
            "INFO:NEURONIOUtils:PGN firing rate avg: 4.0 Hz\n"
          ]
        },
        {
          "output_type": "stream",
          "name": "stdout",
          "text": [
            "2023-05-08 02:26:05,546 [INFO] Grill PGN fr = 6.3 Hz\n"
          ]
        },
        {
          "output_type": "stream",
          "name": "stderr",
          "text": [
            "INFO:NEURONIOUtils:Grill PGN fr = 6.3 Hz\n"
          ]
        },
        {
          "output_type": "stream",
          "name": "stdout",
          "text": [
            "2023-05-08 02:26:05,548 [INFO] IMG node_gid\t  Hz\n"
          ]
        },
        {
          "output_type": "stream",
          "name": "stderr",
          "text": [
            "INFO:NEURONIOUtils:IMG node_gid\t  Hz\n"
          ]
        },
        {
          "output_type": "stream",
          "name": "stdout",
          "text": [
            "2023-05-08 02:26:05,550 [INFO] IMG firing rate avg: 4.0 Hz\n"
          ]
        },
        {
          "output_type": "stream",
          "name": "stderr",
          "text": [
            "INFO:NEURONIOUtils:IMG firing rate avg: 4.0 Hz\n"
          ]
        },
        {
          "output_type": "stream",
          "name": "stdout",
          "text": [
            "2023-05-08 02:26:05,558 [INFO] Volume = 0.0875 ml\n"
          ]
        },
        {
          "output_type": "stream",
          "name": "stderr",
          "text": [
            "/usr/local/lib/python3.10/dist-packages/bmtk/utils/reports/spike_trains/spike_trains.py:183: RuntimeWarning: divide by zero encountered in double_scalars\n",
            "  interval = -np.log(1.0 - np.random.uniform()) / fr\n",
            "INFO:NEURONIOUtils:Volume = 0.0875 ml\n"
          ]
        },
        {
          "output_type": "stream",
          "name": "stdout",
          "text": [
            "2023-05-08 02:26:05,561 [INFO] Pressure = 4.63 mmHg\n"
          ]
        },
        {
          "output_type": "stream",
          "name": "stderr",
          "text": [
            "INFO:NEURONIOUtils:Pressure = 4.63 mmHg\n"
          ]
        },
        {
          "output_type": "stream",
          "name": "stdout",
          "text": [
            "2023-05-08 02:26:05,563 [INFO] Calculated bladder afferent firing rate for the next time step = 0.00 Hz \n",
            " \n",
            "\n"
          ]
        },
        {
          "output_type": "stream",
          "name": "stderr",
          "text": [
            "INFO:NEURONIOUtils:Calculated bladder afferent firing rate for the next time step = 0.00 Hz \n",
            " \n",
            "\n"
          ]
        },
        {
          "output_type": "stream",
          "name": "stdout",
          "text": [
            "2023-05-08 02:26:07,090 [INFO]     step:25000 t_sim:5000.00 ms\n"
          ]
        },
        {
          "output_type": "stream",
          "name": "stderr",
          "text": [
            "INFO:NEURONIOUtils:    step:25000 t_sim:5000.00 ms\n"
          ]
        },
        {
          "output_type": "stream",
          "name": "stdout",
          "text": [
            "2023-05-08 02:26:07,104 [INFO] Timestep 4000.0 to 5000.0 ms\n"
          ]
        },
        {
          "output_type": "stream",
          "name": "stderr",
          "text": [
            "INFO:NEURONIOUtils:Timestep 4000.0 to 5000.0 ms\n"
          ]
        },
        {
          "output_type": "stream",
          "name": "stdout",
          "text": [
            "2023-05-08 02:26:07,112 [INFO] PGN node_id\t  Hz\n"
          ]
        },
        {
          "output_type": "stream",
          "name": "stderr",
          "text": [
            "INFO:NEURONIOUtils:PGN node_id\t  Hz\n"
          ]
        },
        {
          "output_type": "stream",
          "name": "stdout",
          "text": [
            "2023-05-08 02:26:07,116 [INFO] 70\t\t4.0\n"
          ]
        },
        {
          "output_type": "stream",
          "name": "stderr",
          "text": [
            "INFO:NEURONIOUtils:70\t\t4.0\n"
          ]
        },
        {
          "output_type": "stream",
          "name": "stdout",
          "text": [
            "2023-05-08 02:26:07,119 [INFO] 71\t\t4.0\n"
          ]
        },
        {
          "output_type": "stream",
          "name": "stderr",
          "text": [
            "INFO:NEURONIOUtils:71\t\t4.0\n"
          ]
        },
        {
          "output_type": "stream",
          "name": "stdout",
          "text": [
            "2023-05-08 02:26:07,121 [INFO] 72\t\t4.0\n"
          ]
        },
        {
          "output_type": "stream",
          "name": "stderr",
          "text": [
            "INFO:NEURONIOUtils:72\t\t4.0\n"
          ]
        },
        {
          "output_type": "stream",
          "name": "stdout",
          "text": [
            "2023-05-08 02:26:07,123 [INFO] 73\t\t4.0\n"
          ]
        },
        {
          "output_type": "stream",
          "name": "stderr",
          "text": [
            "INFO:NEURONIOUtils:73\t\t4.0\n"
          ]
        },
        {
          "output_type": "stream",
          "name": "stdout",
          "text": [
            "2023-05-08 02:26:07,125 [INFO] 74\t\t4.0\n"
          ]
        },
        {
          "output_type": "stream",
          "name": "stderr",
          "text": [
            "INFO:NEURONIOUtils:74\t\t4.0\n"
          ]
        },
        {
          "output_type": "stream",
          "name": "stdout",
          "text": [
            "2023-05-08 02:26:07,127 [INFO] 75\t\t4.0\n"
          ]
        },
        {
          "output_type": "stream",
          "name": "stderr",
          "text": [
            "INFO:NEURONIOUtils:75\t\t4.0\n"
          ]
        },
        {
          "output_type": "stream",
          "name": "stdout",
          "text": [
            "2023-05-08 02:26:07,129 [INFO] 76\t\t4.0\n"
          ]
        },
        {
          "output_type": "stream",
          "name": "stderr",
          "text": [
            "INFO:NEURONIOUtils:76\t\t4.0\n"
          ]
        },
        {
          "output_type": "stream",
          "name": "stdout",
          "text": [
            "2023-05-08 02:26:07,131 [INFO] 77\t\t4.0\n"
          ]
        },
        {
          "output_type": "stream",
          "name": "stderr",
          "text": [
            "INFO:NEURONIOUtils:77\t\t4.0\n"
          ]
        },
        {
          "output_type": "stream",
          "name": "stdout",
          "text": [
            "2023-05-08 02:26:07,133 [INFO] 78\t\t4.0\n"
          ]
        },
        {
          "output_type": "stream",
          "name": "stderr",
          "text": [
            "INFO:NEURONIOUtils:78\t\t4.0\n"
          ]
        },
        {
          "output_type": "stream",
          "name": "stdout",
          "text": [
            "2023-05-08 02:26:07,135 [INFO] 79\t\t4.0\n"
          ]
        },
        {
          "output_type": "stream",
          "name": "stderr",
          "text": [
            "INFO:NEURONIOUtils:79\t\t4.0\n"
          ]
        },
        {
          "output_type": "stream",
          "name": "stdout",
          "text": [
            "2023-05-08 02:26:07,137 [INFO] PGN firing rate avg: 4.0 Hz\n"
          ]
        },
        {
          "output_type": "stream",
          "name": "stderr",
          "text": [
            "INFO:NEURONIOUtils:PGN firing rate avg: 4.0 Hz\n"
          ]
        },
        {
          "output_type": "stream",
          "name": "stdout",
          "text": [
            "2023-05-08 02:26:07,139 [INFO] Grill PGN fr = 6.3 Hz\n"
          ]
        },
        {
          "output_type": "stream",
          "name": "stderr",
          "text": [
            "INFO:NEURONIOUtils:Grill PGN fr = 6.3 Hz\n"
          ]
        },
        {
          "output_type": "stream",
          "name": "stdout",
          "text": [
            "2023-05-08 02:26:07,141 [INFO] IMG node_gid\t  Hz\n"
          ]
        },
        {
          "output_type": "stream",
          "name": "stderr",
          "text": [
            "INFO:NEURONIOUtils:IMG node_gid\t  Hz\n"
          ]
        },
        {
          "output_type": "stream",
          "name": "stdout",
          "text": [
            "2023-05-08 02:26:07,143 [INFO] IMG firing rate avg: 4.0 Hz\n"
          ]
        },
        {
          "output_type": "stream",
          "name": "stderr",
          "text": [
            "INFO:NEURONIOUtils:IMG firing rate avg: 4.0 Hz\n"
          ]
        },
        {
          "output_type": "stream",
          "name": "stdout",
          "text": [
            "2023-05-08 02:26:07,150 [INFO] Volume = 0.1167 ml\n"
          ]
        },
        {
          "output_type": "stream",
          "name": "stderr",
          "text": [
            "/usr/local/lib/python3.10/dist-packages/bmtk/utils/reports/spike_trains/spike_trains.py:183: RuntimeWarning: divide by zero encountered in double_scalars\n",
            "  interval = -np.log(1.0 - np.random.uniform()) / fr\n",
            "INFO:NEURONIOUtils:Volume = 0.1167 ml\n"
          ]
        },
        {
          "output_type": "stream",
          "name": "stdout",
          "text": [
            "2023-05-08 02:26:07,158 [INFO] Pressure = 4.63 mmHg\n"
          ]
        },
        {
          "output_type": "stream",
          "name": "stderr",
          "text": [
            "INFO:NEURONIOUtils:Pressure = 4.63 mmHg\n"
          ]
        },
        {
          "output_type": "stream",
          "name": "stdout",
          "text": [
            "2023-05-08 02:26:07,160 [INFO] Calculated bladder afferent firing rate for the next time step = 0.00 Hz \n",
            " \n",
            "\n"
          ]
        },
        {
          "output_type": "stream",
          "name": "stderr",
          "text": [
            "INFO:NEURONIOUtils:Calculated bladder afferent firing rate for the next time step = 0.00 Hz \n",
            " \n",
            "\n"
          ]
        },
        {
          "output_type": "stream",
          "name": "stdout",
          "text": [
            "2023-05-08 02:26:08,862 [INFO]     step:30000 t_sim:6000.00 ms\n"
          ]
        },
        {
          "output_type": "stream",
          "name": "stderr",
          "text": [
            "INFO:NEURONIOUtils:    step:30000 t_sim:6000.00 ms\n"
          ]
        },
        {
          "output_type": "stream",
          "name": "stdout",
          "text": [
            "2023-05-08 02:26:08,872 [INFO] Timestep 5000.0 to 6000.0 ms\n"
          ]
        },
        {
          "output_type": "stream",
          "name": "stderr",
          "text": [
            "INFO:NEURONIOUtils:Timestep 5000.0 to 6000.0 ms\n"
          ]
        },
        {
          "output_type": "stream",
          "name": "stdout",
          "text": [
            "2023-05-08 02:26:08,879 [INFO] PGN node_id\t  Hz\n"
          ]
        },
        {
          "output_type": "stream",
          "name": "stderr",
          "text": [
            "INFO:NEURONIOUtils:PGN node_id\t  Hz\n"
          ]
        },
        {
          "output_type": "stream",
          "name": "stdout",
          "text": [
            "2023-05-08 02:26:08,883 [INFO] 70\t\t2.0\n"
          ]
        },
        {
          "output_type": "stream",
          "name": "stderr",
          "text": [
            "INFO:NEURONIOUtils:70\t\t2.0\n"
          ]
        },
        {
          "output_type": "stream",
          "name": "stdout",
          "text": [
            "2023-05-08 02:26:08,886 [INFO] 71\t\t2.0\n"
          ]
        },
        {
          "output_type": "stream",
          "name": "stderr",
          "text": [
            "INFO:NEURONIOUtils:71\t\t2.0\n"
          ]
        },
        {
          "output_type": "stream",
          "name": "stdout",
          "text": [
            "2023-05-08 02:26:08,888 [INFO] 72\t\t2.0\n"
          ]
        },
        {
          "output_type": "stream",
          "name": "stderr",
          "text": [
            "INFO:NEURONIOUtils:72\t\t2.0\n"
          ]
        },
        {
          "output_type": "stream",
          "name": "stdout",
          "text": [
            "2023-05-08 02:26:08,890 [INFO] 73\t\t2.0\n"
          ]
        },
        {
          "output_type": "stream",
          "name": "stderr",
          "text": [
            "INFO:NEURONIOUtils:73\t\t2.0\n"
          ]
        },
        {
          "output_type": "stream",
          "name": "stdout",
          "text": [
            "2023-05-08 02:26:08,893 [INFO] 74\t\t2.0\n"
          ]
        },
        {
          "output_type": "stream",
          "name": "stderr",
          "text": [
            "INFO:NEURONIOUtils:74\t\t2.0\n"
          ]
        },
        {
          "output_type": "stream",
          "name": "stdout",
          "text": [
            "2023-05-08 02:26:08,896 [INFO] 75\t\t2.0\n"
          ]
        },
        {
          "output_type": "stream",
          "name": "stderr",
          "text": [
            "INFO:NEURONIOUtils:75\t\t2.0\n"
          ]
        },
        {
          "output_type": "stream",
          "name": "stdout",
          "text": [
            "2023-05-08 02:26:08,898 [INFO] 76\t\t2.0\n"
          ]
        },
        {
          "output_type": "stream",
          "name": "stderr",
          "text": [
            "INFO:NEURONIOUtils:76\t\t2.0\n"
          ]
        },
        {
          "output_type": "stream",
          "name": "stdout",
          "text": [
            "2023-05-08 02:26:08,901 [INFO] 77\t\t2.0\n"
          ]
        },
        {
          "output_type": "stream",
          "name": "stderr",
          "text": [
            "INFO:NEURONIOUtils:77\t\t2.0\n"
          ]
        },
        {
          "output_type": "stream",
          "name": "stdout",
          "text": [
            "2023-05-08 02:26:08,904 [INFO] 78\t\t2.0\n"
          ]
        },
        {
          "output_type": "stream",
          "name": "stderr",
          "text": [
            "INFO:NEURONIOUtils:78\t\t2.0\n"
          ]
        },
        {
          "output_type": "stream",
          "name": "stdout",
          "text": [
            "2023-05-08 02:26:08,906 [INFO] 79\t\t2.0\n"
          ]
        },
        {
          "output_type": "stream",
          "name": "stderr",
          "text": [
            "INFO:NEURONIOUtils:79\t\t2.0\n"
          ]
        },
        {
          "output_type": "stream",
          "name": "stdout",
          "text": [
            "2023-05-08 02:26:08,909 [INFO] PGN firing rate avg: 2.0 Hz\n"
          ]
        },
        {
          "output_type": "stream",
          "name": "stderr",
          "text": [
            "INFO:NEURONIOUtils:PGN firing rate avg: 2.0 Hz\n"
          ]
        },
        {
          "output_type": "stream",
          "name": "stdout",
          "text": [
            "2023-05-08 02:26:08,912 [INFO] Grill PGN fr = 2.984 Hz\n"
          ]
        },
        {
          "output_type": "stream",
          "name": "stderr",
          "text": [
            "INFO:NEURONIOUtils:Grill PGN fr = 2.984 Hz\n"
          ]
        },
        {
          "output_type": "stream",
          "name": "stdout",
          "text": [
            "2023-05-08 02:26:08,914 [INFO] IMG node_gid\t  Hz\n"
          ]
        },
        {
          "output_type": "stream",
          "name": "stderr",
          "text": [
            "INFO:NEURONIOUtils:IMG node_gid\t  Hz\n"
          ]
        },
        {
          "output_type": "stream",
          "name": "stdout",
          "text": [
            "2023-05-08 02:26:08,917 [INFO] IMG firing rate avg: 2.0 Hz\n"
          ]
        },
        {
          "output_type": "stream",
          "name": "stderr",
          "text": [
            "INFO:NEURONIOUtils:IMG firing rate avg: 2.0 Hz\n"
          ]
        },
        {
          "output_type": "stream",
          "name": "stdout",
          "text": [
            "2023-05-08 02:26:08,926 [INFO] Volume = 0.1458 ml\n"
          ]
        },
        {
          "output_type": "stream",
          "name": "stderr",
          "text": [
            "/usr/local/lib/python3.10/dist-packages/bmtk/utils/reports/spike_trains/spike_trains.py:183: RuntimeWarning: divide by zero encountered in double_scalars\n",
            "  interval = -np.log(1.0 - np.random.uniform()) / fr\n",
            "INFO:NEURONIOUtils:Volume = 0.1458 ml\n"
          ]
        },
        {
          "output_type": "stream",
          "name": "stdout",
          "text": [
            "2023-05-08 02:26:08,930 [INFO] Pressure = 2.19 mmHg\n"
          ]
        },
        {
          "output_type": "stream",
          "name": "stderr",
          "text": [
            "INFO:NEURONIOUtils:Pressure = 2.19 mmHg\n"
          ]
        },
        {
          "output_type": "stream",
          "name": "stdout",
          "text": [
            "2023-05-08 02:26:08,933 [INFO] Calculated bladder afferent firing rate for the next time step = 0.00 Hz \n",
            " \n",
            "\n"
          ]
        },
        {
          "output_type": "stream",
          "name": "stderr",
          "text": [
            "INFO:NEURONIOUtils:Calculated bladder afferent firing rate for the next time step = 0.00 Hz \n",
            " \n",
            "\n"
          ]
        },
        {
          "output_type": "stream",
          "name": "stdout",
          "text": [
            "2023-05-08 02:26:11,264 [INFO]     step:35000 t_sim:7000.00 ms\n"
          ]
        },
        {
          "output_type": "stream",
          "name": "stderr",
          "text": [
            "INFO:NEURONIOUtils:    step:35000 t_sim:7000.00 ms\n"
          ]
        },
        {
          "output_type": "stream",
          "name": "stdout",
          "text": [
            "2023-05-08 02:26:11,277 [INFO] Timestep 6000.0 to 7000.0 ms\n"
          ]
        },
        {
          "output_type": "stream",
          "name": "stderr",
          "text": [
            "INFO:NEURONIOUtils:Timestep 6000.0 to 7000.0 ms\n"
          ]
        },
        {
          "output_type": "stream",
          "name": "stdout",
          "text": [
            "2023-05-08 02:26:11,285 [INFO] PGN node_id\t  Hz\n"
          ]
        },
        {
          "output_type": "stream",
          "name": "stderr",
          "text": [
            "INFO:NEURONIOUtils:PGN node_id\t  Hz\n"
          ]
        },
        {
          "output_type": "stream",
          "name": "stdout",
          "text": [
            "2023-05-08 02:26:11,293 [INFO] 70\t\t2.0\n"
          ]
        },
        {
          "output_type": "stream",
          "name": "stderr",
          "text": [
            "INFO:NEURONIOUtils:70\t\t2.0\n"
          ]
        },
        {
          "output_type": "stream",
          "name": "stdout",
          "text": [
            "2023-05-08 02:26:11,295 [INFO] 71\t\t2.0\n"
          ]
        },
        {
          "output_type": "stream",
          "name": "stderr",
          "text": [
            "INFO:NEURONIOUtils:71\t\t2.0\n"
          ]
        },
        {
          "output_type": "stream",
          "name": "stdout",
          "text": [
            "2023-05-08 02:26:11,302 [INFO] 72\t\t2.0\n"
          ]
        },
        {
          "output_type": "stream",
          "name": "stderr",
          "text": [
            "INFO:NEURONIOUtils:72\t\t2.0\n"
          ]
        },
        {
          "output_type": "stream",
          "name": "stdout",
          "text": [
            "2023-05-08 02:26:11,305 [INFO] 73\t\t2.0\n"
          ]
        },
        {
          "output_type": "stream",
          "name": "stderr",
          "text": [
            "INFO:NEURONIOUtils:73\t\t2.0\n"
          ]
        },
        {
          "output_type": "stream",
          "name": "stdout",
          "text": [
            "2023-05-08 02:26:11,310 [INFO] 74\t\t2.0\n"
          ]
        },
        {
          "output_type": "stream",
          "name": "stderr",
          "text": [
            "INFO:NEURONIOUtils:74\t\t2.0\n"
          ]
        },
        {
          "output_type": "stream",
          "name": "stdout",
          "text": [
            "2023-05-08 02:26:11,314 [INFO] 75\t\t2.0\n"
          ]
        },
        {
          "output_type": "stream",
          "name": "stderr",
          "text": [
            "INFO:NEURONIOUtils:75\t\t2.0\n"
          ]
        },
        {
          "output_type": "stream",
          "name": "stdout",
          "text": [
            "2023-05-08 02:26:11,319 [INFO] 76\t\t2.0\n"
          ]
        },
        {
          "output_type": "stream",
          "name": "stderr",
          "text": [
            "INFO:NEURONIOUtils:76\t\t2.0\n"
          ]
        },
        {
          "output_type": "stream",
          "name": "stdout",
          "text": [
            "2023-05-08 02:26:11,324 [INFO] 77\t\t2.0\n"
          ]
        },
        {
          "output_type": "stream",
          "name": "stderr",
          "text": [
            "INFO:NEURONIOUtils:77\t\t2.0\n"
          ]
        },
        {
          "output_type": "stream",
          "name": "stdout",
          "text": [
            "2023-05-08 02:26:11,327 [INFO] 78\t\t2.0\n"
          ]
        },
        {
          "output_type": "stream",
          "name": "stderr",
          "text": [
            "INFO:NEURONIOUtils:78\t\t2.0\n"
          ]
        },
        {
          "output_type": "stream",
          "name": "stdout",
          "text": [
            "2023-05-08 02:26:11,331 [INFO] 79\t\t2.0\n"
          ]
        },
        {
          "output_type": "stream",
          "name": "stderr",
          "text": [
            "INFO:NEURONIOUtils:79\t\t2.0\n"
          ]
        },
        {
          "output_type": "stream",
          "name": "stdout",
          "text": [
            "2023-05-08 02:26:11,336 [INFO] PGN firing rate avg: 2.0 Hz\n"
          ]
        },
        {
          "output_type": "stream",
          "name": "stderr",
          "text": [
            "INFO:NEURONIOUtils:PGN firing rate avg: 2.0 Hz\n"
          ]
        },
        {
          "output_type": "stream",
          "name": "stdout",
          "text": [
            "2023-05-08 02:26:11,340 [INFO] Grill PGN fr = 2.984 Hz\n"
          ]
        },
        {
          "output_type": "stream",
          "name": "stderr",
          "text": [
            "INFO:NEURONIOUtils:Grill PGN fr = 2.984 Hz\n"
          ]
        },
        {
          "output_type": "stream",
          "name": "stdout",
          "text": [
            "2023-05-08 02:26:11,343 [INFO] IMG node_gid\t  Hz\n"
          ]
        },
        {
          "output_type": "stream",
          "name": "stderr",
          "text": [
            "INFO:NEURONIOUtils:IMG node_gid\t  Hz\n"
          ]
        },
        {
          "output_type": "stream",
          "name": "stdout",
          "text": [
            "2023-05-08 02:26:11,346 [INFO] IMG firing rate avg: 2.0 Hz\n"
          ]
        },
        {
          "output_type": "stream",
          "name": "stderr",
          "text": [
            "INFO:NEURONIOUtils:IMG firing rate avg: 2.0 Hz\n"
          ]
        },
        {
          "output_type": "stream",
          "name": "stdout",
          "text": [
            "2023-05-08 02:26:11,361 [INFO] Volume = 0.1750 ml\n"
          ]
        },
        {
          "output_type": "stream",
          "name": "stderr",
          "text": [
            "/usr/local/lib/python3.10/dist-packages/bmtk/utils/reports/spike_trains/spike_trains.py:183: RuntimeWarning: divide by zero encountered in double_scalars\n",
            "  interval = -np.log(1.0 - np.random.uniform()) / fr\n",
            "INFO:NEURONIOUtils:Volume = 0.1750 ml\n"
          ]
        },
        {
          "output_type": "stream",
          "name": "stdout",
          "text": [
            "2023-05-08 02:26:11,363 [INFO] Pressure = 2.19 mmHg\n"
          ]
        },
        {
          "output_type": "stream",
          "name": "stderr",
          "text": [
            "INFO:NEURONIOUtils:Pressure = 2.19 mmHg\n"
          ]
        },
        {
          "output_type": "stream",
          "name": "stdout",
          "text": [
            "2023-05-08 02:26:11,367 [INFO] Calculated bladder afferent firing rate for the next time step = 0.00 Hz \n",
            " \n",
            "\n"
          ]
        },
        {
          "output_type": "stream",
          "name": "stderr",
          "text": [
            "INFO:NEURONIOUtils:Calculated bladder afferent firing rate for the next time step = 0.00 Hz \n",
            " \n",
            "\n"
          ]
        },
        {
          "output_type": "stream",
          "name": "stdout",
          "text": [
            "2023-05-08 02:26:13,313 [INFO]     step:40000 t_sim:8000.00 ms\n"
          ]
        },
        {
          "output_type": "stream",
          "name": "stderr",
          "text": [
            "INFO:NEURONIOUtils:    step:40000 t_sim:8000.00 ms\n"
          ]
        },
        {
          "output_type": "stream",
          "name": "stdout",
          "text": [
            "2023-05-08 02:26:13,323 [INFO] Timestep 7000.0 to 8000.0 ms\n"
          ]
        },
        {
          "output_type": "stream",
          "name": "stderr",
          "text": [
            "INFO:NEURONIOUtils:Timestep 7000.0 to 8000.0 ms\n"
          ]
        },
        {
          "output_type": "stream",
          "name": "stdout",
          "text": [
            "2023-05-08 02:26:13,327 [INFO] PGN node_id\t  Hz\n"
          ]
        },
        {
          "output_type": "stream",
          "name": "stderr",
          "text": [
            "INFO:NEURONIOUtils:PGN node_id\t  Hz\n"
          ]
        },
        {
          "output_type": "stream",
          "name": "stdout",
          "text": [
            "2023-05-08 02:26:13,331 [INFO] 70\t\t2.0\n"
          ]
        },
        {
          "output_type": "stream",
          "name": "stderr",
          "text": [
            "INFO:NEURONIOUtils:70\t\t2.0\n"
          ]
        },
        {
          "output_type": "stream",
          "name": "stdout",
          "text": [
            "2023-05-08 02:26:13,335 [INFO] 71\t\t2.0\n"
          ]
        },
        {
          "output_type": "stream",
          "name": "stderr",
          "text": [
            "INFO:NEURONIOUtils:71\t\t2.0\n"
          ]
        },
        {
          "output_type": "stream",
          "name": "stdout",
          "text": [
            "2023-05-08 02:26:13,337 [INFO] 72\t\t2.0\n"
          ]
        },
        {
          "output_type": "stream",
          "name": "stderr",
          "text": [
            "INFO:NEURONIOUtils:72\t\t2.0\n"
          ]
        },
        {
          "output_type": "stream",
          "name": "stdout",
          "text": [
            "2023-05-08 02:26:13,339 [INFO] 73\t\t2.0\n"
          ]
        },
        {
          "output_type": "stream",
          "name": "stderr",
          "text": [
            "INFO:NEURONIOUtils:73\t\t2.0\n"
          ]
        },
        {
          "output_type": "stream",
          "name": "stdout",
          "text": [
            "2023-05-08 02:26:13,341 [INFO] 74\t\t2.0\n"
          ]
        },
        {
          "output_type": "stream",
          "name": "stderr",
          "text": [
            "INFO:NEURONIOUtils:74\t\t2.0\n"
          ]
        },
        {
          "output_type": "stream",
          "name": "stdout",
          "text": [
            "2023-05-08 02:26:13,343 [INFO] 75\t\t2.0\n"
          ]
        },
        {
          "output_type": "stream",
          "name": "stderr",
          "text": [
            "INFO:NEURONIOUtils:75\t\t2.0\n"
          ]
        },
        {
          "output_type": "stream",
          "name": "stdout",
          "text": [
            "2023-05-08 02:26:13,345 [INFO] 76\t\t2.0\n"
          ]
        },
        {
          "output_type": "stream",
          "name": "stderr",
          "text": [
            "INFO:NEURONIOUtils:76\t\t2.0\n"
          ]
        },
        {
          "output_type": "stream",
          "name": "stdout",
          "text": [
            "2023-05-08 02:26:13,347 [INFO] 77\t\t2.0\n"
          ]
        },
        {
          "output_type": "stream",
          "name": "stderr",
          "text": [
            "INFO:NEURONIOUtils:77\t\t2.0\n"
          ]
        },
        {
          "output_type": "stream",
          "name": "stdout",
          "text": [
            "2023-05-08 02:26:13,349 [INFO] 78\t\t2.0\n"
          ]
        },
        {
          "output_type": "stream",
          "name": "stderr",
          "text": [
            "INFO:NEURONIOUtils:78\t\t2.0\n"
          ]
        },
        {
          "output_type": "stream",
          "name": "stdout",
          "text": [
            "2023-05-08 02:26:13,352 [INFO] 79\t\t2.0\n"
          ]
        },
        {
          "output_type": "stream",
          "name": "stderr",
          "text": [
            "INFO:NEURONIOUtils:79\t\t2.0\n"
          ]
        },
        {
          "output_type": "stream",
          "name": "stdout",
          "text": [
            "2023-05-08 02:26:13,354 [INFO] PGN firing rate avg: 2.0 Hz\n"
          ]
        },
        {
          "output_type": "stream",
          "name": "stderr",
          "text": [
            "INFO:NEURONIOUtils:PGN firing rate avg: 2.0 Hz\n"
          ]
        },
        {
          "output_type": "stream",
          "name": "stdout",
          "text": [
            "2023-05-08 02:26:13,356 [INFO] Grill PGN fr = 2.984 Hz\n"
          ]
        },
        {
          "output_type": "stream",
          "name": "stderr",
          "text": [
            "INFO:NEURONIOUtils:Grill PGN fr = 2.984 Hz\n"
          ]
        },
        {
          "output_type": "stream",
          "name": "stdout",
          "text": [
            "2023-05-08 02:26:13,358 [INFO] IMG node_gid\t  Hz\n"
          ]
        },
        {
          "output_type": "stream",
          "name": "stderr",
          "text": [
            "INFO:NEURONIOUtils:IMG node_gid\t  Hz\n"
          ]
        },
        {
          "output_type": "stream",
          "name": "stdout",
          "text": [
            "2023-05-08 02:26:13,360 [INFO] IMG firing rate avg: 2.0 Hz\n"
          ]
        },
        {
          "output_type": "stream",
          "name": "stderr",
          "text": [
            "INFO:NEURONIOUtils:IMG firing rate avg: 2.0 Hz\n"
          ]
        },
        {
          "output_type": "stream",
          "name": "stdout",
          "text": [
            "2023-05-08 02:26:13,367 [INFO] Volume = 0.2042 ml\n"
          ]
        },
        {
          "output_type": "stream",
          "name": "stderr",
          "text": [
            "/usr/local/lib/python3.10/dist-packages/bmtk/utils/reports/spike_trains/spike_trains.py:183: RuntimeWarning: divide by zero encountered in double_scalars\n",
            "  interval = -np.log(1.0 - np.random.uniform()) / fr\n",
            "INFO:NEURONIOUtils:Volume = 0.2042 ml\n"
          ]
        },
        {
          "output_type": "stream",
          "name": "stdout",
          "text": [
            "2023-05-08 02:26:13,375 [INFO] Pressure = 2.19 mmHg\n"
          ]
        },
        {
          "output_type": "stream",
          "name": "stderr",
          "text": [
            "INFO:NEURONIOUtils:Pressure = 2.19 mmHg\n"
          ]
        },
        {
          "output_type": "stream",
          "name": "stdout",
          "text": [
            "2023-05-08 02:26:13,377 [INFO] Calculated bladder afferent firing rate for the next time step = 0.00 Hz \n",
            " \n",
            "\n"
          ]
        },
        {
          "output_type": "stream",
          "name": "stderr",
          "text": [
            "INFO:NEURONIOUtils:Calculated bladder afferent firing rate for the next time step = 0.00 Hz \n",
            " \n",
            "\n"
          ]
        },
        {
          "output_type": "stream",
          "name": "stdout",
          "text": [
            "2023-05-08 02:26:15,284 [INFO]     step:45000 t_sim:9000.00 ms\n"
          ]
        },
        {
          "output_type": "stream",
          "name": "stderr",
          "text": [
            "INFO:NEURONIOUtils:    step:45000 t_sim:9000.00 ms\n"
          ]
        },
        {
          "output_type": "stream",
          "name": "stdout",
          "text": [
            "2023-05-08 02:26:15,296 [INFO] Timestep 8000.0 to 9000.0 ms\n"
          ]
        },
        {
          "output_type": "stream",
          "name": "stderr",
          "text": [
            "INFO:NEURONIOUtils:Timestep 8000.0 to 9000.0 ms\n"
          ]
        },
        {
          "output_type": "stream",
          "name": "stdout",
          "text": [
            "2023-05-08 02:26:15,300 [INFO] PGN node_id\t  Hz\n"
          ]
        },
        {
          "output_type": "stream",
          "name": "stderr",
          "text": [
            "INFO:NEURONIOUtils:PGN node_id\t  Hz\n"
          ]
        },
        {
          "output_type": "stream",
          "name": "stdout",
          "text": [
            "2023-05-08 02:26:15,304 [INFO] 70\t\t1.0\n"
          ]
        },
        {
          "output_type": "stream",
          "name": "stderr",
          "text": [
            "INFO:NEURONIOUtils:70\t\t1.0\n"
          ]
        },
        {
          "output_type": "stream",
          "name": "stdout",
          "text": [
            "2023-05-08 02:26:15,307 [INFO] 71\t\t1.0\n"
          ]
        },
        {
          "output_type": "stream",
          "name": "stderr",
          "text": [
            "INFO:NEURONIOUtils:71\t\t1.0\n"
          ]
        },
        {
          "output_type": "stream",
          "name": "stdout",
          "text": [
            "2023-05-08 02:26:15,309 [INFO] 72\t\t1.0\n"
          ]
        },
        {
          "output_type": "stream",
          "name": "stderr",
          "text": [
            "INFO:NEURONIOUtils:72\t\t1.0\n"
          ]
        },
        {
          "output_type": "stream",
          "name": "stdout",
          "text": [
            "2023-05-08 02:26:15,311 [INFO] 73\t\t1.0\n"
          ]
        },
        {
          "output_type": "stream",
          "name": "stderr",
          "text": [
            "INFO:NEURONIOUtils:73\t\t1.0\n"
          ]
        },
        {
          "output_type": "stream",
          "name": "stdout",
          "text": [
            "2023-05-08 02:26:15,313 [INFO] 74\t\t1.0\n"
          ]
        },
        {
          "output_type": "stream",
          "name": "stderr",
          "text": [
            "INFO:NEURONIOUtils:74\t\t1.0\n"
          ]
        },
        {
          "output_type": "stream",
          "name": "stdout",
          "text": [
            "2023-05-08 02:26:15,315 [INFO] 75\t\t1.0\n"
          ]
        },
        {
          "output_type": "stream",
          "name": "stderr",
          "text": [
            "INFO:NEURONIOUtils:75\t\t1.0\n"
          ]
        },
        {
          "output_type": "stream",
          "name": "stdout",
          "text": [
            "2023-05-08 02:26:15,317 [INFO] 76\t\t1.0\n"
          ]
        },
        {
          "output_type": "stream",
          "name": "stderr",
          "text": [
            "INFO:NEURONIOUtils:76\t\t1.0\n"
          ]
        },
        {
          "output_type": "stream",
          "name": "stdout",
          "text": [
            "2023-05-08 02:26:15,319 [INFO] 77\t\t1.0\n"
          ]
        },
        {
          "output_type": "stream",
          "name": "stderr",
          "text": [
            "INFO:NEURONIOUtils:77\t\t1.0\n"
          ]
        },
        {
          "output_type": "stream",
          "name": "stdout",
          "text": [
            "2023-05-08 02:26:15,321 [INFO] 78\t\t1.0\n"
          ]
        },
        {
          "output_type": "stream",
          "name": "stderr",
          "text": [
            "INFO:NEURONIOUtils:78\t\t1.0\n"
          ]
        },
        {
          "output_type": "stream",
          "name": "stdout",
          "text": [
            "2023-05-08 02:26:15,323 [INFO] 79\t\t1.0\n"
          ]
        },
        {
          "output_type": "stream",
          "name": "stderr",
          "text": [
            "INFO:NEURONIOUtils:79\t\t1.0\n"
          ]
        },
        {
          "output_type": "stream",
          "name": "stdout",
          "text": [
            "2023-05-08 02:26:15,325 [INFO] PGN firing rate avg: 1.0 Hz\n"
          ]
        },
        {
          "output_type": "stream",
          "name": "stderr",
          "text": [
            "INFO:NEURONIOUtils:PGN firing rate avg: 1.0 Hz\n"
          ]
        },
        {
          "output_type": "stream",
          "name": "stdout",
          "text": [
            "2023-05-08 02:26:15,329 [INFO] Grill PGN fr = 1.2690000000000001 Hz\n"
          ]
        },
        {
          "output_type": "stream",
          "name": "stderr",
          "text": [
            "INFO:NEURONIOUtils:Grill PGN fr = 1.2690000000000001 Hz\n"
          ]
        },
        {
          "output_type": "stream",
          "name": "stdout",
          "text": [
            "2023-05-08 02:26:15,331 [INFO] IMG node_gid\t  Hz\n"
          ]
        },
        {
          "output_type": "stream",
          "name": "stderr",
          "text": [
            "INFO:NEURONIOUtils:IMG node_gid\t  Hz\n"
          ]
        },
        {
          "output_type": "stream",
          "name": "stdout",
          "text": [
            "2023-05-08 02:26:15,333 [INFO] IMG firing rate avg: 1.0 Hz\n"
          ]
        },
        {
          "output_type": "stream",
          "name": "stderr",
          "text": [
            "INFO:NEURONIOUtils:IMG firing rate avg: 1.0 Hz\n"
          ]
        },
        {
          "output_type": "stream",
          "name": "stdout",
          "text": [
            "2023-05-08 02:26:15,340 [INFO] Volume = 0.2333 ml\n"
          ]
        },
        {
          "output_type": "stream",
          "name": "stderr",
          "text": [
            "/usr/local/lib/python3.10/dist-packages/bmtk/utils/reports/spike_trains/spike_trains.py:183: RuntimeWarning: divide by zero encountered in double_scalars\n",
            "  interval = -np.log(1.0 - np.random.uniform()) / fr\n",
            "INFO:NEURONIOUtils:Volume = 0.2333 ml\n"
          ]
        },
        {
          "output_type": "stream",
          "name": "stdout",
          "text": [
            "2023-05-08 02:26:15,348 [INFO] Pressure = 0.93 mmHg\n"
          ]
        },
        {
          "output_type": "stream",
          "name": "stderr",
          "text": [
            "INFO:NEURONIOUtils:Pressure = 0.93 mmHg\n"
          ]
        },
        {
          "output_type": "stream",
          "name": "stdout",
          "text": [
            "2023-05-08 02:26:15,350 [INFO] Calculated bladder afferent firing rate for the next time step = 0.00 Hz \n",
            " \n",
            "\n"
          ]
        },
        {
          "output_type": "stream",
          "name": "stderr",
          "text": [
            "INFO:NEURONIOUtils:Calculated bladder afferent firing rate for the next time step = 0.00 Hz \n",
            " \n",
            "\n"
          ]
        },
        {
          "output_type": "stream",
          "name": "stdout",
          "text": [
            "2023-05-08 02:26:17,031 [INFO]     step:50000 t_sim:10000.00 ms\n"
          ]
        },
        {
          "output_type": "stream",
          "name": "stderr",
          "text": [
            "INFO:NEURONIOUtils:    step:50000 t_sim:10000.00 ms\n"
          ]
        },
        {
          "output_type": "stream",
          "name": "stdout",
          "text": [
            "2023-05-08 02:26:17,041 [INFO] Timestep 9000.0 to 10000.0 ms\n"
          ]
        },
        {
          "output_type": "stream",
          "name": "stderr",
          "text": [
            "INFO:NEURONIOUtils:Timestep 9000.0 to 10000.0 ms\n"
          ]
        },
        {
          "output_type": "stream",
          "name": "stdout",
          "text": [
            "2023-05-08 02:26:17,045 [INFO] PGN node_id\t  Hz\n"
          ]
        },
        {
          "output_type": "stream",
          "name": "stderr",
          "text": [
            "INFO:NEURONIOUtils:PGN node_id\t  Hz\n"
          ]
        },
        {
          "output_type": "stream",
          "name": "stdout",
          "text": [
            "2023-05-08 02:26:17,050 [INFO] 70\t\t2.0\n"
          ]
        },
        {
          "output_type": "stream",
          "name": "stderr",
          "text": [
            "INFO:NEURONIOUtils:70\t\t2.0\n"
          ]
        },
        {
          "output_type": "stream",
          "name": "stdout",
          "text": [
            "2023-05-08 02:26:17,054 [INFO] 71\t\t2.0\n"
          ]
        },
        {
          "output_type": "stream",
          "name": "stderr",
          "text": [
            "INFO:NEURONIOUtils:71\t\t2.0\n"
          ]
        },
        {
          "output_type": "stream",
          "name": "stdout",
          "text": [
            "2023-05-08 02:26:17,057 [INFO] 72\t\t2.0\n"
          ]
        },
        {
          "output_type": "stream",
          "name": "stderr",
          "text": [
            "INFO:NEURONIOUtils:72\t\t2.0\n"
          ]
        },
        {
          "output_type": "stream",
          "name": "stdout",
          "text": [
            "2023-05-08 02:26:17,059 [INFO] 73\t\t2.0\n"
          ]
        },
        {
          "output_type": "stream",
          "name": "stderr",
          "text": [
            "INFO:NEURONIOUtils:73\t\t2.0\n"
          ]
        },
        {
          "output_type": "stream",
          "name": "stdout",
          "text": [
            "2023-05-08 02:26:17,061 [INFO] 74\t\t2.0\n"
          ]
        },
        {
          "output_type": "stream",
          "name": "stderr",
          "text": [
            "INFO:NEURONIOUtils:74\t\t2.0\n"
          ]
        },
        {
          "output_type": "stream",
          "name": "stdout",
          "text": [
            "2023-05-08 02:26:17,063 [INFO] 75\t\t2.0\n"
          ]
        },
        {
          "output_type": "stream",
          "name": "stderr",
          "text": [
            "INFO:NEURONIOUtils:75\t\t2.0\n"
          ]
        },
        {
          "output_type": "stream",
          "name": "stdout",
          "text": [
            "2023-05-08 02:26:17,065 [INFO] 76\t\t2.0\n"
          ]
        },
        {
          "output_type": "stream",
          "name": "stderr",
          "text": [
            "INFO:NEURONIOUtils:76\t\t2.0\n"
          ]
        },
        {
          "output_type": "stream",
          "name": "stdout",
          "text": [
            "2023-05-08 02:26:17,067 [INFO] 77\t\t2.0\n"
          ]
        },
        {
          "output_type": "stream",
          "name": "stderr",
          "text": [
            "INFO:NEURONIOUtils:77\t\t2.0\n"
          ]
        },
        {
          "output_type": "stream",
          "name": "stdout",
          "text": [
            "2023-05-08 02:26:17,070 [INFO] 78\t\t2.0\n"
          ]
        },
        {
          "output_type": "stream",
          "name": "stderr",
          "text": [
            "INFO:NEURONIOUtils:78\t\t2.0\n"
          ]
        },
        {
          "output_type": "stream",
          "name": "stdout",
          "text": [
            "2023-05-08 02:26:17,072 [INFO] 79\t\t2.0\n"
          ]
        },
        {
          "output_type": "stream",
          "name": "stderr",
          "text": [
            "INFO:NEURONIOUtils:79\t\t2.0\n"
          ]
        },
        {
          "output_type": "stream",
          "name": "stdout",
          "text": [
            "2023-05-08 02:26:17,074 [INFO] PGN firing rate avg: 2.0 Hz\n"
          ]
        },
        {
          "output_type": "stream",
          "name": "stderr",
          "text": [
            "INFO:NEURONIOUtils:PGN firing rate avg: 2.0 Hz\n"
          ]
        },
        {
          "output_type": "stream",
          "name": "stdout",
          "text": [
            "2023-05-08 02:26:17,076 [INFO] Grill PGN fr = 2.984 Hz\n"
          ]
        },
        {
          "output_type": "stream",
          "name": "stderr",
          "text": [
            "INFO:NEURONIOUtils:Grill PGN fr = 2.984 Hz\n"
          ]
        },
        {
          "output_type": "stream",
          "name": "stdout",
          "text": [
            "2023-05-08 02:26:17,078 [INFO] IMG node_gid\t  Hz\n"
          ]
        },
        {
          "output_type": "stream",
          "name": "stderr",
          "text": [
            "INFO:NEURONIOUtils:IMG node_gid\t  Hz\n"
          ]
        },
        {
          "output_type": "stream",
          "name": "stdout",
          "text": [
            "2023-05-08 02:26:17,080 [INFO] IMG firing rate avg: 2.0 Hz\n"
          ]
        },
        {
          "output_type": "stream",
          "name": "stderr",
          "text": [
            "INFO:NEURONIOUtils:IMG firing rate avg: 2.0 Hz\n"
          ]
        },
        {
          "output_type": "stream",
          "name": "stdout",
          "text": [
            "2023-05-08 02:26:17,088 [INFO] Volume = 0.2625 ml\n"
          ]
        },
        {
          "output_type": "stream",
          "name": "stderr",
          "text": [
            "/usr/local/lib/python3.10/dist-packages/bmtk/utils/reports/spike_trains/spike_trains.py:183: RuntimeWarning: divide by zero encountered in double_scalars\n",
            "  interval = -np.log(1.0 - np.random.uniform()) / fr\n",
            "INFO:NEURONIOUtils:Volume = 0.2625 ml\n"
          ]
        },
        {
          "output_type": "stream",
          "name": "stdout",
          "text": [
            "2023-05-08 02:26:17,097 [INFO] Pressure = 2.19 mmHg\n"
          ]
        },
        {
          "output_type": "stream",
          "name": "stderr",
          "text": [
            "INFO:NEURONIOUtils:Pressure = 2.19 mmHg\n"
          ]
        },
        {
          "output_type": "stream",
          "name": "stdout",
          "text": [
            "2023-05-08 02:26:17,099 [INFO] Calculated bladder afferent firing rate for the next time step = 0.00 Hz \n",
            " \n",
            "\n"
          ]
        },
        {
          "output_type": "stream",
          "name": "stderr",
          "text": [
            "INFO:NEURONIOUtils:Calculated bladder afferent firing rate for the next time step = 0.00 Hz \n",
            " \n",
            "\n"
          ]
        },
        {
          "output_type": "stream",
          "name": "stdout",
          "text": [
            "2023-05-08 02:26:19,074 [INFO]     step:55000 t_sim:11000.00 ms\n"
          ]
        },
        {
          "output_type": "stream",
          "name": "stderr",
          "text": [
            "INFO:NEURONIOUtils:    step:55000 t_sim:11000.00 ms\n"
          ]
        },
        {
          "output_type": "stream",
          "name": "stdout",
          "text": [
            "2023-05-08 02:26:19,085 [INFO] Timestep 10000.0 to 11000.0 ms\n"
          ]
        },
        {
          "output_type": "stream",
          "name": "stderr",
          "text": [
            "INFO:NEURONIOUtils:Timestep 10000.0 to 11000.0 ms\n"
          ]
        },
        {
          "output_type": "stream",
          "name": "stdout",
          "text": [
            "2023-05-08 02:26:19,095 [INFO] PGN node_id\t  Hz\n"
          ]
        },
        {
          "output_type": "stream",
          "name": "stderr",
          "text": [
            "INFO:NEURONIOUtils:PGN node_id\t  Hz\n"
          ]
        },
        {
          "output_type": "stream",
          "name": "stdout",
          "text": [
            "2023-05-08 02:26:19,098 [INFO] 70\t\t3.0\n"
          ]
        },
        {
          "output_type": "stream",
          "name": "stderr",
          "text": [
            "INFO:NEURONIOUtils:70\t\t3.0\n"
          ]
        },
        {
          "output_type": "stream",
          "name": "stdout",
          "text": [
            "2023-05-08 02:26:19,103 [INFO] 71\t\t3.0\n"
          ]
        },
        {
          "output_type": "stream",
          "name": "stderr",
          "text": [
            "INFO:NEURONIOUtils:71\t\t3.0\n"
          ]
        },
        {
          "output_type": "stream",
          "name": "stdout",
          "text": [
            "2023-05-08 02:26:19,105 [INFO] 72\t\t3.0\n"
          ]
        },
        {
          "output_type": "stream",
          "name": "stderr",
          "text": [
            "INFO:NEURONIOUtils:72\t\t3.0\n"
          ]
        },
        {
          "output_type": "stream",
          "name": "stdout",
          "text": [
            "2023-05-08 02:26:19,106 [INFO] 73\t\t3.0\n"
          ]
        },
        {
          "output_type": "stream",
          "name": "stderr",
          "text": [
            "INFO:NEURONIOUtils:73\t\t3.0\n"
          ]
        },
        {
          "output_type": "stream",
          "name": "stdout",
          "text": [
            "2023-05-08 02:26:19,109 [INFO] 74\t\t3.0\n"
          ]
        },
        {
          "output_type": "stream",
          "name": "stderr",
          "text": [
            "INFO:NEURONIOUtils:74\t\t3.0\n"
          ]
        },
        {
          "output_type": "stream",
          "name": "stdout",
          "text": [
            "2023-05-08 02:26:19,111 [INFO] 75\t\t3.0\n"
          ]
        },
        {
          "output_type": "stream",
          "name": "stderr",
          "text": [
            "INFO:NEURONIOUtils:75\t\t3.0\n"
          ]
        },
        {
          "output_type": "stream",
          "name": "stdout",
          "text": [
            "2023-05-08 02:26:19,113 [INFO] 76\t\t3.0\n"
          ]
        },
        {
          "output_type": "stream",
          "name": "stderr",
          "text": [
            "INFO:NEURONIOUtils:76\t\t3.0\n"
          ]
        },
        {
          "output_type": "stream",
          "name": "stdout",
          "text": [
            "2023-05-08 02:26:19,119 [INFO] 77\t\t3.0\n"
          ]
        },
        {
          "output_type": "stream",
          "name": "stderr",
          "text": [
            "INFO:NEURONIOUtils:77\t\t3.0\n"
          ]
        },
        {
          "output_type": "stream",
          "name": "stdout",
          "text": [
            "2023-05-08 02:26:19,121 [INFO] 78\t\t3.0\n"
          ]
        },
        {
          "output_type": "stream",
          "name": "stderr",
          "text": [
            "INFO:NEURONIOUtils:78\t\t3.0\n"
          ]
        },
        {
          "output_type": "stream",
          "name": "stdout",
          "text": [
            "2023-05-08 02:26:19,123 [INFO] 79\t\t3.0\n"
          ]
        },
        {
          "output_type": "stream",
          "name": "stderr",
          "text": [
            "INFO:NEURONIOUtils:79\t\t3.0\n"
          ]
        },
        {
          "output_type": "stream",
          "name": "stdout",
          "text": [
            "2023-05-08 02:26:19,125 [INFO] PGN firing rate avg: 3.0 Hz\n"
          ]
        },
        {
          "output_type": "stream",
          "name": "stderr",
          "text": [
            "INFO:NEURONIOUtils:PGN firing rate avg: 3.0 Hz\n"
          ]
        },
        {
          "output_type": "stream",
          "name": "stdout",
          "text": [
            "2023-05-08 02:26:19,127 [INFO] Grill PGN fr = 4.657 Hz\n"
          ]
        },
        {
          "output_type": "stream",
          "name": "stderr",
          "text": [
            "INFO:NEURONIOUtils:Grill PGN fr = 4.657 Hz\n"
          ]
        },
        {
          "output_type": "stream",
          "name": "stdout",
          "text": [
            "2023-05-08 02:26:19,131 [INFO] IMG node_gid\t  Hz\n"
          ]
        },
        {
          "output_type": "stream",
          "name": "stderr",
          "text": [
            "INFO:NEURONIOUtils:IMG node_gid\t  Hz\n"
          ]
        },
        {
          "output_type": "stream",
          "name": "stdout",
          "text": [
            "2023-05-08 02:26:19,133 [INFO] IMG firing rate avg: 3.0 Hz\n"
          ]
        },
        {
          "output_type": "stream",
          "name": "stderr",
          "text": [
            "INFO:NEURONIOUtils:IMG firing rate avg: 3.0 Hz\n"
          ]
        },
        {
          "output_type": "stream",
          "name": "stdout",
          "text": [
            "2023-05-08 02:26:19,140 [INFO] Volume = 0.2917 ml\n"
          ]
        },
        {
          "output_type": "stream",
          "name": "stderr",
          "text": [
            "/usr/local/lib/python3.10/dist-packages/bmtk/utils/reports/spike_trains/spike_trains.py:183: RuntimeWarning: divide by zero encountered in double_scalars\n",
            "  interval = -np.log(1.0 - np.random.uniform()) / fr\n",
            "INFO:NEURONIOUtils:Volume = 0.2917 ml\n"
          ]
        },
        {
          "output_type": "stream",
          "name": "stdout",
          "text": [
            "2023-05-08 02:26:19,145 [INFO] Pressure = 3.43 mmHg\n"
          ]
        },
        {
          "output_type": "stream",
          "name": "stderr",
          "text": [
            "INFO:NEURONIOUtils:Pressure = 3.43 mmHg\n"
          ]
        },
        {
          "output_type": "stream",
          "name": "stdout",
          "text": [
            "2023-05-08 02:26:19,147 [INFO] Calculated bladder afferent firing rate for the next time step = 0.00 Hz \n",
            " \n",
            "\n"
          ]
        },
        {
          "output_type": "stream",
          "name": "stderr",
          "text": [
            "INFO:NEURONIOUtils:Calculated bladder afferent firing rate for the next time step = 0.00 Hz \n",
            " \n",
            "\n"
          ]
        },
        {
          "output_type": "stream",
          "name": "stdout",
          "text": [
            "2023-05-08 02:26:20,926 [INFO]     step:60000 t_sim:12000.00 ms\n"
          ]
        },
        {
          "output_type": "stream",
          "name": "stderr",
          "text": [
            "INFO:NEURONIOUtils:    step:60000 t_sim:12000.00 ms\n"
          ]
        },
        {
          "output_type": "stream",
          "name": "stdout",
          "text": [
            "2023-05-08 02:26:20,937 [INFO] Timestep 11000.0 to 12000.0 ms\n"
          ]
        },
        {
          "output_type": "stream",
          "name": "stderr",
          "text": [
            "INFO:NEURONIOUtils:Timestep 11000.0 to 12000.0 ms\n"
          ]
        },
        {
          "output_type": "stream",
          "name": "stdout",
          "text": [
            "2023-05-08 02:26:20,941 [INFO] PGN node_id\t  Hz\n"
          ]
        },
        {
          "output_type": "stream",
          "name": "stderr",
          "text": [
            "INFO:NEURONIOUtils:PGN node_id\t  Hz\n"
          ]
        },
        {
          "output_type": "stream",
          "name": "stdout",
          "text": [
            "2023-05-08 02:26:20,945 [INFO] 70\t\t2.0\n"
          ]
        },
        {
          "output_type": "stream",
          "name": "stderr",
          "text": [
            "INFO:NEURONIOUtils:70\t\t2.0\n"
          ]
        },
        {
          "output_type": "stream",
          "name": "stdout",
          "text": [
            "2023-05-08 02:26:20,948 [INFO] 71\t\t2.0\n"
          ]
        },
        {
          "output_type": "stream",
          "name": "stderr",
          "text": [
            "INFO:NEURONIOUtils:71\t\t2.0\n"
          ]
        },
        {
          "output_type": "stream",
          "name": "stdout",
          "text": [
            "2023-05-08 02:26:20,950 [INFO] 72\t\t2.0\n"
          ]
        },
        {
          "output_type": "stream",
          "name": "stderr",
          "text": [
            "INFO:NEURONIOUtils:72\t\t2.0\n"
          ]
        },
        {
          "output_type": "stream",
          "name": "stdout",
          "text": [
            "2023-05-08 02:26:20,952 [INFO] 73\t\t2.0\n"
          ]
        },
        {
          "output_type": "stream",
          "name": "stderr",
          "text": [
            "INFO:NEURONIOUtils:73\t\t2.0\n"
          ]
        },
        {
          "output_type": "stream",
          "name": "stdout",
          "text": [
            "2023-05-08 02:26:20,957 [INFO] 74\t\t2.0\n"
          ]
        },
        {
          "output_type": "stream",
          "name": "stderr",
          "text": [
            "INFO:NEURONIOUtils:74\t\t2.0\n"
          ]
        },
        {
          "output_type": "stream",
          "name": "stdout",
          "text": [
            "2023-05-08 02:26:20,959 [INFO] 75\t\t2.0\n"
          ]
        },
        {
          "output_type": "stream",
          "name": "stderr",
          "text": [
            "INFO:NEURONIOUtils:75\t\t2.0\n"
          ]
        },
        {
          "output_type": "stream",
          "name": "stdout",
          "text": [
            "2023-05-08 02:26:20,961 [INFO] 76\t\t2.0\n"
          ]
        },
        {
          "output_type": "stream",
          "name": "stderr",
          "text": [
            "INFO:NEURONIOUtils:76\t\t2.0\n"
          ]
        },
        {
          "output_type": "stream",
          "name": "stdout",
          "text": [
            "2023-05-08 02:26:20,963 [INFO] 77\t\t2.0\n"
          ]
        },
        {
          "output_type": "stream",
          "name": "stderr",
          "text": [
            "INFO:NEURONIOUtils:77\t\t2.0\n"
          ]
        },
        {
          "output_type": "stream",
          "name": "stdout",
          "text": [
            "2023-05-08 02:26:20,967 [INFO] 78\t\t2.0\n"
          ]
        },
        {
          "output_type": "stream",
          "name": "stderr",
          "text": [
            "INFO:NEURONIOUtils:78\t\t2.0\n"
          ]
        },
        {
          "output_type": "stream",
          "name": "stdout",
          "text": [
            "2023-05-08 02:26:20,969 [INFO] 79\t\t2.0\n"
          ]
        },
        {
          "output_type": "stream",
          "name": "stderr",
          "text": [
            "INFO:NEURONIOUtils:79\t\t2.0\n"
          ]
        },
        {
          "output_type": "stream",
          "name": "stdout",
          "text": [
            "2023-05-08 02:26:20,973 [INFO] PGN firing rate avg: 2.0 Hz\n"
          ]
        },
        {
          "output_type": "stream",
          "name": "stderr",
          "text": [
            "INFO:NEURONIOUtils:PGN firing rate avg: 2.0 Hz\n"
          ]
        },
        {
          "output_type": "stream",
          "name": "stdout",
          "text": [
            "2023-05-08 02:26:20,975 [INFO] Grill PGN fr = 2.984 Hz\n"
          ]
        },
        {
          "output_type": "stream",
          "name": "stderr",
          "text": [
            "INFO:NEURONIOUtils:Grill PGN fr = 2.984 Hz\n"
          ]
        },
        {
          "output_type": "stream",
          "name": "stdout",
          "text": [
            "2023-05-08 02:26:20,977 [INFO] IMG node_gid\t  Hz\n"
          ]
        },
        {
          "output_type": "stream",
          "name": "stderr",
          "text": [
            "INFO:NEURONIOUtils:IMG node_gid\t  Hz\n"
          ]
        },
        {
          "output_type": "stream",
          "name": "stdout",
          "text": [
            "2023-05-08 02:26:20,982 [INFO] IMG firing rate avg: 2.0 Hz\n"
          ]
        },
        {
          "output_type": "stream",
          "name": "stderr",
          "text": [
            "INFO:NEURONIOUtils:IMG firing rate avg: 2.0 Hz\n"
          ]
        },
        {
          "output_type": "stream",
          "name": "stdout",
          "text": [
            "2023-05-08 02:26:20,989 [INFO] Volume = 0.3208 ml\n"
          ]
        },
        {
          "output_type": "stream",
          "name": "stderr",
          "text": [
            "/usr/local/lib/python3.10/dist-packages/bmtk/utils/reports/spike_trains/spike_trains.py:183: RuntimeWarning: divide by zero encountered in double_scalars\n",
            "  interval = -np.log(1.0 - np.random.uniform()) / fr\n",
            "INFO:NEURONIOUtils:Volume = 0.3208 ml\n"
          ]
        },
        {
          "output_type": "stream",
          "name": "stdout",
          "text": [
            "2023-05-08 02:26:20,994 [INFO] Pressure = 2.19 mmHg\n"
          ]
        },
        {
          "output_type": "stream",
          "name": "stderr",
          "text": [
            "INFO:NEURONIOUtils:Pressure = 2.19 mmHg\n"
          ]
        },
        {
          "output_type": "stream",
          "name": "stdout",
          "text": [
            "2023-05-08 02:26:20,996 [INFO] Calculated bladder afferent firing rate for the next time step = 0.00 Hz \n",
            " \n",
            "\n"
          ]
        },
        {
          "output_type": "stream",
          "name": "stderr",
          "text": [
            "INFO:NEURONIOUtils:Calculated bladder afferent firing rate for the next time step = 0.00 Hz \n",
            " \n",
            "\n"
          ]
        },
        {
          "output_type": "stream",
          "name": "stdout",
          "text": [
            "2023-05-08 02:26:23,168 [INFO]     step:65000 t_sim:13000.00 ms\n"
          ]
        },
        {
          "output_type": "stream",
          "name": "stderr",
          "text": [
            "INFO:NEURONIOUtils:    step:65000 t_sim:13000.00 ms\n"
          ]
        },
        {
          "output_type": "stream",
          "name": "stdout",
          "text": [
            "2023-05-08 02:26:23,178 [INFO] Timestep 12000.0 to 13000.0 ms\n"
          ]
        },
        {
          "output_type": "stream",
          "name": "stderr",
          "text": [
            "INFO:NEURONIOUtils:Timestep 12000.0 to 13000.0 ms\n"
          ]
        },
        {
          "output_type": "stream",
          "name": "stdout",
          "text": [
            "2023-05-08 02:26:23,182 [INFO] PGN node_id\t  Hz\n"
          ]
        },
        {
          "output_type": "stream",
          "name": "stderr",
          "text": [
            "INFO:NEURONIOUtils:PGN node_id\t  Hz\n"
          ]
        },
        {
          "output_type": "stream",
          "name": "stdout",
          "text": [
            "2023-05-08 02:26:23,186 [INFO] 70\t\t4.0\n"
          ]
        },
        {
          "output_type": "stream",
          "name": "stderr",
          "text": [
            "INFO:NEURONIOUtils:70\t\t4.0\n"
          ]
        },
        {
          "output_type": "stream",
          "name": "stdout",
          "text": [
            "2023-05-08 02:26:23,189 [INFO] 71\t\t4.0\n"
          ]
        },
        {
          "output_type": "stream",
          "name": "stderr",
          "text": [
            "INFO:NEURONIOUtils:71\t\t4.0\n"
          ]
        },
        {
          "output_type": "stream",
          "name": "stdout",
          "text": [
            "2023-05-08 02:26:23,191 [INFO] 72\t\t4.0\n"
          ]
        },
        {
          "output_type": "stream",
          "name": "stderr",
          "text": [
            "INFO:NEURONIOUtils:72\t\t4.0\n"
          ]
        },
        {
          "output_type": "stream",
          "name": "stdout",
          "text": [
            "2023-05-08 02:26:23,193 [INFO] 73\t\t4.0\n"
          ]
        },
        {
          "output_type": "stream",
          "name": "stderr",
          "text": [
            "INFO:NEURONIOUtils:73\t\t4.0\n"
          ]
        },
        {
          "output_type": "stream",
          "name": "stdout",
          "text": [
            "2023-05-08 02:26:23,195 [INFO] 74\t\t4.0\n"
          ]
        },
        {
          "output_type": "stream",
          "name": "stderr",
          "text": [
            "INFO:NEURONIOUtils:74\t\t4.0\n"
          ]
        },
        {
          "output_type": "stream",
          "name": "stdout",
          "text": [
            "2023-05-08 02:26:23,197 [INFO] 75\t\t4.0\n"
          ]
        },
        {
          "output_type": "stream",
          "name": "stderr",
          "text": [
            "INFO:NEURONIOUtils:75\t\t4.0\n"
          ]
        },
        {
          "output_type": "stream",
          "name": "stdout",
          "text": [
            "2023-05-08 02:26:23,199 [INFO] 76\t\t4.0\n"
          ]
        },
        {
          "output_type": "stream",
          "name": "stderr",
          "text": [
            "INFO:NEURONIOUtils:76\t\t4.0\n"
          ]
        },
        {
          "output_type": "stream",
          "name": "stdout",
          "text": [
            "2023-05-08 02:26:23,201 [INFO] 77\t\t4.0\n"
          ]
        },
        {
          "output_type": "stream",
          "name": "stderr",
          "text": [
            "INFO:NEURONIOUtils:77\t\t4.0\n"
          ]
        },
        {
          "output_type": "stream",
          "name": "stdout",
          "text": [
            "2023-05-08 02:26:23,203 [INFO] 78\t\t4.0\n"
          ]
        },
        {
          "output_type": "stream",
          "name": "stderr",
          "text": [
            "INFO:NEURONIOUtils:78\t\t4.0\n"
          ]
        },
        {
          "output_type": "stream",
          "name": "stdout",
          "text": [
            "2023-05-08 02:26:23,205 [INFO] 79\t\t4.0\n"
          ]
        },
        {
          "output_type": "stream",
          "name": "stderr",
          "text": [
            "INFO:NEURONIOUtils:79\t\t4.0\n"
          ]
        },
        {
          "output_type": "stream",
          "name": "stdout",
          "text": [
            "2023-05-08 02:26:23,207 [INFO] PGN firing rate avg: 4.0 Hz\n"
          ]
        },
        {
          "output_type": "stream",
          "name": "stderr",
          "text": [
            "INFO:NEURONIOUtils:PGN firing rate avg: 4.0 Hz\n"
          ]
        },
        {
          "output_type": "stream",
          "name": "stdout",
          "text": [
            "2023-05-08 02:26:23,209 [INFO] Grill PGN fr = 6.3 Hz\n"
          ]
        },
        {
          "output_type": "stream",
          "name": "stderr",
          "text": [
            "INFO:NEURONIOUtils:Grill PGN fr = 6.3 Hz\n"
          ]
        },
        {
          "output_type": "stream",
          "name": "stdout",
          "text": [
            "2023-05-08 02:26:23,211 [INFO] IMG node_gid\t  Hz\n"
          ]
        },
        {
          "output_type": "stream",
          "name": "stderr",
          "text": [
            "INFO:NEURONIOUtils:IMG node_gid\t  Hz\n"
          ]
        },
        {
          "output_type": "stream",
          "name": "stdout",
          "text": [
            "2023-05-08 02:26:23,212 [INFO] IMG firing rate avg: 4.0 Hz\n"
          ]
        },
        {
          "output_type": "stream",
          "name": "stderr",
          "text": [
            "INFO:NEURONIOUtils:IMG firing rate avg: 4.0 Hz\n"
          ]
        },
        {
          "output_type": "stream",
          "name": "stdout",
          "text": [
            "2023-05-08 02:26:23,220 [INFO] Volume = 0.3500 ml\n"
          ]
        },
        {
          "output_type": "stream",
          "name": "stderr",
          "text": [
            "/usr/local/lib/python3.10/dist-packages/bmtk/utils/reports/spike_trains/spike_trains.py:183: RuntimeWarning: divide by zero encountered in double_scalars\n",
            "  interval = -np.log(1.0 - np.random.uniform()) / fr\n",
            "INFO:NEURONIOUtils:Volume = 0.3500 ml\n"
          ]
        },
        {
          "output_type": "stream",
          "name": "stdout",
          "text": [
            "2023-05-08 02:26:23,224 [INFO] Pressure = 4.63 mmHg\n"
          ]
        },
        {
          "output_type": "stream",
          "name": "stderr",
          "text": [
            "INFO:NEURONIOUtils:Pressure = 4.63 mmHg\n"
          ]
        },
        {
          "output_type": "stream",
          "name": "stdout",
          "text": [
            "2023-05-08 02:26:23,226 [INFO] Calculated bladder afferent firing rate for the next time step = 0.00 Hz \n",
            " \n",
            "\n"
          ]
        },
        {
          "output_type": "stream",
          "name": "stderr",
          "text": [
            "INFO:NEURONIOUtils:Calculated bladder afferent firing rate for the next time step = 0.00 Hz \n",
            " \n",
            "\n"
          ]
        },
        {
          "output_type": "stream",
          "name": "stdout",
          "text": [
            "2023-05-08 02:26:25,667 [INFO]     step:70000 t_sim:14000.00 ms\n"
          ]
        },
        {
          "output_type": "stream",
          "name": "stderr",
          "text": [
            "INFO:NEURONIOUtils:    step:70000 t_sim:14000.00 ms\n"
          ]
        },
        {
          "output_type": "stream",
          "name": "stdout",
          "text": [
            "2023-05-08 02:26:25,680 [INFO] Timestep 13000.0 to 14000.0 ms\n"
          ]
        },
        {
          "output_type": "stream",
          "name": "stderr",
          "text": [
            "INFO:NEURONIOUtils:Timestep 13000.0 to 14000.0 ms\n"
          ]
        },
        {
          "output_type": "stream",
          "name": "stdout",
          "text": [
            "2023-05-08 02:26:25,684 [INFO] PGN node_id\t  Hz\n"
          ]
        },
        {
          "output_type": "stream",
          "name": "stderr",
          "text": [
            "INFO:NEURONIOUtils:PGN node_id\t  Hz\n"
          ]
        },
        {
          "output_type": "stream",
          "name": "stdout",
          "text": [
            "2023-05-08 02:26:25,688 [INFO] 70\t\t3.0\n"
          ]
        },
        {
          "output_type": "stream",
          "name": "stderr",
          "text": [
            "INFO:NEURONIOUtils:70\t\t3.0\n"
          ]
        },
        {
          "output_type": "stream",
          "name": "stdout",
          "text": [
            "2023-05-08 02:26:25,691 [INFO] 71\t\t3.0\n"
          ]
        },
        {
          "output_type": "stream",
          "name": "stderr",
          "text": [
            "INFO:NEURONIOUtils:71\t\t3.0\n"
          ]
        },
        {
          "output_type": "stream",
          "name": "stdout",
          "text": [
            "2023-05-08 02:26:25,693 [INFO] 72\t\t3.0\n"
          ]
        },
        {
          "output_type": "stream",
          "name": "stderr",
          "text": [
            "INFO:NEURONIOUtils:72\t\t3.0\n"
          ]
        },
        {
          "output_type": "stream",
          "name": "stdout",
          "text": [
            "2023-05-08 02:26:25,695 [INFO] 73\t\t3.0\n"
          ]
        },
        {
          "output_type": "stream",
          "name": "stderr",
          "text": [
            "INFO:NEURONIOUtils:73\t\t3.0\n"
          ]
        },
        {
          "output_type": "stream",
          "name": "stdout",
          "text": [
            "2023-05-08 02:26:25,697 [INFO] 74\t\t3.0\n"
          ]
        },
        {
          "output_type": "stream",
          "name": "stderr",
          "text": [
            "INFO:NEURONIOUtils:74\t\t3.0\n"
          ]
        },
        {
          "output_type": "stream",
          "name": "stdout",
          "text": [
            "2023-05-08 02:26:25,699 [INFO] 75\t\t3.0\n"
          ]
        },
        {
          "output_type": "stream",
          "name": "stderr",
          "text": [
            "INFO:NEURONIOUtils:75\t\t3.0\n"
          ]
        },
        {
          "output_type": "stream",
          "name": "stdout",
          "text": [
            "2023-05-08 02:26:25,701 [INFO] 76\t\t3.0\n"
          ]
        },
        {
          "output_type": "stream",
          "name": "stderr",
          "text": [
            "INFO:NEURONIOUtils:76\t\t3.0\n"
          ]
        },
        {
          "output_type": "stream",
          "name": "stdout",
          "text": [
            "2023-05-08 02:26:25,703 [INFO] 77\t\t3.0\n"
          ]
        },
        {
          "output_type": "stream",
          "name": "stderr",
          "text": [
            "INFO:NEURONIOUtils:77\t\t3.0\n"
          ]
        },
        {
          "output_type": "stream",
          "name": "stdout",
          "text": [
            "2023-05-08 02:26:25,705 [INFO] 78\t\t3.0\n"
          ]
        },
        {
          "output_type": "stream",
          "name": "stderr",
          "text": [
            "INFO:NEURONIOUtils:78\t\t3.0\n"
          ]
        },
        {
          "output_type": "stream",
          "name": "stdout",
          "text": [
            "2023-05-08 02:26:25,707 [INFO] 79\t\t3.0\n"
          ]
        },
        {
          "output_type": "stream",
          "name": "stderr",
          "text": [
            "INFO:NEURONIOUtils:79\t\t3.0\n"
          ]
        },
        {
          "output_type": "stream",
          "name": "stdout",
          "text": [
            "2023-05-08 02:26:25,709 [INFO] PGN firing rate avg: 3.0 Hz\n"
          ]
        },
        {
          "output_type": "stream",
          "name": "stderr",
          "text": [
            "INFO:NEURONIOUtils:PGN firing rate avg: 3.0 Hz\n"
          ]
        },
        {
          "output_type": "stream",
          "name": "stdout",
          "text": [
            "2023-05-08 02:26:25,716 [INFO] Grill PGN fr = 4.657 Hz\n"
          ]
        },
        {
          "output_type": "stream",
          "name": "stderr",
          "text": [
            "INFO:NEURONIOUtils:Grill PGN fr = 4.657 Hz\n"
          ]
        },
        {
          "output_type": "stream",
          "name": "stdout",
          "text": [
            "2023-05-08 02:26:25,718 [INFO] IMG node_gid\t  Hz\n"
          ]
        },
        {
          "output_type": "stream",
          "name": "stderr",
          "text": [
            "INFO:NEURONIOUtils:IMG node_gid\t  Hz\n"
          ]
        },
        {
          "output_type": "stream",
          "name": "stdout",
          "text": [
            "2023-05-08 02:26:25,720 [INFO] IMG firing rate avg: 3.0 Hz\n"
          ]
        },
        {
          "output_type": "stream",
          "name": "stderr",
          "text": [
            "INFO:NEURONIOUtils:IMG firing rate avg: 3.0 Hz\n"
          ]
        },
        {
          "output_type": "stream",
          "name": "stdout",
          "text": [
            "2023-05-08 02:26:25,730 [INFO] Volume = 0.3792 ml\n"
          ]
        },
        {
          "output_type": "stream",
          "name": "stderr",
          "text": [
            "/usr/local/lib/python3.10/dist-packages/bmtk/utils/reports/spike_trains/spike_trains.py:183: RuntimeWarning: divide by zero encountered in double_scalars\n",
            "  interval = -np.log(1.0 - np.random.uniform()) / fr\n",
            "INFO:NEURONIOUtils:Volume = 0.3792 ml\n"
          ]
        },
        {
          "output_type": "stream",
          "name": "stdout",
          "text": [
            "2023-05-08 02:26:25,733 [INFO] Pressure = 3.43 mmHg\n"
          ]
        },
        {
          "output_type": "stream",
          "name": "stderr",
          "text": [
            "INFO:NEURONIOUtils:Pressure = 3.43 mmHg\n"
          ]
        },
        {
          "output_type": "stream",
          "name": "stdout",
          "text": [
            "2023-05-08 02:26:25,741 [INFO] Calculated bladder afferent firing rate for the next time step = 0.00 Hz \n",
            " \n",
            "\n"
          ]
        },
        {
          "output_type": "stream",
          "name": "stderr",
          "text": [
            "INFO:NEURONIOUtils:Calculated bladder afferent firing rate for the next time step = 0.00 Hz \n",
            " \n",
            "\n"
          ]
        },
        {
          "output_type": "stream",
          "name": "stdout",
          "text": [
            "2023-05-08 02:26:28,008 [INFO]     step:75000 t_sim:15000.00 ms\n"
          ]
        },
        {
          "output_type": "stream",
          "name": "stderr",
          "text": [
            "INFO:NEURONIOUtils:    step:75000 t_sim:15000.00 ms\n"
          ]
        },
        {
          "output_type": "stream",
          "name": "stdout",
          "text": [
            "2023-05-08 02:26:28,023 [INFO] Timestep 14000.0 to 15000.0 ms\n"
          ]
        },
        {
          "output_type": "stream",
          "name": "stderr",
          "text": [
            "INFO:NEURONIOUtils:Timestep 14000.0 to 15000.0 ms\n"
          ]
        },
        {
          "output_type": "stream",
          "name": "stdout",
          "text": [
            "2023-05-08 02:26:28,029 [INFO] PGN node_id\t  Hz\n"
          ]
        },
        {
          "output_type": "stream",
          "name": "stderr",
          "text": [
            "INFO:NEURONIOUtils:PGN node_id\t  Hz\n"
          ]
        },
        {
          "output_type": "stream",
          "name": "stdout",
          "text": [
            "2023-05-08 02:26:28,033 [INFO] 70\t\t1.0\n"
          ]
        },
        {
          "output_type": "stream",
          "name": "stderr",
          "text": [
            "INFO:NEURONIOUtils:70\t\t1.0\n"
          ]
        },
        {
          "output_type": "stream",
          "name": "stdout",
          "text": [
            "2023-05-08 02:26:28,035 [INFO] 71\t\t1.0\n"
          ]
        },
        {
          "output_type": "stream",
          "name": "stderr",
          "text": [
            "INFO:NEURONIOUtils:71\t\t1.0\n"
          ]
        },
        {
          "output_type": "stream",
          "name": "stdout",
          "text": [
            "2023-05-08 02:26:28,037 [INFO] 72\t\t1.0\n"
          ]
        },
        {
          "output_type": "stream",
          "name": "stderr",
          "text": [
            "INFO:NEURONIOUtils:72\t\t1.0\n"
          ]
        },
        {
          "output_type": "stream",
          "name": "stdout",
          "text": [
            "2023-05-08 02:26:28,039 [INFO] 73\t\t1.0\n"
          ]
        },
        {
          "output_type": "stream",
          "name": "stderr",
          "text": [
            "INFO:NEURONIOUtils:73\t\t1.0\n"
          ]
        },
        {
          "output_type": "stream",
          "name": "stdout",
          "text": [
            "2023-05-08 02:26:28,042 [INFO] 74\t\t1.0\n"
          ]
        },
        {
          "output_type": "stream",
          "name": "stderr",
          "text": [
            "INFO:NEURONIOUtils:74\t\t1.0\n"
          ]
        },
        {
          "output_type": "stream",
          "name": "stdout",
          "text": [
            "2023-05-08 02:26:28,044 [INFO] 75\t\t1.0\n"
          ]
        },
        {
          "output_type": "stream",
          "name": "stderr",
          "text": [
            "INFO:NEURONIOUtils:75\t\t1.0\n"
          ]
        },
        {
          "output_type": "stream",
          "name": "stdout",
          "text": [
            "2023-05-08 02:26:28,047 [INFO] 76\t\t1.0\n"
          ]
        },
        {
          "output_type": "stream",
          "name": "stderr",
          "text": [
            "INFO:NEURONIOUtils:76\t\t1.0\n"
          ]
        },
        {
          "output_type": "stream",
          "name": "stdout",
          "text": [
            "2023-05-08 02:26:28,049 [INFO] 77\t\t1.0\n"
          ]
        },
        {
          "output_type": "stream",
          "name": "stderr",
          "text": [
            "INFO:NEURONIOUtils:77\t\t1.0\n"
          ]
        },
        {
          "output_type": "stream",
          "name": "stdout",
          "text": [
            "2023-05-08 02:26:28,051 [INFO] 78\t\t1.0\n"
          ]
        },
        {
          "output_type": "stream",
          "name": "stderr",
          "text": [
            "INFO:NEURONIOUtils:78\t\t1.0\n"
          ]
        },
        {
          "output_type": "stream",
          "name": "stdout",
          "text": [
            "2023-05-08 02:26:28,054 [INFO] 79\t\t1.0\n"
          ]
        },
        {
          "output_type": "stream",
          "name": "stderr",
          "text": [
            "INFO:NEURONIOUtils:79\t\t1.0\n"
          ]
        },
        {
          "output_type": "stream",
          "name": "stdout",
          "text": [
            "2023-05-08 02:26:28,060 [INFO] PGN firing rate avg: 1.0 Hz\n"
          ]
        },
        {
          "output_type": "stream",
          "name": "stderr",
          "text": [
            "INFO:NEURONIOUtils:PGN firing rate avg: 1.0 Hz\n"
          ]
        },
        {
          "output_type": "stream",
          "name": "stdout",
          "text": [
            "2023-05-08 02:26:28,062 [INFO] Grill PGN fr = 1.2690000000000001 Hz\n"
          ]
        },
        {
          "output_type": "stream",
          "name": "stderr",
          "text": [
            "INFO:NEURONIOUtils:Grill PGN fr = 1.2690000000000001 Hz\n"
          ]
        },
        {
          "output_type": "stream",
          "name": "stdout",
          "text": [
            "2023-05-08 02:26:28,064 [INFO] IMG node_gid\t  Hz\n"
          ]
        },
        {
          "output_type": "stream",
          "name": "stderr",
          "text": [
            "INFO:NEURONIOUtils:IMG node_gid\t  Hz\n"
          ]
        },
        {
          "output_type": "stream",
          "name": "stdout",
          "text": [
            "2023-05-08 02:26:28,066 [INFO] IMG firing rate avg: 1.0 Hz\n"
          ]
        },
        {
          "output_type": "stream",
          "name": "stderr",
          "text": [
            "INFO:NEURONIOUtils:IMG firing rate avg: 1.0 Hz\n"
          ]
        },
        {
          "output_type": "stream",
          "name": "stdout",
          "text": [
            "2023-05-08 02:26:28,074 [INFO] Volume = 0.4083 ml\n"
          ]
        },
        {
          "output_type": "stream",
          "name": "stderr",
          "text": [
            "/usr/local/lib/python3.10/dist-packages/bmtk/utils/reports/spike_trains/spike_trains.py:183: RuntimeWarning: divide by zero encountered in double_scalars\n",
            "  interval = -np.log(1.0 - np.random.uniform()) / fr\n",
            "INFO:NEURONIOUtils:Volume = 0.4083 ml\n"
          ]
        },
        {
          "output_type": "stream",
          "name": "stdout",
          "text": [
            "2023-05-08 02:26:28,077 [INFO] Pressure = 0.93 mmHg\n"
          ]
        },
        {
          "output_type": "stream",
          "name": "stderr",
          "text": [
            "INFO:NEURONIOUtils:Pressure = 0.93 mmHg\n"
          ]
        },
        {
          "output_type": "stream",
          "name": "stdout",
          "text": [
            "2023-05-08 02:26:28,079 [INFO] Calculated bladder afferent firing rate for the next time step = 0.00 Hz \n",
            " \n",
            "\n"
          ]
        },
        {
          "output_type": "stream",
          "name": "stderr",
          "text": [
            "INFO:NEURONIOUtils:Calculated bladder afferent firing rate for the next time step = 0.00 Hz \n",
            " \n",
            "\n"
          ]
        },
        {
          "output_type": "stream",
          "name": "stdout",
          "text": [
            "2023-05-08 02:26:30,149 [INFO]     step:80000 t_sim:16000.00 ms\n"
          ]
        },
        {
          "output_type": "stream",
          "name": "stderr",
          "text": [
            "INFO:NEURONIOUtils:    step:80000 t_sim:16000.00 ms\n"
          ]
        },
        {
          "output_type": "stream",
          "name": "stdout",
          "text": [
            "2023-05-08 02:26:30,159 [INFO] Timestep 15000.0 to 16000.0 ms\n"
          ]
        },
        {
          "output_type": "stream",
          "name": "stderr",
          "text": [
            "INFO:NEURONIOUtils:Timestep 15000.0 to 16000.0 ms\n"
          ]
        },
        {
          "output_type": "stream",
          "name": "stdout",
          "text": [
            "2023-05-08 02:26:30,163 [INFO] PGN node_id\t  Hz\n"
          ]
        },
        {
          "output_type": "stream",
          "name": "stderr",
          "text": [
            "INFO:NEURONIOUtils:PGN node_id\t  Hz\n"
          ]
        },
        {
          "output_type": "stream",
          "name": "stdout",
          "text": [
            "2023-05-08 02:26:30,167 [INFO] 70\t\t1.0\n"
          ]
        },
        {
          "output_type": "stream",
          "name": "stderr",
          "text": [
            "INFO:NEURONIOUtils:70\t\t1.0\n"
          ]
        },
        {
          "output_type": "stream",
          "name": "stdout",
          "text": [
            "2023-05-08 02:26:30,169 [INFO] 71\t\t1.0\n"
          ]
        },
        {
          "output_type": "stream",
          "name": "stderr",
          "text": [
            "INFO:NEURONIOUtils:71\t\t1.0\n"
          ]
        },
        {
          "output_type": "stream",
          "name": "stdout",
          "text": [
            "2023-05-08 02:26:30,172 [INFO] 72\t\t1.0\n"
          ]
        },
        {
          "output_type": "stream",
          "name": "stderr",
          "text": [
            "INFO:NEURONIOUtils:72\t\t1.0\n"
          ]
        },
        {
          "output_type": "stream",
          "name": "stdout",
          "text": [
            "2023-05-08 02:26:30,174 [INFO] 73\t\t1.0\n"
          ]
        },
        {
          "output_type": "stream",
          "name": "stderr",
          "text": [
            "INFO:NEURONIOUtils:73\t\t1.0\n"
          ]
        },
        {
          "output_type": "stream",
          "name": "stdout",
          "text": [
            "2023-05-08 02:26:30,176 [INFO] 74\t\t1.0\n"
          ]
        },
        {
          "output_type": "stream",
          "name": "stderr",
          "text": [
            "INFO:NEURONIOUtils:74\t\t1.0\n"
          ]
        },
        {
          "output_type": "stream",
          "name": "stdout",
          "text": [
            "2023-05-08 02:26:30,178 [INFO] 75\t\t1.0\n"
          ]
        },
        {
          "output_type": "stream",
          "name": "stderr",
          "text": [
            "INFO:NEURONIOUtils:75\t\t1.0\n"
          ]
        },
        {
          "output_type": "stream",
          "name": "stdout",
          "text": [
            "2023-05-08 02:26:30,180 [INFO] 76\t\t1.0\n"
          ]
        },
        {
          "output_type": "stream",
          "name": "stderr",
          "text": [
            "INFO:NEURONIOUtils:76\t\t1.0\n"
          ]
        },
        {
          "output_type": "stream",
          "name": "stdout",
          "text": [
            "2023-05-08 02:26:30,183 [INFO] 77\t\t1.0\n"
          ]
        },
        {
          "output_type": "stream",
          "name": "stderr",
          "text": [
            "INFO:NEURONIOUtils:77\t\t1.0\n"
          ]
        },
        {
          "output_type": "stream",
          "name": "stdout",
          "text": [
            "2023-05-08 02:26:30,185 [INFO] 78\t\t1.0\n"
          ]
        },
        {
          "output_type": "stream",
          "name": "stderr",
          "text": [
            "INFO:NEURONIOUtils:78\t\t1.0\n"
          ]
        },
        {
          "output_type": "stream",
          "name": "stdout",
          "text": [
            "2023-05-08 02:26:30,187 [INFO] 79\t\t1.0\n"
          ]
        },
        {
          "output_type": "stream",
          "name": "stderr",
          "text": [
            "INFO:NEURONIOUtils:79\t\t1.0\n"
          ]
        },
        {
          "output_type": "stream",
          "name": "stdout",
          "text": [
            "2023-05-08 02:26:30,189 [INFO] PGN firing rate avg: 1.0 Hz\n"
          ]
        },
        {
          "output_type": "stream",
          "name": "stderr",
          "text": [
            "INFO:NEURONIOUtils:PGN firing rate avg: 1.0 Hz\n"
          ]
        },
        {
          "output_type": "stream",
          "name": "stdout",
          "text": [
            "2023-05-08 02:26:30,191 [INFO] Grill PGN fr = 1.2690000000000001 Hz\n"
          ]
        },
        {
          "output_type": "stream",
          "name": "stderr",
          "text": [
            "INFO:NEURONIOUtils:Grill PGN fr = 1.2690000000000001 Hz\n"
          ]
        },
        {
          "output_type": "stream",
          "name": "stdout",
          "text": [
            "2023-05-08 02:26:30,193 [INFO] IMG node_gid\t  Hz\n"
          ]
        },
        {
          "output_type": "stream",
          "name": "stderr",
          "text": [
            "INFO:NEURONIOUtils:IMG node_gid\t  Hz\n"
          ]
        },
        {
          "output_type": "stream",
          "name": "stdout",
          "text": [
            "2023-05-08 02:26:30,195 [INFO] IMG firing rate avg: 1.0 Hz\n"
          ]
        },
        {
          "output_type": "stream",
          "name": "stderr",
          "text": [
            "INFO:NEURONIOUtils:IMG firing rate avg: 1.0 Hz\n"
          ]
        },
        {
          "output_type": "stream",
          "name": "stdout",
          "text": [
            "2023-05-08 02:26:30,203 [INFO] Volume = 0.4375 ml\n"
          ]
        },
        {
          "output_type": "stream",
          "name": "stderr",
          "text": [
            "/usr/local/lib/python3.10/dist-packages/bmtk/utils/reports/spike_trains/spike_trains.py:183: RuntimeWarning: divide by zero encountered in double_scalars\n",
            "  interval = -np.log(1.0 - np.random.uniform()) / fr\n",
            "INFO:NEURONIOUtils:Volume = 0.4375 ml\n"
          ]
        },
        {
          "output_type": "stream",
          "name": "stdout",
          "text": [
            "2023-05-08 02:26:30,206 [INFO] Pressure = 0.93 mmHg\n"
          ]
        },
        {
          "output_type": "stream",
          "name": "stderr",
          "text": [
            "INFO:NEURONIOUtils:Pressure = 0.93 mmHg\n"
          ]
        },
        {
          "output_type": "stream",
          "name": "stdout",
          "text": [
            "2023-05-08 02:26:30,208 [INFO] Calculated bladder afferent firing rate for the next time step = 0.00 Hz \n",
            " \n",
            "\n"
          ]
        },
        {
          "output_type": "stream",
          "name": "stderr",
          "text": [
            "INFO:NEURONIOUtils:Calculated bladder afferent firing rate for the next time step = 0.00 Hz \n",
            " \n",
            "\n"
          ]
        },
        {
          "output_type": "stream",
          "name": "stdout",
          "text": [
            "2023-05-08 02:26:32,296 [INFO]     step:85000 t_sim:17000.00 ms\n"
          ]
        },
        {
          "output_type": "stream",
          "name": "stderr",
          "text": [
            "INFO:NEURONIOUtils:    step:85000 t_sim:17000.00 ms\n"
          ]
        },
        {
          "output_type": "stream",
          "name": "stdout",
          "text": [
            "2023-05-08 02:26:32,311 [INFO] Timestep 16000.0 to 17000.0 ms\n"
          ]
        },
        {
          "output_type": "stream",
          "name": "stderr",
          "text": [
            "INFO:NEURONIOUtils:Timestep 16000.0 to 17000.0 ms\n"
          ]
        },
        {
          "output_type": "stream",
          "name": "stdout",
          "text": [
            "2023-05-08 02:26:32,315 [INFO] PGN node_id\t  Hz\n"
          ]
        },
        {
          "output_type": "stream",
          "name": "stderr",
          "text": [
            "INFO:NEURONIOUtils:PGN node_id\t  Hz\n"
          ]
        },
        {
          "output_type": "stream",
          "name": "stdout",
          "text": [
            "2023-05-08 02:26:32,319 [INFO] 70\t\t2.0\n"
          ]
        },
        {
          "output_type": "stream",
          "name": "stderr",
          "text": [
            "INFO:NEURONIOUtils:70\t\t2.0\n"
          ]
        },
        {
          "output_type": "stream",
          "name": "stdout",
          "text": [
            "2023-05-08 02:26:32,322 [INFO] 71\t\t2.0\n"
          ]
        },
        {
          "output_type": "stream",
          "name": "stderr",
          "text": [
            "INFO:NEURONIOUtils:71\t\t2.0\n"
          ]
        },
        {
          "output_type": "stream",
          "name": "stdout",
          "text": [
            "2023-05-08 02:26:32,324 [INFO] 72\t\t2.0\n"
          ]
        },
        {
          "output_type": "stream",
          "name": "stderr",
          "text": [
            "INFO:NEURONIOUtils:72\t\t2.0\n"
          ]
        },
        {
          "output_type": "stream",
          "name": "stdout",
          "text": [
            "2023-05-08 02:26:32,326 [INFO] 73\t\t2.0\n"
          ]
        },
        {
          "output_type": "stream",
          "name": "stderr",
          "text": [
            "INFO:NEURONIOUtils:73\t\t2.0\n"
          ]
        },
        {
          "output_type": "stream",
          "name": "stdout",
          "text": [
            "2023-05-08 02:26:32,328 [INFO] 74\t\t2.0\n"
          ]
        },
        {
          "output_type": "stream",
          "name": "stderr",
          "text": [
            "INFO:NEURONIOUtils:74\t\t2.0\n"
          ]
        },
        {
          "output_type": "stream",
          "name": "stdout",
          "text": [
            "2023-05-08 02:26:32,330 [INFO] 75\t\t2.0\n"
          ]
        },
        {
          "output_type": "stream",
          "name": "stderr",
          "text": [
            "INFO:NEURONIOUtils:75\t\t2.0\n"
          ]
        },
        {
          "output_type": "stream",
          "name": "stdout",
          "text": [
            "2023-05-08 02:26:32,332 [INFO] 76\t\t2.0\n"
          ]
        },
        {
          "output_type": "stream",
          "name": "stderr",
          "text": [
            "INFO:NEURONIOUtils:76\t\t2.0\n"
          ]
        },
        {
          "output_type": "stream",
          "name": "stdout",
          "text": [
            "2023-05-08 02:26:32,334 [INFO] 77\t\t2.0\n"
          ]
        },
        {
          "output_type": "stream",
          "name": "stderr",
          "text": [
            "INFO:NEURONIOUtils:77\t\t2.0\n"
          ]
        },
        {
          "output_type": "stream",
          "name": "stdout",
          "text": [
            "2023-05-08 02:26:32,336 [INFO] 78\t\t2.0\n"
          ]
        },
        {
          "output_type": "stream",
          "name": "stderr",
          "text": [
            "INFO:NEURONIOUtils:78\t\t2.0\n"
          ]
        },
        {
          "output_type": "stream",
          "name": "stdout",
          "text": [
            "2023-05-08 02:26:32,338 [INFO] 79\t\t2.0\n"
          ]
        },
        {
          "output_type": "stream",
          "name": "stderr",
          "text": [
            "INFO:NEURONIOUtils:79\t\t2.0\n"
          ]
        },
        {
          "output_type": "stream",
          "name": "stdout",
          "text": [
            "2023-05-08 02:26:32,340 [INFO] PGN firing rate avg: 2.0 Hz\n"
          ]
        },
        {
          "output_type": "stream",
          "name": "stderr",
          "text": [
            "INFO:NEURONIOUtils:PGN firing rate avg: 2.0 Hz\n"
          ]
        },
        {
          "output_type": "stream",
          "name": "stdout",
          "text": [
            "2023-05-08 02:26:32,342 [INFO] Grill PGN fr = 2.984 Hz\n"
          ]
        },
        {
          "output_type": "stream",
          "name": "stderr",
          "text": [
            "INFO:NEURONIOUtils:Grill PGN fr = 2.984 Hz\n"
          ]
        },
        {
          "output_type": "stream",
          "name": "stdout",
          "text": [
            "2023-05-08 02:26:32,343 [INFO] IMG node_gid\t  Hz\n"
          ]
        },
        {
          "output_type": "stream",
          "name": "stderr",
          "text": [
            "INFO:NEURONIOUtils:IMG node_gid\t  Hz\n"
          ]
        },
        {
          "output_type": "stream",
          "name": "stdout",
          "text": [
            "2023-05-08 02:26:32,345 [INFO] IMG firing rate avg: 2.0 Hz\n"
          ]
        },
        {
          "output_type": "stream",
          "name": "stderr",
          "text": [
            "INFO:NEURONIOUtils:IMG firing rate avg: 2.0 Hz\n"
          ]
        },
        {
          "output_type": "stream",
          "name": "stdout",
          "text": [
            "2023-05-08 02:26:32,352 [INFO] Volume = 0.4667 ml\n"
          ]
        },
        {
          "output_type": "stream",
          "name": "stderr",
          "text": [
            "/usr/local/lib/python3.10/dist-packages/bmtk/utils/reports/spike_trains/spike_trains.py:183: RuntimeWarning: divide by zero encountered in double_scalars\n",
            "  interval = -np.log(1.0 - np.random.uniform()) / fr\n",
            "INFO:NEURONIOUtils:Volume = 0.4667 ml\n"
          ]
        },
        {
          "output_type": "stream",
          "name": "stdout",
          "text": [
            "2023-05-08 02:26:32,361 [INFO] Pressure = 2.19 mmHg\n"
          ]
        },
        {
          "output_type": "stream",
          "name": "stderr",
          "text": [
            "INFO:NEURONIOUtils:Pressure = 2.19 mmHg\n"
          ]
        },
        {
          "output_type": "stream",
          "name": "stdout",
          "text": [
            "2023-05-08 02:26:32,363 [INFO] Calculated bladder afferent firing rate for the next time step = 0.00 Hz \n",
            " \n",
            "\n"
          ]
        },
        {
          "output_type": "stream",
          "name": "stderr",
          "text": [
            "INFO:NEURONIOUtils:Calculated bladder afferent firing rate for the next time step = 0.00 Hz \n",
            " \n",
            "\n"
          ]
        },
        {
          "output_type": "stream",
          "name": "stdout",
          "text": [
            "2023-05-08 02:26:34,368 [INFO]     step:90000 t_sim:18000.00 ms\n"
          ]
        },
        {
          "output_type": "stream",
          "name": "stderr",
          "text": [
            "INFO:NEURONIOUtils:    step:90000 t_sim:18000.00 ms\n"
          ]
        },
        {
          "output_type": "stream",
          "name": "stdout",
          "text": [
            "2023-05-08 02:26:34,378 [INFO] Timestep 17000.0 to 18000.0 ms\n"
          ]
        },
        {
          "output_type": "stream",
          "name": "stderr",
          "text": [
            "INFO:NEURONIOUtils:Timestep 17000.0 to 18000.0 ms\n"
          ]
        },
        {
          "output_type": "stream",
          "name": "stdout",
          "text": [
            "2023-05-08 02:26:34,386 [INFO] PGN node_id\t  Hz\n"
          ]
        },
        {
          "output_type": "stream",
          "name": "stderr",
          "text": [
            "INFO:NEURONIOUtils:PGN node_id\t  Hz\n"
          ]
        },
        {
          "output_type": "stream",
          "name": "stdout",
          "text": [
            "2023-05-08 02:26:34,391 [INFO] 70\t\t2.0\n"
          ]
        },
        {
          "output_type": "stream",
          "name": "stderr",
          "text": [
            "INFO:NEURONIOUtils:70\t\t2.0\n"
          ]
        },
        {
          "output_type": "stream",
          "name": "stdout",
          "text": [
            "2023-05-08 02:26:34,394 [INFO] 71\t\t2.0\n"
          ]
        },
        {
          "output_type": "stream",
          "name": "stderr",
          "text": [
            "INFO:NEURONIOUtils:71\t\t2.0\n"
          ]
        },
        {
          "output_type": "stream",
          "name": "stdout",
          "text": [
            "2023-05-08 02:26:34,397 [INFO] 72\t\t2.0\n"
          ]
        },
        {
          "output_type": "stream",
          "name": "stderr",
          "text": [
            "INFO:NEURONIOUtils:72\t\t2.0\n"
          ]
        },
        {
          "output_type": "stream",
          "name": "stdout",
          "text": [
            "2023-05-08 02:26:34,399 [INFO] 73\t\t2.0\n"
          ]
        },
        {
          "output_type": "stream",
          "name": "stderr",
          "text": [
            "INFO:NEURONIOUtils:73\t\t2.0\n"
          ]
        },
        {
          "output_type": "stream",
          "name": "stdout",
          "text": [
            "2023-05-08 02:26:34,401 [INFO] 74\t\t2.0\n"
          ]
        },
        {
          "output_type": "stream",
          "name": "stderr",
          "text": [
            "INFO:NEURONIOUtils:74\t\t2.0\n"
          ]
        },
        {
          "output_type": "stream",
          "name": "stdout",
          "text": [
            "2023-05-08 02:26:34,403 [INFO] 75\t\t2.0\n"
          ]
        },
        {
          "output_type": "stream",
          "name": "stderr",
          "text": [
            "INFO:NEURONIOUtils:75\t\t2.0\n"
          ]
        },
        {
          "output_type": "stream",
          "name": "stdout",
          "text": [
            "2023-05-08 02:26:34,405 [INFO] 76\t\t2.0\n"
          ]
        },
        {
          "output_type": "stream",
          "name": "stderr",
          "text": [
            "INFO:NEURONIOUtils:76\t\t2.0\n"
          ]
        },
        {
          "output_type": "stream",
          "name": "stdout",
          "text": [
            "2023-05-08 02:26:34,407 [INFO] 77\t\t2.0\n"
          ]
        },
        {
          "output_type": "stream",
          "name": "stderr",
          "text": [
            "INFO:NEURONIOUtils:77\t\t2.0\n"
          ]
        },
        {
          "output_type": "stream",
          "name": "stdout",
          "text": [
            "2023-05-08 02:26:34,414 [INFO] 78\t\t2.0\n"
          ]
        },
        {
          "output_type": "stream",
          "name": "stderr",
          "text": [
            "INFO:NEURONIOUtils:78\t\t2.0\n"
          ]
        },
        {
          "output_type": "stream",
          "name": "stdout",
          "text": [
            "2023-05-08 02:26:34,416 [INFO] 79\t\t2.0\n"
          ]
        },
        {
          "output_type": "stream",
          "name": "stderr",
          "text": [
            "INFO:NEURONIOUtils:79\t\t2.0\n"
          ]
        },
        {
          "output_type": "stream",
          "name": "stdout",
          "text": [
            "2023-05-08 02:26:34,418 [INFO] PGN firing rate avg: 2.0 Hz\n"
          ]
        },
        {
          "output_type": "stream",
          "name": "stderr",
          "text": [
            "INFO:NEURONIOUtils:PGN firing rate avg: 2.0 Hz\n"
          ]
        },
        {
          "output_type": "stream",
          "name": "stdout",
          "text": [
            "2023-05-08 02:26:34,422 [INFO] Grill PGN fr = 2.984 Hz\n"
          ]
        },
        {
          "output_type": "stream",
          "name": "stderr",
          "text": [
            "INFO:NEURONIOUtils:Grill PGN fr = 2.984 Hz\n"
          ]
        },
        {
          "output_type": "stream",
          "name": "stdout",
          "text": [
            "2023-05-08 02:26:34,424 [INFO] IMG node_gid\t  Hz\n"
          ]
        },
        {
          "output_type": "stream",
          "name": "stderr",
          "text": [
            "INFO:NEURONIOUtils:IMG node_gid\t  Hz\n"
          ]
        },
        {
          "output_type": "stream",
          "name": "stdout",
          "text": [
            "2023-05-08 02:26:34,426 [INFO] IMG firing rate avg: 2.0 Hz\n"
          ]
        },
        {
          "output_type": "stream",
          "name": "stderr",
          "text": [
            "INFO:NEURONIOUtils:IMG firing rate avg: 2.0 Hz\n"
          ]
        },
        {
          "output_type": "stream",
          "name": "stdout",
          "text": [
            "2023-05-08 02:26:34,436 [INFO] Volume = 0.4958 ml\n"
          ]
        },
        {
          "output_type": "stream",
          "name": "stderr",
          "text": [
            "/usr/local/lib/python3.10/dist-packages/bmtk/utils/reports/spike_trains/spike_trains.py:183: RuntimeWarning: divide by zero encountered in double_scalars\n",
            "  interval = -np.log(1.0 - np.random.uniform()) / fr\n",
            "INFO:NEURONIOUtils:Volume = 0.4958 ml\n"
          ]
        },
        {
          "output_type": "stream",
          "name": "stdout",
          "text": [
            "2023-05-08 02:26:34,442 [INFO] Pressure = 2.19 mmHg\n"
          ]
        },
        {
          "output_type": "stream",
          "name": "stderr",
          "text": [
            "INFO:NEURONIOUtils:Pressure = 2.19 mmHg\n"
          ]
        },
        {
          "output_type": "stream",
          "name": "stdout",
          "text": [
            "2023-05-08 02:26:34,444 [INFO] Calculated bladder afferent firing rate for the next time step = 0.00 Hz \n",
            " \n",
            "\n"
          ]
        },
        {
          "output_type": "stream",
          "name": "stderr",
          "text": [
            "INFO:NEURONIOUtils:Calculated bladder afferent firing rate for the next time step = 0.00 Hz \n",
            " \n",
            "\n"
          ]
        },
        {
          "output_type": "stream",
          "name": "stdout",
          "text": [
            "2023-05-08 02:26:39,272 [INFO]     step:95000 t_sim:19000.00 ms\n"
          ]
        },
        {
          "output_type": "stream",
          "name": "stderr",
          "text": [
            "INFO:NEURONIOUtils:    step:95000 t_sim:19000.00 ms\n"
          ]
        },
        {
          "output_type": "stream",
          "name": "stdout",
          "text": [
            "2023-05-08 02:26:39,296 [INFO] Timestep 18000.0 to 19000.0 ms\n"
          ]
        },
        {
          "output_type": "stream",
          "name": "stderr",
          "text": [
            "INFO:NEURONIOUtils:Timestep 18000.0 to 19000.0 ms\n"
          ]
        },
        {
          "output_type": "stream",
          "name": "stdout",
          "text": [
            "2023-05-08 02:26:39,311 [INFO] PGN node_id\t  Hz\n"
          ]
        },
        {
          "output_type": "stream",
          "name": "stderr",
          "text": [
            "INFO:NEURONIOUtils:PGN node_id\t  Hz\n"
          ]
        },
        {
          "output_type": "stream",
          "name": "stdout",
          "text": [
            "2023-05-08 02:26:39,323 [INFO] 70\t\t4.0\n"
          ]
        },
        {
          "output_type": "stream",
          "name": "stderr",
          "text": [
            "INFO:NEURONIOUtils:70\t\t4.0\n"
          ]
        },
        {
          "output_type": "stream",
          "name": "stdout",
          "text": [
            "2023-05-08 02:26:39,334 [INFO] 71\t\t4.0\n"
          ]
        },
        {
          "output_type": "stream",
          "name": "stderr",
          "text": [
            "INFO:NEURONIOUtils:71\t\t4.0\n"
          ]
        },
        {
          "output_type": "stream",
          "name": "stdout",
          "text": [
            "2023-05-08 02:26:39,338 [INFO] 72\t\t4.0\n"
          ]
        },
        {
          "output_type": "stream",
          "name": "stderr",
          "text": [
            "INFO:NEURONIOUtils:72\t\t4.0\n"
          ]
        },
        {
          "output_type": "stream",
          "name": "stdout",
          "text": [
            "2023-05-08 02:26:39,354 [INFO] 73\t\t4.0\n"
          ]
        },
        {
          "output_type": "stream",
          "name": "stderr",
          "text": [
            "INFO:NEURONIOUtils:73\t\t4.0\n"
          ]
        },
        {
          "output_type": "stream",
          "name": "stdout",
          "text": [
            "2023-05-08 02:26:39,359 [INFO] 74\t\t4.0\n"
          ]
        },
        {
          "output_type": "stream",
          "name": "stderr",
          "text": [
            "INFO:NEURONIOUtils:74\t\t4.0\n"
          ]
        },
        {
          "output_type": "stream",
          "name": "stdout",
          "text": [
            "2023-05-08 02:26:39,374 [INFO] 75\t\t4.0\n"
          ]
        },
        {
          "output_type": "stream",
          "name": "stderr",
          "text": [
            "INFO:NEURONIOUtils:75\t\t4.0\n"
          ]
        },
        {
          "output_type": "stream",
          "name": "stdout",
          "text": [
            "2023-05-08 02:26:39,378 [INFO] 76\t\t4.0\n"
          ]
        },
        {
          "output_type": "stream",
          "name": "stderr",
          "text": [
            "INFO:NEURONIOUtils:76\t\t4.0\n"
          ]
        },
        {
          "output_type": "stream",
          "name": "stdout",
          "text": [
            "2023-05-08 02:26:39,385 [INFO] 77\t\t4.0\n"
          ]
        },
        {
          "output_type": "stream",
          "name": "stderr",
          "text": [
            "INFO:NEURONIOUtils:77\t\t4.0\n"
          ]
        },
        {
          "output_type": "stream",
          "name": "stdout",
          "text": [
            "2023-05-08 02:26:39,396 [INFO] 78\t\t4.0\n"
          ]
        },
        {
          "output_type": "stream",
          "name": "stderr",
          "text": [
            "INFO:NEURONIOUtils:78\t\t4.0\n"
          ]
        },
        {
          "output_type": "stream",
          "name": "stdout",
          "text": [
            "2023-05-08 02:26:39,398 [INFO] 79\t\t4.0\n"
          ]
        },
        {
          "output_type": "stream",
          "name": "stderr",
          "text": [
            "INFO:NEURONIOUtils:79\t\t4.0\n"
          ]
        },
        {
          "output_type": "stream",
          "name": "stdout",
          "text": [
            "2023-05-08 02:26:39,403 [INFO] PGN firing rate avg: 4.0 Hz\n"
          ]
        },
        {
          "output_type": "stream",
          "name": "stderr",
          "text": [
            "INFO:NEURONIOUtils:PGN firing rate avg: 4.0 Hz\n"
          ]
        },
        {
          "output_type": "stream",
          "name": "stdout",
          "text": [
            "2023-05-08 02:26:39,411 [INFO] Grill PGN fr = 6.3 Hz\n"
          ]
        },
        {
          "output_type": "stream",
          "name": "stderr",
          "text": [
            "INFO:NEURONIOUtils:Grill PGN fr = 6.3 Hz\n"
          ]
        },
        {
          "output_type": "stream",
          "name": "stdout",
          "text": [
            "2023-05-08 02:26:39,420 [INFO] IMG node_gid\t  Hz\n"
          ]
        },
        {
          "output_type": "stream",
          "name": "stderr",
          "text": [
            "INFO:NEURONIOUtils:IMG node_gid\t  Hz\n"
          ]
        },
        {
          "output_type": "stream",
          "name": "stdout",
          "text": [
            "2023-05-08 02:26:39,422 [INFO] IMG firing rate avg: 4.0 Hz\n"
          ]
        },
        {
          "output_type": "stream",
          "name": "stderr",
          "text": [
            "INFO:NEURONIOUtils:IMG firing rate avg: 4.0 Hz\n"
          ]
        },
        {
          "output_type": "stream",
          "name": "stdout",
          "text": [
            "2023-05-08 02:26:39,438 [INFO] Volume = 0.5250 ml\n"
          ]
        },
        {
          "output_type": "stream",
          "name": "stderr",
          "text": [
            "/usr/local/lib/python3.10/dist-packages/bmtk/utils/reports/spike_trains/spike_trains.py:183: RuntimeWarning: divide by zero encountered in double_scalars\n",
            "  interval = -np.log(1.0 - np.random.uniform()) / fr\n",
            "INFO:NEURONIOUtils:Volume = 0.5250 ml\n"
          ]
        },
        {
          "output_type": "stream",
          "name": "stdout",
          "text": [
            "2023-05-08 02:26:39,446 [INFO] Pressure = 4.63 mmHg\n"
          ]
        },
        {
          "output_type": "stream",
          "name": "stderr",
          "text": [
            "INFO:NEURONIOUtils:Pressure = 4.63 mmHg\n"
          ]
        },
        {
          "output_type": "stream",
          "name": "stdout",
          "text": [
            "2023-05-08 02:26:39,455 [INFO] Calculated bladder afferent firing rate for the next time step = 0.00 Hz \n",
            " \n",
            "\n"
          ]
        },
        {
          "output_type": "stream",
          "name": "stderr",
          "text": [
            "INFO:NEURONIOUtils:Calculated bladder afferent firing rate for the next time step = 0.00 Hz \n",
            " \n",
            "\n"
          ]
        },
        {
          "output_type": "stream",
          "name": "stdout",
          "text": [
            "2023-05-08 02:26:42,802 [INFO]     step:100000 t_sim:20000.00 ms\n"
          ]
        },
        {
          "output_type": "stream",
          "name": "stderr",
          "text": [
            "INFO:NEURONIOUtils:    step:100000 t_sim:20000.00 ms\n"
          ]
        },
        {
          "output_type": "stream",
          "name": "stdout",
          "text": [
            "2023-05-08 02:26:42,825 [INFO] Timestep 19000.0 to 20000.0 ms\n"
          ]
        },
        {
          "output_type": "stream",
          "name": "stderr",
          "text": [
            "INFO:NEURONIOUtils:Timestep 19000.0 to 20000.0 ms\n"
          ]
        },
        {
          "output_type": "stream",
          "name": "stdout",
          "text": [
            "2023-05-08 02:26:42,834 [INFO] PGN node_id\t  Hz\n"
          ]
        },
        {
          "output_type": "stream",
          "name": "stderr",
          "text": [
            "INFO:NEURONIOUtils:PGN node_id\t  Hz\n"
          ]
        },
        {
          "output_type": "stream",
          "name": "stdout",
          "text": [
            "2023-05-08 02:26:42,840 [INFO] 70\t\t2.0\n"
          ]
        },
        {
          "output_type": "stream",
          "name": "stderr",
          "text": [
            "INFO:NEURONIOUtils:70\t\t2.0\n"
          ]
        },
        {
          "output_type": "stream",
          "name": "stdout",
          "text": [
            "2023-05-08 02:26:42,844 [INFO] 71\t\t2.0\n"
          ]
        },
        {
          "output_type": "stream",
          "name": "stderr",
          "text": [
            "INFO:NEURONIOUtils:71\t\t2.0\n"
          ]
        },
        {
          "output_type": "stream",
          "name": "stdout",
          "text": [
            "2023-05-08 02:26:42,847 [INFO] 72\t\t2.0\n"
          ]
        },
        {
          "output_type": "stream",
          "name": "stderr",
          "text": [
            "INFO:NEURONIOUtils:72\t\t2.0\n"
          ]
        },
        {
          "output_type": "stream",
          "name": "stdout",
          "text": [
            "2023-05-08 02:26:42,851 [INFO] 73\t\t2.0\n"
          ]
        },
        {
          "output_type": "stream",
          "name": "stderr",
          "text": [
            "INFO:NEURONIOUtils:73\t\t2.0\n"
          ]
        },
        {
          "output_type": "stream",
          "name": "stdout",
          "text": [
            "2023-05-08 02:26:42,857 [INFO] 74\t\t2.0\n"
          ]
        },
        {
          "output_type": "stream",
          "name": "stderr",
          "text": [
            "INFO:NEURONIOUtils:74\t\t2.0\n"
          ]
        },
        {
          "output_type": "stream",
          "name": "stdout",
          "text": [
            "2023-05-08 02:26:42,860 [INFO] 75\t\t2.0\n"
          ]
        },
        {
          "output_type": "stream",
          "name": "stderr",
          "text": [
            "INFO:NEURONIOUtils:75\t\t2.0\n"
          ]
        },
        {
          "output_type": "stream",
          "name": "stdout",
          "text": [
            "2023-05-08 02:26:42,862 [INFO] 76\t\t2.0\n"
          ]
        },
        {
          "output_type": "stream",
          "name": "stderr",
          "text": [
            "INFO:NEURONIOUtils:76\t\t2.0\n"
          ]
        },
        {
          "output_type": "stream",
          "name": "stdout",
          "text": [
            "2023-05-08 02:26:42,864 [INFO] 77\t\t2.0\n"
          ]
        },
        {
          "output_type": "stream",
          "name": "stderr",
          "text": [
            "INFO:NEURONIOUtils:77\t\t2.0\n"
          ]
        },
        {
          "output_type": "stream",
          "name": "stdout",
          "text": [
            "2023-05-08 02:26:42,866 [INFO] 78\t\t2.0\n"
          ]
        },
        {
          "output_type": "stream",
          "name": "stderr",
          "text": [
            "INFO:NEURONIOUtils:78\t\t2.0\n"
          ]
        },
        {
          "output_type": "stream",
          "name": "stdout",
          "text": [
            "2023-05-08 02:26:42,868 [INFO] 79\t\t2.0\n"
          ]
        },
        {
          "output_type": "stream",
          "name": "stderr",
          "text": [
            "INFO:NEURONIOUtils:79\t\t2.0\n"
          ]
        },
        {
          "output_type": "stream",
          "name": "stdout",
          "text": [
            "2023-05-08 02:26:42,872 [INFO] PGN firing rate avg: 2.0 Hz\n"
          ]
        },
        {
          "output_type": "stream",
          "name": "stderr",
          "text": [
            "INFO:NEURONIOUtils:PGN firing rate avg: 2.0 Hz\n"
          ]
        },
        {
          "output_type": "stream",
          "name": "stdout",
          "text": [
            "2023-05-08 02:26:42,874 [INFO] Grill PGN fr = 2.984 Hz\n"
          ]
        },
        {
          "output_type": "stream",
          "name": "stderr",
          "text": [
            "INFO:NEURONIOUtils:Grill PGN fr = 2.984 Hz\n"
          ]
        },
        {
          "output_type": "stream",
          "name": "stdout",
          "text": [
            "2023-05-08 02:26:42,876 [INFO] IMG node_gid\t  Hz\n"
          ]
        },
        {
          "output_type": "stream",
          "name": "stderr",
          "text": [
            "INFO:NEURONIOUtils:IMG node_gid\t  Hz\n"
          ]
        },
        {
          "output_type": "stream",
          "name": "stdout",
          "text": [
            "2023-05-08 02:26:42,879 [INFO] IMG firing rate avg: 2.0 Hz\n"
          ]
        },
        {
          "output_type": "stream",
          "name": "stderr",
          "text": [
            "INFO:NEURONIOUtils:IMG firing rate avg: 2.0 Hz\n"
          ]
        },
        {
          "output_type": "stream",
          "name": "stdout",
          "text": [
            "2023-05-08 02:26:42,897 [INFO] Volume = 0.5542 ml\n"
          ]
        },
        {
          "output_type": "stream",
          "name": "stderr",
          "text": [
            "/usr/local/lib/python3.10/dist-packages/bmtk/utils/reports/spike_trains/spike_trains.py:183: RuntimeWarning: divide by zero encountered in double_scalars\n",
            "  interval = -np.log(1.0 - np.random.uniform()) / fr\n",
            "INFO:NEURONIOUtils:Volume = 0.5542 ml\n"
          ]
        },
        {
          "output_type": "stream",
          "name": "stdout",
          "text": [
            "2023-05-08 02:26:42,907 [INFO] Pressure = 2.19 mmHg\n"
          ]
        },
        {
          "output_type": "stream",
          "name": "stderr",
          "text": [
            "INFO:NEURONIOUtils:Pressure = 2.19 mmHg\n"
          ]
        },
        {
          "output_type": "stream",
          "name": "stdout",
          "text": [
            "2023-05-08 02:26:42,910 [INFO] Calculated bladder afferent firing rate for the next time step = 0.00 Hz \n",
            " \n",
            "\n"
          ]
        },
        {
          "output_type": "stream",
          "name": "stderr",
          "text": [
            "INFO:NEURONIOUtils:Calculated bladder afferent firing rate for the next time step = 0.00 Hz \n",
            " \n",
            "\n"
          ]
        },
        {
          "output_type": "stream",
          "name": "stdout",
          "text": [
            "2023-05-08 02:26:46,945 [INFO]     step:105000 t_sim:21000.00 ms\n"
          ]
        },
        {
          "output_type": "stream",
          "name": "stderr",
          "text": [
            "INFO:NEURONIOUtils:    step:105000 t_sim:21000.00 ms\n"
          ]
        },
        {
          "output_type": "stream",
          "name": "stdout",
          "text": [
            "2023-05-08 02:26:46,967 [INFO] Timestep 20000.0 to 21000.0 ms\n"
          ]
        },
        {
          "output_type": "stream",
          "name": "stderr",
          "text": [
            "INFO:NEURONIOUtils:Timestep 20000.0 to 21000.0 ms\n"
          ]
        },
        {
          "output_type": "stream",
          "name": "stdout",
          "text": [
            "2023-05-08 02:26:46,982 [INFO] PGN node_id\t  Hz\n"
          ]
        },
        {
          "output_type": "stream",
          "name": "stderr",
          "text": [
            "INFO:NEURONIOUtils:PGN node_id\t  Hz\n"
          ]
        },
        {
          "output_type": "stream",
          "name": "stdout",
          "text": [
            "2023-05-08 02:26:46,985 [INFO] 70\t\t3.0\n"
          ]
        },
        {
          "output_type": "stream",
          "name": "stderr",
          "text": [
            "INFO:NEURONIOUtils:70\t\t3.0\n"
          ]
        },
        {
          "output_type": "stream",
          "name": "stdout",
          "text": [
            "2023-05-08 02:26:46,988 [INFO] 71\t\t3.0\n"
          ]
        },
        {
          "output_type": "stream",
          "name": "stderr",
          "text": [
            "INFO:NEURONIOUtils:71\t\t3.0\n"
          ]
        },
        {
          "output_type": "stream",
          "name": "stdout",
          "text": [
            "2023-05-08 02:26:47,006 [INFO] 72\t\t3.0\n"
          ]
        },
        {
          "output_type": "stream",
          "name": "stderr",
          "text": [
            "INFO:NEURONIOUtils:72\t\t3.0\n"
          ]
        },
        {
          "output_type": "stream",
          "name": "stdout",
          "text": [
            "2023-05-08 02:26:47,019 [INFO] 73\t\t3.0\n"
          ]
        },
        {
          "output_type": "stream",
          "name": "stderr",
          "text": [
            "INFO:NEURONIOUtils:73\t\t3.0\n"
          ]
        },
        {
          "output_type": "stream",
          "name": "stdout",
          "text": [
            "2023-05-08 02:26:47,028 [INFO] 74\t\t3.0\n"
          ]
        },
        {
          "output_type": "stream",
          "name": "stderr",
          "text": [
            "INFO:NEURONIOUtils:74\t\t3.0\n"
          ]
        },
        {
          "output_type": "stream",
          "name": "stdout",
          "text": [
            "2023-05-08 02:26:47,035 [INFO] 75\t\t3.0\n"
          ]
        },
        {
          "output_type": "stream",
          "name": "stderr",
          "text": [
            "INFO:NEURONIOUtils:75\t\t3.0\n"
          ]
        },
        {
          "output_type": "stream",
          "name": "stdout",
          "text": [
            "2023-05-08 02:26:47,044 [INFO] 76\t\t3.0\n"
          ]
        },
        {
          "output_type": "stream",
          "name": "stderr",
          "text": [
            "INFO:NEURONIOUtils:76\t\t3.0\n"
          ]
        },
        {
          "output_type": "stream",
          "name": "stdout",
          "text": [
            "2023-05-08 02:26:47,053 [INFO] 77\t\t3.0\n"
          ]
        },
        {
          "output_type": "stream",
          "name": "stderr",
          "text": [
            "INFO:NEURONIOUtils:77\t\t3.0\n"
          ]
        },
        {
          "output_type": "stream",
          "name": "stdout",
          "text": [
            "2023-05-08 02:26:47,058 [INFO] 78\t\t3.0\n"
          ]
        },
        {
          "output_type": "stream",
          "name": "stderr",
          "text": [
            "INFO:NEURONIOUtils:78\t\t3.0\n"
          ]
        },
        {
          "output_type": "stream",
          "name": "stdout",
          "text": [
            "2023-05-08 02:26:47,066 [INFO] 79\t\t3.0\n"
          ]
        },
        {
          "output_type": "stream",
          "name": "stderr",
          "text": [
            "INFO:NEURONIOUtils:79\t\t3.0\n"
          ]
        },
        {
          "output_type": "stream",
          "name": "stdout",
          "text": [
            "2023-05-08 02:26:47,075 [INFO] PGN firing rate avg: 3.0 Hz\n"
          ]
        },
        {
          "output_type": "stream",
          "name": "stderr",
          "text": [
            "INFO:NEURONIOUtils:PGN firing rate avg: 3.0 Hz\n"
          ]
        },
        {
          "output_type": "stream",
          "name": "stdout",
          "text": [
            "2023-05-08 02:26:47,080 [INFO] Grill PGN fr = 4.657 Hz\n"
          ]
        },
        {
          "output_type": "stream",
          "name": "stderr",
          "text": [
            "INFO:NEURONIOUtils:Grill PGN fr = 4.657 Hz\n"
          ]
        },
        {
          "output_type": "stream",
          "name": "stdout",
          "text": [
            "2023-05-08 02:26:47,090 [INFO] IMG node_gid\t  Hz\n"
          ]
        },
        {
          "output_type": "stream",
          "name": "stderr",
          "text": [
            "INFO:NEURONIOUtils:IMG node_gid\t  Hz\n"
          ]
        },
        {
          "output_type": "stream",
          "name": "stdout",
          "text": [
            "2023-05-08 02:26:47,093 [INFO] IMG firing rate avg: 3.0 Hz\n"
          ]
        },
        {
          "output_type": "stream",
          "name": "stderr",
          "text": [
            "INFO:NEURONIOUtils:IMG firing rate avg: 3.0 Hz\n"
          ]
        },
        {
          "output_type": "stream",
          "name": "stdout",
          "text": [
            "2023-05-08 02:26:47,110 [INFO] Volume = 0.5833 ml\n"
          ]
        },
        {
          "output_type": "stream",
          "name": "stderr",
          "text": [
            "/usr/local/lib/python3.10/dist-packages/bmtk/utils/reports/spike_trains/spike_trains.py:183: RuntimeWarning: divide by zero encountered in double_scalars\n",
            "  interval = -np.log(1.0 - np.random.uniform()) / fr\n",
            "INFO:NEURONIOUtils:Volume = 0.5833 ml\n"
          ]
        },
        {
          "output_type": "stream",
          "name": "stdout",
          "text": [
            "2023-05-08 02:26:47,114 [INFO] Pressure = 3.43 mmHg\n"
          ]
        },
        {
          "output_type": "stream",
          "name": "stderr",
          "text": [
            "INFO:NEURONIOUtils:Pressure = 3.43 mmHg\n"
          ]
        },
        {
          "output_type": "stream",
          "name": "stdout",
          "text": [
            "2023-05-08 02:26:47,116 [INFO] Calculated bladder afferent firing rate for the next time step = 0.00 Hz \n",
            " \n",
            "\n"
          ]
        },
        {
          "output_type": "stream",
          "name": "stderr",
          "text": [
            "INFO:NEURONIOUtils:Calculated bladder afferent firing rate for the next time step = 0.00 Hz \n",
            " \n",
            "\n"
          ]
        },
        {
          "output_type": "stream",
          "name": "stdout",
          "text": [
            "2023-05-08 02:26:52,941 [INFO]     step:110000 t_sim:22000.00 ms\n"
          ]
        },
        {
          "output_type": "stream",
          "name": "stderr",
          "text": [
            "INFO:NEURONIOUtils:    step:110000 t_sim:22000.00 ms\n"
          ]
        },
        {
          "output_type": "stream",
          "name": "stdout",
          "text": [
            "2023-05-08 02:26:52,957 [INFO] Timestep 21000.0 to 22000.0 ms\n"
          ]
        },
        {
          "output_type": "stream",
          "name": "stderr",
          "text": [
            "INFO:NEURONIOUtils:Timestep 21000.0 to 22000.0 ms\n"
          ]
        },
        {
          "output_type": "stream",
          "name": "stdout",
          "text": [
            "2023-05-08 02:26:52,967 [INFO] PGN node_id\t  Hz\n"
          ]
        },
        {
          "output_type": "stream",
          "name": "stderr",
          "text": [
            "INFO:NEURONIOUtils:PGN node_id\t  Hz\n"
          ]
        },
        {
          "output_type": "stream",
          "name": "stdout",
          "text": [
            "2023-05-08 02:26:52,975 [INFO] 70\t\t3.0\n"
          ]
        },
        {
          "output_type": "stream",
          "name": "stderr",
          "text": [
            "INFO:NEURONIOUtils:70\t\t3.0\n"
          ]
        },
        {
          "output_type": "stream",
          "name": "stdout",
          "text": [
            "2023-05-08 02:26:52,982 [INFO] 71\t\t3.0\n"
          ]
        },
        {
          "output_type": "stream",
          "name": "stderr",
          "text": [
            "INFO:NEURONIOUtils:71\t\t3.0\n"
          ]
        },
        {
          "output_type": "stream",
          "name": "stdout",
          "text": [
            "2023-05-08 02:26:52,988 [INFO] 72\t\t3.0\n"
          ]
        },
        {
          "output_type": "stream",
          "name": "stderr",
          "text": [
            "INFO:NEURONIOUtils:72\t\t3.0\n"
          ]
        },
        {
          "output_type": "stream",
          "name": "stdout",
          "text": [
            "2023-05-08 02:26:52,990 [INFO] 73\t\t3.0\n"
          ]
        },
        {
          "output_type": "stream",
          "name": "stderr",
          "text": [
            "INFO:NEURONIOUtils:73\t\t3.0\n"
          ]
        },
        {
          "output_type": "stream",
          "name": "stdout",
          "text": [
            "2023-05-08 02:26:52,994 [INFO] 74\t\t3.0\n"
          ]
        },
        {
          "output_type": "stream",
          "name": "stderr",
          "text": [
            "INFO:NEURONIOUtils:74\t\t3.0\n"
          ]
        },
        {
          "output_type": "stream",
          "name": "stdout",
          "text": [
            "2023-05-08 02:26:53,004 [INFO] 75\t\t3.0\n"
          ]
        },
        {
          "output_type": "stream",
          "name": "stderr",
          "text": [
            "INFO:NEURONIOUtils:75\t\t3.0\n"
          ]
        },
        {
          "output_type": "stream",
          "name": "stdout",
          "text": [
            "2023-05-08 02:26:53,006 [INFO] 76\t\t3.0\n"
          ]
        },
        {
          "output_type": "stream",
          "name": "stderr",
          "text": [
            "INFO:NEURONIOUtils:76\t\t3.0\n"
          ]
        },
        {
          "output_type": "stream",
          "name": "stdout",
          "text": [
            "2023-05-08 02:26:53,008 [INFO] 77\t\t3.0\n"
          ]
        },
        {
          "output_type": "stream",
          "name": "stderr",
          "text": [
            "INFO:NEURONIOUtils:77\t\t3.0\n"
          ]
        },
        {
          "output_type": "stream",
          "name": "stdout",
          "text": [
            "2023-05-08 02:26:53,010 [INFO] 78\t\t3.0\n"
          ]
        },
        {
          "output_type": "stream",
          "name": "stderr",
          "text": [
            "INFO:NEURONIOUtils:78\t\t3.0\n"
          ]
        },
        {
          "output_type": "stream",
          "name": "stdout",
          "text": [
            "2023-05-08 02:26:53,013 [INFO] 79\t\t3.0\n"
          ]
        },
        {
          "output_type": "stream",
          "name": "stderr",
          "text": [
            "INFO:NEURONIOUtils:79\t\t3.0\n"
          ]
        },
        {
          "output_type": "stream",
          "name": "stdout",
          "text": [
            "2023-05-08 02:26:53,016 [INFO] PGN firing rate avg: 3.0 Hz\n"
          ]
        },
        {
          "output_type": "stream",
          "name": "stderr",
          "text": [
            "INFO:NEURONIOUtils:PGN firing rate avg: 3.0 Hz\n"
          ]
        },
        {
          "output_type": "stream",
          "name": "stdout",
          "text": [
            "2023-05-08 02:26:53,018 [INFO] Grill PGN fr = 4.657 Hz\n"
          ]
        },
        {
          "output_type": "stream",
          "name": "stderr",
          "text": [
            "INFO:NEURONIOUtils:Grill PGN fr = 4.657 Hz\n"
          ]
        },
        {
          "output_type": "stream",
          "name": "stdout",
          "text": [
            "2023-05-08 02:26:53,019 [INFO] IMG node_gid\t  Hz\n"
          ]
        },
        {
          "output_type": "stream",
          "name": "stderr",
          "text": [
            "INFO:NEURONIOUtils:IMG node_gid\t  Hz\n"
          ]
        },
        {
          "output_type": "stream",
          "name": "stdout",
          "text": [
            "2023-05-08 02:26:53,022 [INFO] IMG firing rate avg: 3.0 Hz\n"
          ]
        },
        {
          "output_type": "stream",
          "name": "stderr",
          "text": [
            "INFO:NEURONIOUtils:IMG firing rate avg: 3.0 Hz\n"
          ]
        },
        {
          "output_type": "stream",
          "name": "stdout",
          "text": [
            "2023-05-08 02:26:53,030 [INFO] Volume = 0.6125 ml\n"
          ]
        },
        {
          "output_type": "stream",
          "name": "stderr",
          "text": [
            "/usr/local/lib/python3.10/dist-packages/bmtk/utils/reports/spike_trains/spike_trains.py:183: RuntimeWarning: divide by zero encountered in double_scalars\n",
            "  interval = -np.log(1.0 - np.random.uniform()) / fr\n",
            "INFO:NEURONIOUtils:Volume = 0.6125 ml\n"
          ]
        },
        {
          "output_type": "stream",
          "name": "stdout",
          "text": [
            "2023-05-08 02:26:53,037 [INFO] Pressure = 3.43 mmHg\n"
          ]
        },
        {
          "output_type": "stream",
          "name": "stderr",
          "text": [
            "INFO:NEURONIOUtils:Pressure = 3.43 mmHg\n"
          ]
        },
        {
          "output_type": "stream",
          "name": "stdout",
          "text": [
            "2023-05-08 02:26:53,040 [INFO] Calculated bladder afferent firing rate for the next time step = 0.00 Hz \n",
            " \n",
            "\n"
          ]
        },
        {
          "output_type": "stream",
          "name": "stderr",
          "text": [
            "INFO:NEURONIOUtils:Calculated bladder afferent firing rate for the next time step = 0.00 Hz \n",
            " \n",
            "\n"
          ]
        },
        {
          "output_type": "stream",
          "name": "stdout",
          "text": [
            "2023-05-08 02:26:54,940 [INFO]     step:115000 t_sim:23000.00 ms\n"
          ]
        },
        {
          "output_type": "stream",
          "name": "stderr",
          "text": [
            "INFO:NEURONIOUtils:    step:115000 t_sim:23000.00 ms\n"
          ]
        },
        {
          "output_type": "stream",
          "name": "stdout",
          "text": [
            "2023-05-08 02:26:54,961 [INFO] Timestep 22000.0 to 23000.0 ms\n"
          ]
        },
        {
          "output_type": "stream",
          "name": "stderr",
          "text": [
            "INFO:NEURONIOUtils:Timestep 22000.0 to 23000.0 ms\n"
          ]
        },
        {
          "output_type": "stream",
          "name": "stdout",
          "text": [
            "2023-05-08 02:26:54,966 [INFO] PGN node_id\t  Hz\n"
          ]
        },
        {
          "output_type": "stream",
          "name": "stderr",
          "text": [
            "INFO:NEURONIOUtils:PGN node_id\t  Hz\n"
          ]
        },
        {
          "output_type": "stream",
          "name": "stdout",
          "text": [
            "2023-05-08 02:26:54,972 [INFO] 70\t\t3.0\n"
          ]
        },
        {
          "output_type": "stream",
          "name": "stderr",
          "text": [
            "INFO:NEURONIOUtils:70\t\t3.0\n"
          ]
        },
        {
          "output_type": "stream",
          "name": "stdout",
          "text": [
            "2023-05-08 02:26:54,975 [INFO] 71\t\t3.0\n"
          ]
        },
        {
          "output_type": "stream",
          "name": "stderr",
          "text": [
            "INFO:NEURONIOUtils:71\t\t3.0\n"
          ]
        },
        {
          "output_type": "stream",
          "name": "stdout",
          "text": [
            "2023-05-08 02:26:54,978 [INFO] 72\t\t3.0\n"
          ]
        },
        {
          "output_type": "stream",
          "name": "stderr",
          "text": [
            "INFO:NEURONIOUtils:72\t\t3.0\n"
          ]
        },
        {
          "output_type": "stream",
          "name": "stdout",
          "text": [
            "2023-05-08 02:26:54,980 [INFO] 73\t\t3.0\n"
          ]
        },
        {
          "output_type": "stream",
          "name": "stderr",
          "text": [
            "INFO:NEURONIOUtils:73\t\t3.0\n"
          ]
        },
        {
          "output_type": "stream",
          "name": "stdout",
          "text": [
            "2023-05-08 02:26:54,983 [INFO] 74\t\t3.0\n"
          ]
        },
        {
          "output_type": "stream",
          "name": "stderr",
          "text": [
            "INFO:NEURONIOUtils:74\t\t3.0\n"
          ]
        },
        {
          "output_type": "stream",
          "name": "stdout",
          "text": [
            "2023-05-08 02:26:54,985 [INFO] 75\t\t3.0\n"
          ]
        },
        {
          "output_type": "stream",
          "name": "stderr",
          "text": [
            "INFO:NEURONIOUtils:75\t\t3.0\n"
          ]
        },
        {
          "output_type": "stream",
          "name": "stdout",
          "text": [
            "2023-05-08 02:26:54,987 [INFO] 76\t\t3.0\n"
          ]
        },
        {
          "output_type": "stream",
          "name": "stderr",
          "text": [
            "INFO:NEURONIOUtils:76\t\t3.0\n"
          ]
        },
        {
          "output_type": "stream",
          "name": "stdout",
          "text": [
            "2023-05-08 02:26:54,989 [INFO] 77\t\t3.0\n"
          ]
        },
        {
          "output_type": "stream",
          "name": "stderr",
          "text": [
            "INFO:NEURONIOUtils:77\t\t3.0\n"
          ]
        },
        {
          "output_type": "stream",
          "name": "stdout",
          "text": [
            "2023-05-08 02:26:54,991 [INFO] 78\t\t3.0\n"
          ]
        },
        {
          "output_type": "stream",
          "name": "stderr",
          "text": [
            "INFO:NEURONIOUtils:78\t\t3.0\n"
          ]
        },
        {
          "output_type": "stream",
          "name": "stdout",
          "text": [
            "2023-05-08 02:26:54,992 [INFO] 79\t\t3.0\n"
          ]
        },
        {
          "output_type": "stream",
          "name": "stderr",
          "text": [
            "INFO:NEURONIOUtils:79\t\t3.0\n"
          ]
        },
        {
          "output_type": "stream",
          "name": "stdout",
          "text": [
            "2023-05-08 02:26:54,995 [INFO] PGN firing rate avg: 3.0 Hz\n"
          ]
        },
        {
          "output_type": "stream",
          "name": "stderr",
          "text": [
            "INFO:NEURONIOUtils:PGN firing rate avg: 3.0 Hz\n"
          ]
        },
        {
          "output_type": "stream",
          "name": "stdout",
          "text": [
            "2023-05-08 02:26:54,997 [INFO] Grill PGN fr = 4.657 Hz\n"
          ]
        },
        {
          "output_type": "stream",
          "name": "stderr",
          "text": [
            "INFO:NEURONIOUtils:Grill PGN fr = 4.657 Hz\n"
          ]
        },
        {
          "output_type": "stream",
          "name": "stdout",
          "text": [
            "2023-05-08 02:26:54,999 [INFO] IMG node_gid\t  Hz\n"
          ]
        },
        {
          "output_type": "stream",
          "name": "stderr",
          "text": [
            "INFO:NEURONIOUtils:IMG node_gid\t  Hz\n"
          ]
        },
        {
          "output_type": "stream",
          "name": "stdout",
          "text": [
            "2023-05-08 02:26:55,001 [INFO] IMG firing rate avg: 3.0 Hz\n"
          ]
        },
        {
          "output_type": "stream",
          "name": "stderr",
          "text": [
            "INFO:NEURONIOUtils:IMG firing rate avg: 3.0 Hz\n"
          ]
        },
        {
          "output_type": "stream",
          "name": "stdout",
          "text": [
            "2023-05-08 02:26:55,009 [INFO] Volume = 0.6417 ml\n"
          ]
        },
        {
          "output_type": "stream",
          "name": "stderr",
          "text": [
            "/usr/local/lib/python3.10/dist-packages/bmtk/utils/reports/spike_trains/spike_trains.py:183: RuntimeWarning: divide by zero encountered in double_scalars\n",
            "  interval = -np.log(1.0 - np.random.uniform()) / fr\n",
            "INFO:NEURONIOUtils:Volume = 0.6417 ml\n"
          ]
        },
        {
          "output_type": "stream",
          "name": "stdout",
          "text": [
            "2023-05-08 02:26:55,013 [INFO] Pressure = 3.43 mmHg\n"
          ]
        },
        {
          "output_type": "stream",
          "name": "stderr",
          "text": [
            "INFO:NEURONIOUtils:Pressure = 3.43 mmHg\n"
          ]
        },
        {
          "output_type": "stream",
          "name": "stdout",
          "text": [
            "2023-05-08 02:26:55,016 [INFO] Calculated bladder afferent firing rate for the next time step = 0.00 Hz \n",
            " \n",
            "\n"
          ]
        },
        {
          "output_type": "stream",
          "name": "stderr",
          "text": [
            "INFO:NEURONIOUtils:Calculated bladder afferent firing rate for the next time step = 0.00 Hz \n",
            " \n",
            "\n"
          ]
        },
        {
          "output_type": "stream",
          "name": "stdout",
          "text": [
            "2023-05-08 02:26:56,786 [INFO]     step:120000 t_sim:24000.00 ms\n"
          ]
        },
        {
          "output_type": "stream",
          "name": "stderr",
          "text": [
            "INFO:NEURONIOUtils:    step:120000 t_sim:24000.00 ms\n"
          ]
        },
        {
          "output_type": "stream",
          "name": "stdout",
          "text": [
            "2023-05-08 02:26:56,799 [INFO] Timestep 23000.0 to 24000.0 ms\n"
          ]
        },
        {
          "output_type": "stream",
          "name": "stderr",
          "text": [
            "INFO:NEURONIOUtils:Timestep 23000.0 to 24000.0 ms\n"
          ]
        },
        {
          "output_type": "stream",
          "name": "stdout",
          "text": [
            "2023-05-08 02:26:56,804 [INFO] PGN node_id\t  Hz\n"
          ]
        },
        {
          "output_type": "stream",
          "name": "stderr",
          "text": [
            "INFO:NEURONIOUtils:PGN node_id\t  Hz\n"
          ]
        },
        {
          "output_type": "stream",
          "name": "stdout",
          "text": [
            "2023-05-08 02:26:56,808 [INFO] 70\t\t5.0\n"
          ]
        },
        {
          "output_type": "stream",
          "name": "stderr",
          "text": [
            "INFO:NEURONIOUtils:70\t\t5.0\n"
          ]
        },
        {
          "output_type": "stream",
          "name": "stdout",
          "text": [
            "2023-05-08 02:26:56,810 [INFO] 71\t\t5.0\n"
          ]
        },
        {
          "output_type": "stream",
          "name": "stderr",
          "text": [
            "INFO:NEURONIOUtils:71\t\t5.0\n"
          ]
        },
        {
          "output_type": "stream",
          "name": "stdout",
          "text": [
            "2023-05-08 02:26:56,812 [INFO] 72\t\t5.0\n"
          ]
        },
        {
          "output_type": "stream",
          "name": "stderr",
          "text": [
            "INFO:NEURONIOUtils:72\t\t5.0\n"
          ]
        },
        {
          "output_type": "stream",
          "name": "stdout",
          "text": [
            "2023-05-08 02:26:56,815 [INFO] 73\t\t5.0\n"
          ]
        },
        {
          "output_type": "stream",
          "name": "stderr",
          "text": [
            "INFO:NEURONIOUtils:73\t\t5.0\n"
          ]
        },
        {
          "output_type": "stream",
          "name": "stdout",
          "text": [
            "2023-05-08 02:26:56,817 [INFO] 74\t\t5.0\n"
          ]
        },
        {
          "output_type": "stream",
          "name": "stderr",
          "text": [
            "INFO:NEURONIOUtils:74\t\t5.0\n"
          ]
        },
        {
          "output_type": "stream",
          "name": "stdout",
          "text": [
            "2023-05-08 02:26:56,819 [INFO] 75\t\t5.0\n"
          ]
        },
        {
          "output_type": "stream",
          "name": "stderr",
          "text": [
            "INFO:NEURONIOUtils:75\t\t5.0\n"
          ]
        },
        {
          "output_type": "stream",
          "name": "stdout",
          "text": [
            "2023-05-08 02:26:56,821 [INFO] 76\t\t5.0\n"
          ]
        },
        {
          "output_type": "stream",
          "name": "stderr",
          "text": [
            "INFO:NEURONIOUtils:76\t\t5.0\n"
          ]
        },
        {
          "output_type": "stream",
          "name": "stdout",
          "text": [
            "2023-05-08 02:26:56,823 [INFO] 77\t\t5.0\n"
          ]
        },
        {
          "output_type": "stream",
          "name": "stderr",
          "text": [
            "INFO:NEURONIOUtils:77\t\t5.0\n"
          ]
        },
        {
          "output_type": "stream",
          "name": "stdout",
          "text": [
            "2023-05-08 02:26:56,825 [INFO] 78\t\t5.0\n"
          ]
        },
        {
          "output_type": "stream",
          "name": "stderr",
          "text": [
            "INFO:NEURONIOUtils:78\t\t5.0\n"
          ]
        },
        {
          "output_type": "stream",
          "name": "stdout",
          "text": [
            "2023-05-08 02:26:56,827 [INFO] 79\t\t5.0\n"
          ]
        },
        {
          "output_type": "stream",
          "name": "stderr",
          "text": [
            "INFO:NEURONIOUtils:79\t\t5.0\n"
          ]
        },
        {
          "output_type": "stream",
          "name": "stdout",
          "text": [
            "2023-05-08 02:26:56,829 [INFO] PGN firing rate avg: 5.0 Hz\n"
          ]
        },
        {
          "output_type": "stream",
          "name": "stderr",
          "text": [
            "INFO:NEURONIOUtils:PGN firing rate avg: 5.0 Hz\n"
          ]
        },
        {
          "output_type": "stream",
          "name": "stdout",
          "text": [
            "2023-05-08 02:26:56,831 [INFO] Grill PGN fr = 7.925000000000001 Hz\n"
          ]
        },
        {
          "output_type": "stream",
          "name": "stderr",
          "text": [
            "INFO:NEURONIOUtils:Grill PGN fr = 7.925000000000001 Hz\n"
          ]
        },
        {
          "output_type": "stream",
          "name": "stdout",
          "text": [
            "2023-05-08 02:26:56,833 [INFO] IMG node_gid\t  Hz\n"
          ]
        },
        {
          "output_type": "stream",
          "name": "stderr",
          "text": [
            "INFO:NEURONIOUtils:IMG node_gid\t  Hz\n"
          ]
        },
        {
          "output_type": "stream",
          "name": "stdout",
          "text": [
            "2023-05-08 02:26:56,835 [INFO] IMG firing rate avg: 5.0 Hz\n"
          ]
        },
        {
          "output_type": "stream",
          "name": "stderr",
          "text": [
            "INFO:NEURONIOUtils:IMG firing rate avg: 5.0 Hz\n"
          ]
        },
        {
          "output_type": "stream",
          "name": "stdout",
          "text": [
            "2023-05-08 02:26:56,842 [INFO] Volume = 0.6708 ml\n"
          ]
        },
        {
          "output_type": "stream",
          "name": "stderr",
          "text": [
            "/usr/local/lib/python3.10/dist-packages/bmtk/utils/reports/spike_trains/spike_trains.py:183: RuntimeWarning: divide by zero encountered in double_scalars\n",
            "  interval = -np.log(1.0 - np.random.uniform()) / fr\n",
            "INFO:NEURONIOUtils:Volume = 0.6708 ml\n"
          ]
        },
        {
          "output_type": "stream",
          "name": "stdout",
          "text": [
            "2023-05-08 02:26:56,845 [INFO] Pressure = 5.83 mmHg\n"
          ]
        },
        {
          "output_type": "stream",
          "name": "stderr",
          "text": [
            "INFO:NEURONIOUtils:Pressure = 5.83 mmHg\n"
          ]
        },
        {
          "output_type": "stream",
          "name": "stdout",
          "text": [
            "2023-05-08 02:26:56,847 [INFO] Calculated bladder afferent firing rate for the next time step = 0.00 Hz \n",
            " \n",
            "\n"
          ]
        },
        {
          "output_type": "stream",
          "name": "stderr",
          "text": [
            "INFO:NEURONIOUtils:Calculated bladder afferent firing rate for the next time step = 0.00 Hz \n",
            " \n",
            "\n"
          ]
        },
        {
          "output_type": "stream",
          "name": "stdout",
          "text": [
            "2023-05-08 02:26:58,831 [INFO]     step:125000 t_sim:25000.00 ms\n"
          ]
        },
        {
          "output_type": "stream",
          "name": "stderr",
          "text": [
            "INFO:NEURONIOUtils:    step:125000 t_sim:25000.00 ms\n"
          ]
        },
        {
          "output_type": "stream",
          "name": "stdout",
          "text": [
            "2023-05-08 02:26:58,846 [INFO] Timestep 24000.0 to 25000.0 ms\n"
          ]
        },
        {
          "output_type": "stream",
          "name": "stderr",
          "text": [
            "INFO:NEURONIOUtils:Timestep 24000.0 to 25000.0 ms\n"
          ]
        },
        {
          "output_type": "stream",
          "name": "stdout",
          "text": [
            "2023-05-08 02:26:58,852 [INFO] PGN node_id\t  Hz\n"
          ]
        },
        {
          "output_type": "stream",
          "name": "stderr",
          "text": [
            "INFO:NEURONIOUtils:PGN node_id\t  Hz\n"
          ]
        },
        {
          "output_type": "stream",
          "name": "stdout",
          "text": [
            "2023-05-08 02:26:58,856 [INFO] 70\t\t2.0\n"
          ]
        },
        {
          "output_type": "stream",
          "name": "stderr",
          "text": [
            "INFO:NEURONIOUtils:70\t\t2.0\n"
          ]
        },
        {
          "output_type": "stream",
          "name": "stdout",
          "text": [
            "2023-05-08 02:26:58,859 [INFO] 71\t\t2.0\n"
          ]
        },
        {
          "output_type": "stream",
          "name": "stderr",
          "text": [
            "INFO:NEURONIOUtils:71\t\t2.0\n"
          ]
        },
        {
          "output_type": "stream",
          "name": "stdout",
          "text": [
            "2023-05-08 02:26:58,860 [INFO] 72\t\t2.0\n"
          ]
        },
        {
          "output_type": "stream",
          "name": "stderr",
          "text": [
            "INFO:NEURONIOUtils:72\t\t2.0\n"
          ]
        },
        {
          "output_type": "stream",
          "name": "stdout",
          "text": [
            "2023-05-08 02:26:58,863 [INFO] 73\t\t2.0\n"
          ]
        },
        {
          "output_type": "stream",
          "name": "stderr",
          "text": [
            "INFO:NEURONIOUtils:73\t\t2.0\n"
          ]
        },
        {
          "output_type": "stream",
          "name": "stdout",
          "text": [
            "2023-05-08 02:26:58,865 [INFO] 74\t\t2.0\n"
          ]
        },
        {
          "output_type": "stream",
          "name": "stderr",
          "text": [
            "INFO:NEURONIOUtils:74\t\t2.0\n"
          ]
        },
        {
          "output_type": "stream",
          "name": "stdout",
          "text": [
            "2023-05-08 02:26:58,867 [INFO] 75\t\t2.0\n"
          ]
        },
        {
          "output_type": "stream",
          "name": "stderr",
          "text": [
            "INFO:NEURONIOUtils:75\t\t2.0\n"
          ]
        },
        {
          "output_type": "stream",
          "name": "stdout",
          "text": [
            "2023-05-08 02:26:58,869 [INFO] 76\t\t2.0\n"
          ]
        },
        {
          "output_type": "stream",
          "name": "stderr",
          "text": [
            "INFO:NEURONIOUtils:76\t\t2.0\n"
          ]
        },
        {
          "output_type": "stream",
          "name": "stdout",
          "text": [
            "2023-05-08 02:26:58,872 [INFO] 77\t\t2.0\n"
          ]
        },
        {
          "output_type": "stream",
          "name": "stderr",
          "text": [
            "INFO:NEURONIOUtils:77\t\t2.0\n"
          ]
        },
        {
          "output_type": "stream",
          "name": "stdout",
          "text": [
            "2023-05-08 02:26:58,874 [INFO] 78\t\t2.0\n"
          ]
        },
        {
          "output_type": "stream",
          "name": "stderr",
          "text": [
            "INFO:NEURONIOUtils:78\t\t2.0\n"
          ]
        },
        {
          "output_type": "stream",
          "name": "stdout",
          "text": [
            "2023-05-08 02:26:58,876 [INFO] 79\t\t2.0\n"
          ]
        },
        {
          "output_type": "stream",
          "name": "stderr",
          "text": [
            "INFO:NEURONIOUtils:79\t\t2.0\n"
          ]
        },
        {
          "output_type": "stream",
          "name": "stdout",
          "text": [
            "2023-05-08 02:26:58,879 [INFO] PGN firing rate avg: 2.0 Hz\n"
          ]
        },
        {
          "output_type": "stream",
          "name": "stderr",
          "text": [
            "INFO:NEURONIOUtils:PGN firing rate avg: 2.0 Hz\n"
          ]
        },
        {
          "output_type": "stream",
          "name": "stdout",
          "text": [
            "2023-05-08 02:26:58,882 [INFO] Grill PGN fr = 2.984 Hz\n"
          ]
        },
        {
          "output_type": "stream",
          "name": "stderr",
          "text": [
            "INFO:NEURONIOUtils:Grill PGN fr = 2.984 Hz\n"
          ]
        },
        {
          "output_type": "stream",
          "name": "stdout",
          "text": [
            "2023-05-08 02:26:58,884 [INFO] IMG node_gid\t  Hz\n"
          ]
        },
        {
          "output_type": "stream",
          "name": "stderr",
          "text": [
            "INFO:NEURONIOUtils:IMG node_gid\t  Hz\n"
          ]
        },
        {
          "output_type": "stream",
          "name": "stdout",
          "text": [
            "2023-05-08 02:26:58,886 [INFO] IMG firing rate avg: 2.0 Hz\n"
          ]
        },
        {
          "output_type": "stream",
          "name": "stderr",
          "text": [
            "INFO:NEURONIOUtils:IMG firing rate avg: 2.0 Hz\n"
          ]
        },
        {
          "output_type": "stream",
          "name": "stdout",
          "text": [
            "2023-05-08 02:26:58,894 [INFO] Volume = 0.7000 ml\n"
          ]
        },
        {
          "output_type": "stream",
          "name": "stderr",
          "text": [
            "/usr/local/lib/python3.10/dist-packages/bmtk/utils/reports/spike_trains/spike_trains.py:183: RuntimeWarning: divide by zero encountered in double_scalars\n",
            "  interval = -np.log(1.0 - np.random.uniform()) / fr\n",
            "INFO:NEURONIOUtils:Volume = 0.7000 ml\n"
          ]
        },
        {
          "output_type": "stream",
          "name": "stdout",
          "text": [
            "2023-05-08 02:26:58,896 [INFO] Pressure = 2.19 mmHg\n"
          ]
        },
        {
          "output_type": "stream",
          "name": "stderr",
          "text": [
            "INFO:NEURONIOUtils:Pressure = 2.19 mmHg\n"
          ]
        },
        {
          "output_type": "stream",
          "name": "stdout",
          "text": [
            "2023-05-08 02:26:58,899 [INFO] Calculated bladder afferent firing rate for the next time step = 0.00 Hz \n",
            " \n",
            "\n"
          ]
        },
        {
          "output_type": "stream",
          "name": "stderr",
          "text": [
            "INFO:NEURONIOUtils:Calculated bladder afferent firing rate for the next time step = 0.00 Hz \n",
            " \n",
            "\n"
          ]
        },
        {
          "output_type": "stream",
          "name": "stdout",
          "text": [
            "2023-05-08 02:27:00,910 [INFO]     step:130000 t_sim:26000.00 ms\n"
          ]
        },
        {
          "output_type": "stream",
          "name": "stderr",
          "text": [
            "INFO:NEURONIOUtils:    step:130000 t_sim:26000.00 ms\n"
          ]
        },
        {
          "output_type": "stream",
          "name": "stdout",
          "text": [
            "2023-05-08 02:27:00,921 [INFO] Timestep 25000.0 to 26000.0 ms\n"
          ]
        },
        {
          "output_type": "stream",
          "name": "stderr",
          "text": [
            "INFO:NEURONIOUtils:Timestep 25000.0 to 26000.0 ms\n"
          ]
        },
        {
          "output_type": "stream",
          "name": "stdout",
          "text": [
            "2023-05-08 02:27:00,928 [INFO] PGN node_id\t  Hz\n"
          ]
        },
        {
          "output_type": "stream",
          "name": "stderr",
          "text": [
            "INFO:NEURONIOUtils:PGN node_id\t  Hz\n"
          ]
        },
        {
          "output_type": "stream",
          "name": "stdout",
          "text": [
            "2023-05-08 02:27:00,932 [INFO] 70\t\t1.0\n"
          ]
        },
        {
          "output_type": "stream",
          "name": "stderr",
          "text": [
            "INFO:NEURONIOUtils:70\t\t1.0\n"
          ]
        },
        {
          "output_type": "stream",
          "name": "stdout",
          "text": [
            "2023-05-08 02:27:00,935 [INFO] 71\t\t1.0\n"
          ]
        },
        {
          "output_type": "stream",
          "name": "stderr",
          "text": [
            "INFO:NEURONIOUtils:71\t\t1.0\n"
          ]
        },
        {
          "output_type": "stream",
          "name": "stdout",
          "text": [
            "2023-05-08 02:27:00,938 [INFO] 72\t\t1.0\n"
          ]
        },
        {
          "output_type": "stream",
          "name": "stderr",
          "text": [
            "INFO:NEURONIOUtils:72\t\t1.0\n"
          ]
        },
        {
          "output_type": "stream",
          "name": "stdout",
          "text": [
            "2023-05-08 02:27:00,939 [INFO] 73\t\t1.0\n"
          ]
        },
        {
          "output_type": "stream",
          "name": "stderr",
          "text": [
            "INFO:NEURONIOUtils:73\t\t1.0\n"
          ]
        },
        {
          "output_type": "stream",
          "name": "stdout",
          "text": [
            "2023-05-08 02:27:00,941 [INFO] 74\t\t1.0\n"
          ]
        },
        {
          "output_type": "stream",
          "name": "stderr",
          "text": [
            "INFO:NEURONIOUtils:74\t\t1.0\n"
          ]
        },
        {
          "output_type": "stream",
          "name": "stdout",
          "text": [
            "2023-05-08 02:27:00,943 [INFO] 75\t\t1.0\n"
          ]
        },
        {
          "output_type": "stream",
          "name": "stderr",
          "text": [
            "INFO:NEURONIOUtils:75\t\t1.0\n"
          ]
        },
        {
          "output_type": "stream",
          "name": "stdout",
          "text": [
            "2023-05-08 02:27:00,946 [INFO] 76\t\t1.0\n"
          ]
        },
        {
          "output_type": "stream",
          "name": "stderr",
          "text": [
            "INFO:NEURONIOUtils:76\t\t1.0\n"
          ]
        },
        {
          "output_type": "stream",
          "name": "stdout",
          "text": [
            "2023-05-08 02:27:00,948 [INFO] 77\t\t1.0\n"
          ]
        },
        {
          "output_type": "stream",
          "name": "stderr",
          "text": [
            "INFO:NEURONIOUtils:77\t\t1.0\n"
          ]
        },
        {
          "output_type": "stream",
          "name": "stdout",
          "text": [
            "2023-05-08 02:27:00,951 [INFO] 78\t\t1.0\n"
          ]
        },
        {
          "output_type": "stream",
          "name": "stderr",
          "text": [
            "INFO:NEURONIOUtils:78\t\t1.0\n"
          ]
        },
        {
          "output_type": "stream",
          "name": "stdout",
          "text": [
            "2023-05-08 02:27:00,953 [INFO] 79\t\t1.0\n"
          ]
        },
        {
          "output_type": "stream",
          "name": "stderr",
          "text": [
            "INFO:NEURONIOUtils:79\t\t1.0\n"
          ]
        },
        {
          "output_type": "stream",
          "name": "stdout",
          "text": [
            "2023-05-08 02:27:00,955 [INFO] PGN firing rate avg: 1.0 Hz\n"
          ]
        },
        {
          "output_type": "stream",
          "name": "stderr",
          "text": [
            "INFO:NEURONIOUtils:PGN firing rate avg: 1.0 Hz\n"
          ]
        },
        {
          "output_type": "stream",
          "name": "stdout",
          "text": [
            "2023-05-08 02:27:00,958 [INFO] Grill PGN fr = 1.2690000000000001 Hz\n"
          ]
        },
        {
          "output_type": "stream",
          "name": "stderr",
          "text": [
            "INFO:NEURONIOUtils:Grill PGN fr = 1.2690000000000001 Hz\n"
          ]
        },
        {
          "output_type": "stream",
          "name": "stdout",
          "text": [
            "2023-05-08 02:27:00,961 [INFO] IMG node_gid\t  Hz\n"
          ]
        },
        {
          "output_type": "stream",
          "name": "stderr",
          "text": [
            "INFO:NEURONIOUtils:IMG node_gid\t  Hz\n"
          ]
        },
        {
          "output_type": "stream",
          "name": "stdout",
          "text": [
            "2023-05-08 02:27:00,966 [INFO] IMG firing rate avg: 1.0 Hz\n"
          ]
        },
        {
          "output_type": "stream",
          "name": "stderr",
          "text": [
            "INFO:NEURONIOUtils:IMG firing rate avg: 1.0 Hz\n"
          ]
        },
        {
          "output_type": "stream",
          "name": "stdout",
          "text": [
            "2023-05-08 02:27:00,975 [INFO] Volume = 0.7292 ml\n"
          ]
        },
        {
          "output_type": "stream",
          "name": "stderr",
          "text": [
            "/usr/local/lib/python3.10/dist-packages/bmtk/utils/reports/spike_trains/spike_trains.py:183: RuntimeWarning: divide by zero encountered in double_scalars\n",
            "  interval = -np.log(1.0 - np.random.uniform()) / fr\n",
            "INFO:NEURONIOUtils:Volume = 0.7292 ml\n"
          ]
        },
        {
          "output_type": "stream",
          "name": "stdout",
          "text": [
            "2023-05-08 02:27:00,978 [INFO] Pressure = 0.93 mmHg\n"
          ]
        },
        {
          "output_type": "stream",
          "name": "stderr",
          "text": [
            "INFO:NEURONIOUtils:Pressure = 0.93 mmHg\n"
          ]
        },
        {
          "output_type": "stream",
          "name": "stdout",
          "text": [
            "2023-05-08 02:27:00,981 [INFO] Calculated bladder afferent firing rate for the next time step = 0.00 Hz \n",
            " \n",
            "\n"
          ]
        },
        {
          "output_type": "stream",
          "name": "stderr",
          "text": [
            "INFO:NEURONIOUtils:Calculated bladder afferent firing rate for the next time step = 0.00 Hz \n",
            " \n",
            "\n"
          ]
        },
        {
          "output_type": "stream",
          "name": "stdout",
          "text": [
            "2023-05-08 02:27:03,051 [INFO]     step:135000 t_sim:27000.00 ms\n"
          ]
        },
        {
          "output_type": "stream",
          "name": "stderr",
          "text": [
            "INFO:NEURONIOUtils:    step:135000 t_sim:27000.00 ms\n"
          ]
        },
        {
          "output_type": "stream",
          "name": "stdout",
          "text": [
            "2023-05-08 02:27:03,066 [INFO] Timestep 26000.0 to 27000.0 ms\n"
          ]
        },
        {
          "output_type": "stream",
          "name": "stderr",
          "text": [
            "INFO:NEURONIOUtils:Timestep 26000.0 to 27000.0 ms\n"
          ]
        },
        {
          "output_type": "stream",
          "name": "stdout",
          "text": [
            "2023-05-08 02:27:03,075 [INFO] PGN node_id\t  Hz\n"
          ]
        },
        {
          "output_type": "stream",
          "name": "stderr",
          "text": [
            "INFO:NEURONIOUtils:PGN node_id\t  Hz\n"
          ]
        },
        {
          "output_type": "stream",
          "name": "stdout",
          "text": [
            "2023-05-08 02:27:03,083 [INFO] 70\t\t3.0\n"
          ]
        },
        {
          "output_type": "stream",
          "name": "stderr",
          "text": [
            "INFO:NEURONIOUtils:70\t\t3.0\n"
          ]
        },
        {
          "output_type": "stream",
          "name": "stdout",
          "text": [
            "2023-05-08 02:27:03,087 [INFO] 71\t\t3.0\n"
          ]
        },
        {
          "output_type": "stream",
          "name": "stderr",
          "text": [
            "INFO:NEURONIOUtils:71\t\t3.0\n"
          ]
        },
        {
          "output_type": "stream",
          "name": "stdout",
          "text": [
            "2023-05-08 02:27:03,089 [INFO] 72\t\t3.0\n"
          ]
        },
        {
          "output_type": "stream",
          "name": "stderr",
          "text": [
            "INFO:NEURONIOUtils:72\t\t3.0\n"
          ]
        },
        {
          "output_type": "stream",
          "name": "stdout",
          "text": [
            "2023-05-08 02:27:03,092 [INFO] 73\t\t3.0\n"
          ]
        },
        {
          "output_type": "stream",
          "name": "stderr",
          "text": [
            "INFO:NEURONIOUtils:73\t\t3.0\n"
          ]
        },
        {
          "output_type": "stream",
          "name": "stdout",
          "text": [
            "2023-05-08 02:27:03,097 [INFO] 74\t\t3.0\n"
          ]
        },
        {
          "output_type": "stream",
          "name": "stderr",
          "text": [
            "INFO:NEURONIOUtils:74\t\t3.0\n"
          ]
        },
        {
          "output_type": "stream",
          "name": "stdout",
          "text": [
            "2023-05-08 02:27:03,099 [INFO] 75\t\t3.0\n"
          ]
        },
        {
          "output_type": "stream",
          "name": "stderr",
          "text": [
            "INFO:NEURONIOUtils:75\t\t3.0\n"
          ]
        },
        {
          "output_type": "stream",
          "name": "stdout",
          "text": [
            "2023-05-08 02:27:03,104 [INFO] 76\t\t3.0\n"
          ]
        },
        {
          "output_type": "stream",
          "name": "stderr",
          "text": [
            "INFO:NEURONIOUtils:76\t\t3.0\n"
          ]
        },
        {
          "output_type": "stream",
          "name": "stdout",
          "text": [
            "2023-05-08 02:27:03,106 [INFO] 77\t\t3.0\n"
          ]
        },
        {
          "output_type": "stream",
          "name": "stderr",
          "text": [
            "INFO:NEURONIOUtils:77\t\t3.0\n"
          ]
        },
        {
          "output_type": "stream",
          "name": "stdout",
          "text": [
            "2023-05-08 02:27:03,108 [INFO] 78\t\t3.0\n"
          ]
        },
        {
          "output_type": "stream",
          "name": "stderr",
          "text": [
            "INFO:NEURONIOUtils:78\t\t3.0\n"
          ]
        },
        {
          "output_type": "stream",
          "name": "stdout",
          "text": [
            "2023-05-08 02:27:03,112 [INFO] 79\t\t3.0\n"
          ]
        },
        {
          "output_type": "stream",
          "name": "stderr",
          "text": [
            "INFO:NEURONIOUtils:79\t\t3.0\n"
          ]
        },
        {
          "output_type": "stream",
          "name": "stdout",
          "text": [
            "2023-05-08 02:27:03,114 [INFO] PGN firing rate avg: 3.0 Hz\n"
          ]
        },
        {
          "output_type": "stream",
          "name": "stderr",
          "text": [
            "INFO:NEURONIOUtils:PGN firing rate avg: 3.0 Hz\n"
          ]
        },
        {
          "output_type": "stream",
          "name": "stdout",
          "text": [
            "2023-05-08 02:27:03,116 [INFO] Grill PGN fr = 4.657 Hz\n"
          ]
        },
        {
          "output_type": "stream",
          "name": "stderr",
          "text": [
            "INFO:NEURONIOUtils:Grill PGN fr = 4.657 Hz\n"
          ]
        },
        {
          "output_type": "stream",
          "name": "stdout",
          "text": [
            "2023-05-08 02:27:03,118 [INFO] IMG node_gid\t  Hz\n"
          ]
        },
        {
          "output_type": "stream",
          "name": "stderr",
          "text": [
            "INFO:NEURONIOUtils:IMG node_gid\t  Hz\n"
          ]
        },
        {
          "output_type": "stream",
          "name": "stdout",
          "text": [
            "2023-05-08 02:27:03,121 [INFO] IMG firing rate avg: 3.0 Hz\n"
          ]
        },
        {
          "output_type": "stream",
          "name": "stderr",
          "text": [
            "INFO:NEURONIOUtils:IMG firing rate avg: 3.0 Hz\n"
          ]
        },
        {
          "output_type": "stream",
          "name": "stdout",
          "text": [
            "2023-05-08 02:27:03,132 [INFO] Volume = 0.7583 ml\n"
          ]
        },
        {
          "output_type": "stream",
          "name": "stderr",
          "text": [
            "/usr/local/lib/python3.10/dist-packages/bmtk/utils/reports/spike_trains/spike_trains.py:183: RuntimeWarning: divide by zero encountered in double_scalars\n",
            "  interval = -np.log(1.0 - np.random.uniform()) / fr\n",
            "INFO:NEURONIOUtils:Volume = 0.7583 ml\n"
          ]
        },
        {
          "output_type": "stream",
          "name": "stdout",
          "text": [
            "2023-05-08 02:27:03,140 [INFO] Pressure = 3.43 mmHg\n"
          ]
        },
        {
          "output_type": "stream",
          "name": "stderr",
          "text": [
            "INFO:NEURONIOUtils:Pressure = 3.43 mmHg\n"
          ]
        },
        {
          "output_type": "stream",
          "name": "stdout",
          "text": [
            "2023-05-08 02:27:03,144 [INFO] Calculated bladder afferent firing rate for the next time step = 0.00 Hz \n",
            " \n",
            "\n"
          ]
        },
        {
          "output_type": "stream",
          "name": "stderr",
          "text": [
            "INFO:NEURONIOUtils:Calculated bladder afferent firing rate for the next time step = 0.00 Hz \n",
            " \n",
            "\n"
          ]
        },
        {
          "output_type": "stream",
          "name": "stdout",
          "text": [
            "2023-05-08 02:27:05,783 [INFO]     step:140000 t_sim:28000.00 ms\n"
          ]
        },
        {
          "output_type": "stream",
          "name": "stderr",
          "text": [
            "INFO:NEURONIOUtils:    step:140000 t_sim:28000.00 ms\n"
          ]
        },
        {
          "output_type": "stream",
          "name": "stdout",
          "text": [
            "2023-05-08 02:27:05,793 [INFO] Timestep 27000.0 to 28000.0 ms\n"
          ]
        },
        {
          "output_type": "stream",
          "name": "stderr",
          "text": [
            "INFO:NEURONIOUtils:Timestep 27000.0 to 28000.0 ms\n"
          ]
        },
        {
          "output_type": "stream",
          "name": "stdout",
          "text": [
            "2023-05-08 02:27:05,800 [INFO] PGN node_id\t  Hz\n"
          ]
        },
        {
          "output_type": "stream",
          "name": "stderr",
          "text": [
            "INFO:NEURONIOUtils:PGN node_id\t  Hz\n"
          ]
        },
        {
          "output_type": "stream",
          "name": "stdout",
          "text": [
            "2023-05-08 02:27:05,803 [INFO] 70\t\t2.0\n"
          ]
        },
        {
          "output_type": "stream",
          "name": "stderr",
          "text": [
            "INFO:NEURONIOUtils:70\t\t2.0\n"
          ]
        },
        {
          "output_type": "stream",
          "name": "stdout",
          "text": [
            "2023-05-08 02:27:05,808 [INFO] 71\t\t2.0\n"
          ]
        },
        {
          "output_type": "stream",
          "name": "stderr",
          "text": [
            "INFO:NEURONIOUtils:71\t\t2.0\n"
          ]
        },
        {
          "output_type": "stream",
          "name": "stdout",
          "text": [
            "2023-05-08 02:27:05,811 [INFO] 72\t\t2.0\n"
          ]
        },
        {
          "output_type": "stream",
          "name": "stderr",
          "text": [
            "INFO:NEURONIOUtils:72\t\t2.0\n"
          ]
        },
        {
          "output_type": "stream",
          "name": "stdout",
          "text": [
            "2023-05-08 02:27:05,815 [INFO] 73\t\t2.0\n"
          ]
        },
        {
          "output_type": "stream",
          "name": "stderr",
          "text": [
            "INFO:NEURONIOUtils:73\t\t2.0\n"
          ]
        },
        {
          "output_type": "stream",
          "name": "stdout",
          "text": [
            "2023-05-08 02:27:05,817 [INFO] 74\t\t2.0\n"
          ]
        },
        {
          "output_type": "stream",
          "name": "stderr",
          "text": [
            "INFO:NEURONIOUtils:74\t\t2.0\n"
          ]
        },
        {
          "output_type": "stream",
          "name": "stdout",
          "text": [
            "2023-05-08 02:27:05,820 [INFO] 75\t\t2.0\n"
          ]
        },
        {
          "output_type": "stream",
          "name": "stderr",
          "text": [
            "INFO:NEURONIOUtils:75\t\t2.0\n"
          ]
        },
        {
          "output_type": "stream",
          "name": "stdout",
          "text": [
            "2023-05-08 02:27:05,822 [INFO] 76\t\t2.0\n"
          ]
        },
        {
          "output_type": "stream",
          "name": "stderr",
          "text": [
            "INFO:NEURONIOUtils:76\t\t2.0\n"
          ]
        },
        {
          "output_type": "stream",
          "name": "stdout",
          "text": [
            "2023-05-08 02:27:05,824 [INFO] 77\t\t2.0\n"
          ]
        },
        {
          "output_type": "stream",
          "name": "stderr",
          "text": [
            "INFO:NEURONIOUtils:77\t\t2.0\n"
          ]
        },
        {
          "output_type": "stream",
          "name": "stdout",
          "text": [
            "2023-05-08 02:27:05,826 [INFO] 78\t\t2.0\n"
          ]
        },
        {
          "output_type": "stream",
          "name": "stderr",
          "text": [
            "INFO:NEURONIOUtils:78\t\t2.0\n"
          ]
        },
        {
          "output_type": "stream",
          "name": "stdout",
          "text": [
            "2023-05-08 02:27:05,828 [INFO] 79\t\t2.0\n"
          ]
        },
        {
          "output_type": "stream",
          "name": "stderr",
          "text": [
            "INFO:NEURONIOUtils:79\t\t2.0\n"
          ]
        },
        {
          "output_type": "stream",
          "name": "stdout",
          "text": [
            "2023-05-08 02:27:05,832 [INFO] PGN firing rate avg: 2.0 Hz\n"
          ]
        },
        {
          "output_type": "stream",
          "name": "stderr",
          "text": [
            "INFO:NEURONIOUtils:PGN firing rate avg: 2.0 Hz\n"
          ]
        },
        {
          "output_type": "stream",
          "name": "stdout",
          "text": [
            "2023-05-08 02:27:05,835 [INFO] Grill PGN fr = 2.984 Hz\n"
          ]
        },
        {
          "output_type": "stream",
          "name": "stderr",
          "text": [
            "INFO:NEURONIOUtils:Grill PGN fr = 2.984 Hz\n"
          ]
        },
        {
          "output_type": "stream",
          "name": "stdout",
          "text": [
            "2023-05-08 02:27:05,837 [INFO] IMG node_gid\t  Hz\n"
          ]
        },
        {
          "output_type": "stream",
          "name": "stderr",
          "text": [
            "INFO:NEURONIOUtils:IMG node_gid\t  Hz\n"
          ]
        },
        {
          "output_type": "stream",
          "name": "stdout",
          "text": [
            "2023-05-08 02:27:05,839 [INFO] IMG firing rate avg: 2.0 Hz\n"
          ]
        },
        {
          "output_type": "stream",
          "name": "stderr",
          "text": [
            "INFO:NEURONIOUtils:IMG firing rate avg: 2.0 Hz\n"
          ]
        },
        {
          "output_type": "stream",
          "name": "stdout",
          "text": [
            "2023-05-08 02:27:05,847 [INFO] Volume = 0.7875 ml\n"
          ]
        },
        {
          "output_type": "stream",
          "name": "stderr",
          "text": [
            "/usr/local/lib/python3.10/dist-packages/bmtk/utils/reports/spike_trains/spike_trains.py:183: RuntimeWarning: divide by zero encountered in double_scalars\n",
            "  interval = -np.log(1.0 - np.random.uniform()) / fr\n",
            "INFO:NEURONIOUtils:Volume = 0.7875 ml\n"
          ]
        },
        {
          "output_type": "stream",
          "name": "stdout",
          "text": [
            "2023-05-08 02:27:05,854 [INFO] Pressure = 2.19 mmHg\n"
          ]
        },
        {
          "output_type": "stream",
          "name": "stderr",
          "text": [
            "INFO:NEURONIOUtils:Pressure = 2.19 mmHg\n"
          ]
        },
        {
          "output_type": "stream",
          "name": "stdout",
          "text": [
            "2023-05-08 02:27:05,857 [INFO] Calculated bladder afferent firing rate for the next time step = 0.00 Hz \n",
            " \n",
            "\n"
          ]
        },
        {
          "output_type": "stream",
          "name": "stderr",
          "text": [
            "INFO:NEURONIOUtils:Calculated bladder afferent firing rate for the next time step = 0.00 Hz \n",
            " \n",
            "\n"
          ]
        },
        {
          "output_type": "stream",
          "name": "stdout",
          "text": [
            "2023-05-08 02:27:07,952 [INFO]     step:145000 t_sim:29000.00 ms\n"
          ]
        },
        {
          "output_type": "stream",
          "name": "stderr",
          "text": [
            "INFO:NEURONIOUtils:    step:145000 t_sim:29000.00 ms\n"
          ]
        },
        {
          "output_type": "stream",
          "name": "stdout",
          "text": [
            "2023-05-08 02:27:07,965 [INFO] Timestep 28000.0 to 29000.0 ms\n"
          ]
        },
        {
          "output_type": "stream",
          "name": "stderr",
          "text": [
            "INFO:NEURONIOUtils:Timestep 28000.0 to 29000.0 ms\n"
          ]
        },
        {
          "output_type": "stream",
          "name": "stdout",
          "text": [
            "2023-05-08 02:27:07,971 [INFO] PGN node_id\t  Hz\n"
          ]
        },
        {
          "output_type": "stream",
          "name": "stderr",
          "text": [
            "INFO:NEURONIOUtils:PGN node_id\t  Hz\n"
          ]
        },
        {
          "output_type": "stream",
          "name": "stdout",
          "text": [
            "2023-05-08 02:27:07,976 [INFO] 70\t\t5.0\n"
          ]
        },
        {
          "output_type": "stream",
          "name": "stderr",
          "text": [
            "INFO:NEURONIOUtils:70\t\t5.0\n"
          ]
        },
        {
          "output_type": "stream",
          "name": "stdout",
          "text": [
            "2023-05-08 02:27:07,982 [INFO] 71\t\t5.0\n"
          ]
        },
        {
          "output_type": "stream",
          "name": "stderr",
          "text": [
            "INFO:NEURONIOUtils:71\t\t5.0\n"
          ]
        },
        {
          "output_type": "stream",
          "name": "stdout",
          "text": [
            "2023-05-08 02:27:07,984 [INFO] 72\t\t5.0\n"
          ]
        },
        {
          "output_type": "stream",
          "name": "stderr",
          "text": [
            "INFO:NEURONIOUtils:72\t\t5.0\n"
          ]
        },
        {
          "output_type": "stream",
          "name": "stdout",
          "text": [
            "2023-05-08 02:27:07,986 [INFO] 73\t\t5.0\n"
          ]
        },
        {
          "output_type": "stream",
          "name": "stderr",
          "text": [
            "INFO:NEURONIOUtils:73\t\t5.0\n"
          ]
        },
        {
          "output_type": "stream",
          "name": "stdout",
          "text": [
            "2023-05-08 02:27:07,989 [INFO] 74\t\t5.0\n"
          ]
        },
        {
          "output_type": "stream",
          "name": "stderr",
          "text": [
            "INFO:NEURONIOUtils:74\t\t5.0\n"
          ]
        },
        {
          "output_type": "stream",
          "name": "stdout",
          "text": [
            "2023-05-08 02:27:07,990 [INFO] 75\t\t5.0\n"
          ]
        },
        {
          "output_type": "stream",
          "name": "stderr",
          "text": [
            "INFO:NEURONIOUtils:75\t\t5.0\n"
          ]
        },
        {
          "output_type": "stream",
          "name": "stdout",
          "text": [
            "2023-05-08 02:27:07,992 [INFO] 76\t\t5.0\n"
          ]
        },
        {
          "output_type": "stream",
          "name": "stderr",
          "text": [
            "INFO:NEURONIOUtils:76\t\t5.0\n"
          ]
        },
        {
          "output_type": "stream",
          "name": "stdout",
          "text": [
            "2023-05-08 02:27:07,995 [INFO] 77\t\t5.0\n"
          ]
        },
        {
          "output_type": "stream",
          "name": "stderr",
          "text": [
            "INFO:NEURONIOUtils:77\t\t5.0\n"
          ]
        },
        {
          "output_type": "stream",
          "name": "stdout",
          "text": [
            "2023-05-08 02:27:07,997 [INFO] 78\t\t5.0\n"
          ]
        },
        {
          "output_type": "stream",
          "name": "stderr",
          "text": [
            "INFO:NEURONIOUtils:78\t\t5.0\n"
          ]
        },
        {
          "output_type": "stream",
          "name": "stdout",
          "text": [
            "2023-05-08 02:27:07,999 [INFO] 79\t\t5.0\n"
          ]
        },
        {
          "output_type": "stream",
          "name": "stderr",
          "text": [
            "INFO:NEURONIOUtils:79\t\t5.0\n"
          ]
        },
        {
          "output_type": "stream",
          "name": "stdout",
          "text": [
            "2023-05-08 02:27:08,002 [INFO] PGN firing rate avg: 5.0 Hz\n"
          ]
        },
        {
          "output_type": "stream",
          "name": "stderr",
          "text": [
            "INFO:NEURONIOUtils:PGN firing rate avg: 5.0 Hz\n"
          ]
        },
        {
          "output_type": "stream",
          "name": "stdout",
          "text": [
            "2023-05-08 02:27:08,004 [INFO] Grill PGN fr = 7.925000000000001 Hz\n"
          ]
        },
        {
          "output_type": "stream",
          "name": "stderr",
          "text": [
            "INFO:NEURONIOUtils:Grill PGN fr = 7.925000000000001 Hz\n"
          ]
        },
        {
          "output_type": "stream",
          "name": "stdout",
          "text": [
            "2023-05-08 02:27:08,006 [INFO] IMG node_gid\t  Hz\n"
          ]
        },
        {
          "output_type": "stream",
          "name": "stderr",
          "text": [
            "INFO:NEURONIOUtils:IMG node_gid\t  Hz\n"
          ]
        },
        {
          "output_type": "stream",
          "name": "stdout",
          "text": [
            "2023-05-08 02:27:08,008 [INFO] IMG firing rate avg: 5.0 Hz\n"
          ]
        },
        {
          "output_type": "stream",
          "name": "stderr",
          "text": [
            "INFO:NEURONIOUtils:IMG firing rate avg: 5.0 Hz\n"
          ]
        },
        {
          "output_type": "stream",
          "name": "stdout",
          "text": [
            "2023-05-08 02:27:08,017 [INFO] Volume = 0.8167 ml\n"
          ]
        },
        {
          "output_type": "stream",
          "name": "stderr",
          "text": [
            "/usr/local/lib/python3.10/dist-packages/bmtk/utils/reports/spike_trains/spike_trains.py:183: RuntimeWarning: divide by zero encountered in double_scalars\n",
            "  interval = -np.log(1.0 - np.random.uniform()) / fr\n",
            "INFO:NEURONIOUtils:Volume = 0.8167 ml\n"
          ]
        },
        {
          "output_type": "stream",
          "name": "stdout",
          "text": [
            "2023-05-08 02:27:08,026 [INFO] Pressure = 5.83 mmHg\n"
          ]
        },
        {
          "output_type": "stream",
          "name": "stderr",
          "text": [
            "INFO:NEURONIOUtils:Pressure = 5.83 mmHg\n"
          ]
        },
        {
          "output_type": "stream",
          "name": "stdout",
          "text": [
            "2023-05-08 02:27:08,028 [INFO] Calculated bladder afferent firing rate for the next time step = 0.00 Hz \n",
            " \n",
            "\n"
          ]
        },
        {
          "output_type": "stream",
          "name": "stderr",
          "text": [
            "INFO:NEURONIOUtils:Calculated bladder afferent firing rate for the next time step = 0.00 Hz \n",
            " \n",
            "\n"
          ]
        },
        {
          "output_type": "stream",
          "name": "stdout",
          "text": [
            "2023-05-08 02:27:09,844 [INFO]     step:150000 t_sim:30000.00 ms\n"
          ]
        },
        {
          "output_type": "stream",
          "name": "stderr",
          "text": [
            "INFO:NEURONIOUtils:    step:150000 t_sim:30000.00 ms\n"
          ]
        },
        {
          "output_type": "stream",
          "name": "stdout",
          "text": [
            "2023-05-08 02:27:09,859 [INFO] Timestep 29000.0 to 30000.0 ms\n"
          ]
        },
        {
          "output_type": "stream",
          "name": "stderr",
          "text": [
            "INFO:NEURONIOUtils:Timestep 29000.0 to 30000.0 ms\n"
          ]
        },
        {
          "output_type": "stream",
          "name": "stdout",
          "text": [
            "2023-05-08 02:27:09,865 [INFO] PGN node_id\t  Hz\n"
          ]
        },
        {
          "output_type": "stream",
          "name": "stderr",
          "text": [
            "INFO:NEURONIOUtils:PGN node_id\t  Hz\n"
          ]
        },
        {
          "output_type": "stream",
          "name": "stdout",
          "text": [
            "2023-05-08 02:27:09,869 [INFO] 70\t\t2.0\n"
          ]
        },
        {
          "output_type": "stream",
          "name": "stderr",
          "text": [
            "INFO:NEURONIOUtils:70\t\t2.0\n"
          ]
        },
        {
          "output_type": "stream",
          "name": "stdout",
          "text": [
            "2023-05-08 02:27:09,872 [INFO] 71\t\t2.0\n"
          ]
        },
        {
          "output_type": "stream",
          "name": "stderr",
          "text": [
            "INFO:NEURONIOUtils:71\t\t2.0\n"
          ]
        },
        {
          "output_type": "stream",
          "name": "stdout",
          "text": [
            "2023-05-08 02:27:09,874 [INFO] 72\t\t2.0\n"
          ]
        },
        {
          "output_type": "stream",
          "name": "stderr",
          "text": [
            "INFO:NEURONIOUtils:72\t\t2.0\n"
          ]
        },
        {
          "output_type": "stream",
          "name": "stdout",
          "text": [
            "2023-05-08 02:27:09,876 [INFO] 73\t\t2.0\n"
          ]
        },
        {
          "output_type": "stream",
          "name": "stderr",
          "text": [
            "INFO:NEURONIOUtils:73\t\t2.0\n"
          ]
        },
        {
          "output_type": "stream",
          "name": "stdout",
          "text": [
            "2023-05-08 02:27:09,879 [INFO] 74\t\t2.0\n"
          ]
        },
        {
          "output_type": "stream",
          "name": "stderr",
          "text": [
            "INFO:NEURONIOUtils:74\t\t2.0\n"
          ]
        },
        {
          "output_type": "stream",
          "name": "stdout",
          "text": [
            "2023-05-08 02:27:09,881 [INFO] 75\t\t2.0\n"
          ]
        },
        {
          "output_type": "stream",
          "name": "stderr",
          "text": [
            "INFO:NEURONIOUtils:75\t\t2.0\n"
          ]
        },
        {
          "output_type": "stream",
          "name": "stdout",
          "text": [
            "2023-05-08 02:27:09,884 [INFO] 76\t\t2.0\n"
          ]
        },
        {
          "output_type": "stream",
          "name": "stderr",
          "text": [
            "INFO:NEURONIOUtils:76\t\t2.0\n"
          ]
        },
        {
          "output_type": "stream",
          "name": "stdout",
          "text": [
            "2023-05-08 02:27:09,887 [INFO] 77\t\t2.0\n"
          ]
        },
        {
          "output_type": "stream",
          "name": "stderr",
          "text": [
            "INFO:NEURONIOUtils:77\t\t2.0\n"
          ]
        },
        {
          "output_type": "stream",
          "name": "stdout",
          "text": [
            "2023-05-08 02:27:09,889 [INFO] 78\t\t2.0\n"
          ]
        },
        {
          "output_type": "stream",
          "name": "stderr",
          "text": [
            "INFO:NEURONIOUtils:78\t\t2.0\n"
          ]
        },
        {
          "output_type": "stream",
          "name": "stdout",
          "text": [
            "2023-05-08 02:27:09,892 [INFO] 79\t\t2.0\n"
          ]
        },
        {
          "output_type": "stream",
          "name": "stderr",
          "text": [
            "INFO:NEURONIOUtils:79\t\t2.0\n"
          ]
        },
        {
          "output_type": "stream",
          "name": "stdout",
          "text": [
            "2023-05-08 02:27:09,894 [INFO] PGN firing rate avg: 2.0 Hz\n"
          ]
        },
        {
          "output_type": "stream",
          "name": "stderr",
          "text": [
            "INFO:NEURONIOUtils:PGN firing rate avg: 2.0 Hz\n"
          ]
        },
        {
          "output_type": "stream",
          "name": "stdout",
          "text": [
            "2023-05-08 02:27:09,897 [INFO] Grill PGN fr = 2.984 Hz\n"
          ]
        },
        {
          "output_type": "stream",
          "name": "stderr",
          "text": [
            "INFO:NEURONIOUtils:Grill PGN fr = 2.984 Hz\n"
          ]
        },
        {
          "output_type": "stream",
          "name": "stdout",
          "text": [
            "2023-05-08 02:27:09,900 [INFO] IMG node_gid\t  Hz\n"
          ]
        },
        {
          "output_type": "stream",
          "name": "stderr",
          "text": [
            "INFO:NEURONIOUtils:IMG node_gid\t  Hz\n"
          ]
        },
        {
          "output_type": "stream",
          "name": "stdout",
          "text": [
            "2023-05-08 02:27:09,902 [INFO] IMG firing rate avg: 2.0 Hz\n"
          ]
        },
        {
          "output_type": "stream",
          "name": "stderr",
          "text": [
            "INFO:NEURONIOUtils:IMG firing rate avg: 2.0 Hz\n"
          ]
        },
        {
          "output_type": "stream",
          "name": "stdout",
          "text": [
            "2023-05-08 02:27:09,909 [INFO] Volume = 0.8458 ml\n"
          ]
        },
        {
          "output_type": "stream",
          "name": "stderr",
          "text": [
            "/usr/local/lib/python3.10/dist-packages/bmtk/utils/reports/spike_trains/spike_trains.py:183: RuntimeWarning: divide by zero encountered in double_scalars\n",
            "  interval = -np.log(1.0 - np.random.uniform()) / fr\n",
            "INFO:NEURONIOUtils:Volume = 0.8458 ml\n"
          ]
        },
        {
          "output_type": "stream",
          "name": "stdout",
          "text": [
            "2023-05-08 02:27:09,913 [INFO] Pressure = 2.31 mmHg\n"
          ]
        },
        {
          "output_type": "stream",
          "name": "stderr",
          "text": [
            "INFO:NEURONIOUtils:Pressure = 2.31 mmHg\n"
          ]
        },
        {
          "output_type": "stream",
          "name": "stdout",
          "text": [
            "2023-05-08 02:27:09,915 [INFO] Calculated bladder afferent firing rate for the next time step = 0.00 Hz \n",
            " \n",
            "\n"
          ]
        },
        {
          "output_type": "stream",
          "name": "stderr",
          "text": [
            "INFO:NEURONIOUtils:Calculated bladder afferent firing rate for the next time step = 0.00 Hz \n",
            " \n",
            "\n"
          ]
        },
        {
          "output_type": "stream",
          "name": "stdout",
          "text": [
            "2023-05-08 02:27:11,984 [INFO]     step:155000 t_sim:31000.00 ms\n"
          ]
        },
        {
          "output_type": "stream",
          "name": "stderr",
          "text": [
            "INFO:NEURONIOUtils:    step:155000 t_sim:31000.00 ms\n"
          ]
        },
        {
          "output_type": "stream",
          "name": "stdout",
          "text": [
            "2023-05-08 02:27:11,999 [INFO] Timestep 30000.0 to 31000.0 ms\n"
          ]
        },
        {
          "output_type": "stream",
          "name": "stderr",
          "text": [
            "INFO:NEURONIOUtils:Timestep 30000.0 to 31000.0 ms\n"
          ]
        },
        {
          "output_type": "stream",
          "name": "stdout",
          "text": [
            "2023-05-08 02:27:12,005 [INFO] PGN node_id\t  Hz\n"
          ]
        },
        {
          "output_type": "stream",
          "name": "stderr",
          "text": [
            "INFO:NEURONIOUtils:PGN node_id\t  Hz\n"
          ]
        },
        {
          "output_type": "stream",
          "name": "stdout",
          "text": [
            "2023-05-08 02:27:12,007 [INFO] 70\t\t1.0\n"
          ]
        },
        {
          "output_type": "stream",
          "name": "stderr",
          "text": [
            "INFO:NEURONIOUtils:70\t\t1.0\n"
          ]
        },
        {
          "output_type": "stream",
          "name": "stdout",
          "text": [
            "2023-05-08 02:27:12,010 [INFO] 71\t\t1.0\n"
          ]
        },
        {
          "output_type": "stream",
          "name": "stderr",
          "text": [
            "INFO:NEURONIOUtils:71\t\t1.0\n"
          ]
        },
        {
          "output_type": "stream",
          "name": "stdout",
          "text": [
            "2023-05-08 02:27:12,012 [INFO] 72\t\t1.0\n"
          ]
        },
        {
          "output_type": "stream",
          "name": "stderr",
          "text": [
            "INFO:NEURONIOUtils:72\t\t1.0\n"
          ]
        },
        {
          "output_type": "stream",
          "name": "stdout",
          "text": [
            "2023-05-08 02:27:12,013 [INFO] 73\t\t1.0\n"
          ]
        },
        {
          "output_type": "stream",
          "name": "stderr",
          "text": [
            "INFO:NEURONIOUtils:73\t\t1.0\n"
          ]
        },
        {
          "output_type": "stream",
          "name": "stdout",
          "text": [
            "2023-05-08 02:27:12,015 [INFO] 74\t\t1.0\n"
          ]
        },
        {
          "output_type": "stream",
          "name": "stderr",
          "text": [
            "INFO:NEURONIOUtils:74\t\t1.0\n"
          ]
        },
        {
          "output_type": "stream",
          "name": "stdout",
          "text": [
            "2023-05-08 02:27:12,018 [INFO] 75\t\t1.0\n"
          ]
        },
        {
          "output_type": "stream",
          "name": "stderr",
          "text": [
            "INFO:NEURONIOUtils:75\t\t1.0\n"
          ]
        },
        {
          "output_type": "stream",
          "name": "stdout",
          "text": [
            "2023-05-08 02:27:12,020 [INFO] 76\t\t1.0\n"
          ]
        },
        {
          "output_type": "stream",
          "name": "stderr",
          "text": [
            "INFO:NEURONIOUtils:76\t\t1.0\n"
          ]
        },
        {
          "output_type": "stream",
          "name": "stdout",
          "text": [
            "2023-05-08 02:27:12,022 [INFO] 77\t\t1.0\n"
          ]
        },
        {
          "output_type": "stream",
          "name": "stderr",
          "text": [
            "INFO:NEURONIOUtils:77\t\t1.0\n"
          ]
        },
        {
          "output_type": "stream",
          "name": "stdout",
          "text": [
            "2023-05-08 02:27:12,024 [INFO] 78\t\t1.0\n"
          ]
        },
        {
          "output_type": "stream",
          "name": "stderr",
          "text": [
            "INFO:NEURONIOUtils:78\t\t1.0\n"
          ]
        },
        {
          "output_type": "stream",
          "name": "stdout",
          "text": [
            "2023-05-08 02:27:12,026 [INFO] 79\t\t1.0\n"
          ]
        },
        {
          "output_type": "stream",
          "name": "stderr",
          "text": [
            "INFO:NEURONIOUtils:79\t\t1.0\n"
          ]
        },
        {
          "output_type": "stream",
          "name": "stdout",
          "text": [
            "2023-05-08 02:27:12,028 [INFO] PGN firing rate avg: 1.0 Hz\n"
          ]
        },
        {
          "output_type": "stream",
          "name": "stderr",
          "text": [
            "INFO:NEURONIOUtils:PGN firing rate avg: 1.0 Hz\n"
          ]
        },
        {
          "output_type": "stream",
          "name": "stdout",
          "text": [
            "2023-05-08 02:27:12,030 [INFO] Grill PGN fr = 1.2690000000000001 Hz\n"
          ]
        },
        {
          "output_type": "stream",
          "name": "stderr",
          "text": [
            "INFO:NEURONIOUtils:Grill PGN fr = 1.2690000000000001 Hz\n"
          ]
        },
        {
          "output_type": "stream",
          "name": "stdout",
          "text": [
            "2023-05-08 02:27:12,032 [INFO] IMG node_gid\t  Hz\n"
          ]
        },
        {
          "output_type": "stream",
          "name": "stderr",
          "text": [
            "INFO:NEURONIOUtils:IMG node_gid\t  Hz\n"
          ]
        },
        {
          "output_type": "stream",
          "name": "stdout",
          "text": [
            "2023-05-08 02:27:12,034 [INFO] IMG firing rate avg: 1.0 Hz\n"
          ]
        },
        {
          "output_type": "stream",
          "name": "stderr",
          "text": [
            "INFO:NEURONIOUtils:IMG firing rate avg: 1.0 Hz\n"
          ]
        },
        {
          "output_type": "stream",
          "name": "stdout",
          "text": [
            "2023-05-08 02:27:12,042 [INFO] Volume = 0.8750 ml\n"
          ]
        },
        {
          "output_type": "stream",
          "name": "stderr",
          "text": [
            "/usr/local/lib/python3.10/dist-packages/bmtk/utils/reports/spike_trains/spike_trains.py:183: RuntimeWarning: divide by zero encountered in double_scalars\n",
            "  interval = -np.log(1.0 - np.random.uniform()) / fr\n",
            "INFO:NEURONIOUtils:Volume = 0.8750 ml\n"
          ]
        },
        {
          "output_type": "stream",
          "name": "stdout",
          "text": [
            "2023-05-08 02:27:12,046 [INFO] Pressure = 1.30 mmHg\n"
          ]
        },
        {
          "output_type": "stream",
          "name": "stderr",
          "text": [
            "INFO:NEURONIOUtils:Pressure = 1.30 mmHg\n"
          ]
        },
        {
          "output_type": "stream",
          "name": "stdout",
          "text": [
            "2023-05-08 02:27:12,049 [INFO] Calculated bladder afferent firing rate for the next time step = 0.00 Hz \n",
            " \n",
            "\n"
          ]
        },
        {
          "output_type": "stream",
          "name": "stderr",
          "text": [
            "INFO:NEURONIOUtils:Calculated bladder afferent firing rate for the next time step = 0.00 Hz \n",
            " \n",
            "\n"
          ]
        },
        {
          "output_type": "stream",
          "name": "stdout",
          "text": [
            "2023-05-08 02:27:14,096 [INFO]     step:160000 t_sim:32000.00 ms\n"
          ]
        },
        {
          "output_type": "stream",
          "name": "stderr",
          "text": [
            "INFO:NEURONIOUtils:    step:160000 t_sim:32000.00 ms\n"
          ]
        },
        {
          "output_type": "stream",
          "name": "stdout",
          "text": [
            "2023-05-08 02:27:14,115 [INFO] Timestep 31000.0 to 32000.0 ms\n"
          ]
        },
        {
          "output_type": "stream",
          "name": "stderr",
          "text": [
            "INFO:NEURONIOUtils:Timestep 31000.0 to 32000.0 ms\n"
          ]
        },
        {
          "output_type": "stream",
          "name": "stdout",
          "text": [
            "2023-05-08 02:27:14,120 [INFO] PGN node_id\t  Hz\n"
          ]
        },
        {
          "output_type": "stream",
          "name": "stderr",
          "text": [
            "INFO:NEURONIOUtils:PGN node_id\t  Hz\n"
          ]
        },
        {
          "output_type": "stream",
          "name": "stdout",
          "text": [
            "2023-05-08 02:27:14,125 [INFO] 70\t\t3.0\n"
          ]
        },
        {
          "output_type": "stream",
          "name": "stderr",
          "text": [
            "INFO:NEURONIOUtils:70\t\t3.0\n"
          ]
        },
        {
          "output_type": "stream",
          "name": "stdout",
          "text": [
            "2023-05-08 02:27:14,128 [INFO] 71\t\t3.0\n"
          ]
        },
        {
          "output_type": "stream",
          "name": "stderr",
          "text": [
            "INFO:NEURONIOUtils:71\t\t3.0\n"
          ]
        },
        {
          "output_type": "stream",
          "name": "stdout",
          "text": [
            "2023-05-08 02:27:14,131 [INFO] 72\t\t3.0\n"
          ]
        },
        {
          "output_type": "stream",
          "name": "stderr",
          "text": [
            "INFO:NEURONIOUtils:72\t\t3.0\n"
          ]
        },
        {
          "output_type": "stream",
          "name": "stdout",
          "text": [
            "2023-05-08 02:27:14,134 [INFO] 73\t\t3.0\n"
          ]
        },
        {
          "output_type": "stream",
          "name": "stderr",
          "text": [
            "INFO:NEURONIOUtils:73\t\t3.0\n"
          ]
        },
        {
          "output_type": "stream",
          "name": "stdout",
          "text": [
            "2023-05-08 02:27:14,137 [INFO] 74\t\t3.0\n"
          ]
        },
        {
          "output_type": "stream",
          "name": "stderr",
          "text": [
            "INFO:NEURONIOUtils:74\t\t3.0\n"
          ]
        },
        {
          "output_type": "stream",
          "name": "stdout",
          "text": [
            "2023-05-08 02:27:14,139 [INFO] 75\t\t3.0\n"
          ]
        },
        {
          "output_type": "stream",
          "name": "stderr",
          "text": [
            "INFO:NEURONIOUtils:75\t\t3.0\n"
          ]
        },
        {
          "output_type": "stream",
          "name": "stdout",
          "text": [
            "2023-05-08 02:27:14,142 [INFO] 76\t\t3.0\n"
          ]
        },
        {
          "output_type": "stream",
          "name": "stderr",
          "text": [
            "INFO:NEURONIOUtils:76\t\t3.0\n"
          ]
        },
        {
          "output_type": "stream",
          "name": "stdout",
          "text": [
            "2023-05-08 02:27:14,144 [INFO] 77\t\t3.0\n"
          ]
        },
        {
          "output_type": "stream",
          "name": "stderr",
          "text": [
            "INFO:NEURONIOUtils:77\t\t3.0\n"
          ]
        },
        {
          "output_type": "stream",
          "name": "stdout",
          "text": [
            "2023-05-08 02:27:14,146 [INFO] 78\t\t3.0\n"
          ]
        },
        {
          "output_type": "stream",
          "name": "stderr",
          "text": [
            "INFO:NEURONIOUtils:78\t\t3.0\n"
          ]
        },
        {
          "output_type": "stream",
          "name": "stdout",
          "text": [
            "2023-05-08 02:27:14,154 [INFO] 79\t\t3.0\n"
          ]
        },
        {
          "output_type": "stream",
          "name": "stderr",
          "text": [
            "INFO:NEURONIOUtils:79\t\t3.0\n"
          ]
        },
        {
          "output_type": "stream",
          "name": "stdout",
          "text": [
            "2023-05-08 02:27:14,156 [INFO] PGN firing rate avg: 3.0 Hz\n"
          ]
        },
        {
          "output_type": "stream",
          "name": "stderr",
          "text": [
            "INFO:NEURONIOUtils:PGN firing rate avg: 3.0 Hz\n"
          ]
        },
        {
          "output_type": "stream",
          "name": "stdout",
          "text": [
            "2023-05-08 02:27:14,162 [INFO] Grill PGN fr = 4.657 Hz\n"
          ]
        },
        {
          "output_type": "stream",
          "name": "stderr",
          "text": [
            "INFO:NEURONIOUtils:Grill PGN fr = 4.657 Hz\n"
          ]
        },
        {
          "output_type": "stream",
          "name": "stdout",
          "text": [
            "2023-05-08 02:27:14,165 [INFO] IMG node_gid\t  Hz\n"
          ]
        },
        {
          "output_type": "stream",
          "name": "stderr",
          "text": [
            "INFO:NEURONIOUtils:IMG node_gid\t  Hz\n"
          ]
        },
        {
          "output_type": "stream",
          "name": "stdout",
          "text": [
            "2023-05-08 02:27:14,167 [INFO] IMG firing rate avg: 3.0 Hz\n"
          ]
        },
        {
          "output_type": "stream",
          "name": "stderr",
          "text": [
            "INFO:NEURONIOUtils:IMG firing rate avg: 3.0 Hz\n"
          ]
        },
        {
          "output_type": "stream",
          "name": "stdout",
          "text": [
            "2023-05-08 02:27:14,178 [INFO] Volume = 0.9042 ml\n"
          ]
        },
        {
          "output_type": "stream",
          "name": "stderr",
          "text": [
            "/usr/local/lib/python3.10/dist-packages/bmtk/utils/reports/spike_trains/spike_trains.py:183: RuntimeWarning: divide by zero encountered in double_scalars\n",
            "  interval = -np.log(1.0 - np.random.uniform()) / fr\n",
            "INFO:NEURONIOUtils:Volume = 0.9042 ml\n"
          ]
        },
        {
          "output_type": "stream",
          "name": "stdout",
          "text": [
            "2023-05-08 02:27:14,198 [INFO] Pressure = 4.05 mmHg\n"
          ]
        },
        {
          "output_type": "stream",
          "name": "stderr",
          "text": [
            "INFO:NEURONIOUtils:Pressure = 4.05 mmHg\n"
          ]
        },
        {
          "output_type": "stream",
          "name": "stdout",
          "text": [
            "2023-05-08 02:27:14,206 [INFO] Calculated bladder afferent firing rate for the next time step = 0.00 Hz \n",
            " \n",
            "\n"
          ]
        },
        {
          "output_type": "stream",
          "name": "stderr",
          "text": [
            "INFO:NEURONIOUtils:Calculated bladder afferent firing rate for the next time step = 0.00 Hz \n",
            " \n",
            "\n"
          ]
        },
        {
          "output_type": "stream",
          "name": "stdout",
          "text": [
            "2023-05-08 02:27:16,281 [INFO]     step:165000 t_sim:33000.00 ms\n"
          ]
        },
        {
          "output_type": "stream",
          "name": "stderr",
          "text": [
            "INFO:NEURONIOUtils:    step:165000 t_sim:33000.00 ms\n"
          ]
        },
        {
          "output_type": "stream",
          "name": "stdout",
          "text": [
            "2023-05-08 02:27:16,300 [INFO] Timestep 32000.0 to 33000.0 ms\n"
          ]
        },
        {
          "output_type": "stream",
          "name": "stderr",
          "text": [
            "INFO:NEURONIOUtils:Timestep 32000.0 to 33000.0 ms\n"
          ]
        },
        {
          "output_type": "stream",
          "name": "stdout",
          "text": [
            "2023-05-08 02:27:16,304 [INFO] PGN node_id\t  Hz\n"
          ]
        },
        {
          "output_type": "stream",
          "name": "stderr",
          "text": [
            "INFO:NEURONIOUtils:PGN node_id\t  Hz\n"
          ]
        },
        {
          "output_type": "stream",
          "name": "stdout",
          "text": [
            "2023-05-08 02:27:16,308 [INFO] 70\t\t1.0\n"
          ]
        },
        {
          "output_type": "stream",
          "name": "stderr",
          "text": [
            "INFO:NEURONIOUtils:70\t\t1.0\n"
          ]
        },
        {
          "output_type": "stream",
          "name": "stdout",
          "text": [
            "2023-05-08 02:27:16,312 [INFO] 71\t\t1.0\n"
          ]
        },
        {
          "output_type": "stream",
          "name": "stderr",
          "text": [
            "INFO:NEURONIOUtils:71\t\t1.0\n"
          ]
        },
        {
          "output_type": "stream",
          "name": "stdout",
          "text": [
            "2023-05-08 02:27:16,314 [INFO] 72\t\t1.0\n"
          ]
        },
        {
          "output_type": "stream",
          "name": "stderr",
          "text": [
            "INFO:NEURONIOUtils:72\t\t1.0\n"
          ]
        },
        {
          "output_type": "stream",
          "name": "stdout",
          "text": [
            "2023-05-08 02:27:16,316 [INFO] 73\t\t1.0\n"
          ]
        },
        {
          "output_type": "stream",
          "name": "stderr",
          "text": [
            "INFO:NEURONIOUtils:73\t\t1.0\n"
          ]
        },
        {
          "output_type": "stream",
          "name": "stdout",
          "text": [
            "2023-05-08 02:27:16,318 [INFO] 74\t\t1.0\n"
          ]
        },
        {
          "output_type": "stream",
          "name": "stderr",
          "text": [
            "INFO:NEURONIOUtils:74\t\t1.0\n"
          ]
        },
        {
          "output_type": "stream",
          "name": "stdout",
          "text": [
            "2023-05-08 02:27:16,320 [INFO] 75\t\t1.0\n"
          ]
        },
        {
          "output_type": "stream",
          "name": "stderr",
          "text": [
            "INFO:NEURONIOUtils:75\t\t1.0\n"
          ]
        },
        {
          "output_type": "stream",
          "name": "stdout",
          "text": [
            "2023-05-08 02:27:16,322 [INFO] 76\t\t1.0\n"
          ]
        },
        {
          "output_type": "stream",
          "name": "stderr",
          "text": [
            "INFO:NEURONIOUtils:76\t\t1.0\n"
          ]
        },
        {
          "output_type": "stream",
          "name": "stdout",
          "text": [
            "2023-05-08 02:27:16,324 [INFO] 77\t\t1.0\n"
          ]
        },
        {
          "output_type": "stream",
          "name": "stderr",
          "text": [
            "INFO:NEURONIOUtils:77\t\t1.0\n"
          ]
        },
        {
          "output_type": "stream",
          "name": "stdout",
          "text": [
            "2023-05-08 02:27:16,326 [INFO] 78\t\t1.0\n"
          ]
        },
        {
          "output_type": "stream",
          "name": "stderr",
          "text": [
            "INFO:NEURONIOUtils:78\t\t1.0\n"
          ]
        },
        {
          "output_type": "stream",
          "name": "stdout",
          "text": [
            "2023-05-08 02:27:16,328 [INFO] 79\t\t1.0\n"
          ]
        },
        {
          "output_type": "stream",
          "name": "stderr",
          "text": [
            "INFO:NEURONIOUtils:79\t\t1.0\n"
          ]
        },
        {
          "output_type": "stream",
          "name": "stdout",
          "text": [
            "2023-05-08 02:27:16,330 [INFO] PGN firing rate avg: 1.0 Hz\n"
          ]
        },
        {
          "output_type": "stream",
          "name": "stderr",
          "text": [
            "INFO:NEURONIOUtils:PGN firing rate avg: 1.0 Hz\n"
          ]
        },
        {
          "output_type": "stream",
          "name": "stdout",
          "text": [
            "2023-05-08 02:27:16,331 [INFO] Grill PGN fr = 1.2690000000000001 Hz\n"
          ]
        },
        {
          "output_type": "stream",
          "name": "stderr",
          "text": [
            "INFO:NEURONIOUtils:Grill PGN fr = 1.2690000000000001 Hz\n"
          ]
        },
        {
          "output_type": "stream",
          "name": "stdout",
          "text": [
            "2023-05-08 02:27:16,333 [INFO] IMG node_gid\t  Hz\n"
          ]
        },
        {
          "output_type": "stream",
          "name": "stderr",
          "text": [
            "INFO:NEURONIOUtils:IMG node_gid\t  Hz\n"
          ]
        },
        {
          "output_type": "stream",
          "name": "stdout",
          "text": [
            "2023-05-08 02:27:16,335 [INFO] IMG firing rate avg: 1.0 Hz\n"
          ]
        },
        {
          "output_type": "stream",
          "name": "stderr",
          "text": [
            "INFO:NEURONIOUtils:IMG firing rate avg: 1.0 Hz\n"
          ]
        },
        {
          "output_type": "stream",
          "name": "stdout",
          "text": [
            "2023-05-08 02:27:16,342 [INFO] Volume = 0.9333 ml\n"
          ]
        },
        {
          "output_type": "stream",
          "name": "stderr",
          "text": [
            "/usr/local/lib/python3.10/dist-packages/bmtk/utils/reports/spike_trains/spike_trains.py:183: RuntimeWarning: divide by zero encountered in double_scalars\n",
            "  interval = -np.log(1.0 - np.random.uniform()) / fr\n",
            "INFO:NEURONIOUtils:Volume = 0.9333 ml\n"
          ]
        },
        {
          "output_type": "stream",
          "name": "stdout",
          "text": [
            "2023-05-08 02:27:16,346 [INFO] Pressure = 1.82 mmHg\n"
          ]
        },
        {
          "output_type": "stream",
          "name": "stderr",
          "text": [
            "INFO:NEURONIOUtils:Pressure = 1.82 mmHg\n"
          ]
        },
        {
          "output_type": "stream",
          "name": "stdout",
          "text": [
            "2023-05-08 02:27:16,348 [INFO] Calculated bladder afferent firing rate for the next time step = 0.00 Hz \n",
            " \n",
            "\n"
          ]
        },
        {
          "output_type": "stream",
          "name": "stderr",
          "text": [
            "INFO:NEURONIOUtils:Calculated bladder afferent firing rate for the next time step = 0.00 Hz \n",
            " \n",
            "\n"
          ]
        },
        {
          "output_type": "stream",
          "name": "stdout",
          "text": [
            "2023-05-08 02:27:18,985 [INFO]     step:170000 t_sim:34000.00 ms\n"
          ]
        },
        {
          "output_type": "stream",
          "name": "stderr",
          "text": [
            "INFO:NEURONIOUtils:    step:170000 t_sim:34000.00 ms\n"
          ]
        },
        {
          "output_type": "stream",
          "name": "stdout",
          "text": [
            "2023-05-08 02:27:18,996 [INFO] Timestep 33000.0 to 34000.0 ms\n"
          ]
        },
        {
          "output_type": "stream",
          "name": "stderr",
          "text": [
            "INFO:NEURONIOUtils:Timestep 33000.0 to 34000.0 ms\n"
          ]
        },
        {
          "output_type": "stream",
          "name": "stdout",
          "text": [
            "2023-05-08 02:27:19,002 [INFO] PGN node_id\t  Hz\n"
          ]
        },
        {
          "output_type": "stream",
          "name": "stderr",
          "text": [
            "INFO:NEURONIOUtils:PGN node_id\t  Hz\n"
          ]
        },
        {
          "output_type": "stream",
          "name": "stdout",
          "text": [
            "2023-05-08 02:27:19,006 [INFO] 70\t\t2.0\n"
          ]
        },
        {
          "output_type": "stream",
          "name": "stderr",
          "text": [
            "INFO:NEURONIOUtils:70\t\t2.0\n"
          ]
        },
        {
          "output_type": "stream",
          "name": "stdout",
          "text": [
            "2023-05-08 02:27:19,009 [INFO] 71\t\t2.0\n"
          ]
        },
        {
          "output_type": "stream",
          "name": "stderr",
          "text": [
            "INFO:NEURONIOUtils:71\t\t2.0\n"
          ]
        },
        {
          "output_type": "stream",
          "name": "stdout",
          "text": [
            "2023-05-08 02:27:19,011 [INFO] 72\t\t2.0\n"
          ]
        },
        {
          "output_type": "stream",
          "name": "stderr",
          "text": [
            "INFO:NEURONIOUtils:72\t\t2.0\n"
          ]
        },
        {
          "output_type": "stream",
          "name": "stdout",
          "text": [
            "2023-05-08 02:27:19,014 [INFO] 73\t\t2.0\n"
          ]
        },
        {
          "output_type": "stream",
          "name": "stderr",
          "text": [
            "INFO:NEURONIOUtils:73\t\t2.0\n"
          ]
        },
        {
          "output_type": "stream",
          "name": "stdout",
          "text": [
            "2023-05-08 02:27:19,015 [INFO] 74\t\t2.0\n"
          ]
        },
        {
          "output_type": "stream",
          "name": "stderr",
          "text": [
            "INFO:NEURONIOUtils:74\t\t2.0\n"
          ]
        },
        {
          "output_type": "stream",
          "name": "stdout",
          "text": [
            "2023-05-08 02:27:19,017 [INFO] 75\t\t2.0\n"
          ]
        },
        {
          "output_type": "stream",
          "name": "stderr",
          "text": [
            "INFO:NEURONIOUtils:75\t\t2.0\n"
          ]
        },
        {
          "output_type": "stream",
          "name": "stdout",
          "text": [
            "2023-05-08 02:27:19,019 [INFO] 76\t\t2.0\n"
          ]
        },
        {
          "output_type": "stream",
          "name": "stderr",
          "text": [
            "INFO:NEURONIOUtils:76\t\t2.0\n"
          ]
        },
        {
          "output_type": "stream",
          "name": "stdout",
          "text": [
            "2023-05-08 02:27:19,021 [INFO] 77\t\t2.0\n"
          ]
        },
        {
          "output_type": "stream",
          "name": "stderr",
          "text": [
            "INFO:NEURONIOUtils:77\t\t2.0\n"
          ]
        },
        {
          "output_type": "stream",
          "name": "stdout",
          "text": [
            "2023-05-08 02:27:19,023 [INFO] 78\t\t2.0\n"
          ]
        },
        {
          "output_type": "stream",
          "name": "stderr",
          "text": [
            "INFO:NEURONIOUtils:78\t\t2.0\n"
          ]
        },
        {
          "output_type": "stream",
          "name": "stdout",
          "text": [
            "2023-05-08 02:27:19,025 [INFO] 79\t\t2.0\n"
          ]
        },
        {
          "output_type": "stream",
          "name": "stderr",
          "text": [
            "INFO:NEURONIOUtils:79\t\t2.0\n"
          ]
        },
        {
          "output_type": "stream",
          "name": "stdout",
          "text": [
            "2023-05-08 02:27:19,031 [INFO] PGN firing rate avg: 2.0 Hz\n"
          ]
        },
        {
          "output_type": "stream",
          "name": "stderr",
          "text": [
            "INFO:NEURONIOUtils:PGN firing rate avg: 2.0 Hz\n"
          ]
        },
        {
          "output_type": "stream",
          "name": "stdout",
          "text": [
            "2023-05-08 02:27:19,033 [INFO] Grill PGN fr = 2.984 Hz\n"
          ]
        },
        {
          "output_type": "stream",
          "name": "stderr",
          "text": [
            "INFO:NEURONIOUtils:Grill PGN fr = 2.984 Hz\n"
          ]
        },
        {
          "output_type": "stream",
          "name": "stdout",
          "text": [
            "2023-05-08 02:27:19,035 [INFO] IMG node_gid\t  Hz\n"
          ]
        },
        {
          "output_type": "stream",
          "name": "stderr",
          "text": [
            "INFO:NEURONIOUtils:IMG node_gid\t  Hz\n"
          ]
        },
        {
          "output_type": "stream",
          "name": "stdout",
          "text": [
            "2023-05-08 02:27:19,037 [INFO] IMG firing rate avg: 2.0 Hz\n"
          ]
        },
        {
          "output_type": "stream",
          "name": "stderr",
          "text": [
            "INFO:NEURONIOUtils:IMG firing rate avg: 2.0 Hz\n"
          ]
        },
        {
          "output_type": "stream",
          "name": "stdout",
          "text": [
            "2023-05-08 02:27:19,048 [INFO] Volume = 0.9625 ml\n"
          ]
        },
        {
          "output_type": "stream",
          "name": "stderr",
          "text": [
            "/usr/local/lib/python3.10/dist-packages/bmtk/utils/reports/spike_trains/spike_trains.py:183: RuntimeWarning: divide by zero encountered in double_scalars\n",
            "  interval = -np.log(1.0 - np.random.uniform()) / fr\n",
            "INFO:NEURONIOUtils:Volume = 0.9625 ml\n"
          ]
        },
        {
          "output_type": "stream",
          "name": "stdout",
          "text": [
            "2023-05-08 02:27:19,054 [INFO] Pressure = 3.34 mmHg\n"
          ]
        },
        {
          "output_type": "stream",
          "name": "stderr",
          "text": [
            "INFO:NEURONIOUtils:Pressure = 3.34 mmHg\n"
          ]
        },
        {
          "output_type": "stream",
          "name": "stdout",
          "text": [
            "2023-05-08 02:27:19,060 [INFO] Calculated bladder afferent firing rate for the next time step = 0.00 Hz \n",
            " \n",
            "\n"
          ]
        },
        {
          "output_type": "stream",
          "name": "stderr",
          "text": [
            "INFO:NEURONIOUtils:Calculated bladder afferent firing rate for the next time step = 0.00 Hz \n",
            " \n",
            "\n"
          ]
        },
        {
          "output_type": "stream",
          "name": "stdout",
          "text": [
            "2023-05-08 02:27:21,494 [INFO]     step:175000 t_sim:35000.00 ms\n"
          ]
        },
        {
          "output_type": "stream",
          "name": "stderr",
          "text": [
            "INFO:NEURONIOUtils:    step:175000 t_sim:35000.00 ms\n"
          ]
        },
        {
          "output_type": "stream",
          "name": "stdout",
          "text": [
            "2023-05-08 02:27:21,513 [INFO] Timestep 34000.0 to 35000.0 ms\n"
          ]
        },
        {
          "output_type": "stream",
          "name": "stderr",
          "text": [
            "INFO:NEURONIOUtils:Timestep 34000.0 to 35000.0 ms\n"
          ]
        },
        {
          "output_type": "stream",
          "name": "stdout",
          "text": [
            "2023-05-08 02:27:21,521 [INFO] PGN node_id\t  Hz\n"
          ]
        },
        {
          "output_type": "stream",
          "name": "stderr",
          "text": [
            "INFO:NEURONIOUtils:PGN node_id\t  Hz\n"
          ]
        },
        {
          "output_type": "stream",
          "name": "stdout",
          "text": [
            "2023-05-08 02:27:21,524 [INFO] 70\t\t2.0\n"
          ]
        },
        {
          "output_type": "stream",
          "name": "stderr",
          "text": [
            "INFO:NEURONIOUtils:70\t\t2.0\n"
          ]
        },
        {
          "output_type": "stream",
          "name": "stdout",
          "text": [
            "2023-05-08 02:27:21,527 [INFO] 71\t\t2.0\n"
          ]
        },
        {
          "output_type": "stream",
          "name": "stderr",
          "text": [
            "INFO:NEURONIOUtils:71\t\t2.0\n"
          ]
        },
        {
          "output_type": "stream",
          "name": "stdout",
          "text": [
            "2023-05-08 02:27:21,530 [INFO] 72\t\t2.0\n"
          ]
        },
        {
          "output_type": "stream",
          "name": "stderr",
          "text": [
            "INFO:NEURONIOUtils:72\t\t2.0\n"
          ]
        },
        {
          "output_type": "stream",
          "name": "stdout",
          "text": [
            "2023-05-08 02:27:21,532 [INFO] 73\t\t2.0\n"
          ]
        },
        {
          "output_type": "stream",
          "name": "stderr",
          "text": [
            "INFO:NEURONIOUtils:73\t\t2.0\n"
          ]
        },
        {
          "output_type": "stream",
          "name": "stdout",
          "text": [
            "2023-05-08 02:27:21,534 [INFO] 74\t\t2.0\n"
          ]
        },
        {
          "output_type": "stream",
          "name": "stderr",
          "text": [
            "INFO:NEURONIOUtils:74\t\t2.0\n"
          ]
        },
        {
          "output_type": "stream",
          "name": "stdout",
          "text": [
            "2023-05-08 02:27:21,537 [INFO] 75\t\t2.0\n"
          ]
        },
        {
          "output_type": "stream",
          "name": "stderr",
          "text": [
            "INFO:NEURONIOUtils:75\t\t2.0\n"
          ]
        },
        {
          "output_type": "stream",
          "name": "stdout",
          "text": [
            "2023-05-08 02:27:21,539 [INFO] 76\t\t2.0\n"
          ]
        },
        {
          "output_type": "stream",
          "name": "stderr",
          "text": [
            "INFO:NEURONIOUtils:76\t\t2.0\n"
          ]
        },
        {
          "output_type": "stream",
          "name": "stdout",
          "text": [
            "2023-05-08 02:27:21,542 [INFO] 77\t\t2.0\n"
          ]
        },
        {
          "output_type": "stream",
          "name": "stderr",
          "text": [
            "INFO:NEURONIOUtils:77\t\t2.0\n"
          ]
        },
        {
          "output_type": "stream",
          "name": "stdout",
          "text": [
            "2023-05-08 02:27:21,544 [INFO] 78\t\t2.0\n"
          ]
        },
        {
          "output_type": "stream",
          "name": "stderr",
          "text": [
            "INFO:NEURONIOUtils:78\t\t2.0\n"
          ]
        },
        {
          "output_type": "stream",
          "name": "stdout",
          "text": [
            "2023-05-08 02:27:21,546 [INFO] 79\t\t2.0\n"
          ]
        },
        {
          "output_type": "stream",
          "name": "stderr",
          "text": [
            "INFO:NEURONIOUtils:79\t\t2.0\n"
          ]
        },
        {
          "output_type": "stream",
          "name": "stdout",
          "text": [
            "2023-05-08 02:27:21,548 [INFO] PGN firing rate avg: 2.0 Hz\n"
          ]
        },
        {
          "output_type": "stream",
          "name": "stderr",
          "text": [
            "INFO:NEURONIOUtils:PGN firing rate avg: 2.0 Hz\n"
          ]
        },
        {
          "output_type": "stream",
          "name": "stdout",
          "text": [
            "2023-05-08 02:27:21,550 [INFO] Grill PGN fr = 2.984 Hz\n"
          ]
        },
        {
          "output_type": "stream",
          "name": "stderr",
          "text": [
            "INFO:NEURONIOUtils:Grill PGN fr = 2.984 Hz\n"
          ]
        },
        {
          "output_type": "stream",
          "name": "stdout",
          "text": [
            "2023-05-08 02:27:21,553 [INFO] IMG node_gid\t  Hz\n"
          ]
        },
        {
          "output_type": "stream",
          "name": "stderr",
          "text": [
            "INFO:NEURONIOUtils:IMG node_gid\t  Hz\n"
          ]
        },
        {
          "output_type": "stream",
          "name": "stdout",
          "text": [
            "2023-05-08 02:27:21,555 [INFO] IMG firing rate avg: 2.0 Hz\n"
          ]
        },
        {
          "output_type": "stream",
          "name": "stderr",
          "text": [
            "INFO:NEURONIOUtils:IMG firing rate avg: 2.0 Hz\n"
          ]
        },
        {
          "output_type": "stream",
          "name": "stdout",
          "text": [
            "2023-05-08 02:27:21,562 [INFO] Volume = 0.9917 ml\n"
          ]
        },
        {
          "output_type": "stream",
          "name": "stderr",
          "text": [
            "/usr/local/lib/python3.10/dist-packages/bmtk/utils/reports/spike_trains/spike_trains.py:183: RuntimeWarning: divide by zero encountered in double_scalars\n",
            "  interval = -np.log(1.0 - np.random.uniform()) / fr\n",
            "INFO:NEURONIOUtils:Volume = 0.9917 ml\n"
          ]
        },
        {
          "output_type": "stream",
          "name": "stdout",
          "text": [
            "2023-05-08 02:27:21,567 [INFO] Pressure = 3.59 mmHg\n"
          ]
        },
        {
          "output_type": "stream",
          "name": "stderr",
          "text": [
            "INFO:NEURONIOUtils:Pressure = 3.59 mmHg\n"
          ]
        },
        {
          "output_type": "stream",
          "name": "stdout",
          "text": [
            "2023-05-08 02:27:21,569 [INFO] Calculated bladder afferent firing rate for the next time step = 0.00 Hz \n",
            " \n",
            "\n"
          ]
        },
        {
          "output_type": "stream",
          "name": "stderr",
          "text": [
            "INFO:NEURONIOUtils:Calculated bladder afferent firing rate for the next time step = 0.00 Hz \n",
            " \n",
            "\n"
          ]
        },
        {
          "output_type": "stream",
          "name": "stdout",
          "text": [
            "2023-05-08 02:27:23,646 [INFO]     step:180000 t_sim:36000.00 ms\n"
          ]
        },
        {
          "output_type": "stream",
          "name": "stderr",
          "text": [
            "INFO:NEURONIOUtils:    step:180000 t_sim:36000.00 ms\n"
          ]
        },
        {
          "output_type": "stream",
          "name": "stdout",
          "text": [
            "2023-05-08 02:27:23,663 [INFO] Timestep 35000.0 to 36000.0 ms\n"
          ]
        },
        {
          "output_type": "stream",
          "name": "stderr",
          "text": [
            "INFO:NEURONIOUtils:Timestep 35000.0 to 36000.0 ms\n"
          ]
        },
        {
          "output_type": "stream",
          "name": "stdout",
          "text": [
            "2023-05-08 02:27:23,672 [INFO] PGN node_id\t  Hz\n"
          ]
        },
        {
          "output_type": "stream",
          "name": "stderr",
          "text": [
            "INFO:NEURONIOUtils:PGN node_id\t  Hz\n"
          ]
        },
        {
          "output_type": "stream",
          "name": "stdout",
          "text": [
            "2023-05-08 02:27:23,675 [INFO] 70\t\t2.0\n"
          ]
        },
        {
          "output_type": "stream",
          "name": "stderr",
          "text": [
            "INFO:NEURONIOUtils:70\t\t2.0\n"
          ]
        },
        {
          "output_type": "stream",
          "name": "stdout",
          "text": [
            "2023-05-08 02:27:23,679 [INFO] 71\t\t2.0\n"
          ]
        },
        {
          "output_type": "stream",
          "name": "stderr",
          "text": [
            "INFO:NEURONIOUtils:71\t\t2.0\n"
          ]
        },
        {
          "output_type": "stream",
          "name": "stdout",
          "text": [
            "2023-05-08 02:27:23,688 [INFO] 72\t\t2.0\n"
          ]
        },
        {
          "output_type": "stream",
          "name": "stderr",
          "text": [
            "INFO:NEURONIOUtils:72\t\t2.0\n"
          ]
        },
        {
          "output_type": "stream",
          "name": "stdout",
          "text": [
            "2023-05-08 02:27:23,690 [INFO] 73\t\t2.0\n"
          ]
        },
        {
          "output_type": "stream",
          "name": "stderr",
          "text": [
            "INFO:NEURONIOUtils:73\t\t2.0\n"
          ]
        },
        {
          "output_type": "stream",
          "name": "stdout",
          "text": [
            "2023-05-08 02:27:23,694 [INFO] 74\t\t2.0\n"
          ]
        },
        {
          "output_type": "stream",
          "name": "stderr",
          "text": [
            "INFO:NEURONIOUtils:74\t\t2.0\n"
          ]
        },
        {
          "output_type": "stream",
          "name": "stdout",
          "text": [
            "2023-05-08 02:27:23,696 [INFO] 75\t\t2.0\n"
          ]
        },
        {
          "output_type": "stream",
          "name": "stderr",
          "text": [
            "INFO:NEURONIOUtils:75\t\t2.0\n"
          ]
        },
        {
          "output_type": "stream",
          "name": "stdout",
          "text": [
            "2023-05-08 02:27:23,698 [INFO] 76\t\t2.0\n"
          ]
        },
        {
          "output_type": "stream",
          "name": "stderr",
          "text": [
            "INFO:NEURONIOUtils:76\t\t2.0\n"
          ]
        },
        {
          "output_type": "stream",
          "name": "stdout",
          "text": [
            "2023-05-08 02:27:23,700 [INFO] 77\t\t2.0\n"
          ]
        },
        {
          "output_type": "stream",
          "name": "stderr",
          "text": [
            "INFO:NEURONIOUtils:77\t\t2.0\n"
          ]
        },
        {
          "output_type": "stream",
          "name": "stdout",
          "text": [
            "2023-05-08 02:27:23,702 [INFO] 78\t\t2.0\n"
          ]
        },
        {
          "output_type": "stream",
          "name": "stderr",
          "text": [
            "INFO:NEURONIOUtils:78\t\t2.0\n"
          ]
        },
        {
          "output_type": "stream",
          "name": "stdout",
          "text": [
            "2023-05-08 02:27:23,704 [INFO] 79\t\t2.0\n"
          ]
        },
        {
          "output_type": "stream",
          "name": "stderr",
          "text": [
            "INFO:NEURONIOUtils:79\t\t2.0\n"
          ]
        },
        {
          "output_type": "stream",
          "name": "stdout",
          "text": [
            "2023-05-08 02:27:23,706 [INFO] PGN firing rate avg: 2.0 Hz\n"
          ]
        },
        {
          "output_type": "stream",
          "name": "stderr",
          "text": [
            "INFO:NEURONIOUtils:PGN firing rate avg: 2.0 Hz\n"
          ]
        },
        {
          "output_type": "stream",
          "name": "stdout",
          "text": [
            "2023-05-08 02:27:23,720 [INFO] Grill PGN fr = 2.984 Hz\n"
          ]
        },
        {
          "output_type": "stream",
          "name": "stderr",
          "text": [
            "INFO:NEURONIOUtils:Grill PGN fr = 2.984 Hz\n"
          ]
        },
        {
          "output_type": "stream",
          "name": "stdout",
          "text": [
            "2023-05-08 02:27:23,722 [INFO] IMG node_gid\t  Hz\n"
          ]
        },
        {
          "output_type": "stream",
          "name": "stderr",
          "text": [
            "INFO:NEURONIOUtils:IMG node_gid\t  Hz\n"
          ]
        },
        {
          "output_type": "stream",
          "name": "stdout",
          "text": [
            "2023-05-08 02:27:23,724 [INFO] IMG firing rate avg: 2.0 Hz\n"
          ]
        },
        {
          "output_type": "stream",
          "name": "stderr",
          "text": [
            "INFO:NEURONIOUtils:IMG firing rate avg: 2.0 Hz\n"
          ]
        },
        {
          "output_type": "stream",
          "name": "stdout",
          "text": [
            "2023-05-08 02:27:23,736 [INFO] Volume = 1.0208 ml\n"
          ]
        },
        {
          "output_type": "stream",
          "name": "stderr",
          "text": [
            "/usr/local/lib/python3.10/dist-packages/bmtk/utils/reports/spike_trains/spike_trains.py:183: RuntimeWarning: divide by zero encountered in double_scalars\n",
            "  interval = -np.log(1.0 - np.random.uniform()) / fr\n",
            "INFO:NEURONIOUtils:Volume = 1.0208 ml\n"
          ]
        },
        {
          "output_type": "stream",
          "name": "stdout",
          "text": [
            "2023-05-08 02:27:23,745 [INFO] Pressure = 3.85 mmHg\n"
          ]
        },
        {
          "output_type": "stream",
          "name": "stderr",
          "text": [
            "INFO:NEURONIOUtils:Pressure = 3.85 mmHg\n"
          ]
        },
        {
          "output_type": "stream",
          "name": "stdout",
          "text": [
            "2023-05-08 02:27:23,747 [INFO] Calculated bladder afferent firing rate for the next time step = 0.00 Hz \n",
            " \n",
            "\n"
          ]
        },
        {
          "output_type": "stream",
          "name": "stderr",
          "text": [
            "INFO:NEURONIOUtils:Calculated bladder afferent firing rate for the next time step = 0.00 Hz \n",
            " \n",
            "\n"
          ]
        },
        {
          "output_type": "stream",
          "name": "stdout",
          "text": [
            "2023-05-08 02:27:25,941 [INFO]     step:185000 t_sim:37000.00 ms\n"
          ]
        },
        {
          "output_type": "stream",
          "name": "stderr",
          "text": [
            "INFO:NEURONIOUtils:    step:185000 t_sim:37000.00 ms\n"
          ]
        },
        {
          "output_type": "stream",
          "name": "stdout",
          "text": [
            "2023-05-08 02:27:25,958 [INFO] Timestep 36000.0 to 37000.0 ms\n"
          ]
        },
        {
          "output_type": "stream",
          "name": "stderr",
          "text": [
            "INFO:NEURONIOUtils:Timestep 36000.0 to 37000.0 ms\n"
          ]
        },
        {
          "output_type": "stream",
          "name": "stdout",
          "text": [
            "2023-05-08 02:27:25,963 [INFO] PGN node_id\t  Hz\n"
          ]
        },
        {
          "output_type": "stream",
          "name": "stderr",
          "text": [
            "INFO:NEURONIOUtils:PGN node_id\t  Hz\n"
          ]
        },
        {
          "output_type": "stream",
          "name": "stdout",
          "text": [
            "2023-05-08 02:27:25,968 [INFO] 70\t\t3.0\n"
          ]
        },
        {
          "output_type": "stream",
          "name": "stderr",
          "text": [
            "INFO:NEURONIOUtils:70\t\t3.0\n"
          ]
        },
        {
          "output_type": "stream",
          "name": "stdout",
          "text": [
            "2023-05-08 02:27:25,971 [INFO] 71\t\t3.0\n"
          ]
        },
        {
          "output_type": "stream",
          "name": "stderr",
          "text": [
            "INFO:NEURONIOUtils:71\t\t3.0\n"
          ]
        },
        {
          "output_type": "stream",
          "name": "stdout",
          "text": [
            "2023-05-08 02:27:25,974 [INFO] 72\t\t3.0\n"
          ]
        },
        {
          "output_type": "stream",
          "name": "stderr",
          "text": [
            "INFO:NEURONIOUtils:72\t\t3.0\n"
          ]
        },
        {
          "output_type": "stream",
          "name": "stdout",
          "text": [
            "2023-05-08 02:27:25,976 [INFO] 73\t\t3.0\n"
          ]
        },
        {
          "output_type": "stream",
          "name": "stderr",
          "text": [
            "INFO:NEURONIOUtils:73\t\t3.0\n"
          ]
        },
        {
          "output_type": "stream",
          "name": "stdout",
          "text": [
            "2023-05-08 02:27:25,978 [INFO] 74\t\t3.0\n"
          ]
        },
        {
          "output_type": "stream",
          "name": "stderr",
          "text": [
            "INFO:NEURONIOUtils:74\t\t3.0\n"
          ]
        },
        {
          "output_type": "stream",
          "name": "stdout",
          "text": [
            "2023-05-08 02:27:25,980 [INFO] 75\t\t3.0\n"
          ]
        },
        {
          "output_type": "stream",
          "name": "stderr",
          "text": [
            "INFO:NEURONIOUtils:75\t\t3.0\n"
          ]
        },
        {
          "output_type": "stream",
          "name": "stdout",
          "text": [
            "2023-05-08 02:27:25,982 [INFO] 76\t\t3.0\n"
          ]
        },
        {
          "output_type": "stream",
          "name": "stderr",
          "text": [
            "INFO:NEURONIOUtils:76\t\t3.0\n"
          ]
        },
        {
          "output_type": "stream",
          "name": "stdout",
          "text": [
            "2023-05-08 02:27:25,984 [INFO] 77\t\t3.0\n"
          ]
        },
        {
          "output_type": "stream",
          "name": "stderr",
          "text": [
            "INFO:NEURONIOUtils:77\t\t3.0\n"
          ]
        },
        {
          "output_type": "stream",
          "name": "stdout",
          "text": [
            "2023-05-08 02:27:25,986 [INFO] 78\t\t3.0\n"
          ]
        },
        {
          "output_type": "stream",
          "name": "stderr",
          "text": [
            "INFO:NEURONIOUtils:78\t\t3.0\n"
          ]
        },
        {
          "output_type": "stream",
          "name": "stdout",
          "text": [
            "2023-05-08 02:27:25,988 [INFO] 79\t\t3.0\n"
          ]
        },
        {
          "output_type": "stream",
          "name": "stderr",
          "text": [
            "INFO:NEURONIOUtils:79\t\t3.0\n"
          ]
        },
        {
          "output_type": "stream",
          "name": "stdout",
          "text": [
            "2023-05-08 02:27:25,991 [INFO] PGN firing rate avg: 3.0 Hz\n"
          ]
        },
        {
          "output_type": "stream",
          "name": "stderr",
          "text": [
            "INFO:NEURONIOUtils:PGN firing rate avg: 3.0 Hz\n"
          ]
        },
        {
          "output_type": "stream",
          "name": "stdout",
          "text": [
            "2023-05-08 02:27:25,992 [INFO] Grill PGN fr = 4.657 Hz\n"
          ]
        },
        {
          "output_type": "stream",
          "name": "stderr",
          "text": [
            "INFO:NEURONIOUtils:Grill PGN fr = 4.657 Hz\n"
          ]
        },
        {
          "output_type": "stream",
          "name": "stdout",
          "text": [
            "2023-05-08 02:27:25,994 [INFO] IMG node_gid\t  Hz\n"
          ]
        },
        {
          "output_type": "stream",
          "name": "stderr",
          "text": [
            "INFO:NEURONIOUtils:IMG node_gid\t  Hz\n"
          ]
        },
        {
          "output_type": "stream",
          "name": "stdout",
          "text": [
            "2023-05-08 02:27:25,996 [INFO] IMG firing rate avg: 3.0 Hz\n"
          ]
        },
        {
          "output_type": "stream",
          "name": "stderr",
          "text": [
            "INFO:NEURONIOUtils:IMG firing rate avg: 3.0 Hz\n"
          ]
        },
        {
          "output_type": "stream",
          "name": "stdout",
          "text": [
            "2023-05-08 02:27:26,005 [INFO] Volume = 1.0500 ml\n"
          ]
        },
        {
          "output_type": "stream",
          "name": "stderr",
          "text": [
            "/usr/local/lib/python3.10/dist-packages/bmtk/utils/reports/spike_trains/spike_trains.py:183: RuntimeWarning: divide by zero encountered in double_scalars\n",
            "  interval = -np.log(1.0 - np.random.uniform()) / fr\n",
            "INFO:NEURONIOUtils:Volume = 1.0500 ml\n"
          ]
        },
        {
          "output_type": "stream",
          "name": "stdout",
          "text": [
            "2023-05-08 02:27:26,010 [INFO] Pressure = 5.34 mmHg\n"
          ]
        },
        {
          "output_type": "stream",
          "name": "stderr",
          "text": [
            "INFO:NEURONIOUtils:Pressure = 5.34 mmHg\n"
          ]
        },
        {
          "output_type": "stream",
          "name": "stdout",
          "text": [
            "2023-05-08 02:27:26,012 [INFO] Calculated bladder afferent firing rate for the next time step = 0.00 Hz \n",
            " \n",
            "\n"
          ]
        },
        {
          "output_type": "stream",
          "name": "stderr",
          "text": [
            "INFO:NEURONIOUtils:Calculated bladder afferent firing rate for the next time step = 0.00 Hz \n",
            " \n",
            "\n"
          ]
        },
        {
          "output_type": "stream",
          "name": "stdout",
          "text": [
            "2023-05-08 02:27:28,051 [INFO]     step:190000 t_sim:38000.00 ms\n"
          ]
        },
        {
          "output_type": "stream",
          "name": "stderr",
          "text": [
            "INFO:NEURONIOUtils:    step:190000 t_sim:38000.00 ms\n"
          ]
        },
        {
          "output_type": "stream",
          "name": "stdout",
          "text": [
            "2023-05-08 02:27:28,061 [INFO] Timestep 37000.0 to 38000.0 ms\n"
          ]
        },
        {
          "output_type": "stream",
          "name": "stderr",
          "text": [
            "INFO:NEURONIOUtils:Timestep 37000.0 to 38000.0 ms\n"
          ]
        },
        {
          "output_type": "stream",
          "name": "stdout",
          "text": [
            "2023-05-08 02:27:28,066 [INFO] PGN node_id\t  Hz\n"
          ]
        },
        {
          "output_type": "stream",
          "name": "stderr",
          "text": [
            "INFO:NEURONIOUtils:PGN node_id\t  Hz\n"
          ]
        },
        {
          "output_type": "stream",
          "name": "stdout",
          "text": [
            "2023-05-08 02:27:28,070 [INFO] 70\t\t2.0\n"
          ]
        },
        {
          "output_type": "stream",
          "name": "stderr",
          "text": [
            "INFO:NEURONIOUtils:70\t\t2.0\n"
          ]
        },
        {
          "output_type": "stream",
          "name": "stdout",
          "text": [
            "2023-05-08 02:27:28,072 [INFO] 71\t\t2.0\n"
          ]
        },
        {
          "output_type": "stream",
          "name": "stderr",
          "text": [
            "INFO:NEURONIOUtils:71\t\t2.0\n"
          ]
        },
        {
          "output_type": "stream",
          "name": "stdout",
          "text": [
            "2023-05-08 02:27:28,074 [INFO] 72\t\t2.0\n"
          ]
        },
        {
          "output_type": "stream",
          "name": "stderr",
          "text": [
            "INFO:NEURONIOUtils:72\t\t2.0\n"
          ]
        },
        {
          "output_type": "stream",
          "name": "stdout",
          "text": [
            "2023-05-08 02:27:28,076 [INFO] 73\t\t2.0\n"
          ]
        },
        {
          "output_type": "stream",
          "name": "stderr",
          "text": [
            "INFO:NEURONIOUtils:73\t\t2.0\n"
          ]
        },
        {
          "output_type": "stream",
          "name": "stdout",
          "text": [
            "2023-05-08 02:27:28,078 [INFO] 74\t\t2.0\n"
          ]
        },
        {
          "output_type": "stream",
          "name": "stderr",
          "text": [
            "INFO:NEURONIOUtils:74\t\t2.0\n"
          ]
        },
        {
          "output_type": "stream",
          "name": "stdout",
          "text": [
            "2023-05-08 02:27:28,080 [INFO] 75\t\t2.0\n"
          ]
        },
        {
          "output_type": "stream",
          "name": "stderr",
          "text": [
            "INFO:NEURONIOUtils:75\t\t2.0\n"
          ]
        },
        {
          "output_type": "stream",
          "name": "stdout",
          "text": [
            "2023-05-08 02:27:28,082 [INFO] 76\t\t2.0\n"
          ]
        },
        {
          "output_type": "stream",
          "name": "stderr",
          "text": [
            "INFO:NEURONIOUtils:76\t\t2.0\n"
          ]
        },
        {
          "output_type": "stream",
          "name": "stdout",
          "text": [
            "2023-05-08 02:27:28,083 [INFO] 77\t\t2.0\n"
          ]
        },
        {
          "output_type": "stream",
          "name": "stderr",
          "text": [
            "INFO:NEURONIOUtils:77\t\t2.0\n"
          ]
        },
        {
          "output_type": "stream",
          "name": "stdout",
          "text": [
            "2023-05-08 02:27:28,085 [INFO] 78\t\t2.0\n"
          ]
        },
        {
          "output_type": "stream",
          "name": "stderr",
          "text": [
            "INFO:NEURONIOUtils:78\t\t2.0\n"
          ]
        },
        {
          "output_type": "stream",
          "name": "stdout",
          "text": [
            "2023-05-08 02:27:28,087 [INFO] 79\t\t2.0\n"
          ]
        },
        {
          "output_type": "stream",
          "name": "stderr",
          "text": [
            "INFO:NEURONIOUtils:79\t\t2.0\n"
          ]
        },
        {
          "output_type": "stream",
          "name": "stdout",
          "text": [
            "2023-05-08 02:27:28,089 [INFO] PGN firing rate avg: 2.0 Hz\n"
          ]
        },
        {
          "output_type": "stream",
          "name": "stderr",
          "text": [
            "INFO:NEURONIOUtils:PGN firing rate avg: 2.0 Hz\n"
          ]
        },
        {
          "output_type": "stream",
          "name": "stdout",
          "text": [
            "2023-05-08 02:27:28,091 [INFO] Grill PGN fr = 2.984 Hz\n"
          ]
        },
        {
          "output_type": "stream",
          "name": "stderr",
          "text": [
            "INFO:NEURONIOUtils:Grill PGN fr = 2.984 Hz\n"
          ]
        },
        {
          "output_type": "stream",
          "name": "stdout",
          "text": [
            "2023-05-08 02:27:28,092 [INFO] IMG node_gid\t  Hz\n"
          ]
        },
        {
          "output_type": "stream",
          "name": "stderr",
          "text": [
            "INFO:NEURONIOUtils:IMG node_gid\t  Hz\n"
          ]
        },
        {
          "output_type": "stream",
          "name": "stdout",
          "text": [
            "2023-05-08 02:27:28,094 [INFO] IMG firing rate avg: 2.0 Hz\n"
          ]
        },
        {
          "output_type": "stream",
          "name": "stderr",
          "text": [
            "INFO:NEURONIOUtils:IMG firing rate avg: 2.0 Hz\n"
          ]
        },
        {
          "output_type": "stream",
          "name": "stdout",
          "text": [
            "2023-05-08 02:27:28,102 [INFO] Volume = 1.0792 ml\n"
          ]
        },
        {
          "output_type": "stream",
          "name": "stderr",
          "text": [
            "/usr/local/lib/python3.10/dist-packages/bmtk/utils/reports/spike_trains/spike_trains.py:183: RuntimeWarning: divide by zero encountered in double_scalars\n",
            "  interval = -np.log(1.0 - np.random.uniform()) / fr\n",
            "INFO:NEURONIOUtils:Volume = 1.0792 ml\n"
          ]
        },
        {
          "output_type": "stream",
          "name": "stdout",
          "text": [
            "2023-05-08 02:27:28,108 [INFO] Pressure = 4.36 mmHg\n"
          ]
        },
        {
          "output_type": "stream",
          "name": "stderr",
          "text": [
            "INFO:NEURONIOUtils:Pressure = 4.36 mmHg\n"
          ]
        },
        {
          "output_type": "stream",
          "name": "stdout",
          "text": [
            "2023-05-08 02:27:28,110 [INFO] Calculated bladder afferent firing rate for the next time step = 0.00 Hz \n",
            " \n",
            "\n"
          ]
        },
        {
          "output_type": "stream",
          "name": "stderr",
          "text": [
            "INFO:NEURONIOUtils:Calculated bladder afferent firing rate for the next time step = 0.00 Hz \n",
            " \n",
            "\n"
          ]
        },
        {
          "output_type": "stream",
          "name": "stdout",
          "text": [
            "2023-05-08 02:27:30,205 [INFO]     step:195000 t_sim:39000.00 ms\n"
          ]
        },
        {
          "output_type": "stream",
          "name": "stderr",
          "text": [
            "INFO:NEURONIOUtils:    step:195000 t_sim:39000.00 ms\n"
          ]
        },
        {
          "output_type": "stream",
          "name": "stdout",
          "text": [
            "2023-05-08 02:27:30,216 [INFO] Timestep 38000.0 to 39000.0 ms\n"
          ]
        },
        {
          "output_type": "stream",
          "name": "stderr",
          "text": [
            "INFO:NEURONIOUtils:Timestep 38000.0 to 39000.0 ms\n"
          ]
        },
        {
          "output_type": "stream",
          "name": "stdout",
          "text": [
            "2023-05-08 02:27:30,221 [INFO] PGN node_id\t  Hz\n"
          ]
        },
        {
          "output_type": "stream",
          "name": "stderr",
          "text": [
            "INFO:NEURONIOUtils:PGN node_id\t  Hz\n"
          ]
        },
        {
          "output_type": "stream",
          "name": "stdout",
          "text": [
            "2023-05-08 02:27:30,225 [INFO] 70\t\t4.0\n"
          ]
        },
        {
          "output_type": "stream",
          "name": "stderr",
          "text": [
            "INFO:NEURONIOUtils:70\t\t4.0\n"
          ]
        },
        {
          "output_type": "stream",
          "name": "stdout",
          "text": [
            "2023-05-08 02:27:30,228 [INFO] 71\t\t4.0\n"
          ]
        },
        {
          "output_type": "stream",
          "name": "stderr",
          "text": [
            "INFO:NEURONIOUtils:71\t\t4.0\n"
          ]
        },
        {
          "output_type": "stream",
          "name": "stdout",
          "text": [
            "2023-05-08 02:27:30,231 [INFO] 72\t\t4.0\n"
          ]
        },
        {
          "output_type": "stream",
          "name": "stderr",
          "text": [
            "INFO:NEURONIOUtils:72\t\t4.0\n"
          ]
        },
        {
          "output_type": "stream",
          "name": "stdout",
          "text": [
            "2023-05-08 02:27:30,233 [INFO] 73\t\t4.0\n"
          ]
        },
        {
          "output_type": "stream",
          "name": "stderr",
          "text": [
            "INFO:NEURONIOUtils:73\t\t4.0\n"
          ]
        },
        {
          "output_type": "stream",
          "name": "stdout",
          "text": [
            "2023-05-08 02:27:30,235 [INFO] 74\t\t4.0\n"
          ]
        },
        {
          "output_type": "stream",
          "name": "stderr",
          "text": [
            "INFO:NEURONIOUtils:74\t\t4.0\n"
          ]
        },
        {
          "output_type": "stream",
          "name": "stdout",
          "text": [
            "2023-05-08 02:27:30,237 [INFO] 75\t\t4.0\n"
          ]
        },
        {
          "output_type": "stream",
          "name": "stderr",
          "text": [
            "INFO:NEURONIOUtils:75\t\t4.0\n"
          ]
        },
        {
          "output_type": "stream",
          "name": "stdout",
          "text": [
            "2023-05-08 02:27:30,239 [INFO] 76\t\t4.0\n"
          ]
        },
        {
          "output_type": "stream",
          "name": "stderr",
          "text": [
            "INFO:NEURONIOUtils:76\t\t4.0\n"
          ]
        },
        {
          "output_type": "stream",
          "name": "stdout",
          "text": [
            "2023-05-08 02:27:30,242 [INFO] 77\t\t4.0\n"
          ]
        },
        {
          "output_type": "stream",
          "name": "stderr",
          "text": [
            "INFO:NEURONIOUtils:77\t\t4.0\n"
          ]
        },
        {
          "output_type": "stream",
          "name": "stdout",
          "text": [
            "2023-05-08 02:27:30,244 [INFO] 78\t\t4.0\n"
          ]
        },
        {
          "output_type": "stream",
          "name": "stderr",
          "text": [
            "INFO:NEURONIOUtils:78\t\t4.0\n"
          ]
        },
        {
          "output_type": "stream",
          "name": "stdout",
          "text": [
            "2023-05-08 02:27:30,246 [INFO] 79\t\t4.0\n"
          ]
        },
        {
          "output_type": "stream",
          "name": "stderr",
          "text": [
            "INFO:NEURONIOUtils:79\t\t4.0\n"
          ]
        },
        {
          "output_type": "stream",
          "name": "stdout",
          "text": [
            "2023-05-08 02:27:30,248 [INFO] PGN firing rate avg: 4.0 Hz\n"
          ]
        },
        {
          "output_type": "stream",
          "name": "stderr",
          "text": [
            "INFO:NEURONIOUtils:PGN firing rate avg: 4.0 Hz\n"
          ]
        },
        {
          "output_type": "stream",
          "name": "stdout",
          "text": [
            "2023-05-08 02:27:30,250 [INFO] Grill PGN fr = 6.3 Hz\n"
          ]
        },
        {
          "output_type": "stream",
          "name": "stderr",
          "text": [
            "INFO:NEURONIOUtils:Grill PGN fr = 6.3 Hz\n"
          ]
        },
        {
          "output_type": "stream",
          "name": "stdout",
          "text": [
            "2023-05-08 02:27:30,252 [INFO] IMG node_gid\t  Hz\n"
          ]
        },
        {
          "output_type": "stream",
          "name": "stderr",
          "text": [
            "INFO:NEURONIOUtils:IMG node_gid\t  Hz\n"
          ]
        },
        {
          "output_type": "stream",
          "name": "stdout",
          "text": [
            "2023-05-08 02:27:30,254 [INFO] IMG firing rate avg: 4.0 Hz\n"
          ]
        },
        {
          "output_type": "stream",
          "name": "stderr",
          "text": [
            "INFO:NEURONIOUtils:IMG firing rate avg: 4.0 Hz\n"
          ]
        },
        {
          "output_type": "stream",
          "name": "stdout",
          "text": [
            "2023-05-08 02:27:30,262 [INFO] Volume = 1.1083 ml\n"
          ]
        },
        {
          "output_type": "stream",
          "name": "stderr",
          "text": [
            "INFO:NEURONIOUtils:Volume = 1.1083 ml\n"
          ]
        },
        {
          "output_type": "stream",
          "name": "stdout",
          "text": [
            "2023-05-08 02:27:30,268 [INFO] Pressure = 7.06 mmHg\n"
          ]
        },
        {
          "output_type": "stream",
          "name": "stderr",
          "text": [
            "INFO:NEURONIOUtils:Pressure = 7.06 mmHg\n"
          ]
        },
        {
          "output_type": "stream",
          "name": "stdout",
          "text": [
            "2023-05-08 02:27:30,270 [INFO] Calculated bladder afferent firing rate for the next time step = 0.28 Hz \n",
            " \n",
            "\n"
          ]
        },
        {
          "output_type": "stream",
          "name": "stderr",
          "text": [
            "INFO:NEURONIOUtils:Calculated bladder afferent firing rate for the next time step = 0.28 Hz \n",
            " \n",
            "\n"
          ]
        },
        {
          "output_type": "stream",
          "name": "stdout",
          "text": [
            "2023-05-08 02:27:33,011 [INFO]     step:200000 t_sim:40000.00 ms\n"
          ]
        },
        {
          "output_type": "stream",
          "name": "stderr",
          "text": [
            "INFO:NEURONIOUtils:    step:200000 t_sim:40000.00 ms\n"
          ]
        },
        {
          "output_type": "stream",
          "name": "stdout",
          "text": [
            "2023-05-08 02:27:33,030 [INFO] Timestep 39000.0 to 40000.0 ms\n"
          ]
        },
        {
          "output_type": "stream",
          "name": "stderr",
          "text": [
            "INFO:NEURONIOUtils:Timestep 39000.0 to 40000.0 ms\n"
          ]
        },
        {
          "output_type": "stream",
          "name": "stdout",
          "text": [
            "2023-05-08 02:27:33,034 [INFO] PGN node_id\t  Hz\n"
          ]
        },
        {
          "output_type": "stream",
          "name": "stderr",
          "text": [
            "INFO:NEURONIOUtils:PGN node_id\t  Hz\n"
          ]
        },
        {
          "output_type": "stream",
          "name": "stdout",
          "text": [
            "2023-05-08 02:27:33,040 [INFO] 70\t\t4.0\n"
          ]
        },
        {
          "output_type": "stream",
          "name": "stderr",
          "text": [
            "INFO:NEURONIOUtils:70\t\t4.0\n"
          ]
        },
        {
          "output_type": "stream",
          "name": "stdout",
          "text": [
            "2023-05-08 02:27:33,047 [INFO] 71\t\t4.0\n"
          ]
        },
        {
          "output_type": "stream",
          "name": "stderr",
          "text": [
            "INFO:NEURONIOUtils:71\t\t4.0\n"
          ]
        },
        {
          "output_type": "stream",
          "name": "stdout",
          "text": [
            "2023-05-08 02:27:33,049 [INFO] 72\t\t4.0\n"
          ]
        },
        {
          "output_type": "stream",
          "name": "stderr",
          "text": [
            "INFO:NEURONIOUtils:72\t\t4.0\n"
          ]
        },
        {
          "output_type": "stream",
          "name": "stdout",
          "text": [
            "2023-05-08 02:27:33,051 [INFO] 73\t\t4.0\n"
          ]
        },
        {
          "output_type": "stream",
          "name": "stderr",
          "text": [
            "INFO:NEURONIOUtils:73\t\t4.0\n"
          ]
        },
        {
          "output_type": "stream",
          "name": "stdout",
          "text": [
            "2023-05-08 02:27:33,053 [INFO] 74\t\t4.0\n"
          ]
        },
        {
          "output_type": "stream",
          "name": "stderr",
          "text": [
            "INFO:NEURONIOUtils:74\t\t4.0\n"
          ]
        },
        {
          "output_type": "stream",
          "name": "stdout",
          "text": [
            "2023-05-08 02:27:33,058 [INFO] 75\t\t4.0\n"
          ]
        },
        {
          "output_type": "stream",
          "name": "stderr",
          "text": [
            "INFO:NEURONIOUtils:75\t\t4.0\n"
          ]
        },
        {
          "output_type": "stream",
          "name": "stdout",
          "text": [
            "2023-05-08 02:27:33,062 [INFO] 76\t\t4.0\n"
          ]
        },
        {
          "output_type": "stream",
          "name": "stderr",
          "text": [
            "INFO:NEURONIOUtils:76\t\t4.0\n"
          ]
        },
        {
          "output_type": "stream",
          "name": "stdout",
          "text": [
            "2023-05-08 02:27:33,064 [INFO] 77\t\t4.0\n"
          ]
        },
        {
          "output_type": "stream",
          "name": "stderr",
          "text": [
            "INFO:NEURONIOUtils:77\t\t4.0\n"
          ]
        },
        {
          "output_type": "stream",
          "name": "stdout",
          "text": [
            "2023-05-08 02:27:33,066 [INFO] 78\t\t4.0\n"
          ]
        },
        {
          "output_type": "stream",
          "name": "stderr",
          "text": [
            "INFO:NEURONIOUtils:78\t\t4.0\n"
          ]
        },
        {
          "output_type": "stream",
          "name": "stdout",
          "text": [
            "2023-05-08 02:27:33,068 [INFO] 79\t\t4.0\n"
          ]
        },
        {
          "output_type": "stream",
          "name": "stderr",
          "text": [
            "INFO:NEURONIOUtils:79\t\t4.0\n"
          ]
        },
        {
          "output_type": "stream",
          "name": "stdout",
          "text": [
            "2023-05-08 02:27:33,074 [INFO] PGN firing rate avg: 4.0 Hz\n"
          ]
        },
        {
          "output_type": "stream",
          "name": "stderr",
          "text": [
            "INFO:NEURONIOUtils:PGN firing rate avg: 4.0 Hz\n"
          ]
        },
        {
          "output_type": "stream",
          "name": "stdout",
          "text": [
            "2023-05-08 02:27:33,076 [INFO] Grill PGN fr = 6.3 Hz\n"
          ]
        },
        {
          "output_type": "stream",
          "name": "stderr",
          "text": [
            "INFO:NEURONIOUtils:Grill PGN fr = 6.3 Hz\n"
          ]
        },
        {
          "output_type": "stream",
          "name": "stdout",
          "text": [
            "2023-05-08 02:27:33,078 [INFO] IMG node_gid\t  Hz\n"
          ]
        },
        {
          "output_type": "stream",
          "name": "stderr",
          "text": [
            "INFO:NEURONIOUtils:IMG node_gid\t  Hz\n"
          ]
        },
        {
          "output_type": "stream",
          "name": "stdout",
          "text": [
            "2023-05-08 02:27:33,080 [INFO] IMG firing rate avg: 4.0 Hz\n"
          ]
        },
        {
          "output_type": "stream",
          "name": "stderr",
          "text": [
            "INFO:NEURONIOUtils:IMG firing rate avg: 4.0 Hz\n"
          ]
        },
        {
          "output_type": "stream",
          "name": "stdout",
          "text": [
            "2023-05-08 02:27:33,093 [INFO] Volume = 1.1375 ml\n"
          ]
        },
        {
          "output_type": "stream",
          "name": "stderr",
          "text": [
            "INFO:NEURONIOUtils:Volume = 1.1375 ml\n"
          ]
        },
        {
          "output_type": "stream",
          "name": "stdout",
          "text": [
            "2023-05-08 02:27:33,101 [INFO] Pressure = 7.32 mmHg\n"
          ]
        },
        {
          "output_type": "stream",
          "name": "stderr",
          "text": [
            "INFO:NEURONIOUtils:Pressure = 7.32 mmHg\n"
          ]
        },
        {
          "output_type": "stream",
          "name": "stdout",
          "text": [
            "2023-05-08 02:27:33,103 [INFO] Calculated bladder afferent firing rate for the next time step = 0.47 Hz \n",
            " \n",
            "\n"
          ]
        },
        {
          "output_type": "stream",
          "name": "stderr",
          "text": [
            "INFO:NEURONIOUtils:Calculated bladder afferent firing rate for the next time step = 0.47 Hz \n",
            " \n",
            "\n"
          ]
        },
        {
          "output_type": "stream",
          "name": "stdout",
          "text": [
            "2023-05-08 02:27:35,642 [INFO]     step:205000 t_sim:41000.00 ms\n"
          ]
        },
        {
          "output_type": "stream",
          "name": "stderr",
          "text": [
            "INFO:NEURONIOUtils:    step:205000 t_sim:41000.00 ms\n"
          ]
        },
        {
          "output_type": "stream",
          "name": "stdout",
          "text": [
            "2023-05-08 02:27:35,667 [INFO] Timestep 40000.0 to 41000.0 ms\n"
          ]
        },
        {
          "output_type": "stream",
          "name": "stderr",
          "text": [
            "INFO:NEURONIOUtils:Timestep 40000.0 to 41000.0 ms\n"
          ]
        },
        {
          "output_type": "stream",
          "name": "stdout",
          "text": [
            "2023-05-08 02:27:35,674 [INFO] PGN node_id\t  Hz\n"
          ]
        },
        {
          "output_type": "stream",
          "name": "stderr",
          "text": [
            "INFO:NEURONIOUtils:PGN node_id\t  Hz\n"
          ]
        },
        {
          "output_type": "stream",
          "name": "stdout",
          "text": [
            "2023-05-08 02:27:35,680 [INFO] 70\t\t5.0\n"
          ]
        },
        {
          "output_type": "stream",
          "name": "stderr",
          "text": [
            "INFO:NEURONIOUtils:70\t\t5.0\n"
          ]
        },
        {
          "output_type": "stream",
          "name": "stdout",
          "text": [
            "2023-05-08 02:27:35,684 [INFO] 71\t\t5.0\n"
          ]
        },
        {
          "output_type": "stream",
          "name": "stderr",
          "text": [
            "INFO:NEURONIOUtils:71\t\t5.0\n"
          ]
        },
        {
          "output_type": "stream",
          "name": "stdout",
          "text": [
            "2023-05-08 02:27:35,689 [INFO] 72\t\t5.0\n"
          ]
        },
        {
          "output_type": "stream",
          "name": "stderr",
          "text": [
            "INFO:NEURONIOUtils:72\t\t5.0\n"
          ]
        },
        {
          "output_type": "stream",
          "name": "stdout",
          "text": [
            "2023-05-08 02:27:35,699 [INFO] 73\t\t5.0\n"
          ]
        },
        {
          "output_type": "stream",
          "name": "stderr",
          "text": [
            "INFO:NEURONIOUtils:73\t\t5.0\n"
          ]
        },
        {
          "output_type": "stream",
          "name": "stdout",
          "text": [
            "2023-05-08 02:27:35,703 [INFO] 74\t\t5.0\n"
          ]
        },
        {
          "output_type": "stream",
          "name": "stderr",
          "text": [
            "INFO:NEURONIOUtils:74\t\t5.0\n"
          ]
        },
        {
          "output_type": "stream",
          "name": "stdout",
          "text": [
            "2023-05-08 02:27:35,705 [INFO] 75\t\t5.0\n"
          ]
        },
        {
          "output_type": "stream",
          "name": "stderr",
          "text": [
            "INFO:NEURONIOUtils:75\t\t5.0\n"
          ]
        },
        {
          "output_type": "stream",
          "name": "stdout",
          "text": [
            "2023-05-08 02:27:35,710 [INFO] 76\t\t5.0\n"
          ]
        },
        {
          "output_type": "stream",
          "name": "stderr",
          "text": [
            "INFO:NEURONIOUtils:76\t\t5.0\n"
          ]
        },
        {
          "output_type": "stream",
          "name": "stdout",
          "text": [
            "2023-05-08 02:27:35,718 [INFO] 77\t\t5.0\n"
          ]
        },
        {
          "output_type": "stream",
          "name": "stderr",
          "text": [
            "INFO:NEURONIOUtils:77\t\t5.0\n"
          ]
        },
        {
          "output_type": "stream",
          "name": "stdout",
          "text": [
            "2023-05-08 02:27:35,722 [INFO] 78\t\t5.0\n"
          ]
        },
        {
          "output_type": "stream",
          "name": "stderr",
          "text": [
            "INFO:NEURONIOUtils:78\t\t5.0\n"
          ]
        },
        {
          "output_type": "stream",
          "name": "stdout",
          "text": [
            "2023-05-08 02:27:35,726 [INFO] 79\t\t5.0\n"
          ]
        },
        {
          "output_type": "stream",
          "name": "stderr",
          "text": [
            "INFO:NEURONIOUtils:79\t\t5.0\n"
          ]
        },
        {
          "output_type": "stream",
          "name": "stdout",
          "text": [
            "2023-05-08 02:27:35,729 [INFO] PGN firing rate avg: 5.0 Hz\n"
          ]
        },
        {
          "output_type": "stream",
          "name": "stderr",
          "text": [
            "INFO:NEURONIOUtils:PGN firing rate avg: 5.0 Hz\n"
          ]
        },
        {
          "output_type": "stream",
          "name": "stdout",
          "text": [
            "2023-05-08 02:27:35,733 [INFO] Grill PGN fr = 7.925000000000001 Hz\n"
          ]
        },
        {
          "output_type": "stream",
          "name": "stderr",
          "text": [
            "INFO:NEURONIOUtils:Grill PGN fr = 7.925000000000001 Hz\n"
          ]
        },
        {
          "output_type": "stream",
          "name": "stdout",
          "text": [
            "2023-05-08 02:27:35,736 [INFO] IMG node_gid\t  Hz\n"
          ]
        },
        {
          "output_type": "stream",
          "name": "stderr",
          "text": [
            "INFO:NEURONIOUtils:IMG node_gid\t  Hz\n"
          ]
        },
        {
          "output_type": "stream",
          "name": "stdout",
          "text": [
            "2023-05-08 02:27:35,740 [INFO] IMG firing rate avg: 5.0 Hz\n"
          ]
        },
        {
          "output_type": "stream",
          "name": "stderr",
          "text": [
            "INFO:NEURONIOUtils:IMG firing rate avg: 5.0 Hz\n"
          ]
        },
        {
          "output_type": "stream",
          "name": "stdout",
          "text": [
            "2023-05-08 02:27:35,758 [INFO] Volume = 1.1667 ml\n"
          ]
        },
        {
          "output_type": "stream",
          "name": "stderr",
          "text": [
            "INFO:NEURONIOUtils:Volume = 1.1667 ml\n"
          ]
        },
        {
          "output_type": "stream",
          "name": "stdout",
          "text": [
            "2023-05-08 02:27:35,763 [INFO] Pressure = 8.77 mmHg\n"
          ]
        },
        {
          "output_type": "stream",
          "name": "stderr",
          "text": [
            "INFO:NEURONIOUtils:Pressure = 8.77 mmHg\n"
          ]
        },
        {
          "output_type": "stream",
          "name": "stdout",
          "text": [
            "2023-05-08 02:27:35,765 [INFO] Calculated bladder afferent firing rate for the next time step = 1.73 Hz \n",
            " \n",
            "\n"
          ]
        },
        {
          "output_type": "stream",
          "name": "stderr",
          "text": [
            "INFO:NEURONIOUtils:Calculated bladder afferent firing rate for the next time step = 1.73 Hz \n",
            " \n",
            "\n"
          ]
        },
        {
          "output_type": "stream",
          "name": "stdout",
          "text": [
            "2023-05-08 02:27:37,846 [INFO]     step:210000 t_sim:42000.00 ms\n"
          ]
        },
        {
          "output_type": "stream",
          "name": "stderr",
          "text": [
            "INFO:NEURONIOUtils:    step:210000 t_sim:42000.00 ms\n"
          ]
        },
        {
          "output_type": "stream",
          "name": "stdout",
          "text": [
            "2023-05-08 02:27:37,858 [INFO] Timestep 41000.0 to 42000.0 ms\n"
          ]
        },
        {
          "output_type": "stream",
          "name": "stderr",
          "text": [
            "INFO:NEURONIOUtils:Timestep 41000.0 to 42000.0 ms\n"
          ]
        },
        {
          "output_type": "stream",
          "name": "stdout",
          "text": [
            "2023-05-08 02:27:37,862 [INFO] PGN node_id\t  Hz\n"
          ]
        },
        {
          "output_type": "stream",
          "name": "stderr",
          "text": [
            "INFO:NEURONIOUtils:PGN node_id\t  Hz\n"
          ]
        },
        {
          "output_type": "stream",
          "name": "stdout",
          "text": [
            "2023-05-08 02:27:37,866 [INFO] 70\t\t3.0\n"
          ]
        },
        {
          "output_type": "stream",
          "name": "stderr",
          "text": [
            "INFO:NEURONIOUtils:70\t\t3.0\n"
          ]
        },
        {
          "output_type": "stream",
          "name": "stdout",
          "text": [
            "2023-05-08 02:27:37,868 [INFO] 71\t\t3.0\n"
          ]
        },
        {
          "output_type": "stream",
          "name": "stderr",
          "text": [
            "INFO:NEURONIOUtils:71\t\t3.0\n"
          ]
        },
        {
          "output_type": "stream",
          "name": "stdout",
          "text": [
            "2023-05-08 02:27:37,870 [INFO] 72\t\t3.0\n"
          ]
        },
        {
          "output_type": "stream",
          "name": "stderr",
          "text": [
            "INFO:NEURONIOUtils:72\t\t3.0\n"
          ]
        },
        {
          "output_type": "stream",
          "name": "stdout",
          "text": [
            "2023-05-08 02:27:37,872 [INFO] 73\t\t3.0\n"
          ]
        },
        {
          "output_type": "stream",
          "name": "stderr",
          "text": [
            "INFO:NEURONIOUtils:73\t\t3.0\n"
          ]
        },
        {
          "output_type": "stream",
          "name": "stdout",
          "text": [
            "2023-05-08 02:27:37,875 [INFO] 74\t\t3.0\n"
          ]
        },
        {
          "output_type": "stream",
          "name": "stderr",
          "text": [
            "INFO:NEURONIOUtils:74\t\t3.0\n"
          ]
        },
        {
          "output_type": "stream",
          "name": "stdout",
          "text": [
            "2023-05-08 02:27:37,877 [INFO] 75\t\t3.0\n"
          ]
        },
        {
          "output_type": "stream",
          "name": "stderr",
          "text": [
            "INFO:NEURONIOUtils:75\t\t3.0\n"
          ]
        },
        {
          "output_type": "stream",
          "name": "stdout",
          "text": [
            "2023-05-08 02:27:37,879 [INFO] 76\t\t3.0\n"
          ]
        },
        {
          "output_type": "stream",
          "name": "stderr",
          "text": [
            "INFO:NEURONIOUtils:76\t\t3.0\n"
          ]
        },
        {
          "output_type": "stream",
          "name": "stdout",
          "text": [
            "2023-05-08 02:27:37,881 [INFO] 77\t\t3.0\n"
          ]
        },
        {
          "output_type": "stream",
          "name": "stderr",
          "text": [
            "INFO:NEURONIOUtils:77\t\t3.0\n"
          ]
        },
        {
          "output_type": "stream",
          "name": "stdout",
          "text": [
            "2023-05-08 02:27:37,883 [INFO] 78\t\t3.0\n"
          ]
        },
        {
          "output_type": "stream",
          "name": "stderr",
          "text": [
            "INFO:NEURONIOUtils:78\t\t3.0\n"
          ]
        },
        {
          "output_type": "stream",
          "name": "stdout",
          "text": [
            "2023-05-08 02:27:37,884 [INFO] 79\t\t3.0\n"
          ]
        },
        {
          "output_type": "stream",
          "name": "stderr",
          "text": [
            "INFO:NEURONIOUtils:79\t\t3.0\n"
          ]
        },
        {
          "output_type": "stream",
          "name": "stdout",
          "text": [
            "2023-05-08 02:27:37,886 [INFO] PGN firing rate avg: 3.0 Hz\n"
          ]
        },
        {
          "output_type": "stream",
          "name": "stderr",
          "text": [
            "INFO:NEURONIOUtils:PGN firing rate avg: 3.0 Hz\n"
          ]
        },
        {
          "output_type": "stream",
          "name": "stdout",
          "text": [
            "2023-05-08 02:27:37,888 [INFO] Grill PGN fr = 4.657 Hz\n"
          ]
        },
        {
          "output_type": "stream",
          "name": "stderr",
          "text": [
            "INFO:NEURONIOUtils:Grill PGN fr = 4.657 Hz\n"
          ]
        },
        {
          "output_type": "stream",
          "name": "stdout",
          "text": [
            "2023-05-08 02:27:37,890 [INFO] IMG node_gid\t  Hz\n"
          ]
        },
        {
          "output_type": "stream",
          "name": "stderr",
          "text": [
            "INFO:NEURONIOUtils:IMG node_gid\t  Hz\n"
          ]
        },
        {
          "output_type": "stream",
          "name": "stdout",
          "text": [
            "2023-05-08 02:27:37,897 [INFO] IMG firing rate avg: 3.0 Hz\n"
          ]
        },
        {
          "output_type": "stream",
          "name": "stderr",
          "text": [
            "INFO:NEURONIOUtils:IMG firing rate avg: 3.0 Hz\n"
          ]
        },
        {
          "output_type": "stream",
          "name": "stdout",
          "text": [
            "2023-05-08 02:27:37,908 [INFO] Volume = 1.1958 ml\n"
          ]
        },
        {
          "output_type": "stream",
          "name": "stderr",
          "text": [
            "/usr/local/lib/python3.10/dist-packages/bmtk/utils/reports/spike_trains/spike_trains.py:183: RuntimeWarning: divide by zero encountered in double_scalars\n",
            "  interval = -np.log(1.0 - np.random.uniform()) / fr\n",
            "INFO:NEURONIOUtils:Volume = 1.1958 ml\n"
          ]
        },
        {
          "output_type": "stream",
          "name": "stdout",
          "text": [
            "2023-05-08 02:27:37,910 [INFO] Pressure = 6.63 mmHg\n"
          ]
        },
        {
          "output_type": "stream",
          "name": "stderr",
          "text": [
            "INFO:NEURONIOUtils:Pressure = 6.63 mmHg\n"
          ]
        },
        {
          "output_type": "stream",
          "name": "stdout",
          "text": [
            "2023-05-08 02:27:37,912 [INFO] Calculated bladder afferent firing rate for the next time step = 0.00 Hz \n",
            " \n",
            "\n"
          ]
        },
        {
          "output_type": "stream",
          "name": "stderr",
          "text": [
            "INFO:NEURONIOUtils:Calculated bladder afferent firing rate for the next time step = 0.00 Hz \n",
            " \n",
            "\n"
          ]
        },
        {
          "output_type": "stream",
          "name": "stdout",
          "text": [
            "2023-05-08 02:27:39,836 [INFO]     step:215000 t_sim:43000.00 ms\n"
          ]
        },
        {
          "output_type": "stream",
          "name": "stderr",
          "text": [
            "INFO:NEURONIOUtils:    step:215000 t_sim:43000.00 ms\n"
          ]
        },
        {
          "output_type": "stream",
          "name": "stdout",
          "text": [
            "2023-05-08 02:27:39,846 [INFO] Timestep 42000.0 to 43000.0 ms\n"
          ]
        },
        {
          "output_type": "stream",
          "name": "stderr",
          "text": [
            "INFO:NEURONIOUtils:Timestep 42000.0 to 43000.0 ms\n"
          ]
        },
        {
          "output_type": "stream",
          "name": "stdout",
          "text": [
            "2023-05-08 02:27:39,851 [INFO] PGN node_id\t  Hz\n"
          ]
        },
        {
          "output_type": "stream",
          "name": "stderr",
          "text": [
            "INFO:NEURONIOUtils:PGN node_id\t  Hz\n"
          ]
        },
        {
          "output_type": "stream",
          "name": "stdout",
          "text": [
            "2023-05-08 02:27:39,855 [INFO] 70\t\t2.0\n"
          ]
        },
        {
          "output_type": "stream",
          "name": "stderr",
          "text": [
            "INFO:NEURONIOUtils:70\t\t2.0\n"
          ]
        },
        {
          "output_type": "stream",
          "name": "stdout",
          "text": [
            "2023-05-08 02:27:39,858 [INFO] 71\t\t2.0\n"
          ]
        },
        {
          "output_type": "stream",
          "name": "stderr",
          "text": [
            "INFO:NEURONIOUtils:71\t\t2.0\n"
          ]
        },
        {
          "output_type": "stream",
          "name": "stdout",
          "text": [
            "2023-05-08 02:27:39,860 [INFO] 72\t\t2.0\n"
          ]
        },
        {
          "output_type": "stream",
          "name": "stderr",
          "text": [
            "INFO:NEURONIOUtils:72\t\t2.0\n"
          ]
        },
        {
          "output_type": "stream",
          "name": "stdout",
          "text": [
            "2023-05-08 02:27:39,862 [INFO] 73\t\t2.0\n"
          ]
        },
        {
          "output_type": "stream",
          "name": "stderr",
          "text": [
            "INFO:NEURONIOUtils:73\t\t2.0\n"
          ]
        },
        {
          "output_type": "stream",
          "name": "stdout",
          "text": [
            "2023-05-08 02:27:39,864 [INFO] 74\t\t2.0\n"
          ]
        },
        {
          "output_type": "stream",
          "name": "stderr",
          "text": [
            "INFO:NEURONIOUtils:74\t\t2.0\n"
          ]
        },
        {
          "output_type": "stream",
          "name": "stdout",
          "text": [
            "2023-05-08 02:27:39,866 [INFO] 75\t\t2.0\n"
          ]
        },
        {
          "output_type": "stream",
          "name": "stderr",
          "text": [
            "INFO:NEURONIOUtils:75\t\t2.0\n"
          ]
        },
        {
          "output_type": "stream",
          "name": "stdout",
          "text": [
            "2023-05-08 02:27:39,878 [INFO] 76\t\t2.0\n"
          ]
        },
        {
          "output_type": "stream",
          "name": "stderr",
          "text": [
            "INFO:NEURONIOUtils:76\t\t2.0\n"
          ]
        },
        {
          "output_type": "stream",
          "name": "stdout",
          "text": [
            "2023-05-08 02:27:39,883 [INFO] 77\t\t2.0\n"
          ]
        },
        {
          "output_type": "stream",
          "name": "stderr",
          "text": [
            "INFO:NEURONIOUtils:77\t\t2.0\n"
          ]
        },
        {
          "output_type": "stream",
          "name": "stdout",
          "text": [
            "2023-05-08 02:27:39,886 [INFO] 78\t\t2.0\n"
          ]
        },
        {
          "output_type": "stream",
          "name": "stderr",
          "text": [
            "INFO:NEURONIOUtils:78\t\t2.0\n"
          ]
        },
        {
          "output_type": "stream",
          "name": "stdout",
          "text": [
            "2023-05-08 02:27:39,889 [INFO] 79\t\t2.0\n"
          ]
        },
        {
          "output_type": "stream",
          "name": "stderr",
          "text": [
            "INFO:NEURONIOUtils:79\t\t2.0\n"
          ]
        },
        {
          "output_type": "stream",
          "name": "stdout",
          "text": [
            "2023-05-08 02:27:39,891 [INFO] PGN firing rate avg: 2.0 Hz\n"
          ]
        },
        {
          "output_type": "stream",
          "name": "stderr",
          "text": [
            "INFO:NEURONIOUtils:PGN firing rate avg: 2.0 Hz\n"
          ]
        },
        {
          "output_type": "stream",
          "name": "stdout",
          "text": [
            "2023-05-08 02:27:39,894 [INFO] Grill PGN fr = 2.984 Hz\n"
          ]
        },
        {
          "output_type": "stream",
          "name": "stderr",
          "text": [
            "INFO:NEURONIOUtils:Grill PGN fr = 2.984 Hz\n"
          ]
        },
        {
          "output_type": "stream",
          "name": "stdout",
          "text": [
            "2023-05-08 02:27:39,898 [INFO] IMG node_gid\t  Hz\n"
          ]
        },
        {
          "output_type": "stream",
          "name": "stderr",
          "text": [
            "INFO:NEURONIOUtils:IMG node_gid\t  Hz\n"
          ]
        },
        {
          "output_type": "stream",
          "name": "stdout",
          "text": [
            "2023-05-08 02:27:39,900 [INFO] IMG firing rate avg: 2.0 Hz\n"
          ]
        },
        {
          "output_type": "stream",
          "name": "stderr",
          "text": [
            "INFO:NEURONIOUtils:IMG firing rate avg: 2.0 Hz\n"
          ]
        },
        {
          "output_type": "stream",
          "name": "stdout",
          "text": [
            "2023-05-08 02:27:39,914 [INFO] Volume = 1.2250 ml\n"
          ]
        },
        {
          "output_type": "stream",
          "name": "stderr",
          "text": [
            "/usr/local/lib/python3.10/dist-packages/bmtk/utils/reports/spike_trains/spike_trains.py:183: RuntimeWarning: divide by zero encountered in double_scalars\n",
            "  interval = -np.log(1.0 - np.random.uniform()) / fr\n",
            "INFO:NEURONIOUtils:Volume = 1.2250 ml\n"
          ]
        },
        {
          "output_type": "stream",
          "name": "stdout",
          "text": [
            "2023-05-08 02:27:39,921 [INFO] Pressure = 5.65 mmHg\n"
          ]
        },
        {
          "output_type": "stream",
          "name": "stderr",
          "text": [
            "INFO:NEURONIOUtils:Pressure = 5.65 mmHg\n"
          ]
        },
        {
          "output_type": "stream",
          "name": "stdout",
          "text": [
            "2023-05-08 02:27:39,923 [INFO] Calculated bladder afferent firing rate for the next time step = 0.00 Hz \n",
            " \n",
            "\n"
          ]
        },
        {
          "output_type": "stream",
          "name": "stderr",
          "text": [
            "INFO:NEURONIOUtils:Calculated bladder afferent firing rate for the next time step = 0.00 Hz \n",
            " \n",
            "\n"
          ]
        },
        {
          "output_type": "stream",
          "name": "stdout",
          "text": [
            "2023-05-08 02:27:41,829 [INFO]     step:220000 t_sim:44000.00 ms\n"
          ]
        },
        {
          "output_type": "stream",
          "name": "stderr",
          "text": [
            "INFO:NEURONIOUtils:    step:220000 t_sim:44000.00 ms\n"
          ]
        },
        {
          "output_type": "stream",
          "name": "stdout",
          "text": [
            "2023-05-08 02:27:41,854 [INFO] Timestep 43000.0 to 44000.0 ms\n"
          ]
        },
        {
          "output_type": "stream",
          "name": "stderr",
          "text": [
            "INFO:NEURONIOUtils:Timestep 43000.0 to 44000.0 ms\n"
          ]
        },
        {
          "output_type": "stream",
          "name": "stdout",
          "text": [
            "2023-05-08 02:27:41,858 [INFO] PGN node_id\t  Hz\n"
          ]
        },
        {
          "output_type": "stream",
          "name": "stderr",
          "text": [
            "INFO:NEURONIOUtils:PGN node_id\t  Hz\n"
          ]
        },
        {
          "output_type": "stream",
          "name": "stdout",
          "text": [
            "2023-05-08 02:27:41,865 [INFO] 70\t\t2.0\n"
          ]
        },
        {
          "output_type": "stream",
          "name": "stderr",
          "text": [
            "INFO:NEURONIOUtils:70\t\t2.0\n"
          ]
        },
        {
          "output_type": "stream",
          "name": "stdout",
          "text": [
            "2023-05-08 02:27:41,868 [INFO] 71\t\t2.0\n"
          ]
        },
        {
          "output_type": "stream",
          "name": "stderr",
          "text": [
            "INFO:NEURONIOUtils:71\t\t2.0\n"
          ]
        },
        {
          "output_type": "stream",
          "name": "stdout",
          "text": [
            "2023-05-08 02:27:41,874 [INFO] 72\t\t2.0\n"
          ]
        },
        {
          "output_type": "stream",
          "name": "stderr",
          "text": [
            "INFO:NEURONIOUtils:72\t\t2.0\n"
          ]
        },
        {
          "output_type": "stream",
          "name": "stdout",
          "text": [
            "2023-05-08 02:27:41,875 [INFO] 73\t\t2.0\n"
          ]
        },
        {
          "output_type": "stream",
          "name": "stderr",
          "text": [
            "INFO:NEURONIOUtils:73\t\t2.0\n"
          ]
        },
        {
          "output_type": "stream",
          "name": "stdout",
          "text": [
            "2023-05-08 02:27:41,880 [INFO] 74\t\t2.0\n"
          ]
        },
        {
          "output_type": "stream",
          "name": "stderr",
          "text": [
            "INFO:NEURONIOUtils:74\t\t2.0\n"
          ]
        },
        {
          "output_type": "stream",
          "name": "stdout",
          "text": [
            "2023-05-08 02:27:41,882 [INFO] 75\t\t2.0\n"
          ]
        },
        {
          "output_type": "stream",
          "name": "stderr",
          "text": [
            "INFO:NEURONIOUtils:75\t\t2.0\n"
          ]
        },
        {
          "output_type": "stream",
          "name": "stdout",
          "text": [
            "2023-05-08 02:27:41,885 [INFO] 76\t\t2.0\n"
          ]
        },
        {
          "output_type": "stream",
          "name": "stderr",
          "text": [
            "INFO:NEURONIOUtils:76\t\t2.0\n"
          ]
        },
        {
          "output_type": "stream",
          "name": "stdout",
          "text": [
            "2023-05-08 02:27:41,887 [INFO] 77\t\t2.0\n"
          ]
        },
        {
          "output_type": "stream",
          "name": "stderr",
          "text": [
            "INFO:NEURONIOUtils:77\t\t2.0\n"
          ]
        },
        {
          "output_type": "stream",
          "name": "stdout",
          "text": [
            "2023-05-08 02:27:41,889 [INFO] 78\t\t2.0\n"
          ]
        },
        {
          "output_type": "stream",
          "name": "stderr",
          "text": [
            "INFO:NEURONIOUtils:78\t\t2.0\n"
          ]
        },
        {
          "output_type": "stream",
          "name": "stdout",
          "text": [
            "2023-05-08 02:27:41,891 [INFO] 79\t\t2.0\n"
          ]
        },
        {
          "output_type": "stream",
          "name": "stderr",
          "text": [
            "INFO:NEURONIOUtils:79\t\t2.0\n"
          ]
        },
        {
          "output_type": "stream",
          "name": "stdout",
          "text": [
            "2023-05-08 02:27:41,893 [INFO] PGN firing rate avg: 2.0 Hz\n"
          ]
        },
        {
          "output_type": "stream",
          "name": "stderr",
          "text": [
            "INFO:NEURONIOUtils:PGN firing rate avg: 2.0 Hz\n"
          ]
        },
        {
          "output_type": "stream",
          "name": "stdout",
          "text": [
            "2023-05-08 02:27:41,895 [INFO] Grill PGN fr = 2.984 Hz\n"
          ]
        },
        {
          "output_type": "stream",
          "name": "stderr",
          "text": [
            "INFO:NEURONIOUtils:Grill PGN fr = 2.984 Hz\n"
          ]
        },
        {
          "output_type": "stream",
          "name": "stdout",
          "text": [
            "2023-05-08 02:27:41,897 [INFO] IMG node_gid\t  Hz\n"
          ]
        },
        {
          "output_type": "stream",
          "name": "stderr",
          "text": [
            "INFO:NEURONIOUtils:IMG node_gid\t  Hz\n"
          ]
        },
        {
          "output_type": "stream",
          "name": "stdout",
          "text": [
            "2023-05-08 02:27:41,899 [INFO] IMG firing rate avg: 2.0 Hz\n"
          ]
        },
        {
          "output_type": "stream",
          "name": "stderr",
          "text": [
            "INFO:NEURONIOUtils:IMG firing rate avg: 2.0 Hz\n"
          ]
        },
        {
          "output_type": "stream",
          "name": "stdout",
          "text": [
            "2023-05-08 02:27:41,906 [INFO] Volume = 1.2542 ml\n"
          ]
        },
        {
          "output_type": "stream",
          "name": "stderr",
          "text": [
            "/usr/local/lib/python3.10/dist-packages/bmtk/utils/reports/spike_trains/spike_trains.py:183: RuntimeWarning: divide by zero encountered in double_scalars\n",
            "  interval = -np.log(1.0 - np.random.uniform()) / fr\n",
            "INFO:NEURONIOUtils:Volume = 1.2542 ml\n"
          ]
        },
        {
          "output_type": "stream",
          "name": "stdout",
          "text": [
            "2023-05-08 02:27:41,915 [INFO] Pressure = 5.91 mmHg\n"
          ]
        },
        {
          "output_type": "stream",
          "name": "stderr",
          "text": [
            "INFO:NEURONIOUtils:Pressure = 5.91 mmHg\n"
          ]
        },
        {
          "output_type": "stream",
          "name": "stdout",
          "text": [
            "2023-05-08 02:27:41,917 [INFO] Calculated bladder afferent firing rate for the next time step = 0.00 Hz \n",
            " \n",
            "\n"
          ]
        },
        {
          "output_type": "stream",
          "name": "stderr",
          "text": [
            "INFO:NEURONIOUtils:Calculated bladder afferent firing rate for the next time step = 0.00 Hz \n",
            " \n",
            "\n"
          ]
        },
        {
          "output_type": "stream",
          "name": "stdout",
          "text": [
            "2023-05-08 02:27:43,876 [INFO]     step:225000 t_sim:45000.00 ms\n"
          ]
        },
        {
          "output_type": "stream",
          "name": "stderr",
          "text": [
            "INFO:NEURONIOUtils:    step:225000 t_sim:45000.00 ms\n"
          ]
        },
        {
          "output_type": "stream",
          "name": "stdout",
          "text": [
            "2023-05-08 02:27:43,886 [INFO] Timestep 44000.0 to 45000.0 ms\n"
          ]
        },
        {
          "output_type": "stream",
          "name": "stderr",
          "text": [
            "INFO:NEURONIOUtils:Timestep 44000.0 to 45000.0 ms\n"
          ]
        },
        {
          "output_type": "stream",
          "name": "stdout",
          "text": [
            "2023-05-08 02:27:43,892 [INFO] PGN node_id\t  Hz\n"
          ]
        },
        {
          "output_type": "stream",
          "name": "stderr",
          "text": [
            "INFO:NEURONIOUtils:PGN node_id\t  Hz\n"
          ]
        },
        {
          "output_type": "stream",
          "name": "stdout",
          "text": [
            "2023-05-08 02:27:43,896 [INFO] 70\t\t2.0\n"
          ]
        },
        {
          "output_type": "stream",
          "name": "stderr",
          "text": [
            "INFO:NEURONIOUtils:70\t\t2.0\n"
          ]
        },
        {
          "output_type": "stream",
          "name": "stdout",
          "text": [
            "2023-05-08 02:27:43,902 [INFO] 71\t\t2.0\n"
          ]
        },
        {
          "output_type": "stream",
          "name": "stderr",
          "text": [
            "INFO:NEURONIOUtils:71\t\t2.0\n"
          ]
        },
        {
          "output_type": "stream",
          "name": "stdout",
          "text": [
            "2023-05-08 02:27:43,907 [INFO] 72\t\t2.0\n"
          ]
        },
        {
          "output_type": "stream",
          "name": "stderr",
          "text": [
            "INFO:NEURONIOUtils:72\t\t2.0\n"
          ]
        },
        {
          "output_type": "stream",
          "name": "stdout",
          "text": [
            "2023-05-08 02:27:43,909 [INFO] 73\t\t2.0\n"
          ]
        },
        {
          "output_type": "stream",
          "name": "stderr",
          "text": [
            "INFO:NEURONIOUtils:73\t\t2.0\n"
          ]
        },
        {
          "output_type": "stream",
          "name": "stdout",
          "text": [
            "2023-05-08 02:27:43,911 [INFO] 74\t\t2.0\n"
          ]
        },
        {
          "output_type": "stream",
          "name": "stderr",
          "text": [
            "INFO:NEURONIOUtils:74\t\t2.0\n"
          ]
        },
        {
          "output_type": "stream",
          "name": "stdout",
          "text": [
            "2023-05-08 02:27:43,913 [INFO] 75\t\t2.0\n"
          ]
        },
        {
          "output_type": "stream",
          "name": "stderr",
          "text": [
            "INFO:NEURONIOUtils:75\t\t2.0\n"
          ]
        },
        {
          "output_type": "stream",
          "name": "stdout",
          "text": [
            "2023-05-08 02:27:43,915 [INFO] 76\t\t2.0\n"
          ]
        },
        {
          "output_type": "stream",
          "name": "stderr",
          "text": [
            "INFO:NEURONIOUtils:76\t\t2.0\n"
          ]
        },
        {
          "output_type": "stream",
          "name": "stdout",
          "text": [
            "2023-05-08 02:27:43,917 [INFO] 77\t\t2.0\n"
          ]
        },
        {
          "output_type": "stream",
          "name": "stderr",
          "text": [
            "INFO:NEURONIOUtils:77\t\t2.0\n"
          ]
        },
        {
          "output_type": "stream",
          "name": "stdout",
          "text": [
            "2023-05-08 02:27:43,919 [INFO] 78\t\t2.0\n"
          ]
        },
        {
          "output_type": "stream",
          "name": "stderr",
          "text": [
            "INFO:NEURONIOUtils:78\t\t2.0\n"
          ]
        },
        {
          "output_type": "stream",
          "name": "stdout",
          "text": [
            "2023-05-08 02:27:43,922 [INFO] 79\t\t2.0\n"
          ]
        },
        {
          "output_type": "stream",
          "name": "stderr",
          "text": [
            "INFO:NEURONIOUtils:79\t\t2.0\n"
          ]
        },
        {
          "output_type": "stream",
          "name": "stdout",
          "text": [
            "2023-05-08 02:27:43,924 [INFO] PGN firing rate avg: 2.0 Hz\n"
          ]
        },
        {
          "output_type": "stream",
          "name": "stderr",
          "text": [
            "INFO:NEURONIOUtils:PGN firing rate avg: 2.0 Hz\n"
          ]
        },
        {
          "output_type": "stream",
          "name": "stdout",
          "text": [
            "2023-05-08 02:27:43,925 [INFO] Grill PGN fr = 2.984 Hz\n"
          ]
        },
        {
          "output_type": "stream",
          "name": "stderr",
          "text": [
            "INFO:NEURONIOUtils:Grill PGN fr = 2.984 Hz\n"
          ]
        },
        {
          "output_type": "stream",
          "name": "stdout",
          "text": [
            "2023-05-08 02:27:43,928 [INFO] IMG node_gid\t  Hz\n"
          ]
        },
        {
          "output_type": "stream",
          "name": "stderr",
          "text": [
            "INFO:NEURONIOUtils:IMG node_gid\t  Hz\n"
          ]
        },
        {
          "output_type": "stream",
          "name": "stdout",
          "text": [
            "2023-05-08 02:27:43,930 [INFO] IMG firing rate avg: 2.0 Hz\n"
          ]
        },
        {
          "output_type": "stream",
          "name": "stderr",
          "text": [
            "INFO:NEURONIOUtils:IMG firing rate avg: 2.0 Hz\n"
          ]
        },
        {
          "output_type": "stream",
          "name": "stdout",
          "text": [
            "2023-05-08 02:27:43,937 [INFO] Volume = 1.2833 ml\n"
          ]
        },
        {
          "output_type": "stream",
          "name": "stderr",
          "text": [
            "/usr/local/lib/python3.10/dist-packages/bmtk/utils/reports/spike_trains/spike_trains.py:183: RuntimeWarning: divide by zero encountered in double_scalars\n",
            "  interval = -np.log(1.0 - np.random.uniform()) / fr\n",
            "INFO:NEURONIOUtils:Volume = 1.2833 ml\n"
          ]
        },
        {
          "output_type": "stream",
          "name": "stdout",
          "text": [
            "2023-05-08 02:27:43,940 [INFO] Pressure = 6.17 mmHg\n"
          ]
        },
        {
          "output_type": "stream",
          "name": "stderr",
          "text": [
            "INFO:NEURONIOUtils:Pressure = 6.17 mmHg\n"
          ]
        },
        {
          "output_type": "stream",
          "name": "stdout",
          "text": [
            "2023-05-08 02:27:43,942 [INFO] Calculated bladder afferent firing rate for the next time step = 0.00 Hz \n",
            " \n",
            "\n"
          ]
        },
        {
          "output_type": "stream",
          "name": "stderr",
          "text": [
            "INFO:NEURONIOUtils:Calculated bladder afferent firing rate for the next time step = 0.00 Hz \n",
            " \n",
            "\n"
          ]
        },
        {
          "output_type": "stream",
          "name": "stdout",
          "text": [
            "2023-05-08 02:27:46,684 [INFO]     step:230000 t_sim:46000.00 ms\n"
          ]
        },
        {
          "output_type": "stream",
          "name": "stderr",
          "text": [
            "INFO:NEURONIOUtils:    step:230000 t_sim:46000.00 ms\n"
          ]
        },
        {
          "output_type": "stream",
          "name": "stdout",
          "text": [
            "2023-05-08 02:27:46,699 [INFO] Timestep 45000.0 to 46000.0 ms\n"
          ]
        },
        {
          "output_type": "stream",
          "name": "stderr",
          "text": [
            "INFO:NEURONIOUtils:Timestep 45000.0 to 46000.0 ms\n"
          ]
        },
        {
          "output_type": "stream",
          "name": "stdout",
          "text": [
            "2023-05-08 02:27:46,708 [INFO] PGN node_id\t  Hz\n"
          ]
        },
        {
          "output_type": "stream",
          "name": "stderr",
          "text": [
            "INFO:NEURONIOUtils:PGN node_id\t  Hz\n"
          ]
        },
        {
          "output_type": "stream",
          "name": "stdout",
          "text": [
            "2023-05-08 02:27:46,711 [INFO] 70\t\t1.0\n"
          ]
        },
        {
          "output_type": "stream",
          "name": "stderr",
          "text": [
            "INFO:NEURONIOUtils:70\t\t1.0\n"
          ]
        },
        {
          "output_type": "stream",
          "name": "stdout",
          "text": [
            "2023-05-08 02:27:46,715 [INFO] 71\t\t1.0\n"
          ]
        },
        {
          "output_type": "stream",
          "name": "stderr",
          "text": [
            "INFO:NEURONIOUtils:71\t\t1.0\n"
          ]
        },
        {
          "output_type": "stream",
          "name": "stdout",
          "text": [
            "2023-05-08 02:27:46,719 [INFO] 72\t\t1.0\n"
          ]
        },
        {
          "output_type": "stream",
          "name": "stderr",
          "text": [
            "INFO:NEURONIOUtils:72\t\t1.0\n"
          ]
        },
        {
          "output_type": "stream",
          "name": "stdout",
          "text": [
            "2023-05-08 02:27:46,726 [INFO] 73\t\t1.0\n"
          ]
        },
        {
          "output_type": "stream",
          "name": "stderr",
          "text": [
            "INFO:NEURONIOUtils:73\t\t1.0\n"
          ]
        },
        {
          "output_type": "stream",
          "name": "stdout",
          "text": [
            "2023-05-08 02:27:46,728 [INFO] 74\t\t1.0\n"
          ]
        },
        {
          "output_type": "stream",
          "name": "stderr",
          "text": [
            "INFO:NEURONIOUtils:74\t\t1.0\n"
          ]
        },
        {
          "output_type": "stream",
          "name": "stdout",
          "text": [
            "2023-05-08 02:27:46,731 [INFO] 75\t\t1.0\n"
          ]
        },
        {
          "output_type": "stream",
          "name": "stderr",
          "text": [
            "INFO:NEURONIOUtils:75\t\t1.0\n"
          ]
        },
        {
          "output_type": "stream",
          "name": "stdout",
          "text": [
            "2023-05-08 02:27:46,733 [INFO] 76\t\t1.0\n"
          ]
        },
        {
          "output_type": "stream",
          "name": "stderr",
          "text": [
            "INFO:NEURONIOUtils:76\t\t1.0\n"
          ]
        },
        {
          "output_type": "stream",
          "name": "stdout",
          "text": [
            "2023-05-08 02:27:46,737 [INFO] 77\t\t1.0\n"
          ]
        },
        {
          "output_type": "stream",
          "name": "stderr",
          "text": [
            "INFO:NEURONIOUtils:77\t\t1.0\n"
          ]
        },
        {
          "output_type": "stream",
          "name": "stdout",
          "text": [
            "2023-05-08 02:27:46,742 [INFO] 78\t\t1.0\n"
          ]
        },
        {
          "output_type": "stream",
          "name": "stderr",
          "text": [
            "INFO:NEURONIOUtils:78\t\t1.0\n"
          ]
        },
        {
          "output_type": "stream",
          "name": "stdout",
          "text": [
            "2023-05-08 02:27:46,746 [INFO] 79\t\t1.0\n"
          ]
        },
        {
          "output_type": "stream",
          "name": "stderr",
          "text": [
            "INFO:NEURONIOUtils:79\t\t1.0\n"
          ]
        },
        {
          "output_type": "stream",
          "name": "stdout",
          "text": [
            "2023-05-08 02:27:46,750 [INFO] PGN firing rate avg: 1.0 Hz\n"
          ]
        },
        {
          "output_type": "stream",
          "name": "stderr",
          "text": [
            "INFO:NEURONIOUtils:PGN firing rate avg: 1.0 Hz\n"
          ]
        },
        {
          "output_type": "stream",
          "name": "stdout",
          "text": [
            "2023-05-08 02:27:46,755 [INFO] Grill PGN fr = 1.2690000000000001 Hz\n"
          ]
        },
        {
          "output_type": "stream",
          "name": "stderr",
          "text": [
            "INFO:NEURONIOUtils:Grill PGN fr = 1.2690000000000001 Hz\n"
          ]
        },
        {
          "output_type": "stream",
          "name": "stdout",
          "text": [
            "2023-05-08 02:27:46,760 [INFO] IMG node_gid\t  Hz\n"
          ]
        },
        {
          "output_type": "stream",
          "name": "stderr",
          "text": [
            "INFO:NEURONIOUtils:IMG node_gid\t  Hz\n"
          ]
        },
        {
          "output_type": "stream",
          "name": "stdout",
          "text": [
            "2023-05-08 02:27:46,767 [INFO] IMG firing rate avg: 1.0 Hz\n"
          ]
        },
        {
          "output_type": "stream",
          "name": "stderr",
          "text": [
            "INFO:NEURONIOUtils:IMG firing rate avg: 1.0 Hz\n"
          ]
        },
        {
          "output_type": "stream",
          "name": "stdout",
          "text": [
            "2023-05-08 02:27:46,798 [INFO] Volume = 1.3125 ml\n"
          ]
        },
        {
          "output_type": "stream",
          "name": "stderr",
          "text": [
            "/usr/local/lib/python3.10/dist-packages/bmtk/utils/reports/spike_trains/spike_trains.py:183: RuntimeWarning: divide by zero encountered in double_scalars\n",
            "  interval = -np.log(1.0 - np.random.uniform()) / fr\n",
            "INFO:NEURONIOUtils:Volume = 1.3125 ml\n"
          ]
        },
        {
          "output_type": "stream",
          "name": "stdout",
          "text": [
            "2023-05-08 02:27:46,805 [INFO] Pressure = 5.16 mmHg\n"
          ]
        },
        {
          "output_type": "stream",
          "name": "stderr",
          "text": [
            "INFO:NEURONIOUtils:Pressure = 5.16 mmHg\n"
          ]
        },
        {
          "output_type": "stream",
          "name": "stdout",
          "text": [
            "2023-05-08 02:27:46,808 [INFO] Calculated bladder afferent firing rate for the next time step = 0.00 Hz \n",
            " \n",
            "\n"
          ]
        },
        {
          "output_type": "stream",
          "name": "stderr",
          "text": [
            "INFO:NEURONIOUtils:Calculated bladder afferent firing rate for the next time step = 0.00 Hz \n",
            " \n",
            "\n"
          ]
        },
        {
          "output_type": "stream",
          "name": "stdout",
          "text": [
            "2023-05-08 02:27:49,314 [INFO]     step:235000 t_sim:47000.00 ms\n"
          ]
        },
        {
          "output_type": "stream",
          "name": "stderr",
          "text": [
            "INFO:NEURONIOUtils:    step:235000 t_sim:47000.00 ms\n"
          ]
        },
        {
          "output_type": "stream",
          "name": "stdout",
          "text": [
            "2023-05-08 02:27:49,330 [INFO] Timestep 46000.0 to 47000.0 ms\n"
          ]
        },
        {
          "output_type": "stream",
          "name": "stderr",
          "text": [
            "INFO:NEURONIOUtils:Timestep 46000.0 to 47000.0 ms\n"
          ]
        },
        {
          "output_type": "stream",
          "name": "stdout",
          "text": [
            "2023-05-08 02:27:49,337 [INFO] PGN node_id\t  Hz\n"
          ]
        },
        {
          "output_type": "stream",
          "name": "stderr",
          "text": [
            "INFO:NEURONIOUtils:PGN node_id\t  Hz\n"
          ]
        },
        {
          "output_type": "stream",
          "name": "stdout",
          "text": [
            "2023-05-08 02:27:49,341 [INFO] 70\t\t2.0\n"
          ]
        },
        {
          "output_type": "stream",
          "name": "stderr",
          "text": [
            "INFO:NEURONIOUtils:70\t\t2.0\n"
          ]
        },
        {
          "output_type": "stream",
          "name": "stdout",
          "text": [
            "2023-05-08 02:27:49,344 [INFO] 71\t\t2.0\n"
          ]
        },
        {
          "output_type": "stream",
          "name": "stderr",
          "text": [
            "INFO:NEURONIOUtils:71\t\t2.0\n"
          ]
        },
        {
          "output_type": "stream",
          "name": "stdout",
          "text": [
            "2023-05-08 02:27:49,347 [INFO] 72\t\t2.0\n"
          ]
        },
        {
          "output_type": "stream",
          "name": "stderr",
          "text": [
            "INFO:NEURONIOUtils:72\t\t2.0\n"
          ]
        },
        {
          "output_type": "stream",
          "name": "stdout",
          "text": [
            "2023-05-08 02:27:49,349 [INFO] 73\t\t2.0\n"
          ]
        },
        {
          "output_type": "stream",
          "name": "stderr",
          "text": [
            "INFO:NEURONIOUtils:73\t\t2.0\n"
          ]
        },
        {
          "output_type": "stream",
          "name": "stdout",
          "text": [
            "2023-05-08 02:27:49,352 [INFO] 74\t\t2.0\n"
          ]
        },
        {
          "output_type": "stream",
          "name": "stderr",
          "text": [
            "INFO:NEURONIOUtils:74\t\t2.0\n"
          ]
        },
        {
          "output_type": "stream",
          "name": "stdout",
          "text": [
            "2023-05-08 02:27:49,354 [INFO] 75\t\t2.0\n"
          ]
        },
        {
          "output_type": "stream",
          "name": "stderr",
          "text": [
            "INFO:NEURONIOUtils:75\t\t2.0\n"
          ]
        },
        {
          "output_type": "stream",
          "name": "stdout",
          "text": [
            "2023-05-08 02:27:49,356 [INFO] 76\t\t2.0\n"
          ]
        },
        {
          "output_type": "stream",
          "name": "stderr",
          "text": [
            "INFO:NEURONIOUtils:76\t\t2.0\n"
          ]
        },
        {
          "output_type": "stream",
          "name": "stdout",
          "text": [
            "2023-05-08 02:27:49,363 [INFO] 77\t\t2.0\n"
          ]
        },
        {
          "output_type": "stream",
          "name": "stderr",
          "text": [
            "INFO:NEURONIOUtils:77\t\t2.0\n"
          ]
        },
        {
          "output_type": "stream",
          "name": "stdout",
          "text": [
            "2023-05-08 02:27:49,366 [INFO] 78\t\t2.0\n"
          ]
        },
        {
          "output_type": "stream",
          "name": "stderr",
          "text": [
            "INFO:NEURONIOUtils:78\t\t2.0\n"
          ]
        },
        {
          "output_type": "stream",
          "name": "stdout",
          "text": [
            "2023-05-08 02:27:49,369 [INFO] 79\t\t2.0\n"
          ]
        },
        {
          "output_type": "stream",
          "name": "stderr",
          "text": [
            "INFO:NEURONIOUtils:79\t\t2.0\n"
          ]
        },
        {
          "output_type": "stream",
          "name": "stdout",
          "text": [
            "2023-05-08 02:27:49,372 [INFO] PGN firing rate avg: 2.0 Hz\n"
          ]
        },
        {
          "output_type": "stream",
          "name": "stderr",
          "text": [
            "INFO:NEURONIOUtils:PGN firing rate avg: 2.0 Hz\n"
          ]
        },
        {
          "output_type": "stream",
          "name": "stdout",
          "text": [
            "2023-05-08 02:27:49,374 [INFO] Grill PGN fr = 2.984 Hz\n"
          ]
        },
        {
          "output_type": "stream",
          "name": "stderr",
          "text": [
            "INFO:NEURONIOUtils:Grill PGN fr = 2.984 Hz\n"
          ]
        },
        {
          "output_type": "stream",
          "name": "stdout",
          "text": [
            "2023-05-08 02:27:49,377 [INFO] IMG node_gid\t  Hz\n"
          ]
        },
        {
          "output_type": "stream",
          "name": "stderr",
          "text": [
            "INFO:NEURONIOUtils:IMG node_gid\t  Hz\n"
          ]
        },
        {
          "output_type": "stream",
          "name": "stdout",
          "text": [
            "2023-05-08 02:27:49,379 [INFO] IMG firing rate avg: 2.0 Hz\n"
          ]
        },
        {
          "output_type": "stream",
          "name": "stderr",
          "text": [
            "INFO:NEURONIOUtils:IMG firing rate avg: 2.0 Hz\n"
          ]
        },
        {
          "output_type": "stream",
          "name": "stdout",
          "text": [
            "2023-05-08 02:27:49,387 [INFO] Volume = 1.3417 ml\n"
          ]
        },
        {
          "output_type": "stream",
          "name": "stderr",
          "text": [
            "INFO:NEURONIOUtils:Volume = 1.3417 ml\n"
          ]
        },
        {
          "output_type": "stream",
          "name": "stdout",
          "text": [
            "2023-05-08 02:27:49,390 [INFO] Pressure = 6.68 mmHg\n"
          ]
        },
        {
          "output_type": "stream",
          "name": "stderr",
          "text": [
            "INFO:NEURONIOUtils:Pressure = 6.68 mmHg\n"
          ]
        },
        {
          "output_type": "stream",
          "name": "stdout",
          "text": [
            "2023-05-08 02:27:49,393 [INFO] Calculated bladder afferent firing rate for the next time step = 0.01 Hz \n",
            " \n",
            "\n"
          ]
        },
        {
          "output_type": "stream",
          "name": "stderr",
          "text": [
            "INFO:NEURONIOUtils:Calculated bladder afferent firing rate for the next time step = 0.01 Hz \n",
            " \n",
            "\n"
          ]
        },
        {
          "output_type": "stream",
          "name": "stdout",
          "text": [
            "2023-05-08 02:27:51,399 [INFO]     step:240000 t_sim:48000.00 ms\n"
          ]
        },
        {
          "output_type": "stream",
          "name": "stderr",
          "text": [
            "INFO:NEURONIOUtils:    step:240000 t_sim:48000.00 ms\n"
          ]
        },
        {
          "output_type": "stream",
          "name": "stdout",
          "text": [
            "2023-05-08 02:27:51,410 [INFO] Timestep 47000.0 to 48000.0 ms\n"
          ]
        },
        {
          "output_type": "stream",
          "name": "stderr",
          "text": [
            "INFO:NEURONIOUtils:Timestep 47000.0 to 48000.0 ms\n"
          ]
        },
        {
          "output_type": "stream",
          "name": "stdout",
          "text": [
            "2023-05-08 02:27:51,416 [INFO] PGN node_id\t  Hz\n"
          ]
        },
        {
          "output_type": "stream",
          "name": "stderr",
          "text": [
            "INFO:NEURONIOUtils:PGN node_id\t  Hz\n"
          ]
        },
        {
          "output_type": "stream",
          "name": "stdout",
          "text": [
            "2023-05-08 02:27:51,420 [INFO] 70\t\t4.0\n"
          ]
        },
        {
          "output_type": "stream",
          "name": "stderr",
          "text": [
            "INFO:NEURONIOUtils:70\t\t4.0\n"
          ]
        },
        {
          "output_type": "stream",
          "name": "stdout",
          "text": [
            "2023-05-08 02:27:51,422 [INFO] 71\t\t4.0\n"
          ]
        },
        {
          "output_type": "stream",
          "name": "stderr",
          "text": [
            "INFO:NEURONIOUtils:71\t\t4.0\n"
          ]
        },
        {
          "output_type": "stream",
          "name": "stdout",
          "text": [
            "2023-05-08 02:27:51,424 [INFO] 72\t\t4.0\n"
          ]
        },
        {
          "output_type": "stream",
          "name": "stderr",
          "text": [
            "INFO:NEURONIOUtils:72\t\t4.0\n"
          ]
        },
        {
          "output_type": "stream",
          "name": "stdout",
          "text": [
            "2023-05-08 02:27:51,427 [INFO] 73\t\t4.0\n"
          ]
        },
        {
          "output_type": "stream",
          "name": "stderr",
          "text": [
            "INFO:NEURONIOUtils:73\t\t4.0\n"
          ]
        },
        {
          "output_type": "stream",
          "name": "stdout",
          "text": [
            "2023-05-08 02:27:51,429 [INFO] 74\t\t4.0\n"
          ]
        },
        {
          "output_type": "stream",
          "name": "stderr",
          "text": [
            "INFO:NEURONIOUtils:74\t\t4.0\n"
          ]
        },
        {
          "output_type": "stream",
          "name": "stdout",
          "text": [
            "2023-05-08 02:27:51,431 [INFO] 75\t\t4.0\n"
          ]
        },
        {
          "output_type": "stream",
          "name": "stderr",
          "text": [
            "INFO:NEURONIOUtils:75\t\t4.0\n"
          ]
        },
        {
          "output_type": "stream",
          "name": "stdout",
          "text": [
            "2023-05-08 02:27:51,433 [INFO] 76\t\t4.0\n"
          ]
        },
        {
          "output_type": "stream",
          "name": "stderr",
          "text": [
            "INFO:NEURONIOUtils:76\t\t4.0\n"
          ]
        },
        {
          "output_type": "stream",
          "name": "stdout",
          "text": [
            "2023-05-08 02:27:51,435 [INFO] 77\t\t4.0\n"
          ]
        },
        {
          "output_type": "stream",
          "name": "stderr",
          "text": [
            "INFO:NEURONIOUtils:77\t\t4.0\n"
          ]
        },
        {
          "output_type": "stream",
          "name": "stdout",
          "text": [
            "2023-05-08 02:27:51,437 [INFO] 78\t\t4.0\n"
          ]
        },
        {
          "output_type": "stream",
          "name": "stderr",
          "text": [
            "INFO:NEURONIOUtils:78\t\t4.0\n"
          ]
        },
        {
          "output_type": "stream",
          "name": "stdout",
          "text": [
            "2023-05-08 02:27:51,439 [INFO] 79\t\t4.0\n"
          ]
        },
        {
          "output_type": "stream",
          "name": "stderr",
          "text": [
            "INFO:NEURONIOUtils:79\t\t4.0\n"
          ]
        },
        {
          "output_type": "stream",
          "name": "stdout",
          "text": [
            "2023-05-08 02:27:51,441 [INFO] PGN firing rate avg: 4.0 Hz\n"
          ]
        },
        {
          "output_type": "stream",
          "name": "stderr",
          "text": [
            "INFO:NEURONIOUtils:PGN firing rate avg: 4.0 Hz\n"
          ]
        },
        {
          "output_type": "stream",
          "name": "stdout",
          "text": [
            "2023-05-08 02:27:51,443 [INFO] Grill PGN fr = 6.3 Hz\n"
          ]
        },
        {
          "output_type": "stream",
          "name": "stderr",
          "text": [
            "INFO:NEURONIOUtils:Grill PGN fr = 6.3 Hz\n"
          ]
        },
        {
          "output_type": "stream",
          "name": "stdout",
          "text": [
            "2023-05-08 02:27:51,445 [INFO] IMG node_gid\t  Hz\n"
          ]
        },
        {
          "output_type": "stream",
          "name": "stderr",
          "text": [
            "INFO:NEURONIOUtils:IMG node_gid\t  Hz\n"
          ]
        },
        {
          "output_type": "stream",
          "name": "stdout",
          "text": [
            "2023-05-08 02:27:51,447 [INFO] IMG firing rate avg: 4.0 Hz\n"
          ]
        },
        {
          "output_type": "stream",
          "name": "stderr",
          "text": [
            "INFO:NEURONIOUtils:IMG firing rate avg: 4.0 Hz\n"
          ]
        },
        {
          "output_type": "stream",
          "name": "stdout",
          "text": [
            "2023-05-08 02:27:51,455 [INFO] Volume = 1.3708 ml\n"
          ]
        },
        {
          "output_type": "stream",
          "name": "stderr",
          "text": [
            "INFO:NEURONIOUtils:Volume = 1.3708 ml\n"
          ]
        },
        {
          "output_type": "stream",
          "name": "stdout",
          "text": [
            "2023-05-08 02:27:51,460 [INFO] Pressure = 9.38 mmHg\n"
          ]
        },
        {
          "output_type": "stream",
          "name": "stderr",
          "text": [
            "INFO:NEURONIOUtils:Pressure = 9.38 mmHg\n"
          ]
        },
        {
          "output_type": "stream",
          "name": "stdout",
          "text": [
            "2023-05-08 02:27:51,462 [INFO] Calculated bladder afferent firing rate for the next time step = 2.34 Hz \n",
            " \n",
            "\n"
          ]
        },
        {
          "output_type": "stream",
          "name": "stderr",
          "text": [
            "INFO:NEURONIOUtils:Calculated bladder afferent firing rate for the next time step = 2.34 Hz \n",
            " \n",
            "\n"
          ]
        },
        {
          "output_type": "stream",
          "name": "stdout",
          "text": [
            "2023-05-08 02:27:53,658 [INFO]     step:245000 t_sim:49000.00 ms\n"
          ]
        },
        {
          "output_type": "stream",
          "name": "stderr",
          "text": [
            "INFO:NEURONIOUtils:    step:245000 t_sim:49000.00 ms\n"
          ]
        },
        {
          "output_type": "stream",
          "name": "stdout",
          "text": [
            "2023-05-08 02:27:53,676 [INFO] Timestep 48000.0 to 49000.0 ms\n"
          ]
        },
        {
          "output_type": "stream",
          "name": "stderr",
          "text": [
            "INFO:NEURONIOUtils:Timestep 48000.0 to 49000.0 ms\n"
          ]
        },
        {
          "output_type": "stream",
          "name": "stdout",
          "text": [
            "2023-05-08 02:27:53,681 [INFO] PGN node_id\t  Hz\n"
          ]
        },
        {
          "output_type": "stream",
          "name": "stderr",
          "text": [
            "INFO:NEURONIOUtils:PGN node_id\t  Hz\n"
          ]
        },
        {
          "output_type": "stream",
          "name": "stdout",
          "text": [
            "2023-05-08 02:27:53,687 [INFO] 70\t\t5.0\n"
          ]
        },
        {
          "output_type": "stream",
          "name": "stderr",
          "text": [
            "INFO:NEURONIOUtils:70\t\t5.0\n"
          ]
        },
        {
          "output_type": "stream",
          "name": "stdout",
          "text": [
            "2023-05-08 02:27:53,693 [INFO] 71\t\t5.0\n"
          ]
        },
        {
          "output_type": "stream",
          "name": "stderr",
          "text": [
            "INFO:NEURONIOUtils:71\t\t5.0\n"
          ]
        },
        {
          "output_type": "stream",
          "name": "stdout",
          "text": [
            "2023-05-08 02:27:53,698 [INFO] 72\t\t5.0\n"
          ]
        },
        {
          "output_type": "stream",
          "name": "stderr",
          "text": [
            "INFO:NEURONIOUtils:72\t\t5.0\n"
          ]
        },
        {
          "output_type": "stream",
          "name": "stdout",
          "text": [
            "2023-05-08 02:27:53,703 [INFO] 73\t\t5.0\n"
          ]
        },
        {
          "output_type": "stream",
          "name": "stderr",
          "text": [
            "INFO:NEURONIOUtils:73\t\t5.0\n"
          ]
        },
        {
          "output_type": "stream",
          "name": "stdout",
          "text": [
            "2023-05-08 02:27:53,706 [INFO] 74\t\t5.0\n"
          ]
        },
        {
          "output_type": "stream",
          "name": "stderr",
          "text": [
            "INFO:NEURONIOUtils:74\t\t5.0\n"
          ]
        },
        {
          "output_type": "stream",
          "name": "stdout",
          "text": [
            "2023-05-08 02:27:53,710 [INFO] 75\t\t5.0\n"
          ]
        },
        {
          "output_type": "stream",
          "name": "stderr",
          "text": [
            "INFO:NEURONIOUtils:75\t\t5.0\n"
          ]
        },
        {
          "output_type": "stream",
          "name": "stdout",
          "text": [
            "2023-05-08 02:27:53,715 [INFO] 76\t\t5.0\n"
          ]
        },
        {
          "output_type": "stream",
          "name": "stderr",
          "text": [
            "INFO:NEURONIOUtils:76\t\t5.0\n"
          ]
        },
        {
          "output_type": "stream",
          "name": "stdout",
          "text": [
            "2023-05-08 02:27:53,718 [INFO] 77\t\t5.0\n"
          ]
        },
        {
          "output_type": "stream",
          "name": "stderr",
          "text": [
            "INFO:NEURONIOUtils:77\t\t5.0\n"
          ]
        },
        {
          "output_type": "stream",
          "name": "stdout",
          "text": [
            "2023-05-08 02:27:53,723 [INFO] 78\t\t5.0\n"
          ]
        },
        {
          "output_type": "stream",
          "name": "stderr",
          "text": [
            "INFO:NEURONIOUtils:78\t\t5.0\n"
          ]
        },
        {
          "output_type": "stream",
          "name": "stdout",
          "text": [
            "2023-05-08 02:27:53,727 [INFO] 79\t\t5.0\n"
          ]
        },
        {
          "output_type": "stream",
          "name": "stderr",
          "text": [
            "INFO:NEURONIOUtils:79\t\t5.0\n"
          ]
        },
        {
          "output_type": "stream",
          "name": "stdout",
          "text": [
            "2023-05-08 02:27:53,730 [INFO] PGN firing rate avg: 5.0 Hz\n"
          ]
        },
        {
          "output_type": "stream",
          "name": "stderr",
          "text": [
            "INFO:NEURONIOUtils:PGN firing rate avg: 5.0 Hz\n"
          ]
        },
        {
          "output_type": "stream",
          "name": "stdout",
          "text": [
            "2023-05-08 02:27:53,735 [INFO] Grill PGN fr = 7.925000000000001 Hz\n"
          ]
        },
        {
          "output_type": "stream",
          "name": "stderr",
          "text": [
            "INFO:NEURONIOUtils:Grill PGN fr = 7.925000000000001 Hz\n"
          ]
        },
        {
          "output_type": "stream",
          "name": "stdout",
          "text": [
            "2023-05-08 02:27:53,737 [INFO] IMG node_gid\t  Hz\n"
          ]
        },
        {
          "output_type": "stream",
          "name": "stderr",
          "text": [
            "INFO:NEURONIOUtils:IMG node_gid\t  Hz\n"
          ]
        },
        {
          "output_type": "stream",
          "name": "stdout",
          "text": [
            "2023-05-08 02:27:53,747 [INFO] IMG firing rate avg: 5.0 Hz\n"
          ]
        },
        {
          "output_type": "stream",
          "name": "stderr",
          "text": [
            "INFO:NEURONIOUtils:IMG firing rate avg: 5.0 Hz\n"
          ]
        },
        {
          "output_type": "stream",
          "name": "stdout",
          "text": [
            "2023-05-08 02:27:53,766 [INFO] Volume = 1.4000 ml\n"
          ]
        },
        {
          "output_type": "stream",
          "name": "stderr",
          "text": [
            "INFO:NEURONIOUtils:Volume = 1.4000 ml\n"
          ]
        },
        {
          "output_type": "stream",
          "name": "stdout",
          "text": [
            "2023-05-08 02:27:53,770 [INFO] Pressure = 10.83 mmHg\n"
          ]
        },
        {
          "output_type": "stream",
          "name": "stderr",
          "text": [
            "INFO:NEURONIOUtils:Pressure = 10.83 mmHg\n"
          ]
        },
        {
          "output_type": "stream",
          "name": "stdout",
          "text": [
            "2023-05-08 02:27:53,773 [INFO] Calculated bladder afferent firing rate for the next time step = 3.95 Hz \n",
            " \n",
            "\n"
          ]
        },
        {
          "output_type": "stream",
          "name": "stderr",
          "text": [
            "INFO:NEURONIOUtils:Calculated bladder afferent firing rate for the next time step = 3.95 Hz \n",
            " \n",
            "\n"
          ]
        },
        {
          "output_type": "stream",
          "name": "stdout",
          "text": [
            "2023-05-08 02:27:55,808 [INFO]     step:250000 t_sim:50000.00 ms\n"
          ]
        },
        {
          "output_type": "stream",
          "name": "stderr",
          "text": [
            "INFO:NEURONIOUtils:    step:250000 t_sim:50000.00 ms\n"
          ]
        },
        {
          "output_type": "stream",
          "name": "stdout",
          "text": [
            "2023-05-08 02:27:55,820 [INFO] Timestep 49000.0 to 50000.0 ms\n"
          ]
        },
        {
          "output_type": "stream",
          "name": "stderr",
          "text": [
            "INFO:NEURONIOUtils:Timestep 49000.0 to 50000.0 ms\n"
          ]
        },
        {
          "output_type": "stream",
          "name": "stdout",
          "text": [
            "2023-05-08 02:27:55,824 [INFO] PGN node_id\t  Hz\n"
          ]
        },
        {
          "output_type": "stream",
          "name": "stderr",
          "text": [
            "INFO:NEURONIOUtils:PGN node_id\t  Hz\n"
          ]
        },
        {
          "output_type": "stream",
          "name": "stdout",
          "text": [
            "2023-05-08 02:27:55,828 [INFO] 70\t\t8.0\n"
          ]
        },
        {
          "output_type": "stream",
          "name": "stderr",
          "text": [
            "INFO:NEURONIOUtils:70\t\t8.0\n"
          ]
        },
        {
          "output_type": "stream",
          "name": "stdout",
          "text": [
            "2023-05-08 02:27:55,832 [INFO] 71\t\t8.0\n"
          ]
        },
        {
          "output_type": "stream",
          "name": "stderr",
          "text": [
            "INFO:NEURONIOUtils:71\t\t8.0\n"
          ]
        },
        {
          "output_type": "stream",
          "name": "stdout",
          "text": [
            "2023-05-08 02:27:55,834 [INFO] 72\t\t8.0\n"
          ]
        },
        {
          "output_type": "stream",
          "name": "stderr",
          "text": [
            "INFO:NEURONIOUtils:72\t\t8.0\n"
          ]
        },
        {
          "output_type": "stream",
          "name": "stdout",
          "text": [
            "2023-05-08 02:27:55,836 [INFO] 73\t\t8.0\n"
          ]
        },
        {
          "output_type": "stream",
          "name": "stderr",
          "text": [
            "INFO:NEURONIOUtils:73\t\t8.0\n"
          ]
        },
        {
          "output_type": "stream",
          "name": "stdout",
          "text": [
            "2023-05-08 02:27:55,838 [INFO] 74\t\t8.0\n"
          ]
        },
        {
          "output_type": "stream",
          "name": "stderr",
          "text": [
            "INFO:NEURONIOUtils:74\t\t8.0\n"
          ]
        },
        {
          "output_type": "stream",
          "name": "stdout",
          "text": [
            "2023-05-08 02:27:55,840 [INFO] 75\t\t8.0\n"
          ]
        },
        {
          "output_type": "stream",
          "name": "stderr",
          "text": [
            "INFO:NEURONIOUtils:75\t\t8.0\n"
          ]
        },
        {
          "output_type": "stream",
          "name": "stdout",
          "text": [
            "2023-05-08 02:27:55,842 [INFO] 76\t\t8.0\n"
          ]
        },
        {
          "output_type": "stream",
          "name": "stderr",
          "text": [
            "INFO:NEURONIOUtils:76\t\t8.0\n"
          ]
        },
        {
          "output_type": "stream",
          "name": "stdout",
          "text": [
            "2023-05-08 02:27:55,849 [INFO] 77\t\t8.0\n"
          ]
        },
        {
          "output_type": "stream",
          "name": "stderr",
          "text": [
            "INFO:NEURONIOUtils:77\t\t8.0\n"
          ]
        },
        {
          "output_type": "stream",
          "name": "stdout",
          "text": [
            "2023-05-08 02:27:55,851 [INFO] 78\t\t8.0\n"
          ]
        },
        {
          "output_type": "stream",
          "name": "stderr",
          "text": [
            "INFO:NEURONIOUtils:78\t\t8.0\n"
          ]
        },
        {
          "output_type": "stream",
          "name": "stdout",
          "text": [
            "2023-05-08 02:27:55,858 [INFO] 79\t\t8.0\n"
          ]
        },
        {
          "output_type": "stream",
          "name": "stderr",
          "text": [
            "INFO:NEURONIOUtils:79\t\t8.0\n"
          ]
        },
        {
          "output_type": "stream",
          "name": "stdout",
          "text": [
            "2023-05-08 02:27:55,860 [INFO] PGN firing rate avg: 8.0 Hz\n"
          ]
        },
        {
          "output_type": "stream",
          "name": "stderr",
          "text": [
            "INFO:NEURONIOUtils:PGN firing rate avg: 8.0 Hz\n"
          ]
        },
        {
          "output_type": "stream",
          "name": "stdout",
          "text": [
            "2023-05-08 02:27:55,862 [INFO] Grill PGN fr = 12.812000000000001 Hz\n"
          ]
        },
        {
          "output_type": "stream",
          "name": "stderr",
          "text": [
            "INFO:NEURONIOUtils:Grill PGN fr = 12.812000000000001 Hz\n"
          ]
        },
        {
          "output_type": "stream",
          "name": "stdout",
          "text": [
            "2023-05-08 02:27:55,867 [INFO] IMG node_gid\t  Hz\n"
          ]
        },
        {
          "output_type": "stream",
          "name": "stderr",
          "text": [
            "INFO:NEURONIOUtils:IMG node_gid\t  Hz\n"
          ]
        },
        {
          "output_type": "stream",
          "name": "stdout",
          "text": [
            "2023-05-08 02:27:55,870 [INFO] IMG firing rate avg: 8.0 Hz\n"
          ]
        },
        {
          "output_type": "stream",
          "name": "stderr",
          "text": [
            "INFO:NEURONIOUtils:IMG firing rate avg: 8.0 Hz\n"
          ]
        },
        {
          "output_type": "stream",
          "name": "stdout",
          "text": [
            "2023-05-08 02:27:55,880 [INFO] Volume = 1.4292 ml\n"
          ]
        },
        {
          "output_type": "stream",
          "name": "stderr",
          "text": [
            "INFO:NEURONIOUtils:Volume = 1.4292 ml\n"
          ]
        },
        {
          "output_type": "stream",
          "name": "stdout",
          "text": [
            "2023-05-08 02:27:55,887 [INFO] Pressure = 14.68 mmHg\n"
          ]
        },
        {
          "output_type": "stream",
          "name": "stderr",
          "text": [
            "INFO:NEURONIOUtils:Pressure = 14.68 mmHg\n"
          ]
        },
        {
          "output_type": "stream",
          "name": "stdout",
          "text": [
            "2023-05-08 02:27:55,889 [INFO] Calculated bladder afferent firing rate for the next time step = 9.06 Hz \n",
            " \n",
            "\n"
          ]
        },
        {
          "output_type": "stream",
          "name": "stderr",
          "text": [
            "INFO:NEURONIOUtils:Calculated bladder afferent firing rate for the next time step = 9.06 Hz \n",
            " \n",
            "\n"
          ]
        },
        {
          "output_type": "stream",
          "name": "stdout",
          "text": [
            "2023-05-08 02:27:57,784 [INFO]     step:255000 t_sim:51000.00 ms\n"
          ]
        },
        {
          "output_type": "stream",
          "name": "stderr",
          "text": [
            "INFO:NEURONIOUtils:    step:255000 t_sim:51000.00 ms\n"
          ]
        },
        {
          "output_type": "stream",
          "name": "stdout",
          "text": [
            "2023-05-08 02:27:57,801 [INFO] Timestep 50000.0 to 51000.0 ms\n"
          ]
        },
        {
          "output_type": "stream",
          "name": "stderr",
          "text": [
            "INFO:NEURONIOUtils:Timestep 50000.0 to 51000.0 ms\n"
          ]
        },
        {
          "output_type": "stream",
          "name": "stdout",
          "text": [
            "2023-05-08 02:27:57,805 [INFO] PGN node_id\t  Hz\n"
          ]
        },
        {
          "output_type": "stream",
          "name": "stderr",
          "text": [
            "INFO:NEURONIOUtils:PGN node_id\t  Hz\n"
          ]
        },
        {
          "output_type": "stream",
          "name": "stdout",
          "text": [
            "2023-05-08 02:27:57,807 [INFO] 70\t\t15.0\n"
          ]
        },
        {
          "output_type": "stream",
          "name": "stderr",
          "text": [
            "INFO:NEURONIOUtils:70\t\t15.0\n"
          ]
        },
        {
          "output_type": "stream",
          "name": "stdout",
          "text": [
            "2023-05-08 02:27:57,809 [INFO] 71\t\t15.0\n"
          ]
        },
        {
          "output_type": "stream",
          "name": "stderr",
          "text": [
            "INFO:NEURONIOUtils:71\t\t15.0\n"
          ]
        },
        {
          "output_type": "stream",
          "name": "stdout",
          "text": [
            "2023-05-08 02:27:57,812 [INFO] 72\t\t15.0\n"
          ]
        },
        {
          "output_type": "stream",
          "name": "stderr",
          "text": [
            "INFO:NEURONIOUtils:72\t\t15.0\n"
          ]
        },
        {
          "output_type": "stream",
          "name": "stdout",
          "text": [
            "2023-05-08 02:27:57,817 [INFO] 73\t\t15.0\n"
          ]
        },
        {
          "output_type": "stream",
          "name": "stderr",
          "text": [
            "INFO:NEURONIOUtils:73\t\t15.0\n"
          ]
        },
        {
          "output_type": "stream",
          "name": "stdout",
          "text": [
            "2023-05-08 02:27:57,820 [INFO] 74\t\t15.0\n"
          ]
        },
        {
          "output_type": "stream",
          "name": "stderr",
          "text": [
            "INFO:NEURONIOUtils:74\t\t15.0\n"
          ]
        },
        {
          "output_type": "stream",
          "name": "stdout",
          "text": [
            "2023-05-08 02:27:57,824 [INFO] 75\t\t15.0\n"
          ]
        },
        {
          "output_type": "stream",
          "name": "stderr",
          "text": [
            "INFO:NEURONIOUtils:75\t\t15.0\n"
          ]
        },
        {
          "output_type": "stream",
          "name": "stdout",
          "text": [
            "2023-05-08 02:27:57,826 [INFO] 76\t\t15.0\n"
          ]
        },
        {
          "output_type": "stream",
          "name": "stderr",
          "text": [
            "INFO:NEURONIOUtils:76\t\t15.0\n"
          ]
        },
        {
          "output_type": "stream",
          "name": "stdout",
          "text": [
            "2023-05-08 02:27:57,828 [INFO] 77\t\t15.0\n"
          ]
        },
        {
          "output_type": "stream",
          "name": "stderr",
          "text": [
            "INFO:NEURONIOUtils:77\t\t15.0\n"
          ]
        },
        {
          "output_type": "stream",
          "name": "stdout",
          "text": [
            "2023-05-08 02:27:57,833 [INFO] 78\t\t15.0\n"
          ]
        },
        {
          "output_type": "stream",
          "name": "stderr",
          "text": [
            "INFO:NEURONIOUtils:78\t\t15.0\n"
          ]
        },
        {
          "output_type": "stream",
          "name": "stdout",
          "text": [
            "2023-05-08 02:27:57,836 [INFO] 79\t\t15.0\n"
          ]
        },
        {
          "output_type": "stream",
          "name": "stderr",
          "text": [
            "INFO:NEURONIOUtils:79\t\t15.0\n"
          ]
        },
        {
          "output_type": "stream",
          "name": "stdout",
          "text": [
            "2023-05-08 02:27:57,838 [INFO] PGN firing rate avg: 15.0 Hz\n"
          ]
        },
        {
          "output_type": "stream",
          "name": "stderr",
          "text": [
            "INFO:NEURONIOUtils:PGN firing rate avg: 15.0 Hz\n"
          ]
        },
        {
          "output_type": "stream",
          "name": "stdout",
          "text": [
            "2023-05-08 02:27:57,840 [INFO] Grill PGN fr = 25.825 Hz\n"
          ]
        },
        {
          "output_type": "stream",
          "name": "stderr",
          "text": [
            "INFO:NEURONIOUtils:Grill PGN fr = 25.825 Hz\n"
          ]
        },
        {
          "output_type": "stream",
          "name": "stdout",
          "text": [
            "2023-05-08 02:27:57,842 [INFO] IMG node_gid\t  Hz\n"
          ]
        },
        {
          "output_type": "stream",
          "name": "stderr",
          "text": [
            "INFO:NEURONIOUtils:IMG node_gid\t  Hz\n"
          ]
        },
        {
          "output_type": "stream",
          "name": "stdout",
          "text": [
            "2023-05-08 02:27:57,844 [INFO] IMG firing rate avg: 15.0 Hz\n"
          ]
        },
        {
          "output_type": "stream",
          "name": "stderr",
          "text": [
            "INFO:NEURONIOUtils:IMG firing rate avg: 15.0 Hz\n"
          ]
        },
        {
          "output_type": "stream",
          "name": "stdout",
          "text": [
            "2023-05-08 02:27:57,859 [INFO] Volume = 1.4583 ml\n"
          ]
        },
        {
          "output_type": "stream",
          "name": "stderr",
          "text": [
            "INFO:NEURONIOUtils:Volume = 1.4583 ml\n"
          ]
        },
        {
          "output_type": "stream",
          "name": "stdout",
          "text": [
            "2023-05-08 02:27:57,868 [INFO] Pressure = 24.51 mmHg\n"
          ]
        },
        {
          "output_type": "stream",
          "name": "stderr",
          "text": [
            "INFO:NEURONIOUtils:Pressure = 24.51 mmHg\n"
          ]
        },
        {
          "output_type": "stream",
          "name": "stdout",
          "text": [
            "2023-05-08 02:27:57,871 [INFO] Calculated bladder afferent firing rate for the next time step = 23.33 Hz \n",
            " \n",
            "\n"
          ]
        },
        {
          "output_type": "stream",
          "name": "stderr",
          "text": [
            "INFO:NEURONIOUtils:Calculated bladder afferent firing rate for the next time step = 23.33 Hz \n",
            " \n",
            "\n"
          ]
        },
        {
          "output_type": "stream",
          "name": "stdout",
          "text": [
            "2023-05-08 02:28:00,322 [INFO]     step:260000 t_sim:52000.00 ms\n"
          ]
        },
        {
          "output_type": "stream",
          "name": "stderr",
          "text": [
            "INFO:NEURONIOUtils:    step:260000 t_sim:52000.00 ms\n"
          ]
        },
        {
          "output_type": "stream",
          "name": "stdout",
          "text": [
            "2023-05-08 02:28:00,338 [INFO] Timestep 51000.0 to 52000.0 ms\n"
          ]
        },
        {
          "output_type": "stream",
          "name": "stderr",
          "text": [
            "INFO:NEURONIOUtils:Timestep 51000.0 to 52000.0 ms\n"
          ]
        },
        {
          "output_type": "stream",
          "name": "stdout",
          "text": [
            "2023-05-08 02:28:00,343 [INFO] PGN node_id\t  Hz\n"
          ]
        },
        {
          "output_type": "stream",
          "name": "stderr",
          "text": [
            "INFO:NEURONIOUtils:PGN node_id\t  Hz\n"
          ]
        },
        {
          "output_type": "stream",
          "name": "stdout",
          "text": [
            "2023-05-08 02:28:00,347 [INFO] 70\t\t21.0\n"
          ]
        },
        {
          "output_type": "stream",
          "name": "stderr",
          "text": [
            "INFO:NEURONIOUtils:70\t\t21.0\n"
          ]
        },
        {
          "output_type": "stream",
          "name": "stdout",
          "text": [
            "2023-05-08 02:28:00,349 [INFO] 71\t\t21.0\n"
          ]
        },
        {
          "output_type": "stream",
          "name": "stderr",
          "text": [
            "INFO:NEURONIOUtils:71\t\t21.0\n"
          ]
        },
        {
          "output_type": "stream",
          "name": "stdout",
          "text": [
            "2023-05-08 02:28:00,351 [INFO] 72\t\t21.0\n"
          ]
        },
        {
          "output_type": "stream",
          "name": "stderr",
          "text": [
            "INFO:NEURONIOUtils:72\t\t21.0\n"
          ]
        },
        {
          "output_type": "stream",
          "name": "stdout",
          "text": [
            "2023-05-08 02:28:00,353 [INFO] 73\t\t21.0\n"
          ]
        },
        {
          "output_type": "stream",
          "name": "stderr",
          "text": [
            "INFO:NEURONIOUtils:73\t\t21.0\n"
          ]
        },
        {
          "output_type": "stream",
          "name": "stdout",
          "text": [
            "2023-05-08 02:28:00,355 [INFO] 74\t\t21.0\n"
          ]
        },
        {
          "output_type": "stream",
          "name": "stderr",
          "text": [
            "INFO:NEURONIOUtils:74\t\t21.0\n"
          ]
        },
        {
          "output_type": "stream",
          "name": "stdout",
          "text": [
            "2023-05-08 02:28:00,357 [INFO] 75\t\t21.0\n"
          ]
        },
        {
          "output_type": "stream",
          "name": "stderr",
          "text": [
            "INFO:NEURONIOUtils:75\t\t21.0\n"
          ]
        },
        {
          "output_type": "stream",
          "name": "stdout",
          "text": [
            "2023-05-08 02:28:00,359 [INFO] 76\t\t21.0\n"
          ]
        },
        {
          "output_type": "stream",
          "name": "stderr",
          "text": [
            "INFO:NEURONIOUtils:76\t\t21.0\n"
          ]
        },
        {
          "output_type": "stream",
          "name": "stdout",
          "text": [
            "2023-05-08 02:28:00,361 [INFO] 77\t\t21.0\n"
          ]
        },
        {
          "output_type": "stream",
          "name": "stderr",
          "text": [
            "INFO:NEURONIOUtils:77\t\t21.0\n"
          ]
        },
        {
          "output_type": "stream",
          "name": "stdout",
          "text": [
            "2023-05-08 02:28:00,363 [INFO] 78\t\t21.0\n"
          ]
        },
        {
          "output_type": "stream",
          "name": "stderr",
          "text": [
            "INFO:NEURONIOUtils:78\t\t21.0\n"
          ]
        },
        {
          "output_type": "stream",
          "name": "stdout",
          "text": [
            "2023-05-08 02:28:00,365 [INFO] 79\t\t21.0\n"
          ]
        },
        {
          "output_type": "stream",
          "name": "stderr",
          "text": [
            "INFO:NEURONIOUtils:79\t\t21.0\n"
          ]
        },
        {
          "output_type": "stream",
          "name": "stdout",
          "text": [
            "2023-05-08 02:28:00,367 [INFO] PGN firing rate avg: 21.0 Hz\n"
          ]
        },
        {
          "output_type": "stream",
          "name": "stderr",
          "text": [
            "INFO:NEURONIOUtils:PGN firing rate avg: 21.0 Hz\n"
          ]
        },
        {
          "output_type": "stream",
          "name": "stdout",
          "text": [
            "2023-05-08 02:28:00,369 [INFO] Grill PGN fr = 41.269000000000005 Hz\n"
          ]
        },
        {
          "output_type": "stream",
          "name": "stderr",
          "text": [
            "INFO:NEURONIOUtils:Grill PGN fr = 41.269000000000005 Hz\n"
          ]
        },
        {
          "output_type": "stream",
          "name": "stdout",
          "text": [
            "2023-05-08 02:28:00,371 [INFO] IMG node_gid\t  Hz\n"
          ]
        },
        {
          "output_type": "stream",
          "name": "stderr",
          "text": [
            "INFO:NEURONIOUtils:IMG node_gid\t  Hz\n"
          ]
        },
        {
          "output_type": "stream",
          "name": "stdout",
          "text": [
            "2023-05-08 02:28:00,373 [INFO] IMG firing rate avg: 21.0 Hz\n"
          ]
        },
        {
          "output_type": "stream",
          "name": "stderr",
          "text": [
            "INFO:NEURONIOUtils:IMG firing rate avg: 21.0 Hz\n"
          ]
        },
        {
          "output_type": "stream",
          "name": "stdout",
          "text": [
            "2023-05-08 02:28:00,399 [INFO] Volume = 1.4875 ml\n"
          ]
        },
        {
          "output_type": "stream",
          "name": "stderr",
          "text": [
            "INFO:NEURONIOUtils:Volume = 1.4875 ml\n"
          ]
        },
        {
          "output_type": "stream",
          "name": "stdout",
          "text": [
            "2023-05-08 02:28:00,402 [INFO] Pressure = 36.13 mmHg\n"
          ]
        },
        {
          "output_type": "stream",
          "name": "stderr",
          "text": [
            "INFO:NEURONIOUtils:Pressure = 36.13 mmHg\n"
          ]
        },
        {
          "output_type": "stream",
          "name": "stdout",
          "text": [
            "2023-05-08 02:28:00,404 [INFO] Calculated bladder afferent firing rate for the next time step = 33.00 Hz \n",
            " \n",
            "\n"
          ]
        },
        {
          "output_type": "stream",
          "name": "stderr",
          "text": [
            "INFO:NEURONIOUtils:Calculated bladder afferent firing rate for the next time step = 33.00 Hz \n",
            " \n",
            "\n"
          ]
        },
        {
          "output_type": "stream",
          "name": "stdout",
          "text": [
            "2023-05-08 02:28:02,876 [INFO]     step:265000 t_sim:53000.00 ms\n"
          ]
        },
        {
          "output_type": "stream",
          "name": "stderr",
          "text": [
            "INFO:NEURONIOUtils:    step:265000 t_sim:53000.00 ms\n"
          ]
        },
        {
          "output_type": "stream",
          "name": "stdout",
          "text": [
            "2023-05-08 02:28:02,898 [INFO] Timestep 52000.0 to 53000.0 ms\n"
          ]
        },
        {
          "output_type": "stream",
          "name": "stderr",
          "text": [
            "INFO:NEURONIOUtils:Timestep 52000.0 to 53000.0 ms\n"
          ]
        },
        {
          "output_type": "stream",
          "name": "stdout",
          "text": [
            "2023-05-08 02:28:02,906 [INFO] PGN node_id\t  Hz\n"
          ]
        },
        {
          "output_type": "stream",
          "name": "stderr",
          "text": [
            "INFO:NEURONIOUtils:PGN node_id\t  Hz\n"
          ]
        },
        {
          "output_type": "stream",
          "name": "stdout",
          "text": [
            "2023-05-08 02:28:02,912 [INFO] 70\t\t22.0\n"
          ]
        },
        {
          "output_type": "stream",
          "name": "stderr",
          "text": [
            "INFO:NEURONIOUtils:70\t\t22.0\n"
          ]
        },
        {
          "output_type": "stream",
          "name": "stdout",
          "text": [
            "2023-05-08 02:28:02,914 [INFO] 71\t\t22.0\n"
          ]
        },
        {
          "output_type": "stream",
          "name": "stderr",
          "text": [
            "INFO:NEURONIOUtils:71\t\t22.0\n"
          ]
        },
        {
          "output_type": "stream",
          "name": "stdout",
          "text": [
            "2023-05-08 02:28:02,920 [INFO] 72\t\t22.0\n"
          ]
        },
        {
          "output_type": "stream",
          "name": "stderr",
          "text": [
            "INFO:NEURONIOUtils:72\t\t22.0\n"
          ]
        },
        {
          "output_type": "stream",
          "name": "stdout",
          "text": [
            "2023-05-08 02:28:02,922 [INFO] 73\t\t22.0\n"
          ]
        },
        {
          "output_type": "stream",
          "name": "stderr",
          "text": [
            "INFO:NEURONIOUtils:73\t\t22.0\n"
          ]
        },
        {
          "output_type": "stream",
          "name": "stdout",
          "text": [
            "2023-05-08 02:28:02,924 [INFO] 74\t\t22.0\n"
          ]
        },
        {
          "output_type": "stream",
          "name": "stderr",
          "text": [
            "INFO:NEURONIOUtils:74\t\t22.0\n"
          ]
        },
        {
          "output_type": "stream",
          "name": "stdout",
          "text": [
            "2023-05-08 02:28:02,926 [INFO] 75\t\t22.0\n"
          ]
        },
        {
          "output_type": "stream",
          "name": "stderr",
          "text": [
            "INFO:NEURONIOUtils:75\t\t22.0\n"
          ]
        },
        {
          "output_type": "stream",
          "name": "stdout",
          "text": [
            "2023-05-08 02:28:02,932 [INFO] 76\t\t22.0\n"
          ]
        },
        {
          "output_type": "stream",
          "name": "stderr",
          "text": [
            "INFO:NEURONIOUtils:76\t\t22.0\n"
          ]
        },
        {
          "output_type": "stream",
          "name": "stdout",
          "text": [
            "2023-05-08 02:28:02,934 [INFO] 77\t\t22.0\n"
          ]
        },
        {
          "output_type": "stream",
          "name": "stderr",
          "text": [
            "INFO:NEURONIOUtils:77\t\t22.0\n"
          ]
        },
        {
          "output_type": "stream",
          "name": "stdout",
          "text": [
            "2023-05-08 02:28:02,936 [INFO] 78\t\t22.0\n"
          ]
        },
        {
          "output_type": "stream",
          "name": "stderr",
          "text": [
            "INFO:NEURONIOUtils:78\t\t22.0\n"
          ]
        },
        {
          "output_type": "stream",
          "name": "stdout",
          "text": [
            "2023-05-08 02:28:02,938 [INFO] 79\t\t22.0\n"
          ]
        },
        {
          "output_type": "stream",
          "name": "stderr",
          "text": [
            "INFO:NEURONIOUtils:79\t\t22.0\n"
          ]
        },
        {
          "output_type": "stream",
          "name": "stdout",
          "text": [
            "2023-05-08 02:28:02,940 [INFO] PGN firing rate avg: 22.0 Hz\n"
          ]
        },
        {
          "output_type": "stream",
          "name": "stderr",
          "text": [
            "INFO:NEURONIOUtils:PGN firing rate avg: 22.0 Hz\n"
          ]
        },
        {
          "output_type": "stream",
          "name": "stdout",
          "text": [
            "2023-05-08 02:28:02,942 [INFO] Grill PGN fr = 44.424 Hz\n"
          ]
        },
        {
          "output_type": "stream",
          "name": "stderr",
          "text": [
            "INFO:NEURONIOUtils:Grill PGN fr = 44.424 Hz\n"
          ]
        },
        {
          "output_type": "stream",
          "name": "stdout",
          "text": [
            "2023-05-08 02:28:02,944 [INFO] IMG node_gid\t  Hz\n"
          ]
        },
        {
          "output_type": "stream",
          "name": "stderr",
          "text": [
            "INFO:NEURONIOUtils:IMG node_gid\t  Hz\n"
          ]
        },
        {
          "output_type": "stream",
          "name": "stdout",
          "text": [
            "2023-05-08 02:28:02,946 [INFO] IMG firing rate avg: 22.0 Hz\n"
          ]
        },
        {
          "output_type": "stream",
          "name": "stderr",
          "text": [
            "INFO:NEURONIOUtils:IMG firing rate avg: 22.0 Hz\n"
          ]
        },
        {
          "output_type": "stream",
          "name": "stdout",
          "text": [
            "2023-05-08 02:28:02,970 [INFO] !!!PAG FIRING ACTIVATED!!!\n"
          ]
        },
        {
          "output_type": "stream",
          "name": "stderr",
          "text": [
            "INFO:NEURONIOUtils:!!!PAG FIRING ACTIVATED!!!\n"
          ]
        },
        {
          "output_type": "stream",
          "name": "stdout",
          "text": [
            "2023-05-08 02:28:02,980 [INFO] Volume = 1.5167 ml\n"
          ]
        },
        {
          "output_type": "stream",
          "name": "stderr",
          "text": [
            "INFO:NEURONIOUtils:Volume = 1.5167 ml\n"
          ]
        },
        {
          "output_type": "stream",
          "name": "stdout",
          "text": [
            "2023-05-08 02:28:02,989 [INFO] Pressure = 38.71 mmHg\n"
          ]
        },
        {
          "output_type": "stream",
          "name": "stderr",
          "text": [
            "INFO:NEURONIOUtils:Pressure = 38.71 mmHg\n"
          ]
        },
        {
          "output_type": "stream",
          "name": "stdout",
          "text": [
            "2023-05-08 02:28:02,991 [INFO] Calculated bladder afferent firing rate for the next time step = 33.19 Hz \n",
            " \n",
            "\n"
          ]
        },
        {
          "output_type": "stream",
          "name": "stderr",
          "text": [
            "INFO:NEURONIOUtils:Calculated bladder afferent firing rate for the next time step = 33.19 Hz \n",
            " \n",
            "\n"
          ]
        },
        {
          "output_type": "stream",
          "name": "stdout",
          "text": [
            "2023-05-08 02:28:05,086 [INFO]     step:270000 t_sim:54000.00 ms\n"
          ]
        },
        {
          "output_type": "stream",
          "name": "stderr",
          "text": [
            "INFO:NEURONIOUtils:    step:270000 t_sim:54000.00 ms\n"
          ]
        },
        {
          "output_type": "stream",
          "name": "stdout",
          "text": [
            "2023-05-08 02:28:05,105 [INFO] Timestep 53000.0 to 54000.0 ms\n"
          ]
        },
        {
          "output_type": "stream",
          "name": "stderr",
          "text": [
            "INFO:NEURONIOUtils:Timestep 53000.0 to 54000.0 ms\n"
          ]
        },
        {
          "output_type": "stream",
          "name": "stdout",
          "text": [
            "2023-05-08 02:28:05,109 [INFO] PGN node_id\t  Hz\n"
          ]
        },
        {
          "output_type": "stream",
          "name": "stderr",
          "text": [
            "INFO:NEURONIOUtils:PGN node_id\t  Hz\n"
          ]
        },
        {
          "output_type": "stream",
          "name": "stdout",
          "text": [
            "2023-05-08 02:28:05,114 [INFO] 70\t\t31.0\n"
          ]
        },
        {
          "output_type": "stream",
          "name": "stderr",
          "text": [
            "INFO:NEURONIOUtils:70\t\t31.0\n"
          ]
        },
        {
          "output_type": "stream",
          "name": "stdout",
          "text": [
            "2023-05-08 02:28:05,116 [INFO] 71\t\t31.0\n"
          ]
        },
        {
          "output_type": "stream",
          "name": "stderr",
          "text": [
            "INFO:NEURONIOUtils:71\t\t31.0\n"
          ]
        },
        {
          "output_type": "stream",
          "name": "stdout",
          "text": [
            "2023-05-08 02:28:05,118 [INFO] 72\t\t31.0\n"
          ]
        },
        {
          "output_type": "stream",
          "name": "stderr",
          "text": [
            "INFO:NEURONIOUtils:72\t\t31.0\n"
          ]
        },
        {
          "output_type": "stream",
          "name": "stdout",
          "text": [
            "2023-05-08 02:28:05,121 [INFO] 73\t\t31.0\n"
          ]
        },
        {
          "output_type": "stream",
          "name": "stderr",
          "text": [
            "INFO:NEURONIOUtils:73\t\t31.0\n"
          ]
        },
        {
          "output_type": "stream",
          "name": "stdout",
          "text": [
            "2023-05-08 02:28:05,123 [INFO] 74\t\t31.0\n"
          ]
        },
        {
          "output_type": "stream",
          "name": "stderr",
          "text": [
            "INFO:NEURONIOUtils:74\t\t31.0\n"
          ]
        },
        {
          "output_type": "stream",
          "name": "stdout",
          "text": [
            "2023-05-08 02:28:05,125 [INFO] 75\t\t31.0\n"
          ]
        },
        {
          "output_type": "stream",
          "name": "stderr",
          "text": [
            "INFO:NEURONIOUtils:75\t\t31.0\n"
          ]
        },
        {
          "output_type": "stream",
          "name": "stdout",
          "text": [
            "2023-05-08 02:28:05,127 [INFO] 76\t\t31.0\n"
          ]
        },
        {
          "output_type": "stream",
          "name": "stderr",
          "text": [
            "INFO:NEURONIOUtils:76\t\t31.0\n"
          ]
        },
        {
          "output_type": "stream",
          "name": "stdout",
          "text": [
            "2023-05-08 02:28:05,129 [INFO] 77\t\t31.0\n"
          ]
        },
        {
          "output_type": "stream",
          "name": "stderr",
          "text": [
            "INFO:NEURONIOUtils:77\t\t31.0\n"
          ]
        },
        {
          "output_type": "stream",
          "name": "stdout",
          "text": [
            "2023-05-08 02:28:05,131 [INFO] 78\t\t31.0\n"
          ]
        },
        {
          "output_type": "stream",
          "name": "stderr",
          "text": [
            "INFO:NEURONIOUtils:78\t\t31.0\n"
          ]
        },
        {
          "output_type": "stream",
          "name": "stdout",
          "text": [
            "2023-05-08 02:28:05,133 [INFO] 79\t\t31.0\n"
          ]
        },
        {
          "output_type": "stream",
          "name": "stderr",
          "text": [
            "INFO:NEURONIOUtils:79\t\t31.0\n"
          ]
        },
        {
          "output_type": "stream",
          "name": "stdout",
          "text": [
            "2023-05-08 02:28:05,135 [INFO] PGN firing rate avg: 31.0 Hz\n"
          ]
        },
        {
          "output_type": "stream",
          "name": "stderr",
          "text": [
            "INFO:NEURONIOUtils:PGN firing rate avg: 31.0 Hz\n"
          ]
        },
        {
          "output_type": "stream",
          "name": "stdout",
          "text": [
            "2023-05-08 02:28:05,137 [INFO] Grill PGN fr = 83.16900000000001 Hz\n"
          ]
        },
        {
          "output_type": "stream",
          "name": "stderr",
          "text": [
            "INFO:NEURONIOUtils:Grill PGN fr = 83.16900000000001 Hz\n"
          ]
        },
        {
          "output_type": "stream",
          "name": "stdout",
          "text": [
            "2023-05-08 02:28:05,139 [INFO] IMG node_gid\t  Hz\n"
          ]
        },
        {
          "output_type": "stream",
          "name": "stderr",
          "text": [
            "INFO:NEURONIOUtils:IMG node_gid\t  Hz\n"
          ]
        },
        {
          "output_type": "stream",
          "name": "stdout",
          "text": [
            "2023-05-08 02:28:05,141 [INFO] IMG firing rate avg: 31.0 Hz\n"
          ]
        },
        {
          "output_type": "stream",
          "name": "stderr",
          "text": [
            "INFO:NEURONIOUtils:IMG firing rate avg: 31.0 Hz\n"
          ]
        },
        {
          "output_type": "stream",
          "name": "stdout",
          "text": [
            "2023-05-08 02:28:05,149 [INFO] Volume = 0.7500 ml\n"
          ]
        },
        {
          "output_type": "stream",
          "name": "stderr",
          "text": [
            "/usr/local/lib/python3.10/dist-packages/bmtk/utils/reports/spike_trains/spike_trains.py:183: RuntimeWarning: divide by zero encountered in double_scalars\n",
            "  interval = -np.log(1.0 - np.random.uniform()) / fr\n",
            "INFO:NEURONIOUtils:Volume = 0.7500 ml\n"
          ]
        },
        {
          "output_type": "stream",
          "name": "stdout",
          "text": [
            "2023-05-08 02:28:05,151 [INFO] Pressure = 61.18 mmHg\n"
          ]
        },
        {
          "output_type": "stream",
          "name": "stderr",
          "text": [
            "INFO:NEURONIOUtils:Pressure = 61.18 mmHg\n"
          ]
        },
        {
          "output_type": "stream",
          "name": "stdout",
          "text": [
            "2023-05-08 02:28:05,153 [INFO] Calculated bladder afferent firing rate for the next time step = 0.00 Hz \n",
            " \n",
            "\n"
          ]
        },
        {
          "output_type": "stream",
          "name": "stderr",
          "text": [
            "INFO:NEURONIOUtils:Calculated bladder afferent firing rate for the next time step = 0.00 Hz \n",
            " \n",
            "\n"
          ]
        },
        {
          "output_type": "stream",
          "name": "stdout",
          "text": [
            "2023-05-08 02:28:07,307 [INFO]     step:275000 t_sim:55000.00 ms\n"
          ]
        },
        {
          "output_type": "stream",
          "name": "stderr",
          "text": [
            "INFO:NEURONIOUtils:    step:275000 t_sim:55000.00 ms\n"
          ]
        },
        {
          "output_type": "stream",
          "name": "stdout",
          "text": [
            "2023-05-08 02:28:07,326 [INFO] Timestep 54000.0 to 55000.0 ms\n"
          ]
        },
        {
          "output_type": "stream",
          "name": "stderr",
          "text": [
            "INFO:NEURONIOUtils:Timestep 54000.0 to 55000.0 ms\n"
          ]
        },
        {
          "output_type": "stream",
          "name": "stdout",
          "text": [
            "2023-05-08 02:28:07,331 [INFO] PGN node_id\t  Hz\n"
          ]
        },
        {
          "output_type": "stream",
          "name": "stderr",
          "text": [
            "INFO:NEURONIOUtils:PGN node_id\t  Hz\n"
          ]
        },
        {
          "output_type": "stream",
          "name": "stdout",
          "text": [
            "2023-05-08 02:28:07,335 [INFO] 70\t\t1.0\n"
          ]
        },
        {
          "output_type": "stream",
          "name": "stderr",
          "text": [
            "INFO:NEURONIOUtils:70\t\t1.0\n"
          ]
        },
        {
          "output_type": "stream",
          "name": "stdout",
          "text": [
            "2023-05-08 02:28:07,337 [INFO] 71\t\t1.0\n"
          ]
        },
        {
          "output_type": "stream",
          "name": "stderr",
          "text": [
            "INFO:NEURONIOUtils:71\t\t1.0\n"
          ]
        },
        {
          "output_type": "stream",
          "name": "stdout",
          "text": [
            "2023-05-08 02:28:07,339 [INFO] 72\t\t1.0\n"
          ]
        },
        {
          "output_type": "stream",
          "name": "stderr",
          "text": [
            "INFO:NEURONIOUtils:72\t\t1.0\n"
          ]
        },
        {
          "output_type": "stream",
          "name": "stdout",
          "text": [
            "2023-05-08 02:28:07,341 [INFO] 73\t\t1.0\n"
          ]
        },
        {
          "output_type": "stream",
          "name": "stderr",
          "text": [
            "INFO:NEURONIOUtils:73\t\t1.0\n"
          ]
        },
        {
          "output_type": "stream",
          "name": "stdout",
          "text": [
            "2023-05-08 02:28:07,343 [INFO] 74\t\t1.0\n"
          ]
        },
        {
          "output_type": "stream",
          "name": "stderr",
          "text": [
            "INFO:NEURONIOUtils:74\t\t1.0\n"
          ]
        },
        {
          "output_type": "stream",
          "name": "stdout",
          "text": [
            "2023-05-08 02:28:07,345 [INFO] 75\t\t1.0\n"
          ]
        },
        {
          "output_type": "stream",
          "name": "stderr",
          "text": [
            "INFO:NEURONIOUtils:75\t\t1.0\n"
          ]
        },
        {
          "output_type": "stream",
          "name": "stdout",
          "text": [
            "2023-05-08 02:28:07,347 [INFO] 76\t\t1.0\n"
          ]
        },
        {
          "output_type": "stream",
          "name": "stderr",
          "text": [
            "INFO:NEURONIOUtils:76\t\t1.0\n"
          ]
        },
        {
          "output_type": "stream",
          "name": "stdout",
          "text": [
            "2023-05-08 02:28:07,349 [INFO] 77\t\t1.0\n"
          ]
        },
        {
          "output_type": "stream",
          "name": "stderr",
          "text": [
            "INFO:NEURONIOUtils:77\t\t1.0\n"
          ]
        },
        {
          "output_type": "stream",
          "name": "stdout",
          "text": [
            "2023-05-08 02:28:07,351 [INFO] 78\t\t1.0\n"
          ]
        },
        {
          "output_type": "stream",
          "name": "stderr",
          "text": [
            "INFO:NEURONIOUtils:78\t\t1.0\n"
          ]
        },
        {
          "output_type": "stream",
          "name": "stdout",
          "text": [
            "2023-05-08 02:28:07,353 [INFO] 79\t\t1.0\n"
          ]
        },
        {
          "output_type": "stream",
          "name": "stderr",
          "text": [
            "INFO:NEURONIOUtils:79\t\t1.0\n"
          ]
        },
        {
          "output_type": "stream",
          "name": "stdout",
          "text": [
            "2023-05-08 02:28:07,355 [INFO] PGN firing rate avg: 1.0 Hz\n"
          ]
        },
        {
          "output_type": "stream",
          "name": "stderr",
          "text": [
            "INFO:NEURONIOUtils:PGN firing rate avg: 1.0 Hz\n"
          ]
        },
        {
          "output_type": "stream",
          "name": "stdout",
          "text": [
            "2023-05-08 02:28:07,357 [INFO] Grill PGN fr = 1.2690000000000001 Hz\n"
          ]
        },
        {
          "output_type": "stream",
          "name": "stderr",
          "text": [
            "INFO:NEURONIOUtils:Grill PGN fr = 1.2690000000000001 Hz\n"
          ]
        },
        {
          "output_type": "stream",
          "name": "stdout",
          "text": [
            "2023-05-08 02:28:07,359 [INFO] IMG node_gid\t  Hz\n"
          ]
        },
        {
          "output_type": "stream",
          "name": "stderr",
          "text": [
            "INFO:NEURONIOUtils:IMG node_gid\t  Hz\n"
          ]
        },
        {
          "output_type": "stream",
          "name": "stdout",
          "text": [
            "2023-05-08 02:28:07,361 [INFO] IMG firing rate avg: 1.0 Hz\n"
          ]
        },
        {
          "output_type": "stream",
          "name": "stderr",
          "text": [
            "INFO:NEURONIOUtils:IMG firing rate avg: 1.0 Hz\n"
          ]
        },
        {
          "output_type": "stream",
          "name": "stdout",
          "text": [
            "2023-05-08 02:28:07,369 [INFO] Volume = 0.0000 ml\n"
          ]
        },
        {
          "output_type": "stream",
          "name": "stderr",
          "text": [
            "/usr/local/lib/python3.10/dist-packages/bmtk/utils/reports/spike_trains/spike_trains.py:183: RuntimeWarning: divide by zero encountered in double_scalars\n",
            "  interval = -np.log(1.0 - np.random.uniform()) / fr\n",
            "INFO:NEURONIOUtils:Volume = 0.0000 ml\n"
          ]
        },
        {
          "output_type": "stream",
          "name": "stdout",
          "text": [
            "2023-05-08 02:28:07,372 [INFO] Pressure = 0.93 mmHg\n"
          ]
        },
        {
          "output_type": "stream",
          "name": "stderr",
          "text": [
            "INFO:NEURONIOUtils:Pressure = 0.93 mmHg\n"
          ]
        },
        {
          "output_type": "stream",
          "name": "stdout",
          "text": [
            "2023-05-08 02:28:07,374 [INFO] Calculated bladder afferent firing rate for the next time step = 0.00 Hz \n",
            " \n",
            "\n"
          ]
        },
        {
          "output_type": "stream",
          "name": "stderr",
          "text": [
            "INFO:NEURONIOUtils:Calculated bladder afferent firing rate for the next time step = 0.00 Hz \n",
            " \n",
            "\n"
          ]
        },
        {
          "output_type": "stream",
          "name": "stdout",
          "text": [
            "2023-05-08 02:28:09,564 [INFO]     step:280000 t_sim:56000.00 ms\n"
          ]
        },
        {
          "output_type": "stream",
          "name": "stderr",
          "text": [
            "INFO:NEURONIOUtils:    step:280000 t_sim:56000.00 ms\n"
          ]
        },
        {
          "output_type": "stream",
          "name": "stdout",
          "text": [
            "2023-05-08 02:28:09,575 [INFO] Timestep 55000.0 to 56000.0 ms\n"
          ]
        },
        {
          "output_type": "stream",
          "name": "stderr",
          "text": [
            "INFO:NEURONIOUtils:Timestep 55000.0 to 56000.0 ms\n"
          ]
        },
        {
          "output_type": "stream",
          "name": "stdout",
          "text": [
            "2023-05-08 02:28:09,579 [INFO] PGN node_id\t  Hz\n"
          ]
        },
        {
          "output_type": "stream",
          "name": "stderr",
          "text": [
            "INFO:NEURONIOUtils:PGN node_id\t  Hz\n"
          ]
        },
        {
          "output_type": "stream",
          "name": "stdout",
          "text": [
            "2023-05-08 02:28:09,584 [INFO] 70\t\t1.0\n"
          ]
        },
        {
          "output_type": "stream",
          "name": "stderr",
          "text": [
            "INFO:NEURONIOUtils:70\t\t1.0\n"
          ]
        },
        {
          "output_type": "stream",
          "name": "stdout",
          "text": [
            "2023-05-08 02:28:09,588 [INFO] 71\t\t1.0\n"
          ]
        },
        {
          "output_type": "stream",
          "name": "stderr",
          "text": [
            "INFO:NEURONIOUtils:71\t\t1.0\n"
          ]
        },
        {
          "output_type": "stream",
          "name": "stdout",
          "text": [
            "2023-05-08 02:28:09,590 [INFO] 72\t\t1.0\n"
          ]
        },
        {
          "output_type": "stream",
          "name": "stderr",
          "text": [
            "INFO:NEURONIOUtils:72\t\t1.0\n"
          ]
        },
        {
          "output_type": "stream",
          "name": "stdout",
          "text": [
            "2023-05-08 02:28:09,591 [INFO] 73\t\t1.0\n"
          ]
        },
        {
          "output_type": "stream",
          "name": "stderr",
          "text": [
            "INFO:NEURONIOUtils:73\t\t1.0\n"
          ]
        },
        {
          "output_type": "stream",
          "name": "stdout",
          "text": [
            "2023-05-08 02:28:09,593 [INFO] 74\t\t1.0\n"
          ]
        },
        {
          "output_type": "stream",
          "name": "stderr",
          "text": [
            "INFO:NEURONIOUtils:74\t\t1.0\n"
          ]
        },
        {
          "output_type": "stream",
          "name": "stdout",
          "text": [
            "2023-05-08 02:28:09,595 [INFO] 75\t\t1.0\n"
          ]
        },
        {
          "output_type": "stream",
          "name": "stderr",
          "text": [
            "INFO:NEURONIOUtils:75\t\t1.0\n"
          ]
        },
        {
          "output_type": "stream",
          "name": "stdout",
          "text": [
            "2023-05-08 02:28:09,597 [INFO] 76\t\t1.0\n"
          ]
        },
        {
          "output_type": "stream",
          "name": "stderr",
          "text": [
            "INFO:NEURONIOUtils:76\t\t1.0\n"
          ]
        },
        {
          "output_type": "stream",
          "name": "stdout",
          "text": [
            "2023-05-08 02:28:09,599 [INFO] 77\t\t1.0\n"
          ]
        },
        {
          "output_type": "stream",
          "name": "stderr",
          "text": [
            "INFO:NEURONIOUtils:77\t\t1.0\n"
          ]
        },
        {
          "output_type": "stream",
          "name": "stdout",
          "text": [
            "2023-05-08 02:28:09,602 [INFO] 78\t\t1.0\n"
          ]
        },
        {
          "output_type": "stream",
          "name": "stderr",
          "text": [
            "INFO:NEURONIOUtils:78\t\t1.0\n"
          ]
        },
        {
          "output_type": "stream",
          "name": "stdout",
          "text": [
            "2023-05-08 02:28:09,604 [INFO] 79\t\t1.0\n"
          ]
        },
        {
          "output_type": "stream",
          "name": "stderr",
          "text": [
            "INFO:NEURONIOUtils:79\t\t1.0\n"
          ]
        },
        {
          "output_type": "stream",
          "name": "stdout",
          "text": [
            "2023-05-08 02:28:09,606 [INFO] PGN firing rate avg: 1.0 Hz\n"
          ]
        },
        {
          "output_type": "stream",
          "name": "stderr",
          "text": [
            "INFO:NEURONIOUtils:PGN firing rate avg: 1.0 Hz\n"
          ]
        },
        {
          "output_type": "stream",
          "name": "stdout",
          "text": [
            "2023-05-08 02:28:09,608 [INFO] Grill PGN fr = 1.2690000000000001 Hz\n"
          ]
        },
        {
          "output_type": "stream",
          "name": "stderr",
          "text": [
            "INFO:NEURONIOUtils:Grill PGN fr = 1.2690000000000001 Hz\n"
          ]
        },
        {
          "output_type": "stream",
          "name": "stdout",
          "text": [
            "2023-05-08 02:28:09,610 [INFO] IMG node_gid\t  Hz\n"
          ]
        },
        {
          "output_type": "stream",
          "name": "stderr",
          "text": [
            "INFO:NEURONIOUtils:IMG node_gid\t  Hz\n"
          ]
        },
        {
          "output_type": "stream",
          "name": "stdout",
          "text": [
            "2023-05-08 02:28:09,613 [INFO] IMG firing rate avg: 1.0 Hz\n"
          ]
        },
        {
          "output_type": "stream",
          "name": "stderr",
          "text": [
            "INFO:NEURONIOUtils:IMG firing rate avg: 1.0 Hz\n"
          ]
        },
        {
          "output_type": "stream",
          "name": "stdout",
          "text": [
            "2023-05-08 02:28:09,620 [INFO] Volume = 0.0292 ml\n"
          ]
        },
        {
          "output_type": "stream",
          "name": "stderr",
          "text": [
            "/usr/local/lib/python3.10/dist-packages/bmtk/utils/reports/spike_trains/spike_trains.py:183: RuntimeWarning: divide by zero encountered in double_scalars\n",
            "  interval = -np.log(1.0 - np.random.uniform()) / fr\n",
            "INFO:NEURONIOUtils:Volume = 0.0292 ml\n"
          ]
        },
        {
          "output_type": "stream",
          "name": "stdout",
          "text": [
            "2023-05-08 02:28:09,624 [INFO] Pressure = 0.00 mmHg\n"
          ]
        },
        {
          "output_type": "stream",
          "name": "stderr",
          "text": [
            "INFO:NEURONIOUtils:Pressure = 0.00 mmHg\n"
          ]
        },
        {
          "output_type": "stream",
          "name": "stdout",
          "text": [
            "2023-05-08 02:28:09,626 [INFO] Calculated bladder afferent firing rate for the next time step = 0.00 Hz \n",
            " \n",
            "\n"
          ]
        },
        {
          "output_type": "stream",
          "name": "stderr",
          "text": [
            "INFO:NEURONIOUtils:Calculated bladder afferent firing rate for the next time step = 0.00 Hz \n",
            " \n",
            "\n"
          ]
        },
        {
          "output_type": "stream",
          "name": "stdout",
          "text": [
            "2023-05-08 02:28:11,844 [INFO]     step:285000 t_sim:57000.00 ms\n"
          ]
        },
        {
          "output_type": "stream",
          "name": "stderr",
          "text": [
            "INFO:NEURONIOUtils:    step:285000 t_sim:57000.00 ms\n"
          ]
        },
        {
          "output_type": "stream",
          "name": "stdout",
          "text": [
            "2023-05-08 02:28:11,858 [INFO] Timestep 56000.0 to 57000.0 ms\n"
          ]
        },
        {
          "output_type": "stream",
          "name": "stderr",
          "text": [
            "INFO:NEURONIOUtils:Timestep 56000.0 to 57000.0 ms\n"
          ]
        },
        {
          "output_type": "stream",
          "name": "stdout",
          "text": [
            "2023-05-08 02:28:11,866 [INFO] PGN node_id\t  Hz\n"
          ]
        },
        {
          "output_type": "stream",
          "name": "stderr",
          "text": [
            "INFO:NEURONIOUtils:PGN node_id\t  Hz\n"
          ]
        },
        {
          "output_type": "stream",
          "name": "stdout",
          "text": [
            "2023-05-08 02:28:11,872 [INFO] 70\t\t3.0\n"
          ]
        },
        {
          "output_type": "stream",
          "name": "stderr",
          "text": [
            "INFO:NEURONIOUtils:70\t\t3.0\n"
          ]
        },
        {
          "output_type": "stream",
          "name": "stdout",
          "text": [
            "2023-05-08 02:28:11,879 [INFO] 71\t\t3.0\n"
          ]
        },
        {
          "output_type": "stream",
          "name": "stderr",
          "text": [
            "INFO:NEURONIOUtils:71\t\t3.0\n"
          ]
        },
        {
          "output_type": "stream",
          "name": "stdout",
          "text": [
            "2023-05-08 02:28:11,884 [INFO] 72\t\t3.0\n"
          ]
        },
        {
          "output_type": "stream",
          "name": "stderr",
          "text": [
            "INFO:NEURONIOUtils:72\t\t3.0\n"
          ]
        },
        {
          "output_type": "stream",
          "name": "stdout",
          "text": [
            "2023-05-08 02:28:11,888 [INFO] 73\t\t3.0\n"
          ]
        },
        {
          "output_type": "stream",
          "name": "stderr",
          "text": [
            "INFO:NEURONIOUtils:73\t\t3.0\n"
          ]
        },
        {
          "output_type": "stream",
          "name": "stdout",
          "text": [
            "2023-05-08 02:28:11,891 [INFO] 74\t\t3.0\n"
          ]
        },
        {
          "output_type": "stream",
          "name": "stderr",
          "text": [
            "INFO:NEURONIOUtils:74\t\t3.0\n"
          ]
        },
        {
          "output_type": "stream",
          "name": "stdout",
          "text": [
            "2023-05-08 02:28:11,895 [INFO] 75\t\t3.0\n"
          ]
        },
        {
          "output_type": "stream",
          "name": "stderr",
          "text": [
            "INFO:NEURONIOUtils:75\t\t3.0\n"
          ]
        },
        {
          "output_type": "stream",
          "name": "stdout",
          "text": [
            "2023-05-08 02:28:11,897 [INFO] 76\t\t3.0\n"
          ]
        },
        {
          "output_type": "stream",
          "name": "stderr",
          "text": [
            "INFO:NEURONIOUtils:76\t\t3.0\n"
          ]
        },
        {
          "output_type": "stream",
          "name": "stdout",
          "text": [
            "2023-05-08 02:28:11,899 [INFO] 77\t\t3.0\n"
          ]
        },
        {
          "output_type": "stream",
          "name": "stderr",
          "text": [
            "INFO:NEURONIOUtils:77\t\t3.0\n"
          ]
        },
        {
          "output_type": "stream",
          "name": "stdout",
          "text": [
            "2023-05-08 02:28:11,902 [INFO] 78\t\t3.0\n"
          ]
        },
        {
          "output_type": "stream",
          "name": "stderr",
          "text": [
            "INFO:NEURONIOUtils:78\t\t3.0\n"
          ]
        },
        {
          "output_type": "stream",
          "name": "stdout",
          "text": [
            "2023-05-08 02:28:11,904 [INFO] 79\t\t3.0\n"
          ]
        },
        {
          "output_type": "stream",
          "name": "stderr",
          "text": [
            "INFO:NEURONIOUtils:79\t\t3.0\n"
          ]
        },
        {
          "output_type": "stream",
          "name": "stdout",
          "text": [
            "2023-05-08 02:28:11,906 [INFO] PGN firing rate avg: 3.0 Hz\n"
          ]
        },
        {
          "output_type": "stream",
          "name": "stderr",
          "text": [
            "INFO:NEURONIOUtils:PGN firing rate avg: 3.0 Hz\n"
          ]
        },
        {
          "output_type": "stream",
          "name": "stdout",
          "text": [
            "2023-05-08 02:28:11,908 [INFO] Grill PGN fr = 4.657 Hz\n"
          ]
        },
        {
          "output_type": "stream",
          "name": "stderr",
          "text": [
            "INFO:NEURONIOUtils:Grill PGN fr = 4.657 Hz\n"
          ]
        },
        {
          "output_type": "stream",
          "name": "stdout",
          "text": [
            "2023-05-08 02:28:11,910 [INFO] IMG node_gid\t  Hz\n"
          ]
        },
        {
          "output_type": "stream",
          "name": "stderr",
          "text": [
            "INFO:NEURONIOUtils:IMG node_gid\t  Hz\n"
          ]
        },
        {
          "output_type": "stream",
          "name": "stdout",
          "text": [
            "2023-05-08 02:28:11,912 [INFO] IMG firing rate avg: 3.0 Hz\n"
          ]
        },
        {
          "output_type": "stream",
          "name": "stderr",
          "text": [
            "INFO:NEURONIOUtils:IMG firing rate avg: 3.0 Hz\n"
          ]
        },
        {
          "output_type": "stream",
          "name": "stdout",
          "text": [
            "2023-05-08 02:28:11,919 [INFO] Volume = 0.0583 ml\n"
          ]
        },
        {
          "output_type": "stream",
          "name": "stderr",
          "text": [
            "/usr/local/lib/python3.10/dist-packages/bmtk/utils/reports/spike_trains/spike_trains.py:183: RuntimeWarning: divide by zero encountered in double_scalars\n",
            "  interval = -np.log(1.0 - np.random.uniform()) / fr\n",
            "INFO:NEURONIOUtils:Volume = 0.0583 ml\n"
          ]
        },
        {
          "output_type": "stream",
          "name": "stdout",
          "text": [
            "2023-05-08 02:28:11,922 [INFO] Pressure = 3.43 mmHg\n"
          ]
        },
        {
          "output_type": "stream",
          "name": "stderr",
          "text": [
            "INFO:NEURONIOUtils:Pressure = 3.43 mmHg\n"
          ]
        },
        {
          "output_type": "stream",
          "name": "stdout",
          "text": [
            "2023-05-08 02:28:11,925 [INFO] Calculated bladder afferent firing rate for the next time step = 0.00 Hz \n",
            " \n",
            "\n"
          ]
        },
        {
          "output_type": "stream",
          "name": "stderr",
          "text": [
            "INFO:NEURONIOUtils:Calculated bladder afferent firing rate for the next time step = 0.00 Hz \n",
            " \n",
            "\n"
          ]
        },
        {
          "output_type": "stream",
          "name": "stdout",
          "text": [
            "2023-05-08 02:28:14,567 [INFO]     step:290000 t_sim:58000.00 ms\n"
          ]
        },
        {
          "output_type": "stream",
          "name": "stderr",
          "text": [
            "INFO:NEURONIOUtils:    step:290000 t_sim:58000.00 ms\n"
          ]
        },
        {
          "output_type": "stream",
          "name": "stdout",
          "text": [
            "2023-05-08 02:28:14,579 [INFO] Timestep 57000.0 to 58000.0 ms\n"
          ]
        },
        {
          "output_type": "stream",
          "name": "stderr",
          "text": [
            "INFO:NEURONIOUtils:Timestep 57000.0 to 58000.0 ms\n"
          ]
        },
        {
          "output_type": "stream",
          "name": "stdout",
          "text": [
            "2023-05-08 02:28:14,585 [INFO] PGN node_id\t  Hz\n"
          ]
        },
        {
          "output_type": "stream",
          "name": "stderr",
          "text": [
            "INFO:NEURONIOUtils:PGN node_id\t  Hz\n"
          ]
        },
        {
          "output_type": "stream",
          "name": "stdout",
          "text": [
            "2023-05-08 02:28:14,592 [INFO] 70\t\t3.0\n"
          ]
        },
        {
          "output_type": "stream",
          "name": "stderr",
          "text": [
            "INFO:NEURONIOUtils:70\t\t3.0\n"
          ]
        },
        {
          "output_type": "stream",
          "name": "stdout",
          "text": [
            "2023-05-08 02:28:14,597 [INFO] 71\t\t3.0\n"
          ]
        },
        {
          "output_type": "stream",
          "name": "stderr",
          "text": [
            "INFO:NEURONIOUtils:71\t\t3.0\n"
          ]
        },
        {
          "output_type": "stream",
          "name": "stdout",
          "text": [
            "2023-05-08 02:28:14,602 [INFO] 72\t\t3.0\n"
          ]
        },
        {
          "output_type": "stream",
          "name": "stderr",
          "text": [
            "INFO:NEURONIOUtils:72\t\t3.0\n"
          ]
        },
        {
          "output_type": "stream",
          "name": "stdout",
          "text": [
            "2023-05-08 02:28:14,605 [INFO] 73\t\t3.0\n"
          ]
        },
        {
          "output_type": "stream",
          "name": "stderr",
          "text": [
            "INFO:NEURONIOUtils:73\t\t3.0\n"
          ]
        },
        {
          "output_type": "stream",
          "name": "stdout",
          "text": [
            "2023-05-08 02:28:14,609 [INFO] 74\t\t3.0\n"
          ]
        },
        {
          "output_type": "stream",
          "name": "stderr",
          "text": [
            "INFO:NEURONIOUtils:74\t\t3.0\n"
          ]
        },
        {
          "output_type": "stream",
          "name": "stdout",
          "text": [
            "2023-05-08 02:28:14,611 [INFO] 75\t\t3.0\n"
          ]
        },
        {
          "output_type": "stream",
          "name": "stderr",
          "text": [
            "INFO:NEURONIOUtils:75\t\t3.0\n"
          ]
        },
        {
          "output_type": "stream",
          "name": "stdout",
          "text": [
            "2023-05-08 02:28:14,614 [INFO] 76\t\t3.0\n"
          ]
        },
        {
          "output_type": "stream",
          "name": "stderr",
          "text": [
            "INFO:NEURONIOUtils:76\t\t3.0\n"
          ]
        },
        {
          "output_type": "stream",
          "name": "stdout",
          "text": [
            "2023-05-08 02:28:14,617 [INFO] 77\t\t3.0\n"
          ]
        },
        {
          "output_type": "stream",
          "name": "stderr",
          "text": [
            "INFO:NEURONIOUtils:77\t\t3.0\n"
          ]
        },
        {
          "output_type": "stream",
          "name": "stdout",
          "text": [
            "2023-05-08 02:28:14,620 [INFO] 78\t\t3.0\n"
          ]
        },
        {
          "output_type": "stream",
          "name": "stderr",
          "text": [
            "INFO:NEURONIOUtils:78\t\t3.0\n"
          ]
        },
        {
          "output_type": "stream",
          "name": "stdout",
          "text": [
            "2023-05-08 02:28:14,625 [INFO] 79\t\t3.0\n"
          ]
        },
        {
          "output_type": "stream",
          "name": "stderr",
          "text": [
            "INFO:NEURONIOUtils:79\t\t3.0\n"
          ]
        },
        {
          "output_type": "stream",
          "name": "stdout",
          "text": [
            "2023-05-08 02:28:14,630 [INFO] PGN firing rate avg: 3.0 Hz\n"
          ]
        },
        {
          "output_type": "stream",
          "name": "stderr",
          "text": [
            "INFO:NEURONIOUtils:PGN firing rate avg: 3.0 Hz\n"
          ]
        },
        {
          "output_type": "stream",
          "name": "stdout",
          "text": [
            "2023-05-08 02:28:14,635 [INFO] Grill PGN fr = 4.657 Hz\n"
          ]
        },
        {
          "output_type": "stream",
          "name": "stderr",
          "text": [
            "INFO:NEURONIOUtils:Grill PGN fr = 4.657 Hz\n"
          ]
        },
        {
          "output_type": "stream",
          "name": "stdout",
          "text": [
            "2023-05-08 02:28:14,639 [INFO] IMG node_gid\t  Hz\n"
          ]
        },
        {
          "output_type": "stream",
          "name": "stderr",
          "text": [
            "INFO:NEURONIOUtils:IMG node_gid\t  Hz\n"
          ]
        },
        {
          "output_type": "stream",
          "name": "stdout",
          "text": [
            "2023-05-08 02:28:14,643 [INFO] IMG firing rate avg: 3.0 Hz\n"
          ]
        },
        {
          "output_type": "stream",
          "name": "stderr",
          "text": [
            "INFO:NEURONIOUtils:IMG firing rate avg: 3.0 Hz\n"
          ]
        },
        {
          "output_type": "stream",
          "name": "stdout",
          "text": [
            "2023-05-08 02:28:14,681 [INFO] Volume = 0.0875 ml\n"
          ]
        },
        {
          "output_type": "stream",
          "name": "stderr",
          "text": [
            "/usr/local/lib/python3.10/dist-packages/bmtk/utils/reports/spike_trains/spike_trains.py:183: RuntimeWarning: divide by zero encountered in double_scalars\n",
            "  interval = -np.log(1.0 - np.random.uniform()) / fr\n",
            "INFO:NEURONIOUtils:Volume = 0.0875 ml\n"
          ]
        },
        {
          "output_type": "stream",
          "name": "stdout",
          "text": [
            "2023-05-08 02:28:14,685 [INFO] Pressure = 3.43 mmHg\n"
          ]
        },
        {
          "output_type": "stream",
          "name": "stderr",
          "text": [
            "INFO:NEURONIOUtils:Pressure = 3.43 mmHg\n"
          ]
        },
        {
          "output_type": "stream",
          "name": "stdout",
          "text": [
            "2023-05-08 02:28:14,688 [INFO] Calculated bladder afferent firing rate for the next time step = 0.00 Hz \n",
            " \n",
            "\n"
          ]
        },
        {
          "output_type": "stream",
          "name": "stderr",
          "text": [
            "INFO:NEURONIOUtils:Calculated bladder afferent firing rate for the next time step = 0.00 Hz \n",
            " \n",
            "\n"
          ]
        },
        {
          "output_type": "stream",
          "name": "stdout",
          "text": [
            "2023-05-08 02:28:17,159 [INFO]     step:295000 t_sim:59000.00 ms\n"
          ]
        },
        {
          "output_type": "stream",
          "name": "stderr",
          "text": [
            "INFO:NEURONIOUtils:    step:295000 t_sim:59000.00 ms\n"
          ]
        },
        {
          "output_type": "stream",
          "name": "stdout",
          "text": [
            "2023-05-08 02:28:17,173 [INFO] Timestep 58000.0 to 59000.0 ms\n"
          ]
        },
        {
          "output_type": "stream",
          "name": "stderr",
          "text": [
            "INFO:NEURONIOUtils:Timestep 58000.0 to 59000.0 ms\n"
          ]
        },
        {
          "output_type": "stream",
          "name": "stdout",
          "text": [
            "2023-05-08 02:28:17,177 [INFO] PGN node_id\t  Hz\n"
          ]
        },
        {
          "output_type": "stream",
          "name": "stderr",
          "text": [
            "INFO:NEURONIOUtils:PGN node_id\t  Hz\n"
          ]
        },
        {
          "output_type": "stream",
          "name": "stdout",
          "text": [
            "2023-05-08 02:28:17,181 [INFO] 70\t\t3.0\n"
          ]
        },
        {
          "output_type": "stream",
          "name": "stderr",
          "text": [
            "INFO:NEURONIOUtils:70\t\t3.0\n"
          ]
        },
        {
          "output_type": "stream",
          "name": "stdout",
          "text": [
            "2023-05-08 02:28:17,183 [INFO] 71\t\t3.0\n"
          ]
        },
        {
          "output_type": "stream",
          "name": "stderr",
          "text": [
            "INFO:NEURONIOUtils:71\t\t3.0\n"
          ]
        },
        {
          "output_type": "stream",
          "name": "stdout",
          "text": [
            "2023-05-08 02:28:17,186 [INFO] 72\t\t3.0\n"
          ]
        },
        {
          "output_type": "stream",
          "name": "stderr",
          "text": [
            "INFO:NEURONIOUtils:72\t\t3.0\n"
          ]
        },
        {
          "output_type": "stream",
          "name": "stdout",
          "text": [
            "2023-05-08 02:28:17,188 [INFO] 73\t\t3.0\n"
          ]
        },
        {
          "output_type": "stream",
          "name": "stderr",
          "text": [
            "INFO:NEURONIOUtils:73\t\t3.0\n"
          ]
        },
        {
          "output_type": "stream",
          "name": "stdout",
          "text": [
            "2023-05-08 02:28:17,190 [INFO] 74\t\t3.0\n"
          ]
        },
        {
          "output_type": "stream",
          "name": "stderr",
          "text": [
            "INFO:NEURONIOUtils:74\t\t3.0\n"
          ]
        },
        {
          "output_type": "stream",
          "name": "stdout",
          "text": [
            "2023-05-08 02:28:17,192 [INFO] 75\t\t3.0\n"
          ]
        },
        {
          "output_type": "stream",
          "name": "stderr",
          "text": [
            "INFO:NEURONIOUtils:75\t\t3.0\n"
          ]
        },
        {
          "output_type": "stream",
          "name": "stdout",
          "text": [
            "2023-05-08 02:28:17,194 [INFO] 76\t\t3.0\n"
          ]
        },
        {
          "output_type": "stream",
          "name": "stderr",
          "text": [
            "INFO:NEURONIOUtils:76\t\t3.0\n"
          ]
        },
        {
          "output_type": "stream",
          "name": "stdout",
          "text": [
            "2023-05-08 02:28:17,198 [INFO] 77\t\t3.0\n"
          ]
        },
        {
          "output_type": "stream",
          "name": "stderr",
          "text": [
            "INFO:NEURONIOUtils:77\t\t3.0\n"
          ]
        },
        {
          "output_type": "stream",
          "name": "stdout",
          "text": [
            "2023-05-08 02:28:17,223 [INFO] 78\t\t3.0\n"
          ]
        },
        {
          "output_type": "stream",
          "name": "stderr",
          "text": [
            "INFO:NEURONIOUtils:78\t\t3.0\n"
          ]
        },
        {
          "output_type": "stream",
          "name": "stdout",
          "text": [
            "2023-05-08 02:28:17,226 [INFO] 79\t\t3.0\n"
          ]
        },
        {
          "output_type": "stream",
          "name": "stderr",
          "text": [
            "INFO:NEURONIOUtils:79\t\t3.0\n"
          ]
        },
        {
          "output_type": "stream",
          "name": "stdout",
          "text": [
            "2023-05-08 02:28:17,234 [INFO] PGN firing rate avg: 3.0 Hz\n"
          ]
        },
        {
          "output_type": "stream",
          "name": "stderr",
          "text": [
            "INFO:NEURONIOUtils:PGN firing rate avg: 3.0 Hz\n"
          ]
        },
        {
          "output_type": "stream",
          "name": "stdout",
          "text": [
            "2023-05-08 02:28:17,237 [INFO] Grill PGN fr = 4.657 Hz\n"
          ]
        },
        {
          "output_type": "stream",
          "name": "stderr",
          "text": [
            "INFO:NEURONIOUtils:Grill PGN fr = 4.657 Hz\n"
          ]
        },
        {
          "output_type": "stream",
          "name": "stdout",
          "text": [
            "2023-05-08 02:28:17,241 [INFO] IMG node_gid\t  Hz\n"
          ]
        },
        {
          "output_type": "stream",
          "name": "stderr",
          "text": [
            "INFO:NEURONIOUtils:IMG node_gid\t  Hz\n"
          ]
        },
        {
          "output_type": "stream",
          "name": "stdout",
          "text": [
            "2023-05-08 02:28:17,248 [INFO] IMG firing rate avg: 3.0 Hz\n"
          ]
        },
        {
          "output_type": "stream",
          "name": "stderr",
          "text": [
            "INFO:NEURONIOUtils:IMG firing rate avg: 3.0 Hz\n"
          ]
        },
        {
          "output_type": "stream",
          "name": "stdout",
          "text": [
            "2023-05-08 02:28:17,257 [INFO] Volume = 0.1167 ml\n"
          ]
        },
        {
          "output_type": "stream",
          "name": "stderr",
          "text": [
            "/usr/local/lib/python3.10/dist-packages/bmtk/utils/reports/spike_trains/spike_trains.py:183: RuntimeWarning: divide by zero encountered in double_scalars\n",
            "  interval = -np.log(1.0 - np.random.uniform()) / fr\n",
            "INFO:NEURONIOUtils:Volume = 0.1167 ml\n"
          ]
        },
        {
          "output_type": "stream",
          "name": "stdout",
          "text": [
            "2023-05-08 02:28:17,262 [INFO] Pressure = 3.43 mmHg\n"
          ]
        },
        {
          "output_type": "stream",
          "name": "stderr",
          "text": [
            "INFO:NEURONIOUtils:Pressure = 3.43 mmHg\n"
          ]
        },
        {
          "output_type": "stream",
          "name": "stdout",
          "text": [
            "2023-05-08 02:28:17,265 [INFO] Calculated bladder afferent firing rate for the next time step = 0.00 Hz \n",
            " \n",
            "\n"
          ]
        },
        {
          "output_type": "stream",
          "name": "stderr",
          "text": [
            "INFO:NEURONIOUtils:Calculated bladder afferent firing rate for the next time step = 0.00 Hz \n",
            " \n",
            "\n"
          ]
        },
        {
          "output_type": "stream",
          "name": "stdout",
          "text": [
            "2023-05-08 02:28:19,214 [INFO]     step:300000 t_sim:60000.00 ms\n"
          ]
        },
        {
          "output_type": "stream",
          "name": "stderr",
          "text": [
            "INFO:NEURONIOUtils:    step:300000 t_sim:60000.00 ms\n"
          ]
        },
        {
          "output_type": "stream",
          "name": "stdout",
          "text": [
            "2023-05-08 02:28:19,224 [INFO] Timestep 59000.0 to 60000.0 ms\n"
          ]
        },
        {
          "output_type": "stream",
          "name": "stderr",
          "text": [
            "INFO:NEURONIOUtils:Timestep 59000.0 to 60000.0 ms\n"
          ]
        },
        {
          "output_type": "stream",
          "name": "stdout",
          "text": [
            "2023-05-08 02:28:19,229 [INFO] PGN node_id\t  Hz\n"
          ]
        },
        {
          "output_type": "stream",
          "name": "stderr",
          "text": [
            "INFO:NEURONIOUtils:PGN node_id\t  Hz\n"
          ]
        },
        {
          "output_type": "stream",
          "name": "stdout",
          "text": [
            "2023-05-08 02:28:19,233 [INFO] 70\t\t3.0\n"
          ]
        },
        {
          "output_type": "stream",
          "name": "stderr",
          "text": [
            "INFO:NEURONIOUtils:70\t\t3.0\n"
          ]
        },
        {
          "output_type": "stream",
          "name": "stdout",
          "text": [
            "2023-05-08 02:28:19,235 [INFO] 71\t\t3.0\n"
          ]
        },
        {
          "output_type": "stream",
          "name": "stderr",
          "text": [
            "INFO:NEURONIOUtils:71\t\t3.0\n"
          ]
        },
        {
          "output_type": "stream",
          "name": "stdout",
          "text": [
            "2023-05-08 02:28:19,238 [INFO] 72\t\t3.0\n"
          ]
        },
        {
          "output_type": "stream",
          "name": "stderr",
          "text": [
            "INFO:NEURONIOUtils:72\t\t3.0\n"
          ]
        },
        {
          "output_type": "stream",
          "name": "stdout",
          "text": [
            "2023-05-08 02:28:19,240 [INFO] 73\t\t3.0\n"
          ]
        },
        {
          "output_type": "stream",
          "name": "stderr",
          "text": [
            "INFO:NEURONIOUtils:73\t\t3.0\n"
          ]
        },
        {
          "output_type": "stream",
          "name": "stdout",
          "text": [
            "2023-05-08 02:28:19,242 [INFO] 74\t\t3.0\n"
          ]
        },
        {
          "output_type": "stream",
          "name": "stderr",
          "text": [
            "INFO:NEURONIOUtils:74\t\t3.0\n"
          ]
        },
        {
          "output_type": "stream",
          "name": "stdout",
          "text": [
            "2023-05-08 02:28:19,243 [INFO] 75\t\t3.0\n"
          ]
        },
        {
          "output_type": "stream",
          "name": "stderr",
          "text": [
            "INFO:NEURONIOUtils:75\t\t3.0\n"
          ]
        },
        {
          "output_type": "stream",
          "name": "stdout",
          "text": [
            "2023-05-08 02:28:19,245 [INFO] 76\t\t3.0\n"
          ]
        },
        {
          "output_type": "stream",
          "name": "stderr",
          "text": [
            "INFO:NEURONIOUtils:76\t\t3.0\n"
          ]
        },
        {
          "output_type": "stream",
          "name": "stdout",
          "text": [
            "2023-05-08 02:28:19,247 [INFO] 77\t\t3.0\n"
          ]
        },
        {
          "output_type": "stream",
          "name": "stderr",
          "text": [
            "INFO:NEURONIOUtils:77\t\t3.0\n"
          ]
        },
        {
          "output_type": "stream",
          "name": "stdout",
          "text": [
            "2023-05-08 02:28:19,249 [INFO] 78\t\t3.0\n"
          ]
        },
        {
          "output_type": "stream",
          "name": "stderr",
          "text": [
            "INFO:NEURONIOUtils:78\t\t3.0\n"
          ]
        },
        {
          "output_type": "stream",
          "name": "stdout",
          "text": [
            "2023-05-08 02:28:19,251 [INFO] 79\t\t3.0\n"
          ]
        },
        {
          "output_type": "stream",
          "name": "stderr",
          "text": [
            "INFO:NEURONIOUtils:79\t\t3.0\n"
          ]
        },
        {
          "output_type": "stream",
          "name": "stdout",
          "text": [
            "2023-05-08 02:28:19,253 [INFO] PGN firing rate avg: 3.0 Hz\n"
          ]
        },
        {
          "output_type": "stream",
          "name": "stderr",
          "text": [
            "INFO:NEURONIOUtils:PGN firing rate avg: 3.0 Hz\n"
          ]
        },
        {
          "output_type": "stream",
          "name": "stdout",
          "text": [
            "2023-05-08 02:28:19,255 [INFO] Grill PGN fr = 4.657 Hz\n"
          ]
        },
        {
          "output_type": "stream",
          "name": "stderr",
          "text": [
            "INFO:NEURONIOUtils:Grill PGN fr = 4.657 Hz\n"
          ]
        },
        {
          "output_type": "stream",
          "name": "stdout",
          "text": [
            "2023-05-08 02:28:19,257 [INFO] IMG node_gid\t  Hz\n"
          ]
        },
        {
          "output_type": "stream",
          "name": "stderr",
          "text": [
            "INFO:NEURONIOUtils:IMG node_gid\t  Hz\n"
          ]
        },
        {
          "output_type": "stream",
          "name": "stdout",
          "text": [
            "2023-05-08 02:28:19,259 [INFO] IMG firing rate avg: 3.0 Hz\n"
          ]
        },
        {
          "output_type": "stream",
          "name": "stderr",
          "text": [
            "INFO:NEURONIOUtils:IMG firing rate avg: 3.0 Hz\n"
          ]
        },
        {
          "output_type": "stream",
          "name": "stdout",
          "text": [
            "2023-05-08 02:28:19,267 [INFO] Volume = 0.1458 ml\n"
          ]
        },
        {
          "output_type": "stream",
          "name": "stderr",
          "text": [
            "/usr/local/lib/python3.10/dist-packages/bmtk/utils/reports/spike_trains/spike_trains.py:183: RuntimeWarning: divide by zero encountered in double_scalars\n",
            "  interval = -np.log(1.0 - np.random.uniform()) / fr\n",
            "INFO:NEURONIOUtils:Volume = 0.1458 ml\n"
          ]
        },
        {
          "output_type": "stream",
          "name": "stdout",
          "text": [
            "2023-05-08 02:28:19,269 [INFO] Pressure = 3.43 mmHg\n"
          ]
        },
        {
          "output_type": "stream",
          "name": "stderr",
          "text": [
            "INFO:NEURONIOUtils:Pressure = 3.43 mmHg\n"
          ]
        },
        {
          "output_type": "stream",
          "name": "stdout",
          "text": [
            "2023-05-08 02:28:19,271 [INFO] Calculated bladder afferent firing rate for the next time step = 0.00 Hz \n",
            " \n",
            "\n"
          ]
        },
        {
          "output_type": "stream",
          "name": "stderr",
          "text": [
            "INFO:NEURONIOUtils:Calculated bladder afferent firing rate for the next time step = 0.00 Hz \n",
            " \n",
            "\n"
          ]
        },
        {
          "output_type": "stream",
          "name": "stdout",
          "text": [
            "2023-05-08 02:28:20,476 [INFO]     step:302500 t_sim:60500.00 ms\n"
          ]
        },
        {
          "output_type": "stream",
          "name": "stderr",
          "text": [
            "INFO:NEURONIOUtils:    step:302500 t_sim:60500.00 ms\n"
          ]
        },
        {
          "output_type": "stream",
          "name": "stdout",
          "text": [
            "2023-05-08 02:28:20,486 [INFO] Timestep 60000.0 to 60500.0 ms\n"
          ]
        },
        {
          "output_type": "stream",
          "name": "stderr",
          "text": [
            "INFO:NEURONIOUtils:Timestep 60000.0 to 60500.0 ms\n"
          ]
        },
        {
          "output_type": "stream",
          "name": "stdout",
          "text": [
            "2023-05-08 02:28:20,492 [INFO] PGN node_id\t  Hz\n"
          ]
        },
        {
          "output_type": "stream",
          "name": "stderr",
          "text": [
            "INFO:NEURONIOUtils:PGN node_id\t  Hz\n"
          ]
        },
        {
          "output_type": "stream",
          "name": "stdout",
          "text": [
            "2023-05-08 02:28:20,496 [INFO] 70\t\t2.0\n"
          ]
        },
        {
          "output_type": "stream",
          "name": "stderr",
          "text": [
            "INFO:NEURONIOUtils:70\t\t2.0\n"
          ]
        },
        {
          "output_type": "stream",
          "name": "stdout",
          "text": [
            "2023-05-08 02:28:20,499 [INFO] 71\t\t2.0\n"
          ]
        },
        {
          "output_type": "stream",
          "name": "stderr",
          "text": [
            "INFO:NEURONIOUtils:71\t\t2.0\n"
          ]
        },
        {
          "output_type": "stream",
          "name": "stdout",
          "text": [
            "2023-05-08 02:28:20,502 [INFO] 72\t\t2.0\n"
          ]
        },
        {
          "output_type": "stream",
          "name": "stderr",
          "text": [
            "INFO:NEURONIOUtils:72\t\t2.0\n"
          ]
        },
        {
          "output_type": "stream",
          "name": "stdout",
          "text": [
            "2023-05-08 02:28:20,504 [INFO] 73\t\t2.0\n"
          ]
        },
        {
          "output_type": "stream",
          "name": "stderr",
          "text": [
            "INFO:NEURONIOUtils:73\t\t2.0\n"
          ]
        },
        {
          "output_type": "stream",
          "name": "stdout",
          "text": [
            "2023-05-08 02:28:20,506 [INFO] 74\t\t2.0\n"
          ]
        },
        {
          "output_type": "stream",
          "name": "stderr",
          "text": [
            "INFO:NEURONIOUtils:74\t\t2.0\n"
          ]
        },
        {
          "output_type": "stream",
          "name": "stdout",
          "text": [
            "2023-05-08 02:28:20,508 [INFO] 75\t\t2.0\n"
          ]
        },
        {
          "output_type": "stream",
          "name": "stderr",
          "text": [
            "INFO:NEURONIOUtils:75\t\t2.0\n"
          ]
        },
        {
          "output_type": "stream",
          "name": "stdout",
          "text": [
            "2023-05-08 02:28:20,510 [INFO] 76\t\t2.0\n"
          ]
        },
        {
          "output_type": "stream",
          "name": "stderr",
          "text": [
            "INFO:NEURONIOUtils:76\t\t2.0\n"
          ]
        },
        {
          "output_type": "stream",
          "name": "stdout",
          "text": [
            "2023-05-08 02:28:20,513 [INFO] 77\t\t2.0\n"
          ]
        },
        {
          "output_type": "stream",
          "name": "stderr",
          "text": [
            "INFO:NEURONIOUtils:77\t\t2.0\n"
          ]
        },
        {
          "output_type": "stream",
          "name": "stdout",
          "text": [
            "2023-05-08 02:28:20,515 [INFO] 78\t\t2.0\n"
          ]
        },
        {
          "output_type": "stream",
          "name": "stderr",
          "text": [
            "INFO:NEURONIOUtils:78\t\t2.0\n"
          ]
        },
        {
          "output_type": "stream",
          "name": "stdout",
          "text": [
            "2023-05-08 02:28:20,517 [INFO] 79\t\t2.0\n"
          ]
        },
        {
          "output_type": "stream",
          "name": "stderr",
          "text": [
            "INFO:NEURONIOUtils:79\t\t2.0\n"
          ]
        },
        {
          "output_type": "stream",
          "name": "stdout",
          "text": [
            "2023-05-08 02:28:20,520 [INFO] PGN firing rate avg: 2.0 Hz\n"
          ]
        },
        {
          "output_type": "stream",
          "name": "stderr",
          "text": [
            "INFO:NEURONIOUtils:PGN firing rate avg: 2.0 Hz\n"
          ]
        },
        {
          "output_type": "stream",
          "name": "stdout",
          "text": [
            "2023-05-08 02:28:20,522 [INFO] Grill PGN fr = 2.984 Hz\n"
          ]
        },
        {
          "output_type": "stream",
          "name": "stderr",
          "text": [
            "INFO:NEURONIOUtils:Grill PGN fr = 2.984 Hz\n"
          ]
        },
        {
          "output_type": "stream",
          "name": "stdout",
          "text": [
            "2023-05-08 02:28:20,524 [INFO] IMG node_gid\t  Hz\n"
          ]
        },
        {
          "output_type": "stream",
          "name": "stderr",
          "text": [
            "INFO:NEURONIOUtils:IMG node_gid\t  Hz\n"
          ]
        },
        {
          "output_type": "stream",
          "name": "stdout",
          "text": [
            "2023-05-08 02:28:20,527 [INFO] IMG firing rate avg: 2.0 Hz\n"
          ]
        },
        {
          "output_type": "stream",
          "name": "stderr",
          "text": [
            "INFO:NEURONIOUtils:IMG firing rate avg: 2.0 Hz\n"
          ]
        },
        {
          "output_type": "stream",
          "name": "stdout",
          "text": [
            "2023-05-08 02:28:20,535 [INFO] Volume = 0.1750 ml\n"
          ]
        },
        {
          "output_type": "stream",
          "name": "stderr",
          "text": [
            "/usr/local/lib/python3.10/dist-packages/bmtk/utils/reports/spike_trains/spike_trains.py:183: RuntimeWarning: divide by zero encountered in double_scalars\n",
            "  interval = -np.log(1.0 - np.random.uniform()) / fr\n",
            "INFO:NEURONIOUtils:Volume = 0.1750 ml\n"
          ]
        },
        {
          "output_type": "stream",
          "name": "stdout",
          "text": [
            "2023-05-08 02:28:20,538 [INFO] Pressure = 2.19 mmHg\n"
          ]
        },
        {
          "output_type": "stream",
          "name": "stderr",
          "text": [
            "INFO:NEURONIOUtils:Pressure = 2.19 mmHg\n"
          ]
        },
        {
          "output_type": "stream",
          "name": "stdout",
          "text": [
            "2023-05-08 02:28:20,541 [INFO] Calculated bladder afferent firing rate for the next time step = 0.00 Hz \n",
            " \n",
            "\n"
          ]
        },
        {
          "output_type": "stream",
          "name": "stderr",
          "text": [
            "INFO:NEURONIOUtils:Calculated bladder afferent firing rate for the next time step = 0.00 Hz \n",
            " \n",
            "\n"
          ]
        },
        {
          "output_type": "stream",
          "name": "stdout",
          "text": [
            "2023-05-08 02:28:20,728 [INFO] Simulation completed in 2.0 minutes, 21.66 seconds \n"
          ]
        },
        {
          "output_type": "stream",
          "name": "stderr",
          "text": [
            "INFO:NEURONIOUtils:Simulation completed in 2.0 minutes, 21.66 seconds \n"
          ]
        },
        {
          "output_type": "stream",
          "name": "stdout",
          "text": [
            "302500 0.2\n",
            "[10 51 52 50 54 55 53 46 47 45 48 49 66 69 65 60 70 71 56 57 59 58 29 30\n",
            " 28 33 34 31 24 25 23 26 27 42 41 40 43 44 35 36 37 72 20 21  9 22 78 79\n",
            " 77 76  0  1 73 74 75  6  7  5  8  2  3  4 11 12 13 14 15 16 17 18 19]\n"
          ]
        },
        {
          "output_type": "display_data",
          "data": {
            "text/plain": [
              "<Figure size 640x480 with 2 Axes>"
            ],
            "image/png": "[encoded data removed]"
          },
          "metadata": {}
        },
        {
          "output_type": "display_data",
          "data": {
            "text/plain": [
              "<Figure size 640x480 with 1 Axes>"
            ],
            "image/png": "[encoded data removed]"
          },
          "metadata": {}
        }
      ]
    }
  ]
}